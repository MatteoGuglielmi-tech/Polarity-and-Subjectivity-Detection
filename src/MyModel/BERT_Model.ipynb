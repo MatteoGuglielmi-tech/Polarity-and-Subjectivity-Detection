{
  "nbformat": 4,
  "nbformat_minor": 0,
  "metadata": {
    "colab": {
      "provenance": [],
      "include_colab_link": true
    },
    "kernelspec": {
      "name": "python3",
      "display_name": "Python 3"
    },
    "language_info": {
      "name": "python"
    },
    "gpuClass": "standard",
    "accelerator": "GPU"
  },
  "cells": [
    {
      "cell_type": "markdown",
      "metadata": {
        "id": "view-in-github",
        "colab_type": "text"
      },
      "source": [
        "<a href=\"https://colab.research.google.com/github/MatteoGuglielmi-tech/Polarity-and-Subjectivity-Detection/blob/main/src/MyModel/BERT_Model.ipynb\" target=\"_parent\"><img src=\"https://colab.research.google.com/assets/colab-badge.svg\" alt=\"Open In Colab\"/></a>"
      ]
    },
    {
      "cell_type": "markdown",
      "source": [
        "# Bert-Model\n"
      ],
      "metadata": {
        "id": "La7zX7A_58Nz"
      }
    },
    {
      "cell_type": "code",
      "source": [
        "!nvidia-smi"
      ],
      "metadata": {
        "colab": {
          "base_uri": "https://localhost:8080/"
        },
        "id": "GLBouKQA3ZfI",
        "outputId": "b8ba0b3d-c49d-403d-a263-8b764920d9f3"
      },
      "execution_count": 1,
      "outputs": [
        {
          "output_type": "stream",
          "name": "stdout",
          "text": [
            "Mon Nov  7 18:32:20 2022       \n",
            "+-----------------------------------------------------------------------------+\n",
            "| NVIDIA-SMI 460.32.03    Driver Version: 460.32.03    CUDA Version: 11.2     |\n",
            "|-------------------------------+----------------------+----------------------+\n",
            "| GPU  Name        Persistence-M| Bus-Id        Disp.A | Volatile Uncorr. ECC |\n",
            "| Fan  Temp  Perf  Pwr:Usage/Cap|         Memory-Usage | GPU-Util  Compute M. |\n",
            "|                               |                      |               MIG M. |\n",
            "|===============================+======================+======================|\n",
            "|   0  Tesla T4            Off  | 00000000:00:04.0 Off |                    0 |\n",
            "| N/A   57C    P8    10W /  70W |      0MiB / 15109MiB |      0%      Default |\n",
            "|                               |                      |                  N/A |\n",
            "+-------------------------------+----------------------+----------------------+\n",
            "                                                                               \n",
            "+-----------------------------------------------------------------------------+\n",
            "| Processes:                                                                  |\n",
            "|  GPU   GI   CI        PID   Type   Process name                  GPU Memory |\n",
            "|        ID   ID                                                   Usage      |\n",
            "|=============================================================================|\n",
            "|  No running processes found                                                 |\n",
            "+-----------------------------------------------------------------------------+\n"
          ]
        }
      ]
    },
    {
      "cell_type": "code",
      "source": [
        "from google.colab import drive\n",
        "drive.mount('/content/gdrive/')"
      ],
      "metadata": {
        "colab": {
          "base_uri": "https://localhost:8080/"
        },
        "id": "5cN-8AZYDIoR",
        "outputId": "74d5b77c-fb0f-4c27-f36a-95cefd21331b"
      },
      "execution_count": 2,
      "outputs": [
        {
          "output_type": "stream",
          "name": "stdout",
          "text": [
            "Drive already mounted at /content/gdrive/; to attempt to forcibly remount, call drive.mount(\"/content/gdrive/\", force_remount=True).\n"
          ]
        }
      ]
    },
    {
      "cell_type": "code",
      "source": [
        "import pandas as pd \n",
        "import numpy as np \n",
        "import re\n",
        "\n",
        "import matplotlib.pyplot as plt\n",
        "\n",
        "import torch\n",
        "import torch.nn as nn\n",
        "import gc\n",
        "from typing import Tuple, List\n",
        "import torch.optim as opt\n",
        "from tqdm import tqdm\n",
        "import sys"
      ],
      "metadata": {
        "id": "SrBTjymUM5Rt"
      },
      "execution_count": 3,
      "outputs": []
    },
    {
      "cell_type": "code",
      "source": [
        "def load_embeds(folder: str, kind: str)-> np.ndarray:\n",
        "    output = np.load(root+f\"BERT/{folder}/bert_emb_{kind}_100.npy\")\n",
        "    with tqdm(range(1,20), unit=' group') as tepoch:\n",
        "        for i in tepoch:\n",
        "            tmp = np.load(root+f\"BERT/{folder}/bert_emb_{kind}_{(i+1)*100}.npy\")\n",
        "            output = np.concatenate((output,tmp))\n",
        "            tepoch.set_postfix(dataset_length=len(output))\n",
        "            gc.collect()\n",
        "    return output"
      ],
      "metadata": {
        "id": "E98-UudKbQ11"
      },
      "execution_count": 4,
      "outputs": []
    },
    {
      "cell_type": "code",
      "source": [
        "root = '/content/gdrive/MyDrive/Colab Notebooks/Polarity-Subjectivity-Detection/'"
      ],
      "metadata": {
        "id": "Id2a7SRvbOQW"
      },
      "execution_count": 5,
      "outputs": []
    },
    {
      "cell_type": "code",
      "source": [
        "pol_embs = load_embeds(folder='Polarity-Embeddings-Truncated', kind='pol')"
      ],
      "metadata": {
        "id": "K5leesoYcVY7",
        "outputId": "5206689e-a3cc-49b9-8693-a020777284a5",
        "colab": {
          "base_uri": "https://localhost:8080/"
        }
      },
      "execution_count": 6,
      "outputs": [
        {
          "output_type": "stream",
          "name": "stderr",
          "text": [
            "100%|██████████| 19/19 [00:08<00:00,  2.34 group/s, dataset_length=2000]\n"
          ]
        }
      ]
    },
    {
      "cell_type": "code",
      "source": [
        "subj_embs = load_embeds(folder='Subjectivity-Embeddings-Truncated', kind='subj')"
      ],
      "metadata": {
        "id": "O42k82O-crHO",
        "outputId": "33ba3da7-a23c-46b1-8820-53e931ea9921",
        "colab": {
          "base_uri": "https://localhost:8080/"
        }
      },
      "execution_count": 7,
      "outputs": [
        {
          "output_type": "stream",
          "name": "stderr",
          "text": [
            "100%|██████████| 19/19 [00:06<00:00,  3.03 group/s, dataset_length=2000]\n"
          ]
        }
      ]
    },
    {
      "cell_type": "code",
      "source": [
        "#print(subj_embs[0])\n",
        "print(subj_embs.shape)\n",
        "#print(type(subj_embs))"
      ],
      "metadata": {
        "colab": {
          "base_uri": "https://localhost:8080/"
        },
        "id": "alOta12wkLfV",
        "outputId": "38a929ab-150e-4793-fa23-5204b29abbd9"
      },
      "execution_count": 8,
      "outputs": [
        {
          "output_type": "stream",
          "name": "stdout",
          "text": [
            "(2000, 100, 768)\n"
          ]
        }
      ]
    },
    {
      "cell_type": "code",
      "source": [
        "#print(len(subj_embs))"
      ],
      "metadata": {
        "id": "oANyhptDKGRR"
      },
      "execution_count": 9,
      "outputs": []
    },
    {
      "cell_type": "code",
      "source": [
        "print(pol_embs[0].shape)\n",
        "print(pol_embs[1999].shape)"
      ],
      "metadata": {
        "colab": {
          "base_uri": "https://localhost:8080/"
        },
        "id": "1vjopc-nKld9",
        "outputId": "5df783b7-4719-47b8-9206-d22fc0033f11"
      },
      "execution_count": 10,
      "outputs": [
        {
          "output_type": "stream",
          "name": "stdout",
          "text": [
            "(100, 768)\n",
            "(100, 768)\n"
          ]
        }
      ]
    },
    {
      "cell_type": "code",
      "source": [
        "print(subj_embs[0].shape)\n",
        "print(subj_embs[1999].shape)"
      ],
      "metadata": {
        "colab": {
          "base_uri": "https://localhost:8080/"
        },
        "id": "Lc5QP7peKI6W",
        "outputId": "82a91d16-5e5e-45bb-c385-37f40ea28511"
      },
      "execution_count": 11,
      "outputs": [
        {
          "output_type": "stream",
          "name": "stdout",
          "text": [
            "(100, 768)\n",
            "(100, 768)\n"
          ]
        }
      ]
    },
    {
      "cell_type": "code",
      "source": [
        "gc.collect()"
      ],
      "metadata": {
        "id": "1-Gdm0jYe5HC",
        "outputId": "b3c40939-035e-450d-8f1e-55f0c70d6e3b",
        "colab": {
          "base_uri": "https://localhost:8080/"
        }
      },
      "execution_count": 12,
      "outputs": [
        {
          "output_type": "execute_result",
          "data": {
            "text/plain": [
              "110"
            ]
          },
          "metadata": {},
          "execution_count": 12
        }
      ]
    },
    {
      "cell_type": "code",
      "source": [
        "torch.cuda.empty_cache()"
      ],
      "metadata": {
        "id": "WG6XSeuBMyKD"
      },
      "execution_count": 13,
      "outputs": []
    },
    {
      "cell_type": "code",
      "source": [
        "#print(len(pol_embs))\n",
        "#print(type(pol_embs))"
      ],
      "metadata": {
        "id": "6BDKjquIbJy7"
      },
      "execution_count": 14,
      "outputs": []
    },
    {
      "cell_type": "code",
      "source": [
        "#print(len(subj_embs))\n",
        "#print(type(subj_embs))"
      ],
      "metadata": {
        "id": "Hy_TXgNFOSj4"
      },
      "execution_count": 15,
      "outputs": []
    },
    {
      "cell_type": "code",
      "source": [
        "#gc.collect()\n",
        "#torch.cuda.empty_cache()"
      ],
      "metadata": {
        "id": "dwX8OQngVJrf"
      },
      "execution_count": 16,
      "outputs": []
    },
    {
      "cell_type": "markdown",
      "source": [
        "## Train/Test split\n",
        "Preparing the data to be fed to the model"
      ],
      "metadata": {
        "id": "cRLqOX7zPIwr"
      }
    },
    {
      "cell_type": "code",
      "source": [
        "pol_labels = np.array([1 if idx<1000 else 0 for idx in range(2000)])"
      ],
      "metadata": {
        "id": "cU0wfN4NP-6f"
      },
      "execution_count": 17,
      "outputs": []
    },
    {
      "cell_type": "code",
      "source": [
        "#pol_labels"
      ],
      "metadata": {
        "id": "A7TWUQ66od7a"
      },
      "execution_count": 18,
      "outputs": []
    },
    {
      "cell_type": "code",
      "source": [
        "#pos = pol_labels[:1000]\n",
        "#neg = pol_labels[1000:]"
      ],
      "metadata": {
        "id": "Xqp4OH_TR2si"
      },
      "execution_count": 19,
      "outputs": []
    },
    {
      "cell_type": "code",
      "source": [
        "#len(pos)"
      ],
      "metadata": {
        "id": "OITf9_cpR-FR"
      },
      "execution_count": 20,
      "outputs": []
    },
    {
      "cell_type": "code",
      "source": [
        "#import torch\n",
        "#inp = torch.arange(1,16).reshape(5,3)\n",
        "#label = torch.randint(1,3,size=(5,))\n",
        "#print(inp)\n",
        "#print(label)"
      ],
      "metadata": {
        "id": "3eIux1uOj48l"
      },
      "execution_count": 21,
      "outputs": []
    },
    {
      "cell_type": "code",
      "source": [
        "#from torch.utils.data import TensorDataset as td\n",
        "\n",
        "#ds = td(inp, label)\n",
        "#for inp, label in ds:\n",
        "#    print('{}:{}'.format(inp, label))"
      ],
      "metadata": {
        "id": "LFn5FesBkCJ9"
      },
      "execution_count": 22,
      "outputs": []
    },
    {
      "cell_type": "code",
      "source": [
        "#next(iter(ds))"
      ],
      "metadata": {
        "id": "CG3dO0Ekkt1I"
      },
      "execution_count": 23,
      "outputs": []
    },
    {
      "cell_type": "code",
      "source": [
        "#len(neg)"
      ],
      "metadata": {
        "id": "fzWiA319R_yJ"
      },
      "execution_count": 24,
      "outputs": []
    },
    {
      "cell_type": "code",
      "source": [
        "subj_labels = np.array([1 if idx<1000 else 0 for idx in range(2000)])"
      ],
      "metadata": {
        "id": "HnSAKuSUSQSh"
      },
      "execution_count": 25,
      "outputs": []
    },
    {
      "cell_type": "code",
      "source": [
        "#subj_labels"
      ],
      "metadata": {
        "id": "YN8lQy_joyhp"
      },
      "execution_count": 26,
      "outputs": []
    },
    {
      "cell_type": "code",
      "source": [
        "from sklearn.model_selection import train_test_split\n",
        "from torch.utils.data import DataLoader, RandomSampler\n",
        "from torch.utils.data import TensorDataset as td\n",
        "\n",
        "\n",
        "def get_data(pol_embs: np.array,\n",
        "             subj_embs: np.array, \n",
        "             pol_labels: np.array, \n",
        "             subj_labels: np.array, \n",
        "             batch_size: int=32, \n",
        "             random_state=42, \n",
        "             test_split=0.2\n",
        "             ) -> Tuple[torch.utils.data.DataLoader]:\n",
        "\n",
        "\n",
        "    pol_train, pol_test, pol_labels_train, pol_labels_test = train_test_split(pol_embs, \n",
        "                                                                              pol_labels,\n",
        "                                                                              test_size=test_split, \n",
        "                                                                              random_state=random_state)\n",
        "    \n",
        "    subj_train, subj_test, subj_labels_train, subj_labels_test = train_test_split(subj_embs, \n",
        "                                                                                  subj_labels,\n",
        "                                                                                  test_size=test_split,\n",
        "                                                                                  random_state=random_state)\n",
        "\n",
        "\n",
        "    pol_train_tensor = torch.tensor(pol_train, requires_grad=True)\n",
        "    pol_test_tensor = torch.tensor(pol_test, requires_grad=True)\n",
        "    subj_train_tensor = torch.tensor(subj_train, requires_grad=True)\n",
        "    subj_test_tensor = torch.tensor(subj_test, requires_grad=True)\n",
        "\n",
        "    pol_train = td(pol_train_tensor, torch.tensor(pol_labels_train, dtype=torch.long))\n",
        "    pol_test = td(pol_test_tensor, torch.tensor(pol_labels_test, dtype=torch.long))\n",
        "    subj_train = td(subj_train_tensor, torch.tensor(subj_labels_train, dtype=torch.long))\n",
        "    subj_test = td(subj_test_tensor, torch.tensor(subj_labels_test, dtype=torch.long))\n",
        "\n",
        "    \n",
        "    pol_train_loader = DataLoader(dataset=pol_train, \n",
        "                                  batch_size=batch_size,\n",
        "                                  sampler=RandomSampler(pol_train)\n",
        "                                  #shuffle=True\n",
        "                                  )\n",
        "    \n",
        "    pol_test_loader = DataLoader(dataset=pol_test, \n",
        "                                 batch_size=batch_size,\n",
        "                                 sampler=RandomSampler(pol_test) \n",
        "                                 #shuffle=True\n",
        "                                 )\n",
        "\n",
        "    subj_train_loader = DataLoader(dataset=subj_train, \n",
        "                                   batch_size=batch_size,\n",
        "                                   sampler=RandomSampler(subj_train)\n",
        "                                   #shuffle=True\n",
        "                                   )\n",
        "    \n",
        "    subj_test_loader = DataLoader(dataset=subj_test,\n",
        "                                  batch_size=batch_size,\n",
        "                                  sampler=RandomSampler(subj_test) \n",
        "                                  #shuffle=True\n",
        "                                  )\n",
        "    \n",
        "    return pol_train_loader, pol_test_loader, subj_train_loader, subj_test_loader"
      ],
      "metadata": {
        "id": "phypOl2K4y1i"
      },
      "execution_count": 27,
      "outputs": []
    },
    {
      "cell_type": "code",
      "source": [
        "#pol_train, pol_val, subj_train, subj_val = get_data(pol_embs=pol_embs, \n",
        "#                                                    subj_embs=subj_embs,\n",
        "#                                                    pol_labels=pol_labels,\n",
        "#                                                    subj_labels=subj_labels,\n",
        "#                                                    batch_size=128)"
      ],
      "metadata": {
        "id": "2XNgJr8F0GU7"
      },
      "execution_count": 28,
      "outputs": []
    },
    {
      "cell_type": "code",
      "source": [
        "#for idx, (datum, label) in enumerate(pol_train):\n",
        "    #print(f\"Batch : {idx}\\nTensor: {datum}{label}\\n\")\n",
        "    #print(f\"Batch : {idx}, len batch: {len(datum)}\")"
      ],
      "metadata": {
        "id": "hXRLwBv0cup7"
      },
      "execution_count": 29,
      "outputs": []
    },
    {
      "cell_type": "code",
      "source": [
        "#for idx, (datum, label) in enumerate(subj_train):\n",
        "    #print(f\"Batch : {idx}, len batch: {len(datum)}\")"
      ],
      "metadata": {
        "id": "7WHUfNhxnzG2"
      },
      "execution_count": 30,
      "outputs": []
    },
    {
      "cell_type": "code",
      "source": [
        "#data, labels = next(iter(subj_train))"
      ],
      "metadata": {
        "id": "p5qDmHoMqO31"
      },
      "execution_count": 31,
      "outputs": []
    },
    {
      "cell_type": "code",
      "source": [
        "#print(data[0])"
      ],
      "metadata": {
        "id": "rsjRy8jjqjLt"
      },
      "execution_count": 32,
      "outputs": []
    },
    {
      "cell_type": "code",
      "source": [
        "#print(labels[0])"
      ],
      "metadata": {
        "id": "VTClmVuNqoR-"
      },
      "execution_count": 33,
      "outputs": []
    },
    {
      "cell_type": "markdown",
      "source": [
        "## Model assembly"
      ],
      "metadata": {
        "id": "48QJANfgfqxa"
      }
    },
    {
      "cell_type": "markdown",
      "source": [
        "<center><img src=\"data:image/png;base64,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\"/></center>"
      ],
      "metadata": {
        "id": "B70-qrOSow_e"
      }
    },
    {
      "cell_type": "markdown",
      "source": [
        "<center><img src=\"data:image/png;base64,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\"/></center>"
      ],
      "metadata": {
        "id": "dPj_MIabog6w"
      }
    },
    {
      "cell_type": "code",
      "source": [
        "def init_weights(mat):\n",
        "    for m in mat.modules():\n",
        "        if type(m) in [nn.GRU, nn.LSTM, nn.RNN]:\n",
        "            for name, param in m.named_parameters():\n",
        "                if 'weight_ih' in name:\n",
        "                    for idx in range(4):\n",
        "                        mul = param.shape[0]//4\n",
        "                        torch.nn.init.xavier_uniform_(param[idx*mul:(idx+1)*mul])\n",
        "                elif 'weight_hh' in name:\n",
        "                    for idx in range(4):\n",
        "                        mul = param.shape[0]//4\n",
        "                        torch.nn.init.orthogonal_(param[idx*mul:(idx+1)*mul])\n",
        "                elif 'bias' in name:\n",
        "                    param.data.fill_(0)\n",
        "        else:\n",
        "            if type(m) in [nn.Linear]:\n",
        "                torch.nn.init.uniform_(m.weight, -0.01, 0.01)\n",
        "                if m.bias != None:\n",
        "                    m.bias.data.fill_(0.01)"
      ],
      "metadata": {
        "id": "W7ZALGd8Ft7w"
      },
      "execution_count": 34,
      "outputs": []
    },
    {
      "cell_type": "code",
      "source": [
        "class TimeDistributedLayer(nn.Module):\n",
        "    def __init__(self, module, batch_first=False):\n",
        "        super(TimeDistributedLayer, self).__init__()\n",
        "        self.module = module\n",
        "        self.batch_first = batch_first\n",
        "\n",
        "    def forward(self, x):\n",
        "\n",
        "        if len(x.size()) <= 2:\n",
        "            return self.module(x)\n",
        "\n",
        "        # Squash samples and timesteps into a single axis\n",
        "        x_reshape = x.contiguous().view(-1, x.size(-1))  # (samples * timesteps, input_size)\n",
        "\n",
        "        y = self.module(x_reshape)\n",
        "\n",
        "        # We have to reshape Y\n",
        "        if self.batch_first:\n",
        "            y = y.contiguous().view(x.size(0), -1, y.size(-1))  # (samples, timesteps, output_size)\n",
        "        else:\n",
        "            y = y.view(-1, x.size(1), y.size(-1))  # (timesteps, samples, output_size)\n",
        "\n",
        "        return y"
      ],
      "metadata": {
        "id": "dS1cDdAF0bR0"
      },
      "execution_count": 35,
      "outputs": []
    },
    {
      "cell_type": "code",
      "source": [
        "class Attention(nn.Module):\n",
        "    \"\"\" Applies attention mechanism on the `context` using the `query`.\n",
        "\n",
        "    **Thank you** to IBM for their initial implementation of :class:`Attention`. Here is\n",
        "    their `License\n",
        "    <https://github.com/IBM/pytorch-seq2seq/blob/master/LICENSE>`__.\n",
        "\n",
        "    Args:\n",
        "        dimensions (int): Dimensionality of the query and context.\n",
        "        attention_type (str, optional): How to compute the attention score:\n",
        "\n",
        "            * dot: :math:`score(H_j,q) = H_j^T q`\n",
        "            * general: :math:`score(H_j, q) = H_j^T W_a q`\n",
        "    \"\"\"\n",
        "\n",
        "    def __init__(self, dimensions, attention_type='general'):\n",
        "        super(Attention, self).__init__()\n",
        "\n",
        "        if attention_type not in ['dot', 'general']:\n",
        "            raise ValueError('Invalid attention type selected.')\n",
        "\n",
        "        self.attention_type = attention_type\n",
        "        if self.attention_type == 'general':\n",
        "            self.linear_in = nn.Linear(dimensions, dimensions, bias=False)\n",
        "\n",
        "        self.linear_out = nn.Linear(dimensions * 2, dimensions, bias=False)\n",
        "        self.softmax = nn.Softmax(dim=-1)\n",
        "        self.tanh = nn.Tanh()\n",
        "\n",
        "    def forward(self, query, context):\n",
        "        \"\"\"\n",
        "        Args:\n",
        "            query (:class:`torch.FloatTensor` [batch size, output length, dimensions]): Sequence of\n",
        "                queries to query the context.\n",
        "            context (:class:`torch.FloatTensor` [batch size, query length, dimensions]): Data\n",
        "                overwhich to apply the attention mechanism.\n",
        "\n",
        "        Returns:\n",
        "            :class:`tuple` with `output` and `weights`:\n",
        "            * **output** (:class:`torch.LongTensor` [batch size, output length, dimensions]):\n",
        "              Tensor containing the attended features.\n",
        "            * **weights** (:class:`torch.FloatTensor` [batch size, output length, query length]):\n",
        "              Tensor containing attention weights.\n",
        "        \"\"\"\n",
        "        batch_size, output_len, dimensions = query.size()\n",
        "        query_len = context.size(1)\n",
        "\n",
        "        if self.attention_type == \"general\":\n",
        "            query = query.reshape(batch_size * output_len, dimensions)\n",
        "            query = self.linear_in(query)\n",
        "            query = query.reshape(batch_size, output_len, dimensions)\n",
        "\n",
        "        # (batch_size, output_len, dimensions) * (batch_size, query_len, dimensions) ->\n",
        "        # (batch_size, output_len, query_len)\n",
        "        attention_scores = torch.bmm(query, context.transpose(1, 2).contiguous())\n",
        "\n",
        "        # Compute weights across every context sequence\n",
        "        attention_scores = attention_scores.view(batch_size * output_len, query_len)\n",
        "        attention_weights = self.softmax(attention_scores)\n",
        "        attention_weights = attention_weights.view(batch_size, output_len, query_len)\n",
        "\n",
        "        # (batch_size, output_len, query_len) * (batch_size, query_len, dimensions) ->\n",
        "        # (batch_size, output_len, dimensions)\n",
        "        mix = torch.bmm(attention_weights, context)\n",
        "\n",
        "        # concat -> (batch_size * output_len, 2*dimensions)\n",
        "        combined = torch.cat((mix, query), dim=2)\n",
        "        combined = combined.view(batch_size * output_len, 2 * dimensions)\n",
        "\n",
        "        # Apply linear_out on every 2nd dimension of concat\n",
        "        # output -> (batch_size, output_len, dimensions)\n",
        "        output = self.linear_out(combined).view(batch_size, output_len, dimensions)\n",
        "        output = self.tanh(output)\n",
        "\n",
        "        return output, attention_weights"
      ],
      "metadata": {
        "id": "zAK7JnuD96Hf"
      },
      "execution_count": 36,
      "outputs": []
    },
    {
      "cell_type": "code",
      "source": [
        "def trunc_normal_(tensor: torch.Tensor, mean: float = 0., std: float = 1., a: float = -2., b: float = 2.) -> torch.Tensor:\n",
        "    \"\"\"Fills the input Tensor with values drawn from a truncated\n",
        "    normal distribution. The values are effectively drawn from the\n",
        "    normal distribution :math:`\\mathcal{N}(\\text{mean}, \\text{std}^2)`\n",
        "    with values outside :math:`[a, b]` redrawn until they are within\n",
        "    the bounds. The method used for generating the random values works\n",
        "    best when :math:`a \\leq \\text{mean} \\leq b`.\n",
        "    Args:\n",
        "        tensor: an n-dimensional `torch.Tensor`\n",
        "        mean: the mean of the normal distribution\n",
        "        std: the standard deviation of the normal distribution\n",
        "        a: the minimum cutoff value\n",
        "        b: the maximum cutoff value\n",
        "    Examples:\n",
        "        >>> w = torch.empty(3, 5)\n",
        "        >>> nn.init.trunc_normal_(w)\n",
        "    \"\"\"\n",
        "    return torch._no_grad_trunc_normal_(tensor, mean, std, a, b)"
      ],
      "metadata": {
        "id": "O0QUlCA8Dxxz"
      },
      "execution_count": 37,
      "outputs": []
    },
    {
      "cell_type": "code",
      "source": [
        "class NeuralTensorNetwork(nn.Module):\n",
        "    def __init__(self, \n",
        "                 output_dim: int, \n",
        "                 input_dim: int, \n",
        "                 activation: str=\"tanh\",\n",
        "                 mean: float=0.0, \n",
        "                 std: float=1.0\n",
        "                 ) -> None:\n",
        "        \n",
        "        super(NeuralTensorNetwork, self).__init__()\n",
        "\n",
        "        # setting input and output dimensions\n",
        "        self.k = output_dim\n",
        "        self.d = input_dim # e1,e2\n",
        "\n",
        "        # setting mean and std for random initialization\n",
        "        self.mean = mean\n",
        "        self.std = std\n",
        "\n",
        "        self.activation = activation\n",
        "\n",
        "        # parameters has been used in order to consider W, V, b as model parameters\n",
        "        # inference -> they'll be optimized\n",
        "\n",
        "        # normal sampling -> https://pytorch.org/docs/stable/generated/torch.normal.html\n",
        "        # parameter -> https://pytorch.org/docs/stable/generated/torch.nn.parameter.Parameter.html#torch.nn.parameter.Parameter\n",
        "        self.W = nn.Parameter(torch.normal(self.mean, self.std, size=(self.k, \n",
        "                                                                      self.d, \n",
        "                                                                      self.d)))\n",
        "        self.V = nn.Parameter(torch.normal(self.mean, self.std, size=(2*self.d, \n",
        "                                                                      self.k)))\n",
        "        self.b = nn.Parameter(torch.zeros(size=(self.d,)))\n",
        "        \n",
        "        if activation == 'tanh':\n",
        "            self.activation = nn.Tanh()\n",
        "        elif activation == 'sigmoid':\n",
        "            self.activation = nn.Sigmoid()\n",
        "        elif self.activation == 'relu':\n",
        "            self.activation = nn.ReLU()\n",
        "        # checking for a good activation function\n",
        "        else:\n",
        "            raise ValueError('Possible activation choices are tanh, sigmoid or ReLU')\n",
        "\n",
        "    def forward(self, inputs: List[torch.Tensor]) -> torch.Tensor:\n",
        "        if type(inputs) is not list or len(inputs) <= 1:\n",
        "            raise Exception('BilinearTensorLayer must be called on a list of tensors '\n",
        "                      '(at least 2). Got: ' + str(inputs))\n",
        "\n",
        "        # getting the entities\n",
        "        e1 = inputs[0]\n",
        "        e2 = inputs[1]\n",
        "\n",
        "        with torch.no_grad():\n",
        "            e1_clone = torch.clone(e1)\n",
        "            batch_size = e1_clone.size(dim=0) #torch.clone(e1).detach().numpy().shape[0]\n",
        "\n",
        "        #batch_size = self.batch_size\n",
        "        k = self.k\n",
        "        d = self.d\n",
        "\n",
        "        # bilinear tensor + bias\n",
        "        bil_bias = [torch.sum((e2 * torch.matmul(e1, self.W[0])) + self.b, \n",
        "                              axis=1)]\n",
        "        \n",
        "        for i in range(1,k):\n",
        "            bil_bias.append(torch.sum((e2*torch.matmul(e1, self.W[i])) + self.b, \n",
        "                                      axis=1))\n",
        "        \n",
        "        bil_bias = torch.cat(bil_bias, axis=0)\n",
        "        bil_bias = torch.reshape(bil_bias, (batch_size, k))\n",
        "\n",
        "        # Vr * [e1, e2]\n",
        "        rest = torch.matmul(torch.cat([e1,e2], dim=1), self.V)\n",
        "\n",
        "        e1_R_e2 = bil_bias + rest\n",
        "\n",
        "        # applying activation\n",
        "        f = self.activation(e1_R_e2)\n",
        "\n",
        "        return f"
      ],
      "metadata": {
        "id": "GqRMzeKzm2Kd"
      },
      "execution_count": 38,
      "outputs": []
    },
    {
      "cell_type": "code",
      "source": [
        "class MTL(nn.Module):\n",
        "    def __init__(self):\n",
        "        super(MTL, self).__init__()\n",
        "\n",
        "        # BiLSTMs\n",
        "        # https://pytorch.org/docs/stable/generated/torch.nn.LSTM.html\n",
        "        self.lstm1 = nn.LSTM(input_size=768, hidden_size=128, batch_first=True, \n",
        "                             bidirectional=True)\n",
        "        self.lstm2 = nn.LSTM(input_size=768, hidden_size=128, batch_first=True,\n",
        "                             bidirectional=True)\n",
        "\n",
        "        # TimeDistributed\n",
        "        self.dense1 = TimeDistributedLayer(\n",
        "            nn.Sequential(\n",
        "                nn.Linear(in_features=256, out_features=128),\n",
        "                nn.ReLU()\n",
        "            )\n",
        "        )\n",
        "\n",
        "        self.dense2 = TimeDistributedLayer(\n",
        "            nn.Sequential(\n",
        "                nn.Linear(in_features=256, out_features=128),\n",
        "                nn.ReLU()\n",
        "            )\n",
        "        )\n",
        "\n",
        "        # dropout layers\n",
        "        self.drop1 = nn.Dropout(p=0.5, inplace=False)\n",
        "        self.drop2 = nn.Dropout(p=0.5, inplace=False)\n",
        "\n",
        "        ## https://pytorch.org/docs/stable/generated/torch.nn.MultiheadAttention.html\n",
        "        #self.attention1 = nn.MultiheadAttention(embed_dim=128, num_heads=num_heads)\n",
        "        #self.attention2 = nn.MultiheadAttention(embed_dim=128, num_heads=num_heads)\n",
        "\n",
        "        #self.attention1 = Attention(dimensions=128, attention_type='general')\n",
        "        #self.attention2 = Attention(dimensions=128, attention_type='general')\n",
        "\n",
        "        # Dense Layers\n",
        "        self.dense12 = nn.Sequential(\n",
        "            nn.Linear(in_features=128, out_features=10),\n",
        "            nn.ReLU()\n",
        "        )\n",
        "\n",
        "        self.dense22 = nn.Sequential(\n",
        "            nn.Linear(in_features=128, out_features=10),\n",
        "            nn.ReLU()\n",
        "        )\n",
        "\n",
        "        # dropout\n",
        "        self.drop3 = nn.Dropout(p=0.5, inplace=False)\n",
        "        self.drop4 = nn.Dropout(p=0.5, inplace=False)\n",
        "\n",
        "        # flattening layer\n",
        "        self.flat1 = nn.Flatten()\n",
        "        self.flat2 = nn.Flatten()\n",
        "\n",
        "        # Neural Tensor Layer\n",
        "        self.ntn = NeuralTensorNetwork(output_dim=64, input_dim=1000)\n",
        "\n",
        "        # Dense\n",
        "        self.flat11 = nn.Sequential(\n",
        "            nn.Linear(in_features=1000, out_features=50),\n",
        "            nn.ReLU()\n",
        "        )\n",
        "        self.flat22 = nn.Sequential(\n",
        "            nn.Linear(in_features=1000, out_features=50),\n",
        "            nn.ReLU()\n",
        "        )\n",
        "\n",
        "        ## final layers (the softmax will be applied at the end by the loss)\n",
        "        self.pred1 = nn.Linear(in_features=114, out_features=2)\n",
        "        self.pred2 = nn.Linear(in_features=114, out_features=2)\n",
        "\n",
        "\n",
        "    def forward(self, emb1, emb2) -> Tuple[torch.Tensor, torch.Tensor]:\n",
        "\n",
        "        # https://pytorch.org/docs/stable/generated/torch.nn.LSTM.html\n",
        "        pol_out, _ = self.lstm1(emb1)\n",
        "        #pol_hidden = torch.cat((pol_out[:,-1,:128], pol_out[:,0,128:]), dim=1)\n",
        "        \n",
        "        subj_out, _ = self.lstm2(emb2)\n",
        "        #subj_hidden = torch.cat((subj_out[:,-1,:128], subj_out[:,0,128:]), dim=1)\n",
        "\n",
        "        #pol = self.dense1(pol_hidden.view(-1, 128*2))\n",
        "        #subj = self.dense2(subj_hidden.view(-1, 128*2))\n",
        "\n",
        "        pol = self.dense1(pol_out)\n",
        "        subj = self.dense2(subj_out)\n",
        "\n",
        "        drop1 = self.drop1(pol)\n",
        "        drop2 = self.drop2(subj)\n",
        "\n",
        "        ## https://stackoverflow.com/questions/65642832/inputs-to-the-nn-multiheadattention\n",
        "        #attn_out1, _ = self.attention1(query=pol_q, key=pol_k, value=pol_v)\n",
        "        #attn_out2, _ = self.attention2(query=subj_q, key=subj_k, value=subj_v)\n",
        "\n",
        "        #attn_out1, _ = self.attention1(query=drop1, context=drop1)\n",
        "        #attn_out2, _ = self.attention1(query=drop2, context=drop2)\n",
        "\n",
        "        pol_dense = self.dense12(drop1)\n",
        "        subj_dense = self.dense22(drop2)\n",
        "\n",
        "        drop3 = self.drop3(pol_dense)\n",
        "        drop4 = self.drop4(subj_dense)\n",
        "\n",
        "        pol_flat = self.flat1(drop3)\n",
        "        subj_flat = self.flat2(drop4)\n",
        "\n",
        "        ntn_output = self.ntn([pol_flat, subj_flat])\n",
        "\n",
        "        pol_flat1 = self.flat11(pol_flat)\n",
        "        subj_flat1 = self.flat22(subj_flat)\n",
        "\n",
        "        pol_merged = torch.concat((pol_flat1, ntn_output), dim=1)\n",
        "        subj_merged = torch.concat((subj_flat1, ntn_output), dim=1)\n",
        "\n",
        "        pol_out = self.pred1(pol_merged)\n",
        "        subj_out = self.pred2(subj_merged)\n",
        "\n",
        "        return pol_out, subj_out"
      ],
      "metadata": {
        "id": "aj4Np1hhfp8F"
      },
      "execution_count": 39,
      "outputs": []
    },
    {
      "cell_type": "code",
      "source": [
        "def cross_entropy_loss():\n",
        "    loss = torch.nn.CrossEntropyLoss()\n",
        "    return loss"
      ],
      "metadata": {
        "id": "pqxL866kt34O"
      },
      "execution_count": 40,
      "outputs": []
    },
    {
      "cell_type": "code",
      "source": [
        "def get_optimizer(net, lr: float=0.2):\n",
        "    return torch.optim.Adam(net.parameters(), lr=lr, betas=(0.9, 0.999), eps=1e-08, weight_decay=0)\n",
        "    #return torch.optim.SGD(net.parameters(), lr=lr, weight_decay=0.000001, momentum=0.9)"
      ],
      "metadata": {
        "id": "XzCj3loCuNZ2"
      },
      "execution_count": 41,
      "outputs": []
    },
    {
      "cell_type": "code",
      "source": [
        "from matplotlib.lines import Line2D"
      ],
      "metadata": {
        "id": "no70Kt7sytZj"
      },
      "execution_count": 42,
      "outputs": []
    },
    {
      "cell_type": "code",
      "source": [
        "def plot_grad_flow(named_parameters):\n",
        "    '''Plots the gradients flowing through different layers in the net during training.\n",
        "    Can be used for checking for possible gradient vanishing / exploding problems.\n",
        "    \n",
        "    Usage: Plug this function in Trainer class after loss.backwards() as \n",
        "    \"plot_grad_flow(self.model.named_parameters())\" to visualize the gradient flow'''\n",
        "    ave_grads = []\n",
        "    max_grads= []\n",
        "    layers = []\n",
        "    for n, p in named_parameters:\n",
        "        if(p.requires_grad) and (\"bias\" not in n):\n",
        "            #print(p.grad, n)\n",
        "            layers.append(n)\n",
        "            ave_grads.append(p.grad.abs().mean().cpu())                         # moving data to CPU to accomodate plt\n",
        "            max_grads.append(p.grad.abs().max().cpu())                          \n",
        "    plt.bar(np.arange(len(max_grads)), max_grads, alpha=0.1, lw=1, color=\"c\")\n",
        "    plt.bar(np.arange(len(max_grads)), ave_grads, alpha=0.1, lw=1, color=\"b\")\n",
        "    plt.hlines(0, 0, len(ave_grads)+1, lw=2, color=\"k\" )\n",
        "    plt.xticks(range(0,len(ave_grads), 1), layers, rotation=\"vertical\")\n",
        "    plt.xlim(left=0, right=len(ave_grads))\n",
        "    plt.ylim(bottom = -0.001, top=0.02) # zoom in on the lower gradient regions\n",
        "    plt.xlabel(\"Layers\")\n",
        "    plt.ylabel(\"average gradient\")\n",
        "    plt.title(\"Gradient flow\")\n",
        "    plt.grid(True)\n",
        "    plt.legend([Line2D([0], [0], color=\"c\", lw=4),\n",
        "                Line2D([0], [0], color=\"b\", lw=4),\n",
        "                Line2D([0], [0], color=\"k\", lw=4)], ['max-gradient', 'mean-gradient', 'zero-gradient'])\n"
      ],
      "metadata": {
        "id": "gOBCbwxjyhXq"
      },
      "execution_count": 43,
      "outputs": []
    },
    {
      "cell_type": "code",
      "source": [
        "def training_step(model, \n",
        "                  pol_train: torch.utils.data.DataLoader, \n",
        "                  sub_train: torch.utils.data.DataLoader, \n",
        "                  cost_function : torch.nn.modules.loss, \n",
        "                  optimizer : torch.optim, \n",
        "                  device: str='cuda:0' \n",
        "                  ) -> None: #-> Tuple[float]:\n",
        "    \n",
        "    samples = 0.\n",
        "\n",
        "    cumulative_pol_accuracy = 0.\n",
        "    cumulative_subj_accuracy = 0.\n",
        "\n",
        "    cumulative_pol_loss = 0.\n",
        "    cumulative_subj_loss = 0.\n",
        "    total_cumulative_loss = 0.\n",
        "\n",
        "    model.train()\n",
        "\n",
        "    subj_train_iter = iter(sub_train)\n",
        "\n",
        "    # iterate over the training set\n",
        "    #for batch_idx, (pol_tensor, pol_label) in enumerate(pol_train):\n",
        "    with tqdm(pol_train, unit=\"batch\") as tepoch: \n",
        "        for batch_idx, (pol_tensor, pol_label) in enumerate(tepoch):\n",
        "            \n",
        "            tepoch.set_description(f\"# Batch : {batch_idx}\")\n",
        "\n",
        "            # load polarity data to GPU\n",
        "            pol_inputs = pol_tensor.to(device)\n",
        "            pol_labels = pol_label.to(device)#.to(torch.long)\n",
        "\n",
        "            # load subjectivity data to GPU\n",
        "            subj_inputs, subj_labels = next(subj_train_iter)\n",
        "            subj_inputs = subj_inputs.to(device)\n",
        "            subj_labels = subj_labels.to(device)#.to(torch.long)\n",
        "        \n",
        "            # forward pass -> the output should be two vecotors.\n",
        "            # as a consequence two losses\n",
        "            pol_out, subj_out = model(pol_inputs, subj_inputs)\n",
        "\n",
        "            # loss computation\n",
        "            pol_loss = cost_function(pol_out, pol_labels)\n",
        "            sub_loss = cost_function(subj_out, subj_labels)\n",
        "\n",
        "            total_cumulative_loss = pol_loss + sub_loss\n",
        "\n",
        "            total_cumulative_loss.backward()\n",
        "\n",
        "            plot_grad_flow(model.named_parameters())\n",
        "        \n",
        "            # parameters update\n",
        "            optimizer.step()\n",
        "\n",
        "            # fetch prediction and loss value for polarity \n",
        "            samples += pol_inputs.shape[0]\n",
        "            _, predicted_pol = pol_out.max(dim=1)\n",
        "            _, predicted_subj = subj_out.max(dim=1)\n",
        "\n",
        "            ## compute training accuracies\n",
        "            cumulative_pol_accuracy += predicted_pol.eq(pol_labels).sum().item()\n",
        "            cumulative_subj_accuracy += predicted_subj.eq(subj_labels).sum().item()\n",
        "\n",
        "            tepoch.set_postfix(loss=total_cumulative_loss.item(), \n",
        "                               pol_loss = pol_loss.item(), \n",
        "                               subj_loss=sub_loss.item(), \n",
        "                               pol_accuracy=100.*(cumulative_pol_accuracy/samples), \n",
        "                               subj_accuracy=100.*(cumulative_subj_accuracy/samples),\n",
        "                               samples_w_batch=samples)\n",
        "        \n",
        "            # gradients reset\n",
        "            optimizer.zero_grad()\n",
        "\n",
        "    #epoch_loss = total_cumulative_loss/(batch_idx+1)\n",
        "        \n",
        "    #return total_cumulative_loss,(cumulative_pol_accuracy/samples)*100, (cumulative_subj_accuracy/samples)*100"
      ],
      "metadata": {
        "id": "r4HGBg1vvUsD"
      },
      "execution_count": 44,
      "outputs": []
    },
    {
      "cell_type": "code",
      "source": [
        "def test_step(model, \n",
        "              pol_test: torch.utils.data.DataLoader, \n",
        "              subj_test: torch.utils.data.DataLoader, \n",
        "              cost_function : torch.nn.modules.loss,\n",
        "              device: str='cuda:0'\n",
        "              ) -> Tuple[float]:\n",
        "\n",
        "    samples = 0.\n",
        "\n",
        "    cumulative_pol_accuracy = 0.\n",
        "    cumulative_subj_accuracy = 0.\n",
        "\n",
        "    total_cumulative_loss = 0.\n",
        "\n",
        "    model.eval()\n",
        "    subj_test_iter = iter(subj_test)\n",
        "\n",
        "    with torch.no_grad():\n",
        "        \n",
        "        for batch_idx, (pol_tensor, pol_label) in enumerate(pol_test):\n",
        "\n",
        "            # load polarity data to GPU\n",
        "            pol_inputs = pol_tensor.to(device)\n",
        "            pol_labels = pol_label.to(device)#.to(torch.long)\n",
        "\n",
        "            # load subjectivity data to GPU\n",
        "            subj_inputs, subj_labels = next(subj_test_iter)\n",
        "            subj_inputs = subj_inputs.to(device)\n",
        "            subj_labels = subj_labels.to(device)#.to(torch.long)\n",
        "\n",
        "            # forward pass -> the output should be two vecotors.\n",
        "            # as a consequence two losses\n",
        "            pol_out, subj_out = model(pol_inputs, subj_inputs)\n",
        "\n",
        "            # apply the loss\n",
        "            pol_loss = cost_function(pol_out, pol_labels)\n",
        "            sub_loss = cost_function(subj_out, subj_labels)\n",
        "        \n",
        "            # fetch prediction and loss value for polarity \n",
        "            samples_pol += pol_inputs.shape[0]\n",
        "            #cumulative_pol_loss += pol_loss.item()\n",
        "            _, predicted_pol = pol_out.max(dim=1) # max() returns (maximum_value, index_of_maximum_value)\n",
        "\n",
        "            # compute training accuracy\n",
        "            cumulative_pol_accuracy += predicted_pol.eq(pol_labels).sum().item()\n",
        "        \n",
        "            # fetch prediction and loss value for subjectivity dataset\n",
        "            samples_subj += subj_inputs.shape[0]\n",
        "            #cumulative_subj_loss += sub_loss.item()\n",
        "            _, predicted_sub = subj_out.max(dim=1) # max() returns (maximum_value, index_of_maximum_value)\n",
        "\n",
        "            # compute training accuracy\n",
        "            cumulative_subj_accuracy += predicted_sub.eq(subj_labels).sum().item()\n",
        "\n",
        "    return cumulative_pol_loss,(cumulative_pol_accuracy/samples_pol)*100, cumulative_subj_loss/samples_subj, (cumulative_subj_accuracy/samples_subj)*100    "
      ],
      "metadata": {
        "id": "n6K0w-_5rz3s"
      },
      "execution_count": 45,
      "outputs": []
    },
    {
      "cell_type": "code",
      "source": [
        "# tensorboard logging utilities\n",
        "def log_values(writer, step, loss, accuracy, prefix):\n",
        "  writer.add_scalar(f\"{prefix}/loss\", loss, step)\n",
        "  writer.add_scalar(f\"{prefix}/accuracy\", accuracy, step)"
      ],
      "metadata": {
        "id": "gcTZfEWf1Tps"
      },
      "execution_count": 46,
      "outputs": []
    },
    {
      "cell_type": "code",
      "source": [
        "def print_net_parameters(model) -> None:\n",
        "    for name, param in model.named_parameters():\n",
        "        if param.requires_grad:\n",
        "            print(name, param.data)"
      ],
      "metadata": {
        "id": "NqQJpB5R73CA"
      },
      "execution_count": 47,
      "outputs": []
    },
    {
      "cell_type": "code",
      "source": [
        "def init_model(model):\n",
        "    for param in model.parameters():\n",
        "        param.requires_grad = True\n",
        "    \n",
        "    model=model.apply(init_weights)\n",
        "    \n",
        "    return model"
      ],
      "metadata": {
        "id": "Gig5ayr28mb-"
      },
      "execution_count": 48,
      "outputs": []
    },
    {
      "cell_type": "code",
      "source": [
        "def main(\n",
        "         pol_embs: np.array, \n",
        "         subj_embs: np.array,\n",
        "         pol_labels: np.array,\n",
        "         subj_labels: np.array,\n",
        "         batch_size: int=32,\n",
        "         device: str='cuda:0',\n",
        "         epochs: int=30,\n",
        "         pr: bool=False\n",
        "         ) -> Tuple[float]:\n",
        "  \n",
        "  \n",
        "    net = MTL().to(device)\n",
        "    net = init_model(net)\n",
        "\n",
        "    #print(list(net.parameters())) -> confirms that network parameters have gradient enabled\n",
        "\n",
        "    #print(net) -> uncomment to see the network layout\n",
        "\n",
        "    if pr:\n",
        "        print_net_parameters(net)\n",
        "\n",
        "    print('Network Init Done')\n",
        "\n",
        "    cost_function = cross_entropy_loss()\n",
        "\n",
        "    print('Got Loss')\n",
        "\n",
        "    optimizer = get_optimizer(net)\n",
        "\n",
        "    print(\"Got Optimizer\")\n",
        "\n",
        "    pol_train_loader, pol_val_loader, subj_train_loader, subj_val_loader = get_data(pol_embs=pol_embs, \n",
        "                                                                                    subj_embs=subj_embs,\n",
        "                                                                                    pol_labels=pol_labels,\n",
        "                                                                                    subj_labels=subj_labels,\n",
        "                                                                                    batch_size=batch_size)\n",
        "\n",
        "    print(\"Got Dataloaders\")\n",
        "\n",
        "    for e in range(epochs):\n",
        "\n",
        "        print(f\"Epoch {e}:\\t\")\n",
        "\n",
        "        #train_loss, pol_train_accuracy, subj_train_accuracy = \n",
        "        training_step(model=net,\n",
        "                      pol_train=pol_train_loader, \n",
        "                      sub_train=subj_train_loader, \n",
        "                      cost_function=cost_function, \n",
        "                      optimizer=optimizer, \n",
        "                      device=device)\n",
        "\n",
        "        #print(f\"Training loss: {train_loss}\\nPolarity training accuracy: {pol_train_accuracy}\\nSubjectivity training accuracy: {subj_train_accuracy}\")"
      ],
      "metadata": {
        "id": "B8u48XHuvFT5"
      },
      "execution_count": 49,
      "outputs": []
    },
    {
      "cell_type": "markdown",
      "source": [
        "## Hyperparameters"
      ],
      "metadata": {
        "id": "JNAFZ7hBHyz8"
      }
    },
    {
      "cell_type": "code",
      "source": [
        "device = 'cuda:0' if torch.cuda.is_available() else 'cpu'"
      ],
      "metadata": {
        "id": "BkQgkVYHHyB5"
      },
      "execution_count": 50,
      "outputs": []
    },
    {
      "cell_type": "code",
      "source": [
        "#main(pol_embs=pol_embs, subj_embs=subj_embs, pol_labels=pol_labels, subj_labels=subj_labels, device=device)"
      ],
      "metadata": {
        "id": "MXbpCq6v6ymA"
      },
      "execution_count": 51,
      "outputs": []
    },
    {
      "cell_type": "code",
      "source": [
        "main(pol_embs=pol_embs, subj_embs=subj_embs, pol_labels=pol_labels, subj_labels=subj_labels, device=device, pr=False)"
      ],
      "metadata": {
        "colab": {
          "base_uri": "https://localhost:8080/",
          "height": 1000
        },
        "id": "9e-M-y26tUyE",
        "outputId": "7d6cbc6e-f93d-41c9-bb92-1e04f76f6061"
      },
      "execution_count": 52,
      "outputs": [
        {
          "output_type": "stream",
          "name": "stdout",
          "text": [
            "Network Init Done\n",
            "Got Loss\n",
            "Got Optimizer\n",
            "Got Dataloaders\n",
            "Epoch 0:\t\n"
          ]
        },
        {
          "output_type": "stream",
          "name": "stderr",
          "text": [
            "# Batch : 0:   0%|          | 0/50 [00:00<?, ?batch/s]"
          ]
        },
        {
          "output_type": "stream",
          "name": "stdout",
          "text": [
            "torch.Size([32, 114])\n"
          ]
        },
        {
          "output_type": "stream",
          "name": "stderr",
          "text": [
            "# Batch : 1:   2%|▏         | 1/50 [00:14<11:58, 14.66s/batch, loss=1.39, pol_accuracy=56.2, pol_loss=0.694, samples_w_batch=32, subj_accuracy=37.5, subj_loss=0.694]"
          ]
        },
        {
          "output_type": "stream",
          "name": "stdout",
          "text": [
            "torch.Size([32, 114])\n"
          ]
        },
        {
          "output_type": "stream",
          "name": "stderr",
          "text": [
            "# Batch : 2:   4%|▍         | 2/50 [00:30<12:23, 15.49s/batch, loss=1.11e+3, pol_accuracy=57.8, pol_loss=1.06e+3, samples_w_batch=64, subj_accuracy=42.2, subj_loss=47.1]"
          ]
        },
        {
          "output_type": "stream",
          "name": "stdout",
          "text": [
            "torch.Size([32, 114])\n"
          ]
        },
        {
          "output_type": "stream",
          "name": "stderr",
          "text": [
            "# Batch : 3:   6%|▌         | 3/50 [00:45<11:58, 15.29s/batch, loss=2.36e+3, pol_accuracy=54.2, pol_loss=356, samples_w_batch=96, subj_accuracy=46.9, subj_loss=2e+3]"
          ]
        },
        {
          "output_type": "stream",
          "name": "stdout",
          "text": [
            "torch.Size([32, 114])\n"
          ]
        },
        {
          "output_type": "stream",
          "name": "stderr",
          "text": [
            "# Batch : 4:   8%|▊         | 4/50 [01:02<12:01, 15.68s/batch, loss=63, pol_accuracy=53.9, pol_loss=13.6, samples_w_batch=128, subj_accuracy=47.7, subj_loss=49.4]"
          ]
        },
        {
          "output_type": "stream",
          "name": "stdout",
          "text": [
            "torch.Size([32, 114])\n"
          ]
        },
        {
          "output_type": "stream",
          "name": "stderr",
          "text": [
            "# Batch : 5:  10%|█         | 5/50 [01:17<11:40, 15.56s/batch, loss=17.1, pol_accuracy=52.5, pol_loss=10.6, samples_w_batch=160, subj_accuracy=45.6, subj_loss=6.5]"
          ]
        },
        {
          "output_type": "stream",
          "name": "stdout",
          "text": [
            "torch.Size([32, 114])\n"
          ]
        },
        {
          "output_type": "stream",
          "name": "stderr",
          "text": [
            "# Batch : 6:  12%|█▏        | 6/50 [01:32<11:13, 15.30s/batch, loss=26.3, pol_accuracy=50, pol_loss=19.9, samples_w_batch=192, subj_accuracy=46.4, subj_loss=6.4]"
          ]
        },
        {
          "output_type": "stream",
          "name": "stdout",
          "text": [
            "torch.Size([32, 114])\n"
          ]
        },
        {
          "output_type": "stream",
          "name": "stderr",
          "text": [
            "# Batch : 7:  14%|█▍        | 7/50 [01:47<10:51, 15.15s/batch, loss=11.6, pol_accuracy=49.1, pol_loss=2.46, samples_w_batch=224, subj_accuracy=47.8, subj_loss=9.19]"
          ]
        },
        {
          "output_type": "stream",
          "name": "stdout",
          "text": [
            "torch.Size([32, 114])\n"
          ]
        },
        {
          "output_type": "stream",
          "name": "stderr",
          "text": [
            "# Batch : 8:  16%|█▌        | 8/50 [02:01<10:30, 15.00s/batch, loss=11.1, pol_accuracy=48.8, pol_loss=3.83, samples_w_batch=256, subj_accuracy=48, subj_loss=7.27]"
          ]
        },
        {
          "output_type": "stream",
          "name": "stdout",
          "text": [
            "torch.Size([32, 114])\n"
          ]
        },
        {
          "output_type": "stream",
          "name": "stderr",
          "text": [
            "# Batch : 9:  18%|█▊        | 9/50 [02:16<10:11, 14.91s/batch, loss=9.15, pol_accuracy=50, pol_loss=3.7, samples_w_batch=288, subj_accuracy=45.5, subj_loss=5.46]"
          ]
        },
        {
          "output_type": "stream",
          "name": "stdout",
          "text": [
            "torch.Size([32, 114])\n"
          ]
        },
        {
          "output_type": "stream",
          "name": "stderr",
          "text": [
            "# Batch : 10:  20%|██        | 10/50 [02:31<09:54, 14.86s/batch, loss=4.47, pol_accuracy=51.9, pol_loss=1.86, samples_w_batch=320, subj_accuracy=45.9, subj_loss=2.62]"
          ]
        },
        {
          "output_type": "stream",
          "name": "stdout",
          "text": [
            "torch.Size([32, 114])\n"
          ]
        },
        {
          "output_type": "stream",
          "name": "stderr",
          "text": [
            "# Batch : 11:  22%|██▏       | 11/50 [02:45<09:37, 14.82s/batch, loss=11.5, pol_accuracy=52.6, pol_loss=0.868, samples_w_batch=352, subj_accuracy=45.5, subj_loss=10.6]"
          ]
        },
        {
          "output_type": "stream",
          "name": "stdout",
          "text": [
            "torch.Size([32, 114])\n"
          ]
        },
        {
          "output_type": "stream",
          "name": "stderr",
          "text": [
            "# Batch : 12:  24%|██▍       | 12/50 [03:00<09:22, 14.81s/batch, loss=8.32, pol_accuracy=52.3, pol_loss=3, samples_w_batch=384, subj_accuracy=46.1, subj_loss=5.32]"
          ]
        },
        {
          "output_type": "stream",
          "name": "stdout",
          "text": [
            "torch.Size([32, 114])\n"
          ]
        },
        {
          "output_type": "stream",
          "name": "stderr",
          "text": [
            "# Batch : 13:  26%|██▌       | 13/50 [03:15<09:06, 14.78s/batch, loss=7.52, pol_accuracy=51.4, pol_loss=3.4, samples_w_batch=416, subj_accuracy=46.2, subj_loss=4.12]"
          ]
        },
        {
          "output_type": "stream",
          "name": "stdout",
          "text": [
            "torch.Size([32, 114])\n"
          ]
        },
        {
          "output_type": "stream",
          "name": "stderr",
          "text": [
            "# Batch : 14:  28%|██▊       | 14/50 [03:29<08:49, 14.70s/batch, loss=1.43, pol_accuracy=51.3, pol_loss=0.694, samples_w_batch=448, subj_accuracy=46.7, subj_loss=0.738]"
          ]
        },
        {
          "output_type": "stream",
          "name": "stdout",
          "text": [
            "torch.Size([32, 114])\n"
          ]
        },
        {
          "output_type": "stream",
          "name": "stderr",
          "text": [
            "# Batch : 15:  30%|███       | 15/50 [03:44<08:31, 14.62s/batch, loss=6.2, pol_accuracy=51.2, pol_loss=3.91, samples_w_batch=480, subj_accuracy=47.9, subj_loss=2.29]"
          ]
        },
        {
          "output_type": "stream",
          "name": "stdout",
          "text": [
            "torch.Size([32, 114])\n"
          ]
        },
        {
          "output_type": "stream",
          "name": "stderr",
          "text": [
            "# Batch : 16:  32%|███▏      | 16/50 [03:58<08:13, 14.53s/batch, loss=9.35, pol_accuracy=51.2, pol_loss=2.99, samples_w_batch=512, subj_accuracy=47.5, subj_loss=6.36]"
          ]
        },
        {
          "output_type": "stream",
          "name": "stdout",
          "text": [
            "torch.Size([32, 114])\n"
          ]
        },
        {
          "output_type": "stream",
          "name": "stderr",
          "text": [
            "# Batch : 17:  34%|███▍      | 17/50 [04:13<07:57, 14.47s/batch, loss=6.42, pol_accuracy=51.7, pol_loss=1.08, samples_w_batch=544, subj_accuracy=47.4, subj_loss=5.34]"
          ]
        },
        {
          "output_type": "stream",
          "name": "stdout",
          "text": [
            "torch.Size([32, 114])\n"
          ]
        },
        {
          "output_type": "stream",
          "name": "stderr",
          "text": [
            "# Batch : 18:  36%|███▌      | 18/50 [04:27<07:42, 14.45s/batch, loss=5.44, pol_accuracy=51.6, pol_loss=2.5, samples_w_batch=576, subj_accuracy=47.6, subj_loss=2.95]"
          ]
        },
        {
          "output_type": "stream",
          "name": "stdout",
          "text": [
            "torch.Size([32, 114])\n"
          ]
        },
        {
          "output_type": "stream",
          "name": "stderr",
          "text": [
            "# Batch : 19:  38%|███▊      | 19/50 [04:41<07:27, 14.44s/batch, loss=3.54, pol_accuracy=51.2, pol_loss=2.65, samples_w_batch=608, subj_accuracy=47.4, subj_loss=0.89]"
          ]
        },
        {
          "output_type": "stream",
          "name": "stdout",
          "text": [
            "torch.Size([32, 114])\n"
          ]
        },
        {
          "output_type": "stream",
          "name": "stderr",
          "text": [
            "# Batch : 20:  40%|████      | 20/50 [04:56<07:14, 14.49s/batch, loss=4.2, pol_accuracy=51.4, pol_loss=0.889, samples_w_batch=640, subj_accuracy=46.9, subj_loss=3.31]"
          ]
        },
        {
          "output_type": "stream",
          "name": "stdout",
          "text": [
            "torch.Size([32, 114])\n"
          ]
        },
        {
          "output_type": "stream",
          "name": "stderr",
          "text": [
            "# Batch : 21:  42%|████▏     | 21/50 [05:10<06:59, 14.48s/batch, loss=4.51, pol_accuracy=50.6, pol_loss=2.15, samples_w_batch=672, subj_accuracy=47.2, subj_loss=2.36]"
          ]
        },
        {
          "output_type": "stream",
          "name": "stdout",
          "text": [
            "torch.Size([32, 114])\n"
          ]
        },
        {
          "output_type": "stream",
          "name": "stderr",
          "text": [
            "# Batch : 22:  44%|████▍     | 22/50 [05:25<06:44, 14.46s/batch, loss=2.67, pol_accuracy=50.7, pol_loss=1.4, samples_w_batch=704, subj_accuracy=46.9, subj_loss=1.27]"
          ]
        },
        {
          "output_type": "stream",
          "name": "stdout",
          "text": [
            "torch.Size([32, 114])\n"
          ]
        },
        {
          "output_type": "stream",
          "name": "stderr",
          "text": [
            "# Batch : 23:  46%|████▌     | 23/50 [05:39<06:30, 14.47s/batch, loss=3.25, pol_accuracy=51.4, pol_loss=0.651, samples_w_batch=736, subj_accuracy=46.2, subj_loss=2.59]"
          ]
        },
        {
          "output_type": "stream",
          "name": "stdout",
          "text": [
            "torch.Size([32, 114])\n"
          ]
        },
        {
          "output_type": "stream",
          "name": "stderr",
          "text": [
            "# Batch : 24:  48%|████▊     | 24/50 [05:54<06:15, 14.44s/batch, loss=4.06, pol_accuracy=51.7, pol_loss=1.56, samples_w_batch=768, subj_accuracy=46.2, subj_loss=2.5]"
          ]
        },
        {
          "output_type": "stream",
          "name": "stdout",
          "text": [
            "torch.Size([32, 114])\n"
          ]
        },
        {
          "output_type": "stream",
          "name": "stderr",
          "text": [
            "# Batch : 25:  50%|█████     | 25/50 [06:08<05:59, 14.36s/batch, loss=2.93, pol_accuracy=51.7, pol_loss=1.93, samples_w_batch=800, subj_accuracy=46.9, subj_loss=0.999]"
          ]
        },
        {
          "output_type": "stream",
          "name": "stdout",
          "text": [
            "torch.Size([32, 114])\n"
          ]
        },
        {
          "output_type": "stream",
          "name": "stderr",
          "text": [
            "# Batch : 26:  52%|█████▏    | 26/50 [06:22<05:44, 14.33s/batch, loss=1.65, pol_accuracy=51.4, pol_loss=0.921, samples_w_batch=832, subj_accuracy=47.5, subj_loss=0.734]"
          ]
        },
        {
          "output_type": "stream",
          "name": "stdout",
          "text": [
            "torch.Size([32, 114])\n"
          ]
        },
        {
          "output_type": "stream",
          "name": "stderr",
          "text": [
            "# Batch : 27:  54%|█████▍    | 27/50 [06:37<05:30, 14.38s/batch, loss=3.57, pol_accuracy=51.6, pol_loss=1.67, samples_w_batch=864, subj_accuracy=47.6, subj_loss=1.91]"
          ]
        },
        {
          "output_type": "stream",
          "name": "stdout",
          "text": [
            "torch.Size([32, 114])\n"
          ]
        },
        {
          "output_type": "stream",
          "name": "stderr",
          "text": [
            "# Batch : 28:  56%|█████▌    | 28/50 [06:52<05:22, 14.67s/batch, loss=5.59, pol_accuracy=50.9, pol_loss=3.61, samples_w_batch=896, subj_accuracy=47.2, subj_loss=1.99]"
          ]
        },
        {
          "output_type": "stream",
          "name": "stdout",
          "text": [
            "torch.Size([32, 114])\n"
          ]
        },
        {
          "output_type": "stream",
          "name": "stderr",
          "text": [
            "# Batch : 29:  58%|█████▊    | 29/50 [07:06<05:06, 14.59s/batch, loss=3.21, pol_accuracy=50.4, pol_loss=1.35, samples_w_batch=928, subj_accuracy=47.4, subj_loss=1.86]"
          ]
        },
        {
          "output_type": "stream",
          "name": "stdout",
          "text": [
            "torch.Size([32, 114])\n"
          ]
        },
        {
          "output_type": "stream",
          "name": "stderr",
          "text": [
            "# Batch : 30:  60%|██████    | 30/50 [07:21<04:53, 14.66s/batch, loss=4.31, pol_accuracy=50.4, pol_loss=2.16, samples_w_batch=960, subj_accuracy=47.3, subj_loss=2.15]"
          ]
        },
        {
          "output_type": "stream",
          "name": "stdout",
          "text": [
            "torch.Size([32, 114])\n"
          ]
        },
        {
          "output_type": "stream",
          "name": "stderr",
          "text": [
            "# Batch : 31:  62%|██████▏   | 31/50 [07:38<04:50, 15.31s/batch, loss=34.4, pol_accuracy=50.1, pol_loss=3.95, samples_w_batch=992, subj_accuracy=47.5, subj_loss=30.5]"
          ]
        },
        {
          "output_type": "stream",
          "name": "stdout",
          "text": [
            "torch.Size([32, 114])\n"
          ]
        },
        {
          "output_type": "stream",
          "name": "stderr",
          "text": [
            "# Batch : 32:  64%|██████▍   | 32/50 [07:53<04:31, 15.09s/batch, loss=3.64, pol_accuracy=49.8, pol_loss=2.94, samples_w_batch=1024.0, subj_accuracy=47.6, subj_loss=0.698]"
          ]
        },
        {
          "output_type": "stream",
          "name": "stdout",
          "text": [
            "torch.Size([32, 114])\n"
          ]
        },
        {
          "output_type": "stream",
          "name": "stderr",
          "text": [
            "# Batch : 33:  66%|██████▌   | 33/50 [08:07<04:12, 14.87s/batch, loss=2.4, pol_accuracy=50.4, pol_loss=0.653, samples_w_batch=1056.0, subj_accuracy=47.3, subj_loss=1.75]"
          ]
        },
        {
          "output_type": "stream",
          "name": "stdout",
          "text": [
            "torch.Size([32, 114])\n"
          ]
        },
        {
          "output_type": "stream",
          "name": "stderr",
          "text": [
            "# Batch : 34:  68%|██████▊   | 34/50 [08:21<03:55, 14.74s/batch, loss=4.66, pol_accuracy=50.3, pol_loss=3.07, samples_w_batch=1088.0, subj_accuracy=47.1, subj_loss=1.59]"
          ]
        },
        {
          "output_type": "stream",
          "name": "stdout",
          "text": [
            "torch.Size([32, 114])\n"
          ]
        },
        {
          "output_type": "stream",
          "name": "stderr",
          "text": [
            "# Batch : 35:  70%|███████   | 35/50 [08:36<03:40, 14.67s/batch, loss=4.22, pol_accuracy=50.4, pol_loss=3.45, samples_w_batch=1120.0, subj_accuracy=47.3, subj_loss=0.773]"
          ]
        },
        {
          "output_type": "stream",
          "name": "stdout",
          "text": [
            "torch.Size([32, 114])\n"
          ]
        },
        {
          "output_type": "stream",
          "name": "stderr",
          "text": [
            "# Batch : 36:  72%|███████▏  | 36/50 [08:51<03:25, 14.69s/batch, loss=4.43, pol_accuracy=50.6, pol_loss=2.38, samples_w_batch=1152.0, subj_accuracy=47, subj_loss=2.04]"
          ]
        },
        {
          "output_type": "stream",
          "name": "stdout",
          "text": [
            "torch.Size([32, 114])\n"
          ]
        },
        {
          "output_type": "stream",
          "name": "stderr",
          "text": [
            "# Batch : 37:  74%|███████▍  | 37/50 [09:05<03:08, 14.50s/batch, loss=5.15, pol_accuracy=50.8, pol_loss=0.936, samples_w_batch=1184.0, subj_accuracy=46.9, subj_loss=4.21]"
          ]
        },
        {
          "output_type": "stream",
          "name": "stdout",
          "text": [
            "torch.Size([32, 114])\n"
          ]
        },
        {
          "output_type": "stream",
          "name": "stderr",
          "text": [
            "# Batch : 38:  76%|███████▌  | 38/50 [09:19<02:54, 14.55s/batch, loss=3.51, pol_accuracy=50.3, pol_loss=2.31, samples_w_batch=1216.0, subj_accuracy=46.8, subj_loss=1.21]"
          ]
        },
        {
          "output_type": "stream",
          "name": "stdout",
          "text": [
            "torch.Size([32, 114])\n"
          ]
        },
        {
          "output_type": "stream",
          "name": "stderr",
          "text": [
            "# Batch : 39:  78%|███████▊  | 39/50 [09:34<02:41, 14.70s/batch, loss=3.5, pol_accuracy=50.2, pol_loss=2.12, samples_w_batch=1248.0, subj_accuracy=46.9, subj_loss=1.38]"
          ]
        },
        {
          "output_type": "stream",
          "name": "stdout",
          "text": [
            "torch.Size([32, 114])\n"
          ]
        },
        {
          "output_type": "stream",
          "name": "stderr",
          "text": [
            "# Batch : 40:  80%|████████  | 40/50 [09:49<02:26, 14.70s/batch, loss=1.58, pol_accuracy=50.3, pol_loss=0.884, samples_w_batch=1280.0, subj_accuracy=47.2, subj_loss=0.692]"
          ]
        },
        {
          "output_type": "stream",
          "name": "stdout",
          "text": [
            "torch.Size([32, 114])\n"
          ]
        },
        {
          "output_type": "stream",
          "name": "stderr",
          "text": [
            "# Batch : 41:  82%|████████▏ | 41/50 [10:09<02:25, 16.16s/batch, loss=2.54, pol_accuracy=50.2, pol_loss=1.51, samples_w_batch=1312.0, subj_accuracy=47.1, subj_loss=1.02]"
          ]
        },
        {
          "output_type": "stream",
          "name": "stdout",
          "text": [
            "torch.Size([32, 114])\n"
          ]
        },
        {
          "output_type": "stream",
          "name": "stderr",
          "text": [
            "# Batch : 42:  84%|████████▍ | 42/50 [10:23<02:05, 15.70s/batch, loss=2.47, pol_accuracy=50.1, pol_loss=1.71, samples_w_batch=1344.0, subj_accuracy=47.4, subj_loss=0.759]"
          ]
        },
        {
          "output_type": "stream",
          "name": "stdout",
          "text": [
            "torch.Size([32, 114])\n"
          ]
        },
        {
          "output_type": "stream",
          "name": "stderr",
          "text": [
            "# Batch : 43:  86%|████████▌ | 43/50 [10:38<01:47, 15.40s/batch, loss=1.36, pol_accuracy=50.4, pol_loss=0.664, samples_w_batch=1376.0, subj_accuracy=47.5, subj_loss=0.693]"
          ]
        },
        {
          "output_type": "stream",
          "name": "stdout",
          "text": [
            "torch.Size([32, 114])\n"
          ]
        },
        {
          "output_type": "stream",
          "name": "stderr",
          "text": [
            "# Batch : 44:  88%|████████▊ | 44/50 [10:53<01:30, 15.17s/batch, loss=1.58, pol_accuracy=50.7, pol_loss=0.77, samples_w_batch=1408.0, subj_accuracy=47.6, subj_loss=0.811]"
          ]
        },
        {
          "output_type": "stream",
          "name": "stdout",
          "text": [
            "torch.Size([32, 114])\n"
          ]
        },
        {
          "output_type": "stream",
          "name": "stderr",
          "text": [
            "# Batch : 45:  90%|█████████ | 45/50 [11:07<01:15, 15.02s/batch, loss=2.32, pol_accuracy=50.6, pol_loss=1.63, samples_w_batch=1440.0, subj_accuracy=47.8, subj_loss=0.696]"
          ]
        },
        {
          "output_type": "stream",
          "name": "stdout",
          "text": [
            "torch.Size([32, 114])\n"
          ]
        },
        {
          "output_type": "stream",
          "name": "stderr",
          "text": [
            "# Batch : 46:  92%|█████████▏| 46/50 [11:22<00:59, 14.93s/batch, loss=1.39, pol_accuracy=50.7, pol_loss=0.697, samples_w_batch=1472.0, subj_accuracy=48, subj_loss=0.691]"
          ]
        },
        {
          "output_type": "stream",
          "name": "stdout",
          "text": [
            "torch.Size([32, 114])\n"
          ]
        },
        {
          "output_type": "stream",
          "name": "stderr",
          "text": [
            "# Batch : 47:  94%|█████████▍| 47/50 [11:37<00:44, 14.83s/batch, loss=1.87, pol_accuracy=50.6, pol_loss=1.16, samples_w_batch=1504.0, subj_accuracy=48.2, subj_loss=0.713]"
          ]
        },
        {
          "output_type": "stream",
          "name": "stdout",
          "text": [
            "torch.Size([32, 114])\n"
          ]
        },
        {
          "output_type": "stream",
          "name": "stderr",
          "text": [
            "# Batch : 48:  96%|█████████▌| 48/50 [11:51<00:29, 14.76s/batch, loss=1.97, pol_accuracy=50.5, pol_loss=1.05, samples_w_batch=1536.0, subj_accuracy=48, subj_loss=0.919]"
          ]
        },
        {
          "output_type": "stream",
          "name": "stdout",
          "text": [
            "torch.Size([32, 114])\n"
          ]
        },
        {
          "output_type": "stream",
          "name": "stderr",
          "text": [
            "# Batch : 49:  98%|█████████▊| 49/50 [12:06<00:14, 14.68s/batch, loss=1.85, pol_accuracy=50.3, pol_loss=0.904, samples_w_batch=1568.0, subj_accuracy=47.9, subj_loss=0.942]"
          ]
        },
        {
          "output_type": "stream",
          "name": "stdout",
          "text": [
            "torch.Size([32, 114])\n"
          ]
        },
        {
          "output_type": "stream",
          "name": "stderr",
          "text": [
            "# Batch : 49: 100%|██████████| 50/50 [12:20<00:00, 14.81s/batch, loss=1.7, pol_accuracy=50.4, pol_loss=0.769, samples_w_batch=1600.0, subj_accuracy=47.8, subj_loss=0.933]\n"
          ]
        },
        {
          "output_type": "stream",
          "name": "stdout",
          "text": [
            "Epoch 1:\t\n"
          ]
        },
        {
          "output_type": "stream",
          "name": "stderr",
          "text": [
            "# Batch : 0:   0%|          | 0/50 [00:00<?, ?batch/s]"
          ]
        },
        {
          "output_type": "stream",
          "name": "stdout",
          "text": [
            "torch.Size([32, 114])\n"
          ]
        },
        {
          "output_type": "stream",
          "name": "stderr",
          "text": [
            "# Batch : 1:   2%|▏         | 1/50 [00:14<11:56, 14.62s/batch, loss=1.63, pol_accuracy=40.6, pol_loss=0.704, samples_w_batch=32, subj_accuracy=43.8, subj_loss=0.928]"
          ]
        },
        {
          "output_type": "stream",
          "name": "stdout",
          "text": [
            "torch.Size([32, 114])\n"
          ]
        },
        {
          "output_type": "stream",
          "name": "stderr",
          "text": [
            "# Batch : 2:   4%|▍         | 2/50 [00:29<11:49, 14.77s/batch, loss=1.92, pol_accuracy=42.2, pol_loss=1.07, samples_w_batch=64, subj_accuracy=46.9, subj_loss=0.851]"
          ]
        },
        {
          "output_type": "stream",
          "name": "stdout",
          "text": [
            "torch.Size([32, 114])\n"
          ]
        },
        {
          "output_type": "stream",
          "name": "stderr",
          "text": [
            "# Batch : 3:   6%|▌         | 3/50 [00:44<11:31, 14.71s/batch, loss=1.34, pol_accuracy=46.9, pol_loss=0.699, samples_w_batch=96, subj_accuracy=53.1, subj_loss=0.646]"
          ]
        },
        {
          "output_type": "stream",
          "name": "stdout",
          "text": [
            "torch.Size([32, 114])\n"
          ]
        },
        {
          "output_type": "stream",
          "name": "stderr",
          "text": [
            "# Batch : 4:   8%|▊         | 4/50 [00:58<11:14, 14.65s/batch, loss=2.06, pol_accuracy=47.7, pol_loss=0.774, samples_w_batch=128, subj_accuracy=51.6, subj_loss=1.28]"
          ]
        },
        {
          "output_type": "stream",
          "name": "stdout",
          "text": [
            "torch.Size([32, 114])\n"
          ]
        },
        {
          "output_type": "stream",
          "name": "stderr",
          "text": [
            "# Batch : 5:  10%|█         | 5/50 [01:13<10:59, 14.67s/batch, loss=1.57, pol_accuracy=48.8, pol_loss=0.752, samples_w_batch=160, subj_accuracy=51.2, subj_loss=0.814]"
          ]
        },
        {
          "output_type": "stream",
          "name": "stdout",
          "text": [
            "torch.Size([32, 114])\n"
          ]
        },
        {
          "output_type": "stream",
          "name": "stderr",
          "text": [
            "# Batch : 6:  12%|█▏        | 6/50 [01:28<10:44, 14.66s/batch, loss=1.68, pol_accuracy=48.4, pol_loss=0.707, samples_w_batch=192, subj_accuracy=51, subj_loss=0.977]"
          ]
        },
        {
          "output_type": "stream",
          "name": "stdout",
          "text": [
            "torch.Size([32, 114])\n"
          ]
        },
        {
          "output_type": "stream",
          "name": "stderr",
          "text": [
            "# Batch : 7:  14%|█▍        | 7/50 [01:42<10:28, 14.62s/batch, loss=1.83, pol_accuracy=47.8, pol_loss=0.778, samples_w_batch=224, subj_accuracy=50.9, subj_loss=1.05]"
          ]
        },
        {
          "output_type": "stream",
          "name": "stdout",
          "text": [
            "torch.Size([32, 114])\n"
          ]
        },
        {
          "output_type": "stream",
          "name": "stderr",
          "text": [
            "# Batch : 8:  16%|█▌        | 8/50 [01:57<10:13, 14.61s/batch, loss=1.42, pol_accuracy=48, pol_loss=0.716, samples_w_batch=256, subj_accuracy=50.8, subj_loss=0.705]"
          ]
        },
        {
          "output_type": "stream",
          "name": "stdout",
          "text": [
            "torch.Size([32, 114])\n"
          ]
        },
        {
          "output_type": "stream",
          "name": "stderr",
          "text": [
            "# Batch : 9:  18%|█▊        | 9/50 [02:11<09:58, 14.60s/batch, loss=1.55, pol_accuracy=49.3, pol_loss=0.686, samples_w_batch=288, subj_accuracy=51.7, subj_loss=0.865]"
          ]
        },
        {
          "output_type": "stream",
          "name": "stdout",
          "text": [
            "torch.Size([32, 114])\n"
          ]
        },
        {
          "output_type": "stream",
          "name": "stderr",
          "text": [
            "# Batch : 10:  20%|██        | 10/50 [02:26<09:44, 14.62s/batch, loss=1.83, pol_accuracy=48.4, pol_loss=0.757, samples_w_batch=320, subj_accuracy=50.3, subj_loss=1.07]"
          ]
        },
        {
          "output_type": "stream",
          "name": "stdout",
          "text": [
            "torch.Size([32, 114])\n"
          ]
        },
        {
          "output_type": "stream",
          "name": "stderr",
          "text": [
            "# Batch : 11:  22%|██▏       | 11/50 [02:41<09:31, 14.65s/batch, loss=1.62, pol_accuracy=48.9, pol_loss=0.812, samples_w_batch=352, subj_accuracy=51.4, subj_loss=0.81]"
          ]
        },
        {
          "output_type": "stream",
          "name": "stdout",
          "text": [
            "torch.Size([32, 114])\n"
          ]
        },
        {
          "output_type": "stream",
          "name": "stderr",
          "text": [
            "# Batch : 12:  24%|██▍       | 12/50 [02:56<09:19, 14.72s/batch, loss=2.73, pol_accuracy=48.4, pol_loss=0.883, samples_w_batch=384, subj_accuracy=50.5, subj_loss=1.85]"
          ]
        },
        {
          "output_type": "stream",
          "name": "stdout",
          "text": [
            "torch.Size([32, 114])\n"
          ]
        },
        {
          "output_type": "stream",
          "name": "stderr",
          "text": [
            "# Batch : 13:  26%|██▌       | 13/50 [03:10<09:04, 14.72s/batch, loss=1.57, pol_accuracy=48.8, pol_loss=0.805, samples_w_batch=416, subj_accuracy=50.2, subj_loss=0.764]"
          ]
        },
        {
          "output_type": "stream",
          "name": "stdout",
          "text": [
            "torch.Size([32, 114])\n"
          ]
        },
        {
          "output_type": "stream",
          "name": "stderr",
          "text": [
            "# Batch : 14:  28%|██▊       | 14/50 [03:25<08:49, 14.70s/batch, loss=2.01, pol_accuracy=48.7, pol_loss=1.01, samples_w_batch=448, subj_accuracy=51.3, subj_loss=1.01]"
          ]
        },
        {
          "output_type": "stream",
          "name": "stdout",
          "text": [
            "torch.Size([32, 114])\n"
          ]
        },
        {
          "output_type": "stream",
          "name": "stderr",
          "text": [
            "# Batch : 15:  30%|███       | 15/50 [03:40<08:34, 14.70s/batch, loss=2.31, pol_accuracy=49.2, pol_loss=0.694, samples_w_batch=480, subj_accuracy=51.9, subj_loss=1.62]"
          ]
        },
        {
          "output_type": "stream",
          "name": "stdout",
          "text": [
            "torch.Size([32, 114])\n"
          ]
        },
        {
          "output_type": "stream",
          "name": "stderr",
          "text": [
            "# Batch : 16:  32%|███▏      | 16/50 [03:54<08:20, 14.71s/batch, loss=2.7, pol_accuracy=49.8, pol_loss=0.92, samples_w_batch=512, subj_accuracy=50.6, subj_loss=1.79]"
          ]
        },
        {
          "output_type": "stream",
          "name": "stdout",
          "text": [
            "torch.Size([32, 114])\n"
          ]
        },
        {
          "output_type": "stream",
          "name": "stderr",
          "text": [
            "\r# Batch : 16:  32%|███▏      | 16/50 [04:08<08:48, 15.56s/batch, loss=2.7, pol_accuracy=49.8, pol_loss=0.92, samples_w_batch=512, subj_accuracy=50.6, subj_loss=1.79]\n"
          ]
        },
        {
          "output_type": "error",
          "ename": "KeyboardInterrupt",
          "evalue": "ignored",
          "traceback": [
            "\u001b[0;31m---------------------------------------------------------------------------\u001b[0m",
            "\u001b[0;31mKeyboardInterrupt\u001b[0m                         Traceback (most recent call last)",
            "\u001b[0;32m<ipython-input-52-bb06699f50a6>\u001b[0m in \u001b[0;36m<module>\u001b[0;34m\u001b[0m\n\u001b[0;32m----> 1\u001b[0;31m \u001b[0mmain\u001b[0m\u001b[0;34m(\u001b[0m\u001b[0mpol_embs\u001b[0m\u001b[0;34m=\u001b[0m\u001b[0mpol_embs\u001b[0m\u001b[0;34m,\u001b[0m \u001b[0msubj_embs\u001b[0m\u001b[0;34m=\u001b[0m\u001b[0msubj_embs\u001b[0m\u001b[0;34m,\u001b[0m \u001b[0mpol_labels\u001b[0m\u001b[0;34m=\u001b[0m\u001b[0mpol_labels\u001b[0m\u001b[0;34m,\u001b[0m \u001b[0msubj_labels\u001b[0m\u001b[0;34m=\u001b[0m\u001b[0msubj_labels\u001b[0m\u001b[0;34m,\u001b[0m \u001b[0mdevice\u001b[0m\u001b[0;34m=\u001b[0m\u001b[0mdevice\u001b[0m\u001b[0;34m,\u001b[0m \u001b[0mpr\u001b[0m\u001b[0;34m=\u001b[0m\u001b[0;32mFalse\u001b[0m\u001b[0;34m)\u001b[0m\u001b[0;34m\u001b[0m\u001b[0;34m\u001b[0m\u001b[0m\n\u001b[0m",
            "\u001b[0;32m<ipython-input-49-dc11efe7c2be>\u001b[0m in \u001b[0;36mmain\u001b[0;34m(pol_embs, subj_embs, pol_labels, subj_labels, batch_size, device, epochs, pr)\u001b[0m\n\u001b[1;32m     49\u001b[0m                       \u001b[0mcost_function\u001b[0m\u001b[0;34m=\u001b[0m\u001b[0mcost_function\u001b[0m\u001b[0;34m,\u001b[0m\u001b[0;34m\u001b[0m\u001b[0;34m\u001b[0m\u001b[0m\n\u001b[1;32m     50\u001b[0m                       \u001b[0moptimizer\u001b[0m\u001b[0;34m=\u001b[0m\u001b[0moptimizer\u001b[0m\u001b[0;34m,\u001b[0m\u001b[0;34m\u001b[0m\u001b[0;34m\u001b[0m\u001b[0m\n\u001b[0;32m---> 51\u001b[0;31m                       device=device)\n\u001b[0m\u001b[1;32m     52\u001b[0m \u001b[0;34m\u001b[0m\u001b[0m\n\u001b[1;32m     53\u001b[0m         \u001b[0;31m#print(f\"Training loss: {train_loss}\\nPolarity training accuracy: {pol_train_accuracy}\\nSubjectivity training accuracy: {subj_train_accuracy}\")\u001b[0m\u001b[0;34m\u001b[0m\u001b[0;34m\u001b[0m\u001b[0;34m\u001b[0m\u001b[0m\n",
            "\u001b[0;32m<ipython-input-44-584627c48245>\u001b[0m in \u001b[0;36mtraining_step\u001b[0;34m(model, pol_train, sub_train, cost_function, optimizer, device)\u001b[0m\n\u001b[1;32m     46\u001b[0m             \u001b[0mtotal_cumulative_loss\u001b[0m \u001b[0;34m=\u001b[0m \u001b[0mpol_loss\u001b[0m \u001b[0;34m+\u001b[0m \u001b[0msub_loss\u001b[0m\u001b[0;34m\u001b[0m\u001b[0;34m\u001b[0m\u001b[0m\n\u001b[1;32m     47\u001b[0m \u001b[0;34m\u001b[0m\u001b[0m\n\u001b[0;32m---> 48\u001b[0;31m             \u001b[0mtotal_cumulative_loss\u001b[0m\u001b[0;34m.\u001b[0m\u001b[0mbackward\u001b[0m\u001b[0;34m(\u001b[0m\u001b[0;34m)\u001b[0m\u001b[0;34m\u001b[0m\u001b[0;34m\u001b[0m\u001b[0m\n\u001b[0m\u001b[1;32m     49\u001b[0m \u001b[0;34m\u001b[0m\u001b[0m\n\u001b[1;32m     50\u001b[0m             \u001b[0mplot_grad_flow\u001b[0m\u001b[0;34m(\u001b[0m\u001b[0mmodel\u001b[0m\u001b[0;34m.\u001b[0m\u001b[0mnamed_parameters\u001b[0m\u001b[0;34m(\u001b[0m\u001b[0;34m)\u001b[0m\u001b[0;34m)\u001b[0m\u001b[0;34m\u001b[0m\u001b[0;34m\u001b[0m\u001b[0m\n",
            "\u001b[0;32m/usr/local/lib/python3.7/dist-packages/torch/_tensor.py\u001b[0m in \u001b[0;36mbackward\u001b[0;34m(self, gradient, retain_graph, create_graph, inputs)\u001b[0m\n\u001b[1;32m    394\u001b[0m                 \u001b[0mcreate_graph\u001b[0m\u001b[0;34m=\u001b[0m\u001b[0mcreate_graph\u001b[0m\u001b[0;34m,\u001b[0m\u001b[0;34m\u001b[0m\u001b[0;34m\u001b[0m\u001b[0m\n\u001b[1;32m    395\u001b[0m                 inputs=inputs)\n\u001b[0;32m--> 396\u001b[0;31m         \u001b[0mtorch\u001b[0m\u001b[0;34m.\u001b[0m\u001b[0mautograd\u001b[0m\u001b[0;34m.\u001b[0m\u001b[0mbackward\u001b[0m\u001b[0;34m(\u001b[0m\u001b[0mself\u001b[0m\u001b[0;34m,\u001b[0m \u001b[0mgradient\u001b[0m\u001b[0;34m,\u001b[0m \u001b[0mretain_graph\u001b[0m\u001b[0;34m,\u001b[0m \u001b[0mcreate_graph\u001b[0m\u001b[0;34m,\u001b[0m \u001b[0minputs\u001b[0m\u001b[0;34m=\u001b[0m\u001b[0minputs\u001b[0m\u001b[0;34m)\u001b[0m\u001b[0;34m\u001b[0m\u001b[0;34m\u001b[0m\u001b[0m\n\u001b[0m\u001b[1;32m    397\u001b[0m \u001b[0;34m\u001b[0m\u001b[0m\n\u001b[1;32m    398\u001b[0m     \u001b[0;32mdef\u001b[0m \u001b[0mregister_hook\u001b[0m\u001b[0;34m(\u001b[0m\u001b[0mself\u001b[0m\u001b[0;34m,\u001b[0m \u001b[0mhook\u001b[0m\u001b[0;34m)\u001b[0m\u001b[0;34m:\u001b[0m\u001b[0;34m\u001b[0m\u001b[0;34m\u001b[0m\u001b[0m\n",
            "\u001b[0;32m/usr/local/lib/python3.7/dist-packages/torch/autograd/__init__.py\u001b[0m in \u001b[0;36mbackward\u001b[0;34m(tensors, grad_tensors, retain_graph, create_graph, grad_variables, inputs)\u001b[0m\n\u001b[1;32m    173\u001b[0m     Variable._execution_engine.run_backward(  # Calls into the C++ engine to run the backward pass\n\u001b[1;32m    174\u001b[0m         \u001b[0mtensors\u001b[0m\u001b[0;34m,\u001b[0m \u001b[0mgrad_tensors_\u001b[0m\u001b[0;34m,\u001b[0m \u001b[0mretain_graph\u001b[0m\u001b[0;34m,\u001b[0m \u001b[0mcreate_graph\u001b[0m\u001b[0;34m,\u001b[0m \u001b[0minputs\u001b[0m\u001b[0;34m,\u001b[0m\u001b[0;34m\u001b[0m\u001b[0;34m\u001b[0m\u001b[0m\n\u001b[0;32m--> 175\u001b[0;31m         allow_unreachable=True, accumulate_grad=True)  # Calls into the C++ engine to run the backward pass\n\u001b[0m\u001b[1;32m    176\u001b[0m \u001b[0;34m\u001b[0m\u001b[0m\n\u001b[1;32m    177\u001b[0m def grad(\n",
            "\u001b[0;31mKeyboardInterrupt\u001b[0m: "
          ]
        },
        {
          "output_type": "display_data",
          "data": {
            "text/plain": [
              "<Figure size 432x288 with 1 Axes>"
            ],
            "image/png": "[encoded data removed]"
          },
          "metadata": {
            "needs_background": "light"
          }
        }
      ]
    },
    {
      "cell_type": "code",
      "source": [
        "gc.collect()"
      ],
      "metadata": {
        "id": "b-Ox5k9tkwfN"
      },
      "execution_count": null,
      "outputs": []
    },
    {
      "cell_type": "code",
      "source": [
        "torch.cuda.empty_cache()"
      ],
      "metadata": {
        "id": "3DmTDRCD34Ii"
      },
      "execution_count": null,
      "outputs": []
    },
    {
      "cell_type": "markdown",
      "source": [
        "## Tensorflow"
      ],
      "metadata": {
        "id": "4viHy0nts1fN"
      }
    },
    {
      "cell_type": "code",
      "source": [
        "!pip install keras-self-attention"
      ],
      "metadata": {
        "id": "R78hHUOpptOv"
      },
      "execution_count": null,
      "outputs": []
    },
    {
      "cell_type": "code",
      "source": [
        "import sys\n",
        "import keras\n",
        "import numpy as np\n",
        "from sklearn.model_selection import cross_validate\n",
        "from sklearn.model_selection import StratifiedKFold\n",
        "import io\n",
        "from keras.utils import pad_sequences\n",
        "import pandas as pd\n",
        "import csv\n",
        "from keras.layers import Input\n",
        "from keras.layers import Concatenate\n",
        "import scipy.stats as stats\n",
        "from keras import backend as K\n",
        "from keras.layers.core import Lambda\n",
        "from keras.layers import Layer\n",
        "from keras.models import Sequential\n",
        "from keras.layers import Input,Dense,GRU,LSTM,Concatenate,Dropout,Activation,Add, Masking, Concatenate, Dot, RepeatVector, Permute, Multiply, Dense\n",
        "from keras.layers.pooling import AveragePooling1D,MaxPooling1D\n",
        "from keras.layers.core import Flatten\n",
        "from keras.callbacks import EarlyStopping\n",
        "from keras.layers.convolutional import Conv1D, Conv2D\n",
        "from keras.models import Model\n",
        "from keras.layers import TimeDistributed, Bidirectional\n",
        "from keras.layers.core import Reshape\n",
        "from keras.backend import shape\n",
        "from keras.utils import plot_model\n",
        "from keras.layers import Multiply,Concatenate\n",
        "from keras.optimizers import RMSprop,Adadelta,Adam\n",
        "from keras.preprocessing.text import Tokenizer\n",
        "from keras.layers import Embedding\n",
        "from sklearn.model_selection import train_test_split\n",
        "from keras.utils.np_utils import to_categorical\n",
        "from sklearn.metrics import precision_recall_fscore_support\n",
        "from sklearn.metrics import classification_report\n",
        "from sklearn.metrics import accuracy_score\n",
        "from keras.callbacks import EarlyStopping, ModelCheckpoint, LearningRateScheduler\n",
        "from keras.layers import Input, Dense, Embedding, SpatialDropout1D, Dropout, add, concatenate\n",
        "from keras.layers import Bidirectional, GlobalMaxPooling1D, GlobalAveragePooling1D\n",
        "from keras.preprocessing import text, sequence\n",
        "from keras.losses import binary_crossentropy\n",
        "from keras import backend as K\n",
        "import keras.layers as L\n",
        "from keras.layers import Layer\n",
        "from keras import initializers, regularizers, constraints, optimizers, layers\n",
        "from keras.optimizers import Adam\n",
        "from keras.optimizers import SGD\n",
        "from sklearn.metrics import roc_auc_score\n",
        "from sklearn.model_selection import KFold\n",
        "from keras.layers import Layer\n",
        "import keras.backend as K\n",
        "from keras.utils import plot_model\n",
        "from keras_self_attention import SeqSelfAttention"
      ],
      "metadata": {
        "id": "1vDyNjC0lmgR"
      },
      "execution_count": null,
      "outputs": []
    },
    {
      "cell_type": "code",
      "source": [
        "class NeuralTensorLayer(Layer):\n",
        "\n",
        "  def __init__(self, output_dim, input_dim=None, **kwargs):\n",
        "    self.output_dim = output_dim #k\n",
        "    self.input_dim = input_dim   #d\n",
        "    if self.input_dim:\n",
        "      kwargs['input_shape'] = (self.input_dim,)\n",
        "    super(NeuralTensorLayer, self).__init__(**kwargs)\n",
        "\n",
        "  def build(self, input_shape):\n",
        "    mean = 0.0\n",
        "    std = 1.0\n",
        "    # W : k*d*d\n",
        "    k = self.output_dim\n",
        "    d = self.input_dim\n",
        "    initial_W_values = stats.truncnorm.rvs(-2 * std, 2 * std, loc=mean, scale=std, size=(k,d,d))\n",
        "    initial_V_values = stats.truncnorm.rvs(-2 * std, 2 * std, loc=mean, scale=std, size=(2*d,k))\n",
        "    self.W = K.variable(initial_W_values)\n",
        "    self.V = K.variable(initial_V_values)\n",
        "    self.b = K.zeros((self.input_dim,))\n",
        "    self.trainableweights = [self.W, self.V, self.b]\n",
        "\n",
        "  def call(self, inputs, mask=None):\n",
        "    if type(inputs) is not list or len(inputs) <= 1:\n",
        "      raise Exception('BilinearTensorLayer must be called on a list of tensors '\n",
        "                      '(at least 2). Got: ' + str(inputs))\n",
        "    e1 = inputs[0]\n",
        "    e2 = inputs[1]\n",
        "    batch_size = K.shape(e1)[0]\n",
        "    k = self.output_dim\n",
        "\n",
        "    feed_forward_product = K.dot(K.concatenate([e1,e2], axis=1), self.V)\n",
        "    bilinear_tensor_products = []\n",
        "    for i in range(k):\n",
        "      btp = K.sum((e2 * K.dot(e1, self.W[i])) + self.b, axis=1)\n",
        "      bilinear_tensor_products.append(btp)\n",
        "    \n",
        "    result = K.tanh(K.reshape(K.concatenate(bilinear_tensor_products, axis=0), (batch_size, k)) + feed_forward_product)\n",
        "    return result\n",
        "\n",
        "  def compute_output_shape(self, input_shape):\n",
        "    batch_size = input_shape[0][0]\n",
        "    return (batch_size, self.output_dim)"
      ],
      "metadata": {
        "id": "ogxx8D74lnNq"
      },
      "execution_count": null,
      "outputs": []
    },
    {
      "cell_type": "code",
      "source": [
        "###Multi task Model\n",
        "deep_inputs_1 = Input(shape=(45,768))\n",
        "deep_inputs_2 = Input(shape=(45,768))\n",
        "\n",
        "model_1_LSTM = Bidirectional(LSTM(128,return_sequences=True,dropout=0.2,recurrent_dropout=0.3))(deep_inputs_1 ) #task 1\n",
        "model_2_LSTM = Bidirectional(LSTM(128,return_sequences=True,dropout=0.2,recurrent_dropout=0.3))(deep_inputs_2) #task 2\n",
        "\n",
        "model_1_dense= TimeDistributed(Dense(128,activation='relu',trainable=True))(model_1_LSTM)\n",
        "model_2_dense=TimeDistributed(Dense(128,activation='relu',trainable=True))(model_2_LSTM)\n",
        "\n",
        "model_1_dense = Dropout(0.5)(model_1_dense)\n",
        "model_2_dense = Dropout(0.5)(model_2_dense)\n",
        "\n",
        "attention_layer_1 = SeqSelfAttention(attention_type=SeqSelfAttention.ATTENTION_TYPE_MUL,\n",
        "                       kernel_regularizer=keras.regularizers.l2(1e-4),\n",
        "                       bias_regularizer=keras.regularizers.l1(1e-4),\n",
        "                       attention_regularizer_weight=1e-4,\n",
        "                       attention_activation='sigmoid')(model_1_dense) \n",
        "                       \n",
        "attention_layer_2 = SeqSelfAttention(attention_type=SeqSelfAttention.ATTENTION_TYPE_MUL,\n",
        "                       kernel_regularizer=keras.regularizers.l2(1e-4),\n",
        "                       bias_regularizer=keras.regularizers.l1(1e-4),\n",
        "                       attention_regularizer_weight=1e-4,\n",
        "                       attention_activation='sigmoid')(model_2_dense)\n",
        "\n",
        "\n",
        "model_12_dense = Dense(10,activation='relu',trainable=True)(attention_layer_1)\n",
        "model_22_dense = Dense(10,activation='relu',trainable=True)(attention_layer_2)\n",
        "\n",
        "drop_3 = Dropout(0.5)(model_12_dense)\n",
        "drop_4 = Dropout(0.5)(model_22_dense)\n",
        "\n",
        "flat_1 = Flatten()(drop_3)\n",
        "flat_2 = Flatten()(drop_4)\n",
        "\n",
        "ntn_output = NeuralTensorLayer(output_dim=64, input_dim=450)([flat_1,flat_2])\n",
        "\n",
        "flat_11 = Dense(50, activation='relu')(flat_1)\n",
        "flat_22 = Dense(50, activation='relu')(flat_2)\n",
        "\n",
        "merged_1 = Concatenate(axis=1)([flat_11, ntn_output])\n",
        "merged_2=Concatenate(axis=1)([flat_22, ntn_output])\n",
        "\n",
        "predictions1 = Dense(2, activation='softmax')(merged_1) \n",
        "predictions2 = Dense(2, activation='softmax')(merged_2)\n",
        "\n",
        "model = Model(inputs=[deep_inputs_1, deep_inputs_2], outputs=[predictions1, predictions2])\n",
        "\n",
        "opt = Adam(learning_rate=0.002)\n",
        "# opt =SGD(learning_rate=0.002)\n",
        "model.compile(loss='sparse_categorical_crossentropy', optimizer=opt, metrics=['acc'])\n",
        "\n",
        "model.summary()"
      ],
      "metadata": {
        "id": "ogeNIo7ulqCz"
      },
      "execution_count": null,
      "outputs": []
    },
    {
      "cell_type": "code",
      "source": [
        "from keras.utils import plot_model\n",
        "plot_model(model)"
      ],
      "metadata": {
        "id": "FcjtSby3p-XG"
      },
      "execution_count": null,
      "outputs": []
    },
    {
      "cell_type": "code",
      "source": [
        "history=model.fit([pol_embs, subj_embs], [np.array(pol_labels), np.array(subj_labels)], batch_size=128, epochs=15, verbose=1, shuffle=True, validation_split=0.2)"
      ],
      "metadata": {
        "id": "qiEtOzUEqGqo"
      },
      "execution_count": null,
      "outputs": []
    },
    {
      "cell_type": "code",
      "source": [
        "score = model.evaluate([pol_embs, subj_embs], [np.array(pol_labels), np.array(subj_labels)], verbose=1)\n",
        "score"
      ],
      "metadata": {
        "id": "BbNldAB-ShK-"
      },
      "execution_count": null,
      "outputs": []
    },
    {
      "cell_type": "code",
      "source": [
        "import matplotlib.pyplot as plt\n",
        "\n",
        "plt.plot(history.history['loss'])\n",
        "plt.plot(history.history['dense_6_loss'])\n",
        "plt.plot(history.history['dense_7_loss'])\n",
        "plt.plot(history.history['val_dense_6_loss'])\n",
        "plt.plot(history.history['val_dense_7_loss'])\n",
        "\n",
        "plt.title('model loss')\n",
        "plt.ylabel('loss')\n",
        "plt.xlabel('epoch')\n",
        "plt.legend(['overall loss','Sentiment Loss', 'Subjectivity loss','validation sentiment loss', 'validation sub loss'], loc='upper right')\n",
        "\n",
        "plt.savefig(root+\"Results/Loss_best.png\")\n",
        "\n",
        "plt.show()"
      ],
      "metadata": {
        "id": "oKZRE7JtSb5M"
      },
      "execution_count": null,
      "outputs": []
    },
    {
      "cell_type": "code",
      "source": [
        "plt.plot(history.history['dense_6_acc'])\n",
        "plt.plot(history.history['dense_7_acc'])\n",
        "plt.plot(history.history['val_dense_6_acc'])\n",
        "plt.plot(history.history['val_dense_7_acc'])\n",
        "\n",
        "plt.title('Model Accuracy')\n",
        "plt.ylabel('Accuracy')\n",
        "plt.xlabel('Epoch')\n",
        "plt.legend(['Sentiment Acc', 'Subjectivity Acc','validation sentiment Acc', 'validation sub acc'], loc='lower right')\n",
        "\n",
        "plt.savefig(root+\"Results/Acc_best.png\")\n",
        "plt.show()"
      ],
      "metadata": {
        "id": "NWW9h_FGSwSc"
      },
      "execution_count": null,
      "outputs": []
    },
    {
      "cell_type": "code",
      "source": [
        "model_json = model.to_json()\n",
        "with open(root+\"Results/model_bert.json\", \"w\") as json_file:\n",
        "    json_file.write(model_json)"
      ],
      "metadata": {
        "id": "xXNk93RGF4RX"
      },
      "execution_count": null,
      "outputs": []
    },
    {
      "cell_type": "markdown",
      "source": [
        "### Unused"
      ],
      "metadata": {
        "id": "DUoNNoSeejWs"
      }
    },
    {
      "cell_type": "code",
      "source": [
        "from google.colab import files\n",
        "\n",
        "files.upload()"
      ],
      "metadata": {
        "id": "JfE2vYEsI9HC"
      },
      "execution_count": null,
      "outputs": []
    },
    {
      "cell_type": "code",
      "source": [
        "#from ntn_no_print import NeuralTensorNetwork"
      ],
      "metadata": {
        "id": "0Hl_v4qpJKBU"
      },
      "execution_count": null,
      "outputs": []
    },
    {
      "cell_type": "code",
      "source": [
        "#pol_emb = np.load(root + 'pol.npy')\n",
        "#subj_emb = np.load(root + 'subj_obj.npy')\n",
        "\n",
        "#pol_embs = np.load(root+'BERT/Polarity-Embeddings/bert_emb_pol_100.npy')\n",
        "#for i in range(1,20):\n",
        "#    tmp = np.load(root+f'BERT/Polarity-Embeddings/bert_emb_pol_{(i+1)*100}.npy')\n",
        "#    print(f\"iteration {i}\\n\")\n",
        "#    print(f\"len tmp {len(tmp)}\\n\")\n",
        "#    pol_embs = np.concatenate((pol_embs,tmp))\n",
        "#    print(f\"len pol_embs {len(pol_embs)}\\n\")"
      ],
      "metadata": {
        "id": "0G6TCgk_aC5Z"
      },
      "execution_count": null,
      "outputs": []
    },
    {
      "cell_type": "code",
      "source": [
        "# first batch. When doing np.save everything is flatten up\n",
        "# need to rebuild the features to have a list of 2k elements to spit up\n",
        "print(pol_emb[:64])"
      ],
      "metadata": {
        "id": "JBgyluafVqj4"
      },
      "execution_count": null,
      "outputs": []
    },
    {
      "cell_type": "code",
      "source": [
        "print(pol_emb[0].shape)"
      ],
      "metadata": {
        "id": "HUcggCTuXBou"
      },
      "execution_count": null,
      "outputs": []
    },
    {
      "cell_type": "code",
      "source": [
        "pol_emb_arranged = []\n",
        "\n",
        "for i in range(0,len(pol_emb)+1, 512):\n",
        "    if i==0:\n",
        "        chunk = pol_emb[:512]\n",
        "    else:    \n",
        "        chunk = pol_emb[i-512:i]\n",
        "        pol_emb_arranged.append(chunk)\n",
        "\n",
        "print(len(pol_emb_arranged))\n",
        "#print(pol_emb_arranged)"
      ],
      "metadata": {
        "id": "kTwxaQUcV3_P"
      },
      "execution_count": null,
      "outputs": []
    },
    {
      "cell_type": "code",
      "source": [
        "subj_emb_arranged = []\n",
        "\n",
        "for i in range(0,len(pol_emb)+1, 512):\n",
        "    if i==0:\n",
        "        chunk = subj_emb[:512]\n",
        "    else:    \n",
        "        chunk = subj_emb[i-512:i]\n",
        "        subj_emb_arranged.append(chunk)\n",
        "\n",
        "print(len(subj_emb_arranged))\n",
        "#print(pol_emb_arranged)"
      ],
      "metadata": {
        "id": "X5o4GTQNfZXW"
      },
      "execution_count": null,
      "outputs": []
    },
    {
      "cell_type": "code",
      "source": [
        "import math\n",
        "import torch.nn.functional as F"
      ],
      "metadata": {
        "id": "oipcmHGgDw3w"
      },
      "execution_count": null,
      "outputs": []
    },
    {
      "cell_type": "code",
      "source": [
        "def scaled_dot_product(q, k, v, mask=None):\n",
        "    d_k = q.size()[-1]\n",
        "    attn_logits = torch.matmul(q, k.transpose(-2, -1))\n",
        "    attn_logits = attn_logits / math.sqrt(d_k)\n",
        "    if mask is not None:\n",
        "        attn_logits = attn_logits.masked_fill(mask == 0, -9e15)\n",
        "    attention = F.softmax(attn_logits, dim=-1)\n",
        "    values = torch.matmul(attention, v)\n",
        "    return values, attention"
      ],
      "metadata": {
        "id": "H3BYSX5hDrM0"
      },
      "execution_count": null,
      "outputs": []
    },
    {
      "cell_type": "code",
      "source": [
        "# https://uvadlc-notebooks.readthedocs.io/en/latest/tutorial_notebooks/tutorial6/Transformers_and_MHAttention.html\n",
        "class MultiheadAttention(nn.Module):\n",
        "\n",
        "    def __init__(self, input_dim, embed_dim, num_heads):\n",
        "        super().__init__()\n",
        "        assert embed_dim % num_heads == 0, \"Embedding dimension must be 0 modulo number of heads.\"\n",
        "\n",
        "        self.embed_dim = embed_dim\n",
        "        self.num_heads = num_heads\n",
        "        self.head_dim = embed_dim // num_heads\n",
        "\n",
        "        # Stack all weight matrices 1...h together for efficiency\n",
        "        self.qkv_proj = nn.Linear(input_dim, 3*embed_dim)\n",
        "        self.o_proj = nn.Linear(embed_dim, embed_dim)\n",
        "\n",
        "        self._reset_parameters()\n",
        "\n",
        "    def _reset_parameters(self):\n",
        "        # Original Transformer initialization, see PyTorch documentation\n",
        "        nn.init.xavier_uniform_(self.qkv_proj.weight)\n",
        "        self.qkv_proj.bias.data.fill_(0)\n",
        "        nn.init.xavier_uniform_(self.o_proj.weight)\n",
        "        self.o_proj.bias.data.fill_(0)\n",
        "\n",
        "    def forward(self, x, mask=None, return_attention=False):\n",
        "        batch_size, seq_length, _ = x.size()\n",
        "        qkv = self.qkv_proj(x)\n",
        "\n",
        "        # Separate Q, K, V from linear output\n",
        "        qkv = qkv.reshape(batch_size, seq_length, self.num_heads, 3*self.head_dim)\n",
        "        qkv = qkv.permute(0, 2, 1, 3) # [Batch, Head, SeqLen, Dims]\n",
        "        q, k, v = qkv.chunk(3, dim=-1)\n",
        "\n",
        "        # Determine value outputs\n",
        "        values, attention = scaled_dot_product(q, k, v, mask=mask)\n",
        "        values = values.permute(0, 2, 1, 3) # [Batch, SeqLen, Head, Dims]\n",
        "        values = values.reshape(batch_size, seq_length, self.embed_dim)\n",
        "        o = self.o_proj(values)\n",
        "\n",
        "        if return_attention:\n",
        "            return o, attention\n",
        "        else:\n",
        "            return o"
      ],
      "metadata": {
        "id": "bZl3STwPDYbS"
      },
      "execution_count": null,
      "outputs": []
    },
    {
      "cell_type": "markdown",
      "source": [
        "### Steps to import python files in Collaboratory\n",
        "- go to Google Drive where the Jupyter Notebook containing the desired functions to import is\n",
        "- download it with the .py extension\n",
        "- run the following cell to put it in the content space\n",
        "\n",
        "In this particular case we would need to import as a module the NTN file, containing the Neural Tensor Network implementation"
      ],
      "metadata": {
        "id": "K3z_HXEDF1KS"
      }
    },
    {
      "cell_type": "code",
      "source": [
        "class Attn(nn.Module):\n",
        "    def __init__(self, method, hidden_size):\n",
        "        super(Attn, self).__init__()\n",
        "        self.method = method\n",
        "        if self.method not in ['dot', 'general', 'concat']:\n",
        "            raise ValueError(self.method, \"is not an appropriate attention method.\")\n",
        "        self.hidden_size = hidden_size\n",
        "        if self.method == 'general':\n",
        "            self.attn = nn.Linear(self.hidden_size, hidden_size)\n",
        "        elif self.method == 'concat':\n",
        "            self.attn = nn.Linear(self.hidden_size * 2, hidden_size)\n",
        "            self.v = nn.Parameter(torch.FloatTensor(hidden_size))\n",
        "\n",
        "    def dot_score(self, hidden, encoder_output):\n",
        "        return torch.sum(hidden * encoder_output, dim=2)\n",
        "\n",
        "    def general_score(self, hidden, encoder_output):\n",
        "        energy = self.attn(encoder_output)\n",
        "        return torch.sum(hidden * energy, dim=2)\n",
        "\n",
        "    def concat_score(self, hidden, encoder_output):\n",
        "        energy = self.attn(torch.cat((hidden.expand(encoder_output.size(0), -1, -1), encoder_output), 2)).tanh()\n",
        "        return torch.sum(self.v * energy, dim=2)\n",
        "\n",
        "    def forward(self, hidden, encoder_outputs):\n",
        "        # Calculate the attention weights (energies) based on the given method\n",
        "        if self.method == 'general':\n",
        "            attn_energies = self.general_score(hidden, encoder_outputs)\n",
        "        elif self.method == 'concat':\n",
        "            attn_energies = self.concat_score(hidden, encoder_outputs)\n",
        "        elif self.method == 'dot':\n",
        "            attn_energies = self.dot_score(hidden, encoder_outputs)\n",
        "\n",
        "        # Transpose max_length and batch_size dimensions\n",
        "        attn_energies = attn_energies.t()\n",
        "\n",
        "        # Return the softmax normalized probability scores (with added dimension)\n",
        "        return F.softmax(attn_energies, dim=1).unsqueeze(1)"
      ],
      "metadata": {
        "id": "ckvl-Sp_Gw_Y"
      },
      "execution_count": null,
      "outputs": []
    }
  ]
}