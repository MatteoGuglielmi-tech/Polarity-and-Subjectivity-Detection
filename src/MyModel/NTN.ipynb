{
  "nbformat": 4,
  "nbformat_minor": 0,
  "metadata": {
    "colab": {
      "provenance": [],
      "include_colab_link": true
    },
    "kernelspec": {
      "name": "python3",
      "display_name": "Python 3"
    },
    "language_info": {
      "name": "python"
    },
    "gpuClass": "standard",
    "accelerator": "GPU"
  },
  "cells": [
    {
      "cell_type": "markdown",
      "metadata": {
        "id": "view-in-github",
        "colab_type": "text"
      },
      "source": [
        "<a href=\"https://colab.research.google.com/github/MatteoGuglielmi-tech/Polarity-and-Subjectivity-Detection/blob/main/src/MyModel/NTN.ipynb\" target=\"_parent\"><img src=\"https://colab.research.google.com/assets/colab-badge.svg\" alt=\"Open In Colab\"/></a>"
      ]
    },
    {
      "cell_type": "markdown",
      "source": [
        "### NTN (Neural Tensor Network) [[reference_paper](https://proceedings.neurips.cc/paper/2013/file/b337e84de8752b27eda3a12363109e80-Paper.pdf)]\n",
        "\n",
        "<u><i>Goal</i></u> : state if two entities $(e_1, e_2)$ are in a certain relationship $R$.   \n",
        ">Ex. defines whehter $$(e_1, R, e_2) = (\\text{Bengal tiger}, \\text{has part}, \\text{tail})$$ is true and with which certainty.\n",
        "\n",
        "- $e_1$ and $e_2$ are vector representations or features of the two entities.\n",
        "- NTN, unlike a linear canoncical NN layer, uses a bilinear tensor layer that directly relates two entity vectors across differet dimensions.\n",
        "- Model computes a score of how likely it is two entities are in a specific position following : $$g(e_1, R, e_2) = u_R^Tf\\biggr(e_i^T W_R^{[1:K]}e_2+V_R \\begin{align}\n",
        "    \\begin{bmatrix}\n",
        "           e_{1} \\\\\n",
        "           e_{2} \\\\\n",
        "         \\end{bmatrix}\n",
        "  \\end{align} + b_R\\Biggl)$$  \n",
        "where : \n",
        "- $f=\\tanh$\n",
        "- $W_R^{[1:K]} \\in \\mathbb{R}^{d\\times d\\times k}$ is a multi-dimensional tensor\n",
        "- $e_1^TW_R^{[1:k]}e_2=h\\in\\mathbb{R}$ is the bilinear tensor\n",
        "- $V_R \\in \\mathbb{R}^{k\\times2d}$, $U \\in \\mathbb{R}^K$, $b_R\\in \\mathbb{R}^K$ are NN parameters\n",
        "\n",
        "\n"
      ],
      "metadata": {
        "id": "KuB3DKrgQfSL"
      }
    },
    {
      "cell_type": "markdown",
      "source": [
        "##### pytorch trials"
      ],
      "metadata": {
        "id": "Tq-h_R_lEKwr"
      }
    },
    {
      "cell_type": "code",
      "execution_count": 17,
      "metadata": {
        "id": "4WlxO-pC-Pmo"
      },
      "outputs": [],
      "source": [
        "import torch\n",
        "import torch.nn as nn\n",
        "from typing import Tuple, List\n",
        "import numpy as np\n",
        "from torch.utils.data import DataLoader, RandomSampler, SequentialSampler"
      ]
    },
    {
      "cell_type": "code",
      "source": [
        "class NeuralTensorNetwork(nn.Module):\n",
        "    def __init__(self, output_dim: int, input_dim: int, activation: str=\"tanh\", mean: float=0.0, std: float=1.0):\n",
        "        \n",
        "        super(NeuralTensorNetwork, self).__init__()\n",
        "\n",
        "        # setting input and output dimensions\n",
        "        self.k = output_dim\n",
        "        self.d = input_dim # e1,e2\n",
        "\n",
        "        # setting mean and std for random initialization\n",
        "        self.mean = mean\n",
        "        self.std = std\n",
        "\n",
        "        self.activation = activation\n",
        "\n",
        "        # parameters has been used in order to consider W, V, b as model parameters\n",
        "        # inference -> they'll be optimized\n",
        "\n",
        "        # normal sampling -> https://pytorch.org/docs/stable/generated/torch.normal.html\n",
        "        # parameter -> https://pytorch.org/docs/stable/generated/torch.nn.parameter.Parameter.html#torch.nn.parameter.Parameter\n",
        "        self.W = torch.normal(self.mean, self.std, size=(self.k, self.d, self.d))\n",
        "        self.V = torch.normal(self.mean, self.std, size=(2*self.d, self.k))\n",
        "        self.b = torch.zeros(size=(self.d,))\n",
        "        \n",
        "        print(self.W)\n",
        "        print(self.V)\n",
        "        print(self.b)\n",
        "        \n",
        "        if activation == 'tanh':\n",
        "            self.activation = nn.Tanh()\n",
        "        elif activation == 'sigmoid':\n",
        "            self.activation = nn.Sigmoid()\n",
        "        elif self.activation == 'relu':\n",
        "            self.activation = nn.ReLU()\n",
        "        # checking for a good activation function\n",
        "        else:\n",
        "            raise ValueError('Possible activation choices are tanh, sigmoid or ReLU')\n",
        "\n",
        "    def forward(self, inputs: List[torch.Tensor]) -> torch.Tensor:\n",
        "\n",
        "        # getting the entities\n",
        "        e1 = inputs[0]\n",
        "        e2 = inputs[1]\n",
        "\n",
        "        # input tensor should be of shape (batch_size, padded_length, 768)\n",
        "        batch_size = e1[0]\n",
        "        k = self.k\n",
        "        d = self.d\n",
        "\n",
        "        # bilinear tensor + bias\n",
        "        bil_bias = [torch.sum((e2 * torch.dot(e1, self.W[0])) + self.b, axis=1)]\n",
        "        for i in range(1,k):\n",
        "            bil_bias.append(torch.sum((e2*torch.dot(e1, self.W[i]))) + self.b, axis=1)\n",
        "        bil_bias = torch.reshape(torch.cat(bil_bias, axis=0), (batch_size, k))\n",
        "\n",
        "        # Vr * [e1, e2]\n",
        "        rest = torch.dot(torch.cat([e1,e2]), self.V)\n",
        "\n",
        "        e1_R_e2 = bil_bias + rest\n",
        "\n",
        "        # applying activation\n",
        "        f = self.activation(e1_R_e2)\n",
        "        return f"
      ],
      "metadata": {
        "id": "-anTmLwuTLvR"
      },
      "execution_count": 113,
      "outputs": []
    },
    {
      "cell_type": "code",
      "source": [
        "def batching_data(dataset, batch_size: int=64) -> torch.utils.data.DataLoader:\n",
        "    dataloader = DataLoader(dataset=dataset, sampler=RandomSampler(dataset), batch_size=batch_size, shuffle=False)\n",
        "    return dataloader"
      ],
      "metadata": {
        "id": "FtBwT8k8z-89"
      },
      "execution_count": 114,
      "outputs": []
    },
    {
      "cell_type": "code",
      "source": [
        "ll = []\n",
        "i = np.array([1,2,3,4,5,6,7,8,9,10])\n",
        "ll.append(i)\n",
        "for k in range(0,10):\n",
        "    ll.append(np.zeros(i.shape))\n",
        "\n",
        "print(ll)\n",
        "\n",
        "\n",
        "l = []\n",
        "\n",
        "j = np.array([11,12,13,14,15,16,17,18,19,20])\n",
        "l.append(j)\n",
        "for z in range(0,10):\n",
        "    l.append(np.ones(j.shape))\n",
        "\n",
        "print(l)\n",
        "\n",
        "print(np.array(l).shape)\n",
        "print(np.array(ll).shape)\n",
        "\n",
        "y = np.random.random((len(l),1))\n",
        "y.shape"
      ],
      "metadata": {
        "outputId": "f48123f5-5fe5-486d-9d3e-2e4d31e5f6d0",
        "colab": {
          "base_uri": "https://localhost:8080/"
        },
        "id": "-qxlLJz7YbBm"
      },
      "execution_count": 115,
      "outputs": [
        {
          "output_type": "stream",
          "name": "stdout",
          "text": [
            "[array([ 1,  2,  3,  4,  5,  6,  7,  8,  9, 10]), array([0., 0., 0., 0., 0., 0., 0., 0., 0., 0.]), array([0., 0., 0., 0., 0., 0., 0., 0., 0., 0.]), array([0., 0., 0., 0., 0., 0., 0., 0., 0., 0.]), array([0., 0., 0., 0., 0., 0., 0., 0., 0., 0.]), array([0., 0., 0., 0., 0., 0., 0., 0., 0., 0.]), array([0., 0., 0., 0., 0., 0., 0., 0., 0., 0.]), array([0., 0., 0., 0., 0., 0., 0., 0., 0., 0.]), array([0., 0., 0., 0., 0., 0., 0., 0., 0., 0.]), array([0., 0., 0., 0., 0., 0., 0., 0., 0., 0.]), array([0., 0., 0., 0., 0., 0., 0., 0., 0., 0.])]\n",
            "[array([11, 12, 13, 14, 15, 16, 17, 18, 19, 20]), array([1., 1., 1., 1., 1., 1., 1., 1., 1., 1.]), array([1., 1., 1., 1., 1., 1., 1., 1., 1., 1.]), array([1., 1., 1., 1., 1., 1., 1., 1., 1., 1.]), array([1., 1., 1., 1., 1., 1., 1., 1., 1., 1.]), array([1., 1., 1., 1., 1., 1., 1., 1., 1., 1.]), array([1., 1., 1., 1., 1., 1., 1., 1., 1., 1.]), array([1., 1., 1., 1., 1., 1., 1., 1., 1., 1.]), array([1., 1., 1., 1., 1., 1., 1., 1., 1., 1.]), array([1., 1., 1., 1., 1., 1., 1., 1., 1., 1.]), array([1., 1., 1., 1., 1., 1., 1., 1., 1., 1.])]\n",
            "(11, 10)\n",
            "(11, 10)\n"
          ]
        },
        {
          "output_type": "execute_result",
          "data": {
            "text/plain": [
              "(11, 1)"
            ]
          },
          "metadata": {},
          "execution_count": 115
        }
      ]
    },
    {
      "cell_type": "code",
      "source": [
        "e1_dataloader = batching_data(np.array(ll), batch_size=4)\n",
        "e2_dataloader = batching_data(np.array(l), batch_size=4)"
      ],
      "metadata": {
        "id": "jVIm2yo9gzLB"
      },
      "execution_count": 116,
      "outputs": []
    },
    {
      "cell_type": "code",
      "source": [
        "e1_dataloader"
      ],
      "metadata": {
        "id": "BABMrSGzhU_t",
        "outputId": "ba96d285-ad61-4755-f7e9-4fc602913011",
        "colab": {
          "base_uri": "https://localhost:8080/"
        }
      },
      "execution_count": 117,
      "outputs": [
        {
          "output_type": "execute_result",
          "data": {
            "text/plain": [
              "<torch.utils.data.dataloader.DataLoader at 0x7fdaee8a0650>"
            ]
          },
          "metadata": {},
          "execution_count": 117
        }
      ]
    },
    {
      "cell_type": "code",
      "source": [
        "e2_dataloader"
      ],
      "metadata": {
        "id": "oc9Gy7bdjfKe",
        "outputId": "950543fe-0bb8-4e54-c9f2-b6fb63167ea9",
        "colab": {
          "base_uri": "https://localhost:8080/"
        }
      },
      "execution_count": 118,
      "outputs": [
        {
          "output_type": "execute_result",
          "data": {
            "text/plain": [
              "<torch.utils.data.dataloader.DataLoader at 0x7fdaee8a0b50>"
            ]
          },
          "metadata": {},
          "execution_count": 118
        }
      ]
    },
    {
      "cell_type": "code",
      "source": [
        "for idx, i in enumerate(iter(e2_dataloader)):\n",
        "    for element in i :\n",
        "        print(idx, element)"
      ],
      "metadata": {
        "id": "TL4SNMYbOjJd",
        "outputId": "928549fe-637b-4d00-9f58-0c6391bf7e43",
        "colab": {
          "base_uri": "https://localhost:8080/"
        }
      },
      "execution_count": 119,
      "outputs": [
        {
          "output_type": "stream",
          "name": "stdout",
          "text": [
            "0 tensor([11., 12., 13., 14., 15., 16., 17., 18., 19., 20.], dtype=torch.float64)\n",
            "0 tensor([1., 1., 1., 1., 1., 1., 1., 1., 1., 1.], dtype=torch.float64)\n",
            "0 tensor([1., 1., 1., 1., 1., 1., 1., 1., 1., 1.], dtype=torch.float64)\n",
            "0 tensor([1., 1., 1., 1., 1., 1., 1., 1., 1., 1.], dtype=torch.float64)\n",
            "1 tensor([1., 1., 1., 1., 1., 1., 1., 1., 1., 1.], dtype=torch.float64)\n",
            "1 tensor([1., 1., 1., 1., 1., 1., 1., 1., 1., 1.], dtype=torch.float64)\n",
            "1 tensor([1., 1., 1., 1., 1., 1., 1., 1., 1., 1.], dtype=torch.float64)\n",
            "1 tensor([1., 1., 1., 1., 1., 1., 1., 1., 1., 1.], dtype=torch.float64)\n",
            "2 tensor([1., 1., 1., 1., 1., 1., 1., 1., 1., 1.], dtype=torch.float64)\n",
            "2 tensor([1., 1., 1., 1., 1., 1., 1., 1., 1., 1.], dtype=torch.float64)\n",
            "2 tensor([1., 1., 1., 1., 1., 1., 1., 1., 1., 1.], dtype=torch.float64)\n"
          ]
        }
      ]
    },
    {
      "cell_type": "code",
      "source": [
        "len(iter(e1_dataloader))\n",
        "\n",
        "for i in range (len(iter(e1_dataloader))):\n",
        "  print(next(iter(e1_dataloader)))"
      ],
      "metadata": {
        "id": "_6N1FEmri_4R",
        "outputId": "94a44c60-48b9-4c7d-fb6b-74a211dffc71",
        "colab": {
          "base_uri": "https://localhost:8080/"
        }
      },
      "execution_count": 120,
      "outputs": [
        {
          "output_type": "stream",
          "name": "stdout",
          "text": [
            "tensor([[ 0.,  0.,  0.,  0.,  0.,  0.,  0.,  0.,  0.,  0.],\n",
            "        [ 0.,  0.,  0.,  0.,  0.,  0.,  0.,  0.,  0.,  0.],\n",
            "        [ 0.,  0.,  0.,  0.,  0.,  0.,  0.,  0.,  0.,  0.],\n",
            "        [ 1.,  2.,  3.,  4.,  5.,  6.,  7.,  8.,  9., 10.]],\n",
            "       dtype=torch.float64)\n",
            "tensor([[ 0.,  0.,  0.,  0.,  0.,  0.,  0.,  0.,  0.,  0.],\n",
            "        [ 1.,  2.,  3.,  4.,  5.,  6.,  7.,  8.,  9., 10.],\n",
            "        [ 0.,  0.,  0.,  0.,  0.,  0.,  0.,  0.,  0.,  0.],\n",
            "        [ 0.,  0.,  0.,  0.,  0.,  0.,  0.,  0.,  0.,  0.]],\n",
            "       dtype=torch.float64)\n",
            "tensor([[0., 0., 0., 0., 0., 0., 0., 0., 0., 0.],\n",
            "        [0., 0., 0., 0., 0., 0., 0., 0., 0., 0.],\n",
            "        [0., 0., 0., 0., 0., 0., 0., 0., 0., 0.],\n",
            "        [0., 0., 0., 0., 0., 0., 0., 0., 0., 0.]], dtype=torch.float64)\n"
          ]
        }
      ]
    },
    {
      "cell_type": "code",
      "source": [
        "len(iter(e2_dataloader))\n",
        "\n",
        "for i in range (len(iter(e2_dataloader))):\n",
        "  print(next(iter(e2_dataloader)))"
      ],
      "metadata": {
        "id": "cNI4NePvhf1t",
        "outputId": "5f58ef16-16d9-4ed3-ffd0-cd1b304248bd",
        "colab": {
          "base_uri": "https://localhost:8080/"
        }
      },
      "execution_count": 121,
      "outputs": [
        {
          "output_type": "stream",
          "name": "stdout",
          "text": [
            "tensor([[1., 1., 1., 1., 1., 1., 1., 1., 1., 1.],\n",
            "        [1., 1., 1., 1., 1., 1., 1., 1., 1., 1.],\n",
            "        [1., 1., 1., 1., 1., 1., 1., 1., 1., 1.],\n",
            "        [1., 1., 1., 1., 1., 1., 1., 1., 1., 1.]], dtype=torch.float64)\n",
            "tensor([[1., 1., 1., 1., 1., 1., 1., 1., 1., 1.],\n",
            "        [1., 1., 1., 1., 1., 1., 1., 1., 1., 1.],\n",
            "        [1., 1., 1., 1., 1., 1., 1., 1., 1., 1.],\n",
            "        [1., 1., 1., 1., 1., 1., 1., 1., 1., 1.]], dtype=torch.float64)\n",
            "tensor([[1., 1., 1., 1., 1., 1., 1., 1., 1., 1.],\n",
            "        [1., 1., 1., 1., 1., 1., 1., 1., 1., 1.],\n",
            "        [1., 1., 1., 1., 1., 1., 1., 1., 1., 1.],\n",
            "        [1., 1., 1., 1., 1., 1., 1., 1., 1., 1.]], dtype=torch.float64)\n"
          ]
        }
      ]
    },
    {
      "cell_type": "code",
      "source": [
        "def get_mse() -> torch.nn.MSELoss:\n",
        "    return nn.MSELoss()"
      ],
      "metadata": {
        "id": "MoLLwKrUpo2E"
      },
      "execution_count": 122,
      "outputs": []
    },
    {
      "cell_type": "code",
      "source": [
        "def get_optimizer(model, lr):\n",
        "    return torch.optim.Adam(model.parameters(), lr)"
      ],
      "metadata": {
        "id": "Kygj0APpqNMy"
      },
      "execution_count": 123,
      "outputs": []
    },
    {
      "cell_type": "code",
      "source": [
        "def training_step(model, e1_dataloader, e2_dataloader, device='cuda'):\n",
        "    # converting the two dataloaders in iterators\n",
        "    print('training')\n",
        "    e1_iterator = iter(e1_dataloader)\n",
        "    e2_iterator = iter(e2_dataloader)\n",
        "\n",
        "    # getting lengths \n",
        "    iter1_length = len(e1_iterator)\n",
        "    iter2_length = len(e2_iterator)\n",
        "\n",
        "    flag = 0\n",
        "    loss = get_mse()\n",
        "    optimizer = get_optimizer(model, 0.001)\n",
        "\n",
        "    model.train()\n",
        "\n",
        "    if iter1_length > iter2_length:\n",
        "        flag = 1\n",
        "    elif iter2_length > iter1_length:\n",
        "        flag = 2\n",
        "\n",
        "    if flag==1:\n",
        "        for i in range(iter2_length):\n",
        "        # if the second entity's vector is longer than the first one\n",
        "        # I need to deal with this case\n",
        "        # With the devised solution, once the first iterator has reached the end \n",
        "        # it will be reinitialized \n",
        "            try:\n",
        "                e1_input = next(e1_iterator)\n",
        "                e1_input = e1_input.to(device)\n",
        "            except:\n",
        "                e1_iterator = iter(e1_dataloader)\n",
        "                e1_input = next(e1_iterator)\n",
        "                e1_input = e1_input.to(device)\n",
        "\n",
        "            # at this point, al inputs are loaded on GPU\n",
        "            outputs = model([e1_input, e2_input]) # call method\n",
        "            loss.backward()\n",
        "            optimizer.step()\n",
        "            optimizer.zero_grad()\n",
        "\n",
        "            print(f'outputs: {outputs}')\n",
        "\n",
        "    elif flag==2:\n",
        "        for i in range(iter1_length):\n",
        "            try:\n",
        "                e2_input = next(e2_iterator)\n",
        "                e2_input = e2_input.to(device)\n",
        "            except:\n",
        "                e2_iterator = iter(e2_dataloader)\n",
        "                e2_input = next(e2_iterator)\n",
        "                e2_input = e2_input.to(device)\n",
        "\n",
        "            outputs = model([e1_input, e2_input]) # call method\n",
        "            loss.backward()\n",
        "            optimizer.step()\n",
        "            optimizer.zero_grad()\n",
        "    \n",
        "    elif flag==0:\n",
        "        for e1, e2 in zip(e1_iterator, e2_iterator):\n",
        "            for element1, element2 in zip(e1,e2):\n",
        "                # in case they have the same length\n",
        "                #for i in range(iter1_length):\n",
        "                e1_input = element1.to(device)\n",
        "                e2_input = element2.to(device)\n",
        "                print(e1_input)\n",
        "                print(e2_input)\n",
        "                outputs = model([e1_input, e2_input]) # call method\n",
        "        \n",
        "                loss.backward()\n",
        "                optimizer.step()\n",
        "                optimizer.zero_grad()"
      ],
      "metadata": {
        "id": "3yhW3NFHjsnr"
      },
      "execution_count": 124,
      "outputs": []
    },
    {
      "cell_type": "code",
      "source": [
        "def main(dataloaders, epochs=5, device='cuda'):\n",
        "    model = NeuralTensorNetwork(output_dim=32, input_dim=10).to(device)\n",
        "    for e in range(epochs):\n",
        "    # def training_step(model, e1_dataloader, e2_dataloader, device='cuda'):\n",
        "        training_step(model, dataloaders[0], dataloaders[1]) \n",
        "        print(e)\n",
        "    print('Traning done')"
      ],
      "metadata": {
        "id": "8_HKAPHSHOsx"
      },
      "execution_count": 125,
      "outputs": []
    },
    {
      "cell_type": "code",
      "source": [
        "main([e1_dataloader, e2_dataloader])"
      ],
      "metadata": {
        "id": "MUzSiL92JgIP",
        "outputId": "0d398173-2405-43bb-c439-a8485d6a3ccc",
        "colab": {
          "base_uri": "https://localhost:8080/",
          "height": 1000
        }
      },
      "execution_count": 126,
      "outputs": [
        {
          "output_type": "stream",
          "name": "stdout",
          "text": [
            "tensor([[[-1.7292,  1.6683, -1.3696,  ...,  0.2507,  0.2852,  0.8378],\n",
            "         [-0.8256,  0.6604, -2.3937,  ..., -1.4956,  2.0681, -0.6468],\n",
            "         [-0.5461, -0.8905,  0.4425,  ...,  0.0828, -0.7148,  1.1008],\n",
            "         ...,\n",
            "         [ 1.5781, -1.7978, -0.6980,  ..., -0.4238,  0.5031,  0.9757],\n",
            "         [-0.3200,  0.4735,  0.1175,  ...,  1.8322,  0.4655, -0.6373],\n",
            "         [-1.0224,  1.7510,  0.2344,  ..., -1.5151,  1.9617, -0.1190]],\n",
            "\n",
            "        [[ 1.2196, -0.3441,  1.9830,  ...,  1.1283, -1.2622,  0.4010],\n",
            "         [-0.5095,  0.0877,  0.6861,  ...,  1.4973, -1.0496, -0.9951],\n",
            "         [ 1.2247,  0.7271, -0.0622,  ...,  1.4032,  0.1916, -0.6052],\n",
            "         ...,\n",
            "         [ 0.3109,  0.5520, -1.9498,  ...,  0.2184, -0.4450,  0.6122],\n",
            "         [ 0.8234, -1.2088,  1.2548,  ..., -0.5024, -0.7056, -0.0105],\n",
            "         [-0.0912,  0.3408,  0.2173,  ...,  0.4572, -0.2117, -0.8949]],\n",
            "\n",
            "        [[-0.1551, -0.9882,  0.7685,  ..., -0.6940, -0.5335,  0.2737],\n",
            "         [ 1.1150, -2.0656, -0.2730,  ...,  1.2818, -0.8269, -0.5196],\n",
            "         [-1.3238,  1.2023, -0.2132,  ...,  0.1508, -0.5040, -0.6651],\n",
            "         ...,\n",
            "         [-0.8577,  1.4975, -1.9356,  ...,  0.7055, -1.6009, -0.7188],\n",
            "         [ 0.3795,  0.1849,  1.3870,  ...,  1.4864, -0.5809,  0.6102],\n",
            "         [ 1.4740,  1.6935,  1.9960,  ..., -2.2834, -0.8161, -0.7781]],\n",
            "\n",
            "        ...,\n",
            "\n",
            "        [[ 0.8240, -1.0431,  1.1920,  ..., -0.2060,  0.2089, -1.3227],\n",
            "         [ 0.4799,  2.1955, -0.8923,  ..., -0.6427,  2.5241, -0.2668],\n",
            "         [-0.7416,  0.7582, -0.6167,  ...,  0.5380, -0.0279,  0.5574],\n",
            "         ...,\n",
            "         [ 0.1421,  0.5898,  0.0862,  ...,  0.0468, -0.7656,  0.2423],\n",
            "         [-1.8957,  0.4862,  1.6079,  ..., -0.9453, -0.3867,  0.1926],\n",
            "         [-0.1561,  0.1227,  0.0763,  ..., -0.8865, -0.4112, -0.2994]],\n",
            "\n",
            "        [[-1.1642, -0.1593,  0.1666,  ..., -0.0788, -1.5495,  0.7309],\n",
            "         [ 0.1849,  0.7317,  0.5574,  ...,  0.3359,  0.8143, -0.0337],\n",
            "         [-1.4845,  0.0599,  0.5446,  ..., -0.5295, -0.0916, -1.1981],\n",
            "         ...,\n",
            "         [-0.1187, -2.1762,  2.2198,  ..., -0.4423,  0.4453, -0.3305],\n",
            "         [-0.2580,  0.2228, -0.6638,  ..., -0.0891,  0.5803,  0.5084],\n",
            "         [-0.0441,  0.8578, -0.1928,  ..., -0.3523, -1.6901, -0.4004]],\n",
            "\n",
            "        [[-1.2837, -1.0049,  1.9316,  ..., -1.1506, -0.1933, -1.7451],\n",
            "         [-0.7180,  1.0602,  0.2610,  ...,  1.7627, -0.7189,  0.2987],\n",
            "         [ 0.2737, -1.1211, -0.1533,  ..., -0.3288, -0.7441, -1.8026],\n",
            "         ...,\n",
            "         [-0.1445,  1.2669,  0.1658,  ..., -0.6564, -0.8191,  1.7024],\n",
            "         [ 0.8042,  0.7663,  1.3553,  ...,  2.4624, -1.1190,  1.4512],\n",
            "         [-0.4961,  0.2361,  0.0455,  ..., -1.3167,  1.0284, -1.2652]]])\n",
            "tensor([[-1.7989e-01,  1.8716e+00, -4.0006e-01, -1.0113e+00,  1.6376e+00,\n",
            "         -7.6471e-01,  6.8879e-01,  4.1292e-01, -1.4643e-01,  5.4656e-01,\n",
            "          1.5223e-01,  1.5695e-02,  5.0016e-02, -1.0467e+00, -1.1164e+00,\n",
            "         -1.3461e+00,  2.7613e-01, -4.6693e-01, -1.0067e+00,  6.7397e-01,\n",
            "          7.6765e-01, -1.0282e+00,  4.2079e-01,  9.2580e-02,  1.6294e+00,\n",
            "          3.6841e-01, -6.8217e-02, -4.6687e-01,  2.5903e+00, -1.1781e+00,\n",
            "          8.7629e-01,  2.2408e-01],\n",
            "        [-1.3986e-01,  3.1107e-01,  5.5890e-01, -8.1049e-01,  2.1602e-01,\n",
            "         -8.2149e-01, -2.0626e+00, -4.0026e-01,  2.7647e-01, -5.7037e-01,\n",
            "          4.0682e-01,  1.3049e-01,  2.3532e+00, -8.3916e-03, -6.0199e-02,\n",
            "          2.1574e-01, -9.6431e-01, -7.4124e-01, -5.5225e-01, -6.4549e-01,\n",
            "          4.0103e-01, -1.1547e+00, -8.9974e-01,  1.4158e+00, -1.3414e+00,\n",
            "         -6.6342e-01,  6.7658e-02,  1.0860e+00, -4.5260e-01, -5.0777e-01,\n",
            "          3.5429e-01, -2.0661e+00],\n",
            "        [ 1.0370e+00, -1.1205e+00, -4.1431e-01,  4.2013e-01, -3.6497e-01,\n",
            "         -2.9277e-02,  7.9238e-01,  1.5726e+00,  2.3721e-01,  6.9083e-01,\n",
            "         -4.0626e-01,  7.0090e-01, -1.1587e-01,  7.1424e-01, -8.4606e-01,\n",
            "          5.7038e-01, -4.4915e-01,  1.9288e+00, -9.5199e-01,  1.3694e+00,\n",
            "          8.5520e-01,  3.1526e-01,  3.4779e-01,  7.1172e-02, -1.5229e+00,\n",
            "          5.6882e-01, -2.6925e-01,  2.1846e+00,  1.3889e+00,  5.0509e-01,\n",
            "         -5.8625e-01,  1.1700e+00],\n",
            "        [-2.9312e-01,  7.6096e-01, -8.1302e-01, -1.2407e-01,  1.1211e+00,\n",
            "         -4.5671e-01, -1.0891e+00,  1.1807e+00, -1.4967e+00,  4.2534e-01,\n",
            "         -1.9972e+00, -1.9111e+00, -8.9249e-01,  7.7686e-01, -4.4139e-01,\n",
            "         -2.5307e-01,  5.0484e-01, -2.3460e-01,  4.4192e-01, -6.5810e-02,\n",
            "          2.4133e-01, -8.4527e-02, -1.4546e-01,  1.5027e+00,  1.1414e+00,\n",
            "         -1.0321e-01,  3.9648e-01, -1.0722e+00, -9.2117e-01, -2.8252e-01,\n",
            "          6.4487e-01, -7.9774e-01],\n",
            "        [ 1.0349e+00, -1.2385e+00, -5.3334e-01,  1.0779e+00, -3.8642e-01,\n",
            "         -1.0889e+00,  4.1243e-01,  1.2475e+00,  2.6665e-01,  9.3204e-03,\n",
            "         -4.3807e-02,  2.8513e-01, -1.3634e+00, -1.8504e-01,  3.0853e-01,\n",
            "         -1.9021e+00, -3.2607e-01,  1.5108e-01, -5.1301e-01, -5.6498e-01,\n",
            "          8.2400e-01, -5.6964e-01,  1.3860e+00, -1.4031e+00,  1.5788e+00,\n",
            "          5.1934e-02,  8.9308e-01,  4.2216e-01,  3.3787e-01,  1.1420e+00,\n",
            "          1.0271e+00,  5.5420e-01],\n",
            "        [ 1.6858e-01,  8.2411e-01,  1.4297e+00,  4.5626e-02,  9.8050e-01,\n",
            "         -4.8517e-01, -3.2599e-01,  3.5073e-01, -1.6240e+00, -2.8921e-01,\n",
            "         -2.0259e-03, -9.1194e-01,  2.1101e-01,  7.7661e-01, -7.5364e-01,\n",
            "          7.8719e-01,  3.7373e-02, -9.4110e-01,  6.8587e-01, -4.7128e-01,\n",
            "         -7.6672e-01,  5.6981e-01,  5.8994e-01, -4.4022e-01, -1.9950e-01,\n",
            "          4.3012e-01,  1.5261e-01, -4.2815e-01, -1.3177e+00,  5.7010e-01,\n",
            "          1.0726e+00,  1.6494e+00],\n",
            "        [-7.5047e-01,  1.0002e+00, -1.3158e+00, -9.1340e-02, -1.3499e+00,\n",
            "          1.2799e+00,  7.1376e-01,  3.5863e-01, -5.3389e-01,  6.8660e-01,\n",
            "         -6.5226e-01, -2.6841e+00,  1.4918e-01,  1.2574e+00,  1.5452e-01,\n",
            "          2.5688e-01, -1.3861e-01,  4.5398e-01, -5.9829e-01,  4.6392e-02,\n",
            "         -7.4607e-01,  1.1188e-01, -7.2593e-01,  1.0675e+00, -1.5333e+00,\n",
            "          1.4074e+00, -1.4981e+00,  2.3444e+00,  1.0229e+00, -3.1340e-01,\n",
            "         -6.9103e-02, -1.1336e+00],\n",
            "        [-2.9243e-01,  7.6501e-01, -8.1569e-01,  3.9442e-01,  4.3498e-01,\n",
            "         -2.0028e-01,  8.3113e-01,  1.3358e-01,  1.3617e+00,  8.0717e-02,\n",
            "         -2.3428e+00,  3.3309e-01,  1.0459e+00,  1.5141e+00,  5.3955e-01,\n",
            "          2.2074e+00, -1.1804e+00, -2.2029e+00, -8.6212e-01, -2.2742e-01,\n",
            "         -1.5085e-02, -3.5023e-01, -8.8732e-01, -4.3325e-01,  1.0067e+00,\n",
            "         -7.4208e-01, -1.3813e+00, -1.1236e-02,  2.5851e-01, -2.9468e-02,\n",
            "          1.8158e+00, -1.9049e-01],\n",
            "        [-6.8819e-01,  5.8993e-01, -1.0761e+00, -1.0758e+00,  5.1650e-01,\n",
            "         -4.9512e-01, -5.3953e-01, -6.6483e-01, -8.8489e-01,  3.8385e-01,\n",
            "          2.1789e-01, -4.6505e-01,  1.2616e+00,  6.9463e-01,  4.0189e-01,\n",
            "         -5.1425e-01, -6.3492e-01, -4.5999e-02,  4.6144e-01,  6.5482e-01,\n",
            "          5.5092e-01,  8.4475e-01, -2.3863e+00,  9.7521e-01,  2.4514e-01,\n",
            "         -2.6302e-01, -5.1682e-01,  6.3405e-01, -1.0218e+00,  3.8715e-01,\n",
            "          2.7436e+00, -8.5293e-01],\n",
            "        [-5.5924e-01,  1.1882e+00,  9.6207e-01, -5.2480e-01, -2.6777e-01,\n",
            "          1.0506e+00, -1.1454e+00, -1.2474e+00,  7.8841e-01,  7.8778e-01,\n",
            "          8.4464e-03, -1.6219e+00,  7.5532e-01,  1.3473e+00, -5.7594e-01,\n",
            "         -8.6966e-01, -7.9572e-01, -1.2195e+00,  1.4717e+00,  1.6771e+00,\n",
            "         -1.9854e-01, -1.2187e+00, -7.9607e-01,  3.5451e-01,  5.4447e-01,\n",
            "         -6.0073e-01,  2.4799e-01,  5.3896e-02,  1.4888e-01,  4.4880e-01,\n",
            "         -6.2433e-01,  1.4030e+00],\n",
            "        [ 9.3374e-01, -2.8728e+00, -1.1158e+00, -9.7403e-01, -6.4487e-01,\n",
            "          8.3627e-01, -5.3792e-01, -7.5361e-01, -3.8977e-01, -1.3859e+00,\n",
            "          3.9189e-01, -2.3352e-01,  7.4086e-01, -7.5536e-01,  6.4952e-01,\n",
            "         -4.1487e-01, -4.5486e-02, -7.3784e-01, -5.9142e-01,  9.0481e-01,\n",
            "         -4.4921e-01, -9.1044e-01,  4.6191e-01, -4.7571e-01,  7.0192e-01,\n",
            "          1.1158e+00, -1.8671e+00, -2.8605e-01,  1.0688e+00,  7.2160e-01,\n",
            "          2.9652e-01,  8.4893e-01],\n",
            "        [ 4.7472e-02,  5.1680e-02, -4.4675e-01, -6.8275e-01, -2.0174e-01,\n",
            "          3.3585e-01,  6.3000e-01,  3.0776e-02,  1.4460e+00, -3.0307e-01,\n",
            "          5.0944e-01, -4.7035e-01,  5.9575e-01, -1.2325e+00,  9.7252e-02,\n",
            "         -3.3813e-01,  5.4686e-02,  1.6500e+00, -3.7852e-01,  3.3802e-01,\n",
            "         -5.7277e-01, -1.1057e+00,  1.3163e+00, -7.3495e-01, -6.6185e-01,\n",
            "         -8.1306e-01, -9.1987e-01,  2.8173e-01, -1.2783e+00,  1.3291e+00,\n",
            "         -1.4550e+00,  7.3165e-01],\n",
            "        [-9.7154e-01, -1.6359e+00,  9.4221e-01, -1.4491e-01, -1.1983e-01,\n",
            "          9.2022e-01, -2.7359e-02,  3.6630e-01, -4.8554e-01, -8.0316e-01,\n",
            "         -2.2673e-01,  3.7346e-01,  1.0623e-01, -2.5849e-01, -5.0906e-01,\n",
            "          7.3950e-01, -1.9346e+00,  4.2583e-01, -1.1060e+00,  4.5962e-02,\n",
            "         -9.6074e-01, -1.5865e+00, -4.6064e-01, -4.7331e-01,  1.7528e+00,\n",
            "          3.0755e-01,  6.9781e-02,  7.4996e-01,  2.1470e+00, -1.0184e+00,\n",
            "         -5.3734e-03,  4.9533e-01],\n",
            "        [ 6.0952e-01, -2.1142e+00, -5.9954e-01, -1.1516e+00, -1.1503e+00,\n",
            "          8.2138e-01, -7.0189e-01, -3.4173e-01, -7.6754e-02,  2.8168e-01,\n",
            "          4.5083e-01,  2.0761e-01, -9.7920e-02,  1.5797e+00, -8.5622e-01,\n",
            "         -3.3945e-01,  1.0873e+00,  8.6523e-01,  5.2452e-01, -1.5174e+00,\n",
            "         -3.5632e-01,  4.7529e-01,  2.6541e-01,  1.3081e+00,  1.6278e+00,\n",
            "          1.0324e+00,  1.4922e+00, -6.7860e-01, -4.8054e-01, -7.1400e-01,\n",
            "          1.6394e+00,  8.2248e-01],\n",
            "        [ 2.1115e+00, -1.2147e+00,  1.1263e+00,  1.4424e+00, -5.4954e-01,\n",
            "         -1.2030e+00,  2.4332e-02, -3.6209e-01,  1.1987e+00, -1.0660e-01,\n",
            "          6.3510e-02, -1.5845e+00, -1.6835e+00,  7.1773e-01, -9.2370e-01,\n",
            "         -4.7162e-01, -1.0618e+00, -5.4557e-01,  2.8753e-01,  1.4942e-01,\n",
            "          7.7286e-01,  1.4474e+00,  1.8076e+00,  2.1563e-01, -1.9000e+00,\n",
            "          6.9543e-01,  1.1208e+00, -4.4000e-01,  4.6650e-01, -5.4550e-02,\n",
            "         -1.3042e+00,  9.8532e-01],\n",
            "        [-2.2386e-01,  1.0992e+00, -9.2399e-02, -7.9973e-01, -2.0923e-01,\n",
            "         -3.5939e-01, -5.6095e-03,  2.4239e-01,  2.2738e-01,  7.0730e-01,\n",
            "          3.4586e-01, -2.6112e-01, -4.0662e-02,  1.2257e+00,  1.5573e+00,\n",
            "          8.6628e-01, -5.7996e-01, -3.9290e-01,  1.1440e+00, -5.4483e-01,\n",
            "         -2.2309e-01, -3.6237e-01,  5.4700e-01,  4.6651e-01, -8.4778e-01,\n",
            "         -1.1813e+00,  5.9779e-01,  9.6791e-02,  8.9634e-01,  1.0204e+00,\n",
            "          3.3312e-01,  4.7575e-01],\n",
            "        [ 4.4941e-01, -1.2155e+00,  5.0037e-01, -2.0645e+00,  1.8184e-01,\n",
            "         -3.3109e-01, -1.5103e+00,  3.6192e-01,  2.2636e-01,  8.6572e-01,\n",
            "          2.2510e+00,  1.2756e+00, -1.7539e+00,  4.2933e-01,  8.9488e-01,\n",
            "         -7.8265e-01, -3.6721e-01,  1.1726e-01, -1.5085e-01, -6.6455e-02,\n",
            "         -4.0694e-01,  7.7677e-01, -8.1641e-01,  1.4369e+00,  5.7002e-01,\n",
            "         -4.1376e-01,  1.0489e+00,  9.9616e-01, -8.7877e-01,  1.5180e+00,\n",
            "         -9.6648e-01, -5.2219e-01],\n",
            "        [ 1.0486e+00,  1.3405e+00,  2.0588e-01, -9.8890e-01,  3.1030e-02,\n",
            "          6.7024e-01, -6.1455e-01, -1.4773e+00, -5.9750e-01, -3.6239e-01,\n",
            "         -1.9338e+00, -8.5538e-01, -8.3265e-01, -1.0931e+00, -5.3216e-01,\n",
            "         -1.4637e+00, -9.0539e-01,  2.1365e+00,  2.9506e-01,  4.0999e-01,\n",
            "          8.8215e-01,  1.4077e-01, -2.1873e+00, -1.0856e-01, -9.3389e-01,\n",
            "         -2.8841e+00, -1.1664e-01, -6.6310e-01,  1.7436e-01,  3.2016e-01,\n",
            "         -8.5739e-01, -1.2735e+00],\n",
            "        [ 7.7181e-01,  6.5973e-01, -5.0507e-01, -4.2102e-01, -9.5530e-01,\n",
            "         -1.2132e+00, -3.7676e-01, -5.2040e-01, -8.7760e-01,  8.9662e-01,\n",
            "          1.5650e+00,  7.4089e-01, -1.1595e+00,  2.3231e+00, -1.9566e+00,\n",
            "         -1.1958e-01,  1.1119e+00, -3.1461e-01, -3.9240e-01, -2.1562e+00,\n",
            "          1.6884e-01, -3.6157e-02,  1.7106e+00,  1.4546e+00,  2.6239e-01,\n",
            "         -1.3359e+00, -1.6720e+00,  2.9818e-01,  5.3742e-01,  2.6574e-02,\n",
            "          1.3130e+00, -1.7058e-01],\n",
            "        [-7.1480e-02, -3.8215e-01,  1.5043e-01, -2.5319e-01,  1.8122e-01,\n",
            "         -1.1581e+00, -7.4644e-02,  1.7891e-02,  6.8335e-01, -1.1324e+00,\n",
            "          9.5067e-01, -4.4448e-01,  3.5535e-01,  4.4942e-01, -8.5254e-02,\n",
            "         -1.3283e+00, -4.5202e-01, -2.8445e-01,  7.9360e-01, -1.9381e+00,\n",
            "          8.9888e-01,  3.5156e-01, -1.4235e+00,  8.4497e-01, -8.2378e-02,\n",
            "         -2.9396e-01,  3.9155e-01,  1.8191e+00,  5.3373e-01, -1.0999e+00,\n",
            "         -5.3545e-01, -1.7771e-01]])\n",
            "tensor([0., 0., 0., 0., 0., 0., 0., 0., 0., 0.])\n",
            "training\n"
          ]
        },
        {
          "output_type": "error",
          "ename": "ValueError",
          "evalue": "ignored",
          "traceback": [
            "\u001b[0;31m---------------------------------------------------------------------------\u001b[0m",
            "\u001b[0;31mValueError\u001b[0m                                Traceback (most recent call last)",
            "\u001b[0;32m<ipython-input-126-fbc7d7558f31>\u001b[0m in \u001b[0;36m<module>\u001b[0;34m\u001b[0m\n\u001b[0;32m----> 1\u001b[0;31m \u001b[0mmain\u001b[0m\u001b[0;34m(\u001b[0m\u001b[0;34m[\u001b[0m\u001b[0me1_dataloader\u001b[0m\u001b[0;34m,\u001b[0m \u001b[0me2_dataloader\u001b[0m\u001b[0;34m]\u001b[0m\u001b[0;34m)\u001b[0m\u001b[0;34m\u001b[0m\u001b[0;34m\u001b[0m\u001b[0m\n\u001b[0m",
            "\u001b[0;32m<ipython-input-125-7eb79aa028e9>\u001b[0m in \u001b[0;36mmain\u001b[0;34m(dataloaders, epochs, device)\u001b[0m\n\u001b[1;32m      3\u001b[0m     \u001b[0;32mfor\u001b[0m \u001b[0me\u001b[0m \u001b[0;32min\u001b[0m \u001b[0mrange\u001b[0m\u001b[0;34m(\u001b[0m\u001b[0mepochs\u001b[0m\u001b[0;34m)\u001b[0m\u001b[0;34m:\u001b[0m\u001b[0;34m\u001b[0m\u001b[0;34m\u001b[0m\u001b[0m\n\u001b[1;32m      4\u001b[0m     \u001b[0;31m# def training_step(model, e1_dataloader, e2_dataloader, device='cuda'):\u001b[0m\u001b[0;34m\u001b[0m\u001b[0;34m\u001b[0m\u001b[0;34m\u001b[0m\u001b[0m\n\u001b[0;32m----> 5\u001b[0;31m         \u001b[0mtraining_step\u001b[0m\u001b[0;34m(\u001b[0m\u001b[0mmodel\u001b[0m\u001b[0;34m,\u001b[0m \u001b[0mdataloaders\u001b[0m\u001b[0;34m[\u001b[0m\u001b[0;36m0\u001b[0m\u001b[0;34m]\u001b[0m\u001b[0;34m,\u001b[0m \u001b[0mdataloaders\u001b[0m\u001b[0;34m[\u001b[0m\u001b[0;36m1\u001b[0m\u001b[0;34m]\u001b[0m\u001b[0;34m)\u001b[0m\u001b[0;34m\u001b[0m\u001b[0;34m\u001b[0m\u001b[0m\n\u001b[0m\u001b[1;32m      6\u001b[0m         \u001b[0mprint\u001b[0m\u001b[0;34m(\u001b[0m\u001b[0me\u001b[0m\u001b[0;34m)\u001b[0m\u001b[0;34m\u001b[0m\u001b[0;34m\u001b[0m\u001b[0m\n\u001b[1;32m      7\u001b[0m     \u001b[0mprint\u001b[0m\u001b[0;34m(\u001b[0m\u001b[0;34m'Traning done'\u001b[0m\u001b[0;34m)\u001b[0m\u001b[0;34m\u001b[0m\u001b[0;34m\u001b[0m\u001b[0m\n",
            "\u001b[0;32m<ipython-input-124-b1e9e8a78406>\u001b[0m in \u001b[0;36mtraining_step\u001b[0;34m(model, e1_dataloader, e2_dataloader, device)\u001b[0m\n\u001b[1;32m     11\u001b[0m     \u001b[0mflag\u001b[0m \u001b[0;34m=\u001b[0m \u001b[0;36m0\u001b[0m\u001b[0;34m\u001b[0m\u001b[0;34m\u001b[0m\u001b[0m\n\u001b[1;32m     12\u001b[0m     \u001b[0mloss\u001b[0m \u001b[0;34m=\u001b[0m \u001b[0mget_mse\u001b[0m\u001b[0;34m(\u001b[0m\u001b[0;34m)\u001b[0m\u001b[0;34m\u001b[0m\u001b[0;34m\u001b[0m\u001b[0m\n\u001b[0;32m---> 13\u001b[0;31m     \u001b[0moptimizer\u001b[0m \u001b[0;34m=\u001b[0m \u001b[0mget_optimizer\u001b[0m\u001b[0;34m(\u001b[0m\u001b[0mmodel\u001b[0m\u001b[0;34m,\u001b[0m \u001b[0;36m0.001\u001b[0m\u001b[0;34m)\u001b[0m\u001b[0;34m\u001b[0m\u001b[0;34m\u001b[0m\u001b[0m\n\u001b[0m\u001b[1;32m     14\u001b[0m \u001b[0;34m\u001b[0m\u001b[0m\n\u001b[1;32m     15\u001b[0m     \u001b[0mmodel\u001b[0m\u001b[0;34m.\u001b[0m\u001b[0mtrain\u001b[0m\u001b[0;34m(\u001b[0m\u001b[0;34m)\u001b[0m\u001b[0;34m\u001b[0m\u001b[0;34m\u001b[0m\u001b[0m\n",
            "\u001b[0;32m<ipython-input-123-0720af2edd5b>\u001b[0m in \u001b[0;36mget_optimizer\u001b[0;34m(model, lr)\u001b[0m\n\u001b[1;32m      1\u001b[0m \u001b[0;32mdef\u001b[0m \u001b[0mget_optimizer\u001b[0m\u001b[0;34m(\u001b[0m\u001b[0mmodel\u001b[0m\u001b[0;34m,\u001b[0m \u001b[0mlr\u001b[0m\u001b[0;34m)\u001b[0m\u001b[0;34m:\u001b[0m\u001b[0;34m\u001b[0m\u001b[0;34m\u001b[0m\u001b[0m\n\u001b[0;32m----> 2\u001b[0;31m     \u001b[0;32mreturn\u001b[0m \u001b[0mtorch\u001b[0m\u001b[0;34m.\u001b[0m\u001b[0moptim\u001b[0m\u001b[0;34m.\u001b[0m\u001b[0mAdam\u001b[0m\u001b[0;34m(\u001b[0m\u001b[0mmodel\u001b[0m\u001b[0;34m.\u001b[0m\u001b[0mparameters\u001b[0m\u001b[0;34m(\u001b[0m\u001b[0;34m)\u001b[0m\u001b[0;34m,\u001b[0m \u001b[0mlr\u001b[0m\u001b[0;34m)\u001b[0m\u001b[0;34m\u001b[0m\u001b[0;34m\u001b[0m\u001b[0m\n\u001b[0m",
            "\u001b[0;32m/usr/local/lib/python3.7/dist-packages/torch/optim/adam.py\u001b[0m in \u001b[0;36m__init__\u001b[0;34m(self, params, lr, betas, eps, weight_decay, amsgrad, foreach, maximize, capturable)\u001b[0m\n\u001b[1;32m     88\u001b[0m                         \u001b[0mweight_decay\u001b[0m\u001b[0;34m=\u001b[0m\u001b[0mweight_decay\u001b[0m\u001b[0;34m,\u001b[0m \u001b[0mamsgrad\u001b[0m\u001b[0;34m=\u001b[0m\u001b[0mamsgrad\u001b[0m\u001b[0;34m,\u001b[0m\u001b[0;34m\u001b[0m\u001b[0;34m\u001b[0m\u001b[0m\n\u001b[1;32m     89\u001b[0m                         maximize=maximize, foreach=foreach, capturable=capturable)\n\u001b[0;32m---> 90\u001b[0;31m         \u001b[0msuper\u001b[0m\u001b[0;34m(\u001b[0m\u001b[0mAdam\u001b[0m\u001b[0;34m,\u001b[0m \u001b[0mself\u001b[0m\u001b[0;34m)\u001b[0m\u001b[0;34m.\u001b[0m\u001b[0m__init__\u001b[0m\u001b[0;34m(\u001b[0m\u001b[0mparams\u001b[0m\u001b[0;34m,\u001b[0m \u001b[0mdefaults\u001b[0m\u001b[0;34m)\u001b[0m\u001b[0;34m\u001b[0m\u001b[0;34m\u001b[0m\u001b[0m\n\u001b[0m\u001b[1;32m     91\u001b[0m \u001b[0;34m\u001b[0m\u001b[0m\n\u001b[1;32m     92\u001b[0m     \u001b[0;32mdef\u001b[0m \u001b[0m__setstate__\u001b[0m\u001b[0;34m(\u001b[0m\u001b[0mself\u001b[0m\u001b[0;34m,\u001b[0m \u001b[0mstate\u001b[0m\u001b[0;34m)\u001b[0m\u001b[0;34m:\u001b[0m\u001b[0;34m\u001b[0m\u001b[0;34m\u001b[0m\u001b[0m\n",
            "\u001b[0;32m/usr/local/lib/python3.7/dist-packages/torch/optim/optimizer.py\u001b[0m in \u001b[0;36m__init__\u001b[0;34m(self, params, defaults)\u001b[0m\n\u001b[1;32m     47\u001b[0m         \u001b[0mparam_groups\u001b[0m \u001b[0;34m=\u001b[0m \u001b[0mlist\u001b[0m\u001b[0;34m(\u001b[0m\u001b[0mparams\u001b[0m\u001b[0;34m)\u001b[0m\u001b[0;34m\u001b[0m\u001b[0;34m\u001b[0m\u001b[0m\n\u001b[1;32m     48\u001b[0m         \u001b[0;32mif\u001b[0m \u001b[0mlen\u001b[0m\u001b[0;34m(\u001b[0m\u001b[0mparam_groups\u001b[0m\u001b[0;34m)\u001b[0m \u001b[0;34m==\u001b[0m \u001b[0;36m0\u001b[0m\u001b[0;34m:\u001b[0m\u001b[0;34m\u001b[0m\u001b[0;34m\u001b[0m\u001b[0m\n\u001b[0;32m---> 49\u001b[0;31m             \u001b[0;32mraise\u001b[0m \u001b[0mValueError\u001b[0m\u001b[0;34m(\u001b[0m\u001b[0;34m\"optimizer got an empty parameter list\"\u001b[0m\u001b[0;34m)\u001b[0m\u001b[0;34m\u001b[0m\u001b[0;34m\u001b[0m\u001b[0m\n\u001b[0m\u001b[1;32m     50\u001b[0m         \u001b[0;32mif\u001b[0m \u001b[0;32mnot\u001b[0m \u001b[0misinstance\u001b[0m\u001b[0;34m(\u001b[0m\u001b[0mparam_groups\u001b[0m\u001b[0;34m[\u001b[0m\u001b[0;36m0\u001b[0m\u001b[0;34m]\u001b[0m\u001b[0;34m,\u001b[0m \u001b[0mdict\u001b[0m\u001b[0;34m)\u001b[0m\u001b[0;34m:\u001b[0m\u001b[0;34m\u001b[0m\u001b[0;34m\u001b[0m\u001b[0m\n\u001b[1;32m     51\u001b[0m             \u001b[0mparam_groups\u001b[0m \u001b[0;34m=\u001b[0m \u001b[0;34m[\u001b[0m\u001b[0;34m{\u001b[0m\u001b[0;34m'params'\u001b[0m\u001b[0;34m:\u001b[0m \u001b[0mparam_groups\u001b[0m\u001b[0;34m}\u001b[0m\u001b[0;34m]\u001b[0m\u001b[0;34m\u001b[0m\u001b[0;34m\u001b[0m\u001b[0m\n",
            "\u001b[0;31mValueError\u001b[0m: optimizer got an empty parameter list"
          ]
        }
      ]
    },
    {
      "cell_type": "markdown",
      "source": [
        "### to collapse"
      ],
      "metadata": {
        "id": "bfw_Ard1YVR7"
      }
    },
    {
      "cell_type": "code",
      "source": [
        "import numpy as np\n",
        "\n",
        "\n",
        "# Dummy training data\n",
        "x_train1 = np.random.random((1000, 300))\n",
        "x_train2 = np.random.random((1000, 300))\n",
        "y_train = np.random.random((1000, 1))\n",
        "\n",
        "# Dummy validation data\n",
        "x_val1 = np.random.random((100, 300))\n",
        "x_val2 = np.random.random((100, 300))\n",
        "y_val = np.random.random((100, 1))\n",
        "\n",
        "\n",
        "print ('Shape of Training Data: ', x_train1.shape, x_train2.shape, y_train.shape)\n",
        "print ('Shape of Validation Data', x_val1.shape, x_val2.shape, y_val.shape)"
      ],
      "metadata": {
        "id": "TXq4IXC-pYRW",
        "outputId": "3c92b12f-ca50-45f5-8aad-36884859581a",
        "colab": {
          "base_uri": "https://localhost:8080/"
        }
      },
      "execution_count": null,
      "outputs": [
        {
          "output_type": "stream",
          "name": "stdout",
          "text": [
            "Shape of Training Data:  (1000, 300) (1000, 300) (1000, 1)\n",
            "Shape of Validation Data (100, 300) (100, 300) (100, 1)\n"
          ]
        }
      ]
    },
    {
      "cell_type": "code",
      "source": [
        "x1, x2 = batching_data([x_train1, x_train2])"
      ],
      "metadata": {
        "id": "7xvVymYO2uAk"
      },
      "execution_count": null,
      "outputs": []
    },
    {
      "cell_type": "code",
      "source": [
        "type(x1)"
      ],
      "metadata": {
        "colab": {
          "base_uri": "https://localhost:8080/"
        },
        "id": "XlE35uqf7ItV",
        "outputId": "d207aaa8-0855-460b-a696-d518aa71506a"
      },
      "execution_count": null,
      "outputs": [
        {
          "output_type": "execute_result",
          "data": {
            "text/plain": [
              "torch.utils.data.dataloader.DataLoader"
            ]
          },
          "metadata": {},
          "execution_count": 47
        }
      ]
    },
    {
      "cell_type": "code",
      "source": [
        "type(x2)"
      ],
      "metadata": {
        "colab": {
          "base_uri": "https://localhost:8080/"
        },
        "id": "7FgpHwh97N1N",
        "outputId": "a3c33fdc-9f83-4248-9e3e-aa8725c1992b"
      },
      "execution_count": null,
      "outputs": [
        {
          "output_type": "execute_result",
          "data": {
            "text/plain": [
              "torch.utils.data.dataloader.DataLoader"
            ]
          },
          "metadata": {},
          "execution_count": 48
        }
      ]
    },
    {
      "cell_type": "markdown",
      "source": [
        "## Tensrflow Version"
      ],
      "metadata": {
        "id": "XYzKkf7VEREB"
      }
    },
    {
      "cell_type": "code",
      "source": [
        "import tensorflow as tf\n",
        "from tensorflow import keras\n",
        "from keras import optimizers\n",
        "from keras import backend as K  # in keras simple computations are not handled directly but it relies on a well optimized tensor handler library\n",
        "from keras.layers import Layer\n",
        "from keras.layers import Input, Dense\n",
        "from keras.models import Model"
      ],
      "metadata": {
        "id": "2zWIRcpstrr1"
      },
      "execution_count": null,
      "outputs": []
    },
    {
      "cell_type": "code",
      "source": [
        "class NeuralTensorLayer(Layer):\n",
        "    def __init__(self, output_dim, input_dim, activation= None):\n",
        "        super().__init__()\n",
        "        self.output_dim = output_dim #The k in the formula\n",
        "        self.input_dim = input_dim   #The d in the formula\n",
        "        self.activation = activation #The f function in the formula\n",
        "        \n",
        "    # called the first time call is called\n",
        "    def build(self, input_shape):\n",
        "        #The initialisation parameters\n",
        "        self.mean = 0.0 \n",
        "        self.stddev = 1.0\n",
        "        dtype = 'float32'\n",
        "        self.seed = 1\n",
        "        \n",
        "        #The output and the inut dimension\n",
        "        k = self.output_dim\n",
        "        d = self.input_dim\n",
        "        \n",
        "        #Initialise the variables to be trained. The variables are according to the\n",
        "        #function defined.\n",
        "        self.W = K.variable(K.random_normal((k,d,d), self.mean, self.stddev,\n",
        "                               dtype=dtype, seed=self.seed))\n",
        "        self.V = K.variable(K.random_normal((2*d,k), self.mean, self.stddev,\n",
        "                               dtype=dtype, seed=self.seed))\n",
        "        self.b = K.zeros((self.input_dim,))\n",
        "        \n",
        "        #Set the variables to be trained.\n",
        "        self._trainable_weights = [self.W, self.V, self.b]\n",
        "        \n",
        "    def call(self, inputs):\n",
        "        \n",
        "        #Get Both the inputs\n",
        "        e1 = inputs[0]\n",
        "        e2 = inputs[1]\n",
        "\n",
        "        tf.print(e1)\n",
        "        tf.print(e2)\n",
        "\n",
        "        #Get the batch size\n",
        "        batch_size = K.shape(e1)[0]\n",
        "        \n",
        "        #The output and the inut dimension\n",
        "        k = self.output_dim\n",
        "        d = self.input_dim\n",
        "\n",
        "        #The first term in the function which is the bilinear product is calculated here.\n",
        "        first_term_k = [K.sum((e2 * K.dot(e1, self.W[0])) + self.b, axis=1)]\n",
        "        for i in range(1, k):\n",
        "            temp = K.sum((e2 * K.dot(e1, self.W[i])) + self.b, axis=1)\n",
        "            first_term_k.append(temp)\n",
        "        first_term = K.reshape(K.concatenate(first_term_k, axis=0), (batch_size, k))\n",
        "\n",
        "        #The second term in the function is calculated here.\n",
        "        second_term = K.dot(K.concatenate([e1,e2]), self.V)\n",
        "        \n",
        "        #Sum of the two terms to get the final function\n",
        "        z =  first_term + second_term\n",
        " \n",
        "        # The activation is selected here\n",
        "        if (self.activation == None):\n",
        "            return z\n",
        "        elif (self.activation == 'tanh'):\n",
        "            return K.tanh(z)\n",
        "        elif (self.activation == 'relu'):\n",
        "            return K.relu(z)\n",
        "        else :\n",
        "            print ('Activation not found')"
      ],
      "metadata": {
        "id": "7c9WtJoGtl1b"
      },
      "execution_count": null,
      "outputs": []
    },
    {
      "cell_type": "code",
      "source": [
        "import numpy as np\n",
        "\n",
        "\n",
        "# Dummy training data\n",
        "x_train1 = np.random.random((1000, 300))\n",
        "x_train2 = np.random.random((1000, 300))\n",
        "y_train = np.random.random((1000, 1))\n",
        "\n",
        "# Dummy validation data\n",
        "x_val1 = np.random.random((100, 300))\n",
        "x_val2 = np.random.random((100, 300))\n",
        "y_val = np.random.random((100, 1))\n",
        "\n",
        "print ('Shape of Training Data: ', x_train1.shape, x_train2.shape, y_train.shape)\n",
        "print ('Shape of Validation Data', x_val1.shape, x_val2.shape, y_val.shape)\n"
      ],
      "metadata": {
        "colab": {
          "base_uri": "https://localhost:8080/"
        },
        "id": "YxiWrtEXuoJ7",
        "outputId": "c1cca00d-0307-48ab-f180-3a7c4d0599c9"
      },
      "execution_count": null,
      "outputs": [
        {
          "output_type": "stream",
          "name": "stdout",
          "text": [
            "Shape of Training Data:  (1000, 300) (1000, 300) (1000, 1)\n",
            "Shape of Validation Data (100, 300) (100, 300) (100, 1)\n"
          ]
        }
      ]
    },
    {
      "cell_type": "code",
      "source": [
        "#Here Define the model\n",
        "vector1 = Input(shape=(10,), dtype='float32')\n",
        "vector2 = Input(shape=(10,), dtype='float32')\n",
        "BilinearLayer = NeuralTensorLayer(output_dim=32, input_dim=10, \n",
        "                                  activation= 'relu')([vector1, vector2])\n",
        "\n",
        "g = Dense(1)(BilinearLayer)\n",
        "\n",
        "#The g or the output of the modelled function.\n",
        "model = Model(inputs=[vector1, vector2], outputs=[g])\n",
        "\n",
        "#Compile the model\n",
        "adam = keras.optimizers.Adam(learning_rate=0.001)\n",
        "model.compile(loss='mean_squared_error', optimizer=adam)\n",
        "#The summary of the model.\n",
        "model.summary()"
      ],
      "metadata": {
        "colab": {
          "base_uri": "https://localhost:8080/"
        },
        "id": "ssnK68owuovX",
        "outputId": "22d00b79-4cab-421c-87df-5a659b48453c"
      },
      "execution_count": null,
      "outputs": [
        {
          "output_type": "stream",
          "name": "stdout",
          "text": [
            "Model: \"model_11\"\n",
            "__________________________________________________________________________________________________\n",
            " Layer (type)                   Output Shape         Param #     Connected to                     \n",
            "==================================================================================================\n",
            " input_35 (InputLayer)          [(None, 10)]         0           []                               \n",
            "                                                                                                  \n",
            " input_36 (InputLayer)          [(None, 10)]         0           []                               \n",
            "                                                                                                  \n",
            " neural_tensor_layer_17 (Neural  (None, 32)          3850        ['input_35[0][0]',               \n",
            " TensorLayer)                                                     'input_36[0][0]']               \n",
            "                                                                                                  \n",
            " dense_13 (Dense)               (None, 1)            33          ['neural_tensor_layer_17[0][0]'] \n",
            "                                                                                                  \n",
            "==================================================================================================\n",
            "Total params: 3,883\n",
            "Trainable params: 3,883\n",
            "Non-trainable params: 0\n",
            "__________________________________________________________________________________________________\n"
          ]
        }
      ]
    },
    {
      "cell_type": "code",
      "source": [
        "model.fit([x_train1, x_train2], y_train,\n",
        "          batch_size=64, epochs=10,\n",
        "          validation_data=([x_val1, x_val2], y_val))"
      ],
      "metadata": {
        "id": "8uGv2VC0uz_k"
      },
      "execution_count": null,
      "outputs": []
    },
    {
      "cell_type": "code",
      "source": [
        "from keras.utils.vis_utils import plot_model\n",
        "\n",
        "plot_model(model)"
      ],
      "metadata": {
        "colab": {
          "base_uri": "https://localhost:8080/",
          "height": 272
        },
        "id": "SHOYAvffxwwl",
        "outputId": "48caa036-93eb-484a-bb86-a852b5801a53"
      },
      "execution_count": null,
      "outputs": [
        {
          "output_type": "execute_result",
          "data": {
            "image/png": "[encoded data removed]",
            "text/plain": [
              "<IPython.core.display.Image object>"
            ]
          },
          "metadata": {},
          "execution_count": 110
        }
      ]
    },
    {
      "cell_type": "code",
      "source": [
        "ll = []\n",
        "i = np.array([1,2,3,4,5,6,7,8,9,10])\n",
        "ll.append(i)\n",
        "for k in range(0,10):\n",
        "    ll.append(np.zeros(i.shape))\n",
        "\n",
        "print(ll)\n",
        "\n",
        "\n",
        "l = []\n",
        "\n",
        "j = np.array([11,12,13,14,15,16,17,18,19,20])\n",
        "l.append(j)\n",
        "for z in range(0,10):\n",
        "    l.append(np.ones(j.shape))\n",
        "\n",
        "print(l)\n",
        "\n",
        "print(np.array(l).shape)\n",
        "print(np.array(ll).shape)\n",
        "\n",
        "y = np.random.random((len(l),1))\n",
        "y.shape"
      ],
      "metadata": {
        "id": "k_8bE3iA_q8U",
        "outputId": "85489be2-757d-45b4-ca17-36d5ee4e777c",
        "colab": {
          "base_uri": "https://localhost:8080/"
        }
      },
      "execution_count": null,
      "outputs": [
        {
          "output_type": "stream",
          "name": "stdout",
          "text": [
            "[array([ 1,  2,  3,  4,  5,  6,  7,  8,  9, 10]), array([0., 0., 0., 0., 0., 0., 0., 0., 0., 0.]), array([0., 0., 0., 0., 0., 0., 0., 0., 0., 0.]), array([0., 0., 0., 0., 0., 0., 0., 0., 0., 0.]), array([0., 0., 0., 0., 0., 0., 0., 0., 0., 0.]), array([0., 0., 0., 0., 0., 0., 0., 0., 0., 0.]), array([0., 0., 0., 0., 0., 0., 0., 0., 0., 0.]), array([0., 0., 0., 0., 0., 0., 0., 0., 0., 0.]), array([0., 0., 0., 0., 0., 0., 0., 0., 0., 0.]), array([0., 0., 0., 0., 0., 0., 0., 0., 0., 0.]), array([0., 0., 0., 0., 0., 0., 0., 0., 0., 0.])]\n",
            "[array([11, 12, 13, 14, 15, 16, 17, 18, 19, 20]), array([1., 1., 1., 1., 1., 1., 1., 1., 1., 1.]), array([1., 1., 1., 1., 1., 1., 1., 1., 1., 1.]), array([1., 1., 1., 1., 1., 1., 1., 1., 1., 1.]), array([1., 1., 1., 1., 1., 1., 1., 1., 1., 1.]), array([1., 1., 1., 1., 1., 1., 1., 1., 1., 1.]), array([1., 1., 1., 1., 1., 1., 1., 1., 1., 1.]), array([1., 1., 1., 1., 1., 1., 1., 1., 1., 1.]), array([1., 1., 1., 1., 1., 1., 1., 1., 1., 1.]), array([1., 1., 1., 1., 1., 1., 1., 1., 1., 1.]), array([1., 1., 1., 1., 1., 1., 1., 1., 1., 1.])]\n",
            "(11, 10)\n",
            "(11, 10)\n"
          ]
        },
        {
          "output_type": "execute_result",
          "data": {
            "text/plain": [
              "(11, 1)"
            ]
          },
          "metadata": {},
          "execution_count": 118
        }
      ]
    },
    {
      "cell_type": "code",
      "source": [
        "model.fit(([np.array(ll), np.array(l)]), y, batch_size=4, epochs=10)"
      ],
      "metadata": {
        "id": "gpLKGofgrq29",
        "outputId": "36ebea57-86e7-40a6-a9f0-35ff27c0582c",
        "colab": {
          "base_uri": "https://localhost:8080/"
        }
      },
      "execution_count": null,
      "outputs": [
        {
          "output_type": "stream",
          "name": "stdout",
          "text": [
            "Epoch 1/10\n",
            "[[0 0 0 ... 0 0 0]\n",
            " [0 0 0 ... 0 0 0]\n",
            " [0 0 0 ... 0 0 0]\n",
            " [0 0 0 ... 0 0 0]]\n",
            "[[1 1 1 ... 1 1 1]\n",
            " [1 1 1 ... 1 1 1]\n",
            " [1 1 1 ... 1 1 1]\n",
            " [1 1 1 ... 1 1 1]]\n",
            "1/3 [=========>....................] - ETA: 0s - loss: 24.9693[[0 0 0 ... 0 0 0]\n",
            " [1 2 3 ... 8 9 10]\n",
            " [0 0 0 ... 0 0 0]\n",
            " [0 0 0 ... 0 0 0]]\n",
            "[[1 1 1 ... 1 1 1]\n",
            " [11 12 13 ... 18 19 20]\n",
            " [1 1 1 ... 1 1 1]\n",
            " [1 1 1 ... 1 1 1]]\n",
            "[[0 0 0 ... 0 0 0]\n",
            " [0 0 0 ... 0 0 0]\n",
            " [0 0 0 ... 0 0 0]]\n",
            "[[1 1 1 ... 1 1 1]\n",
            " [1 1 1 ... 1 1 1]\n",
            " [1 1 1 ... 1 1 1]]\n",
            "3/3 [==============================] - 0s 17ms/step - loss: 55296.9531\n",
            "Epoch 2/10\n",
            "[[0 0 0 ... 0 0 0]\n",
            " [0 0 0 ... 0 0 0]\n",
            " [0 0 0 ... 0 0 0]\n",
            " [0 0 0 ... 0 0 0]]\n",
            "[[1 1 1 ... 1 1 1]\n",
            " [1 1 1 ... 1 1 1]\n",
            " [1 1 1 ... 1 1 1]\n",
            " [1 1 1 ... 1 1 1]]\n",
            "1/3 [=========>....................] - ETA: 0s - loss: 22.0459[[0 0 0 ... 0 0 0]\n",
            " [1 2 3 ... 8 9 10]\n",
            " [0 0 0 ... 0 0 0]\n",
            " [0 0 0 ... 0 0 0]]\n",
            "[[1 1 1 ... 1 1 1]\n",
            " [11 12 13 ... 18 19 20]\n",
            " [1 1 1 ... 1 1 1]\n",
            " [1 1 1 ... 1 1 1]]\n",
            "[[0 0 0 ... 0 0 0]\n",
            " [0 0 0 ... 0 0 0]\n",
            " [0 0 0 ... 0 0 0]]\n",
            "[[1 1 1 ... 1 1 1]\n",
            " [1 1 1 ... 1 1 1]\n",
            " [1 1 1 ... 1 1 1]]\n",
            "3/3 [==============================] - 0s 16ms/step - loss: 52723.6250\n",
            "Epoch 3/10\n",
            "[[0 0 0 ... 0 0 0]\n",
            " [0 0 0 ... 0 0 0]\n",
            " [0 0 0 ... 0 0 0]\n",
            " [0 0 0 ... 0 0 0]]\n",
            "[[1 1 1 ... 1 1 1]\n",
            " [1 1 1 ... 1 1 1]\n",
            " [1 1 1 ... 1 1 1]\n",
            " [1 1 1 ... 1 1 1]]\n",
            "1/3 [=========>....................] - ETA: 0s - loss: 24.0815[[0 0 0 ... 0 0 0]\n",
            " [1 2 3 ... 8 9 10]\n",
            " [0 0 0 ... 0 0 0]\n",
            " [0 0 0 ... 0 0 0]]\n",
            "[[1 1 1 ... 1 1 1]\n",
            " [11 12 13 ... 18 19 20]\n",
            " [1 1 1 ... 1 1 1]\n",
            " [1 1 1 ... 1 1 1]]\n",
            "[[0 0 0 ... 0 0 0]\n",
            " [0 0 0 ... 0 0 0]\n",
            " [0 0 0 ... 0 0 0]]\n",
            "[[1 1 1 ... 1 1 1]\n",
            " [1 1 1 ... 1 1 1]\n",
            " [1 1 1 ... 1 1 1]]\n",
            "3/3 [==============================] - 0s 16ms/step - loss: 49257.1250\n",
            "Epoch 4/10\n",
            "[[0 0 0 ... 0 0 0]\n",
            " [0 0 0 ... 0 0 0]\n",
            " [0 0 0 ... 0 0 0]\n",
            " [1 2 3 ... 8 9 10]]\n",
            "[[1 1 1 ... 1 1 1]\n",
            " [1 1 1 ... 1 1 1]\n",
            " [1 1 1 ... 1 1 1]\n",
            " [11 12 13 ... 18 19 20]]\n",
            "1/3 [=========>....................] - ETA: 0s - loss: 232299.7969[[0 0 0 ... 0 0 0]\n",
            " [0 0 0 ... 0 0 0]\n",
            " [0 0 0 ... 0 0 0]\n",
            " [0 0 0 ... 0 0 0]]\n",
            "[[1 1 1 ... 1 1 1]\n",
            " [1 1 1 ... 1 1 1]\n",
            " [1 1 1 ... 1 1 1]\n",
            " [1 1 1 ... 1 1 1]]\n",
            "[[0 0 0 ... 0 0 0]\n",
            " [0 0 0 ... 0 0 0]\n",
            " [0 0 0 ... 0 0 0]]\n",
            "[[1 1 1 ... 1 1 1]\n",
            " [1 1 1 ... 1 1 1]\n",
            " [1 1 1 ... 1 1 1]]\n",
            "3/3 [==============================] - 0s 17ms/step - loss: 84486.7422\n",
            "Epoch 5/10\n",
            "[[0 0 0 ... 0 0 0]\n",
            " [0 0 0 ... 0 0 0]\n",
            " [0 0 0 ... 0 0 0]\n",
            " [0 0 0 ... 0 0 0]]\n",
            "[[1 1 1 ... 1 1 1]\n",
            " [1 1 1 ... 1 1 1]\n",
            " [1 1 1 ... 1 1 1]\n",
            " [1 1 1 ... 1 1 1]]\n",
            "1/3 [=========>....................] - ETA: 0s - loss: 23.1153[[0 0 0 ... 0 0 0]\n",
            " [0 0 0 ... 0 0 0]\n",
            " [1 2 3 ... 8 9 10]\n",
            " [0 0 0 ... 0 0 0]]\n",
            "[[1 1 1 ... 1 1 1]\n",
            " [1 1 1 ... 1 1 1]\n",
            " [11 12 13 ... 18 19 20]\n",
            " [1 1 1 ... 1 1 1]]\n",
            "[[0 0 0 ... 0 0 0]\n",
            " [0 0 0 ... 0 0 0]\n",
            " [0 0 0 ... 0 0 0]]\n",
            "[[1 1 1 ... 1 1 1]\n",
            " [1 1 1 ... 1 1 1]\n",
            " [1 1 1 ... 1 1 1]]\n",
            "3/3 [==============================] - 0s 19ms/step - loss: 29888.4434\n",
            "Epoch 6/10\n",
            "[[0 0 0 ... 0 0 0]\n",
            " [0 0 0 ... 0 0 0]\n",
            " [0 0 0 ... 0 0 0]\n",
            " [0 0 0 ... 0 0 0]]\n",
            "[[1 1 1 ... 1 1 1]\n",
            " [1 1 1 ... 1 1 1]\n",
            " [1 1 1 ... 1 1 1]\n",
            " [1 1 1 ... 1 1 1]]\n",
            "1/3 [=========>....................] - ETA: 0s - loss: 20.3125[[0 0 0 ... 0 0 0]\n",
            " [0 0 0 ... 0 0 0]\n",
            " [0 0 0 ... 0 0 0]\n",
            " [1 2 3 ... 8 9 10]]\n",
            "[[1 1 1 ... 1 1 1]\n",
            " [1 1 1 ... 1 1 1]\n",
            " [1 1 1 ... 1 1 1]\n",
            " [11 12 13 ... 18 19 20]]\n",
            "[[0 0 0 ... 0 0 0]\n",
            " [0 0 0 ... 0 0 0]\n",
            " [0 0 0 ... 0 0 0]]\n",
            "[[1 1 1 ... 1 1 1]\n",
            " [1 1 1 ... 1 1 1]\n",
            " [1 1 1 ... 1 1 1]]\n",
            "3/3 [==============================] - 0s 17ms/step - loss: 79863.0469\n",
            "Epoch 7/10\n",
            "[[0 0 0 ... 0 0 0]\n",
            " [0 0 0 ... 0 0 0]\n",
            " [0 0 0 ... 0 0 0]\n",
            " [1 2 3 ... 8 9 10]]\n",
            "[[1 1 1 ... 1 1 1]\n",
            " [1 1 1 ... 1 1 1]\n",
            " [1 1 1 ... 1 1 1]\n",
            " [11 12 13 ... 18 19 20]]\n",
            "1/3 [=========>....................] - ETA: 0s - loss: 214036.5938[[0 0 0 ... 0 0 0]\n",
            " [0 0 0 ... 0 0 0]\n",
            " [0 0 0 ... 0 0 0]\n",
            " [0 0 0 ... 0 0 0]]\n",
            "[[1 1 1 ... 1 1 1]\n",
            " [1 1 1 ... 1 1 1]\n",
            " [1 1 1 ... 1 1 1]\n",
            " [1 1 1 ... 1 1 1]]\n",
            "[[0 0 0 ... 0 0 0]\n",
            " [0 0 0 ... 0 0 0]\n",
            " [0 0 0 ... 0 0 0]]\n",
            "[[1 1 1 ... 1 1 1]\n",
            " [1 1 1 ... 1 1 1]\n",
            " [1 1 1 ... 1 1 1]]\n",
            "3/3 [==============================] - 0s 16ms/step - loss: 77845.0703\n",
            "Epoch 8/10\n",
            "[[0 0 0 ... 0 0 0]\n",
            " [0 0 0 ... 0 0 0]\n",
            " [0 0 0 ... 0 0 0]\n",
            " [0 0 0 ... 0 0 0]]\n",
            "[[1 1 1 ... 1 1 1]\n",
            " [1 1 1 ... 1 1 1]\n",
            " [1 1 1 ... 1 1 1]\n",
            " [1 1 1 ... 1 1 1]]\n",
            "1/3 [=========>....................] - ETA: 0s - loss: 23.1210[[0 0 0 ... 0 0 0]\n",
            " [1 2 3 ... 8 9 10]\n",
            " [0 0 0 ... 0 0 0]\n",
            " [0 0 0 ... 0 0 0]]\n",
            "[[1 1 1 ... 1 1 1]\n",
            " [11 12 13 ... 18 19 20]\n",
            " [1 1 1 ... 1 1 1]\n",
            " [1 1 1 ... 1 1 1]]\n",
            "[[0 0 0 ... 0 0 0]\n",
            " [0 0 0 ... 0 0 0]\n",
            " [0 0 0 ... 0 0 0]]\n",
            "[[1 1 1 ... 1 1 1]\n",
            " [1 1 1 ... 1 1 1]\n",
            " [1 1 1 ... 1 1 1]]\n",
            "3/3 [==============================] - 0s 16ms/step - loss: 37405.0781\n",
            "Epoch 9/10\n",
            "[[0 0 0 ... 0 0 0]\n",
            " [0 0 0 ... 0 0 0]\n",
            " [0 0 0 ... 0 0 0]\n",
            " [0 0 0 ... 0 0 0]]\n",
            "[[1 1 1 ... 1 1 1]\n",
            " [1 1 1 ... 1 1 1]\n",
            " [1 1 1 ... 1 1 1]\n",
            " [1 1 1 ... 1 1 1]]\n",
            "1/3 [=========>....................] - ETA: 0s - loss: 21.8295[[0 0 0 ... 0 0 0]\n",
            " [0 0 0 ... 0 0 0]\n",
            " [0 0 0 ... 0 0 0]\n",
            " [1 2 3 ... 8 9 10]]\n",
            "[[1 1 1 ... 1 1 1]\n",
            " [1 1 1 ... 1 1 1]\n",
            " [1 1 1 ... 1 1 1]\n",
            " [11 12 13 ... 18 19 20]]\n",
            "[[0 0 0 ... 0 0 0]\n",
            " [0 0 0 ... 0 0 0]\n",
            " [0 0 0 ... 0 0 0]]\n",
            "[[1 1 1 ... 1 1 1]\n",
            " [1 1 1 ... 1 1 1]\n",
            " [1 1 1 ... 1 1 1]]\n",
            "3/3 [==============================] - 0s 18ms/step - loss: 70559.7266\n",
            "Epoch 10/10\n",
            "[[0 0 0 ... 0 0 0]\n",
            " [0 0 0 ... 0 0 0]\n",
            " [0 0 0 ... 0 0 0]\n",
            " [0 0 0 ... 0 0 0]]\n",
            "[[1 1 1 ... 1 1 1]\n",
            " [1 1 1 ... 1 1 1]\n",
            " [1 1 1 ... 1 1 1]\n",
            " [1 1 1 ... 1 1 1]]\n",
            "1/3 [=========>....................] - ETA: 0s - loss: 21.3914[[0 0 0 ... 0 0 0]\n",
            " [1 2 3 ... 8 9 10]\n",
            " [0 0 0 ... 0 0 0]\n",
            " [0 0 0 ... 0 0 0]]\n",
            "[[1 1 1 ... 1 1 1]\n",
            " [11 12 13 ... 18 19 20]\n",
            " [1 1 1 ... 1 1 1]\n",
            " [1 1 1 ... 1 1 1]]\n",
            "[[0 0 0 ... 0 0 0]\n",
            " [0 0 0 ... 0 0 0]\n",
            " [0 0 0 ... 0 0 0]]\n",
            "[[1 1 1 ... 1 1 1]\n",
            " [1 1 1 ... 1 1 1]\n",
            " [1 1 1 ... 1 1 1]]\n",
            "3/3 [==============================] - 0s 16ms/step - loss: 33952.4648\n"
          ]
        },
        {
          "output_type": "execute_result",
          "data": {
            "text/plain": [
              "<keras.callbacks.History at 0x7f0581110f50>"
            ]
          },
          "metadata": {},
          "execution_count": 119
        }
      ]
    },
    {
      "cell_type": "code",
      "source": [],
      "metadata": {
        "id": "C_Bll6SNu12J"
      },
      "execution_count": null,
      "outputs": []
    }
  ]
}