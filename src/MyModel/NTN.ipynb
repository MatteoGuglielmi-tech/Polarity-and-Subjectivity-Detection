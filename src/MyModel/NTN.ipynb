{
  "nbformat": 4,
  "nbformat_minor": 0,
  "metadata": {
    "colab": {
      "provenance": [],
      "include_colab_link": true
    },
    "kernelspec": {
      "name": "python3",
      "display_name": "Python 3"
    },
    "language_info": {
      "name": "python"
    },
    "gpuClass": "standard",
    "accelerator": "GPU"
  },
  "cells": [
    {
      "cell_type": "markdown",
      "metadata": {
        "id": "view-in-github",
        "colab_type": "text"
      },
      "source": [
        "<a href=\"https://colab.research.google.com/github/MatteoGuglielmi-tech/Polarity-and-Subjectivity-Detection/blob/main/src/MyModel/NTN.ipynb\" target=\"_parent\"><img src=\"https://colab.research.google.com/assets/colab-badge.svg\" alt=\"Open In Colab\"/></a>"
      ]
    },
    {
      "cell_type": "markdown",
      "source": [
        "### NTN (Neural Tensor Network) [[reference_paper](https://proceedings.neurips.cc/paper/2013/file/b337e84de8752b27eda3a12363109e80-Paper.pdf)]\n",
        "\n",
        "<u><i>Goal</i></u> : state if two entities $(e_1, e_2)$ are in a certain relationship $R$.   \n",
        ">Ex. defines whehter $$(e_1, R, e_2) = (\\text{Bengal tiger}, \\text{has part}, \\text{tail})$$ is true and with which certainty.\n",
        "\n",
        "- $e_1$ and $e_2$ are vector representations or features of the two entities.\n",
        "- NTN, unlike a linear canoncical NN layer, uses a bilinear tensor layer that directly relates two entity vectors across differet dimensions.\n",
        "- Model computes a score of how likely it is two entities are in a specific position following : $$g(e_1, R, e_2) = u_R^Tf\\biggr(e_i^T W_R^{[1:K]}e_2+V_R \\begin{align}\n",
        "    \\begin{bmatrix}\n",
        "           e_{1} \\\\\n",
        "           e_{2} \\\\\n",
        "         \\end{bmatrix}\n",
        "  \\end{align} + b_R\\Biggl)$$  \n",
        "where : \n",
        "- $f=\\tanh$\n",
        "- $W_R^{[1:K]} \\in \\mathbb{R}^{d\\times d\\times k}$ is a multi-dimensional tensor\n",
        "- $e_1^TW_R^{[1:k]}e_2=h\\in\\mathbb{R}$ is the bilinear tensor\n",
        "- $V_R \\in \\mathbb{R}^{k\\times2d}$, $U \\in \\mathbb{R}^K$, $b_R\\in \\mathbb{R}^K$ are NN parameters\n",
        "\n",
        "\n"
      ],
      "metadata": {
        "id": "KuB3DKrgQfSL"
      }
    },
    {
      "cell_type": "markdown",
      "source": [
        "##### pytorch trials"
      ],
      "metadata": {
        "id": "Tq-h_R_lEKwr"
      }
    },
    {
      "cell_type": "code",
      "execution_count": 1,
      "metadata": {
        "id": "4WlxO-pC-Pmo"
      },
      "outputs": [],
      "source": [
        "import torch\n",
        "import torch.nn as nn\n",
        "from typing import Tuple, List\n",
        "import numpy as np\n",
        "from torch.utils.data import DataLoader, RandomSampler, SequentialSampler"
      ]
    },
    {
      "cell_type": "code",
      "source": [
        "class NeuralTensorNetwork(nn.Module):\n",
        "    def __init__(self, output_dim: int, input_dim: int, activation: str=\"tanh\", mean: float=0.0, std: float=1.0):\n",
        "        \n",
        "        super(NeuralTensorNetwork, self).__init__()\n",
        "\n",
        "        # setting input and output dimensions\n",
        "        self.k = output_dim\n",
        "        self.d = input_dim # e1,e2\n",
        "\n",
        "        # setting mean and std for random initialization\n",
        "        self.mean = mean\n",
        "        self.std = std\n",
        "\n",
        "        self.activation = activation\n",
        "\n",
        "        # parameters has been used in order to consider W, V, b as model parameters\n",
        "        # inference -> they'll be optimized\n",
        "\n",
        "        # normal sampling -> https://pytorch.org/docs/stable/generated/torch.normal.html\n",
        "        # parameter -> https://pytorch.org/docs/stable/generated/torch.nn.parameter.Parameter.html#torch.nn.parameter.Parameter\n",
        "        self.W = nn.Parameter(torch.normal(self.mean, self.std, size=(self.k, self.d, self.d)))\n",
        "        self.V = nn.Parameter(torch.normal(self.mean, self.std, size=(2*self.d, self.k)))\n",
        "        self.b = nn.Parameter(torch.zeros(size=(self.d,)))\n",
        "        \n",
        "        print(f\"self.W : {torch.Tensor.size(self.W)}\")\n",
        "        print(f\"self.V : {torch.Tensor.size(self.V)}\")\n",
        "        print(f\"self.b : {torch.Tensor.size(self.b)}\")\n",
        "        \n",
        "        if activation == 'tanh':\n",
        "            self.activation = nn.Tanh()\n",
        "        elif activation == 'sigmoid':\n",
        "            self.activation = nn.Sigmoid()\n",
        "        elif self.activation == 'relu':\n",
        "            self.activation = nn.ReLU()\n",
        "        # checking for a good activation function\n",
        "        else:\n",
        "            raise ValueError('Possible activation choices are tanh, sigmoid or ReLU')\n",
        "\n",
        "    def forward(self, inputs: List[torch.Tensor]) -> torch.Tensor:\n",
        "\n",
        "        # getting the entities\n",
        "        e1 = inputs[0]\n",
        "        e2 = inputs[1]\n",
        "        print(f\"e1.shape : {torch.Tensor.size(e1)}\")\n",
        "        print(f\"e2.shape : {torch.Tensor.size(e2)}\")\n",
        "        print(f\"self.W[0] : {torch.Tensor.size(self.W[0])}\")\n",
        "        print(f\"self.V : {torch.Tensor.size(self.V)}\")\n",
        "        print(f\"self.bias : {torch.Tensor.size(self.b)}\")\n",
        "\n",
        "        # input tensor should be of shape (batch_size, padded_length, 768)\n",
        "        batch_size = e1[0]\n",
        "        k = self.k\n",
        "        d = self.d\n",
        "\n",
        "        print(f\"dot prod : {torch.matmul(e1, self.W[0])}\")\n",
        "        print(f\"dot prod size: {torch.Tensor.size(torch.matmul(e1, self.W[0]))}\")\n",
        "\n",
        "        # bilinear tensor + bias\n",
        "        #bil_bias = [torch.sum((e2 * torch.tensordot(e1, self.W[0], dims=(batch_size, d))) + self.b, axis=1)]\n",
        "        \n",
        "        #for i in range(1,k):\n",
        "        #    bil_bias.append(torch.sum((e2*torch.tensordot(e1, self.W[i], dims=1))) + self.b, axis=1)\n",
        "        #bil_bias = torch.reshape(torch.cat(bil_bias, axis=0), (batch_size, k))\n",
        "\n",
        "        # Vr * [e1, e2]\n",
        "        #rest = torch.dot(torch.cat([e1,e2]), self.V)\n",
        "\n",
        "        #e1_R_e2 = bil_bias + rest\n",
        "\n",
        "        # applying activation\n",
        "        #f = self.activation(e1_R_e2)\n",
        "        #return f"
      ],
      "metadata": {
        "id": "-anTmLwuTLvR"
      },
      "execution_count": 305,
      "outputs": []
    },
    {
      "cell_type": "code",
      "source": [
        "def batching_data(dataset, batch_size: int=64) -> torch.utils.data.DataLoader:\n",
        "    dataloader = DataLoader(dataset=dataset, sampler=RandomSampler(dataset), batch_size=batch_size, shuffle=False)\n",
        "    return dataloader"
      ],
      "metadata": {
        "id": "FtBwT8k8z-89"
      },
      "execution_count": 292,
      "outputs": []
    },
    {
      "cell_type": "code",
      "source": [
        "ll = []\n",
        "i = np.array([1,2,3,4,5,6,7,8,9,10])\n",
        "ll.append(i)\n",
        "for k in range(0,10):\n",
        "    ll.append(np.zeros(i.shape))\n",
        "\n",
        "print(ll)\n",
        "\n",
        "\n",
        "l = []\n",
        "\n",
        "j = np.array([11,12,13,14,15,16,17,18,19,20])\n",
        "l.append(j)\n",
        "for z in range(0,10):\n",
        "    l.append(np.ones(j.shape))\n",
        "\n",
        "print(l)\n",
        "\n",
        "print(np.array(l).shape)\n",
        "print(np.array(ll).shape)\n",
        "\n",
        "y = np.random.random((len(l),1))\n",
        "y.shape"
      ],
      "metadata": {
        "outputId": "420b068c-db7b-4734-a526-70f15a96c4f6",
        "colab": {
          "base_uri": "https://localhost:8080/"
        },
        "id": "-qxlLJz7YbBm"
      },
      "execution_count": 293,
      "outputs": [
        {
          "output_type": "stream",
          "name": "stdout",
          "text": [
            "[array([ 1,  2,  3,  4,  5,  6,  7,  8,  9, 10]), array([0., 0., 0., 0., 0., 0., 0., 0., 0., 0.]), array([0., 0., 0., 0., 0., 0., 0., 0., 0., 0.]), array([0., 0., 0., 0., 0., 0., 0., 0., 0., 0.]), array([0., 0., 0., 0., 0., 0., 0., 0., 0., 0.]), array([0., 0., 0., 0., 0., 0., 0., 0., 0., 0.]), array([0., 0., 0., 0., 0., 0., 0., 0., 0., 0.]), array([0., 0., 0., 0., 0., 0., 0., 0., 0., 0.]), array([0., 0., 0., 0., 0., 0., 0., 0., 0., 0.]), array([0., 0., 0., 0., 0., 0., 0., 0., 0., 0.]), array([0., 0., 0., 0., 0., 0., 0., 0., 0., 0.])]\n",
            "[array([11, 12, 13, 14, 15, 16, 17, 18, 19, 20]), array([1., 1., 1., 1., 1., 1., 1., 1., 1., 1.]), array([1., 1., 1., 1., 1., 1., 1., 1., 1., 1.]), array([1., 1., 1., 1., 1., 1., 1., 1., 1., 1.]), array([1., 1., 1., 1., 1., 1., 1., 1., 1., 1.]), array([1., 1., 1., 1., 1., 1., 1., 1., 1., 1.]), array([1., 1., 1., 1., 1., 1., 1., 1., 1., 1.]), array([1., 1., 1., 1., 1., 1., 1., 1., 1., 1.]), array([1., 1., 1., 1., 1., 1., 1., 1., 1., 1.]), array([1., 1., 1., 1., 1., 1., 1., 1., 1., 1.]), array([1., 1., 1., 1., 1., 1., 1., 1., 1., 1.])]\n",
            "(11, 10)\n",
            "(11, 10)\n"
          ]
        },
        {
          "output_type": "execute_result",
          "data": {
            "text/plain": [
              "(11, 1)"
            ]
          },
          "metadata": {},
          "execution_count": 293
        }
      ]
    },
    {
      "cell_type": "code",
      "source": [
        "e1_dataloader = batching_data(np.array(ll), batch_size=4)\n",
        "e2_dataloader = batching_data(np.array(l), batch_size=4)"
      ],
      "metadata": {
        "id": "jVIm2yo9gzLB"
      },
      "execution_count": 294,
      "outputs": []
    },
    {
      "cell_type": "code",
      "source": [
        "e1_dataloader"
      ],
      "metadata": {
        "id": "BABMrSGzhU_t",
        "outputId": "4936344c-18ba-4d8c-91b6-d54e5f98e9b6",
        "colab": {
          "base_uri": "https://localhost:8080/"
        }
      },
      "execution_count": 295,
      "outputs": [
        {
          "output_type": "execute_result",
          "data": {
            "text/plain": [
              "<torch.utils.data.dataloader.DataLoader at 0x7f408e632c10>"
            ]
          },
          "metadata": {},
          "execution_count": 295
        }
      ]
    },
    {
      "cell_type": "code",
      "source": [
        "e2_dataloader"
      ],
      "metadata": {
        "id": "oc9Gy7bdjfKe",
        "outputId": "ef439b04-b74b-4483-f3fd-d4f7e9971852",
        "colab": {
          "base_uri": "https://localhost:8080/"
        }
      },
      "execution_count": 296,
      "outputs": [
        {
          "output_type": "execute_result",
          "data": {
            "text/plain": [
              "<torch.utils.data.dataloader.DataLoader at 0x7f408e6a5110>"
            ]
          },
          "metadata": {},
          "execution_count": 296
        }
      ]
    },
    {
      "cell_type": "code",
      "source": [
        "for idx, i in enumerate(iter(e2_dataloader)):\n",
        "    for element in i :\n",
        "        print(idx, element)"
      ],
      "metadata": {
        "id": "TL4SNMYbOjJd",
        "outputId": "13fcdf3e-bcd7-4852-f1fe-a3811ade4fa3",
        "colab": {
          "base_uri": "https://localhost:8080/"
        }
      },
      "execution_count": 297,
      "outputs": [
        {
          "output_type": "stream",
          "name": "stdout",
          "text": [
            "0 tensor([1., 1., 1., 1., 1., 1., 1., 1., 1., 1.], dtype=torch.float64)\n",
            "0 tensor([1., 1., 1., 1., 1., 1., 1., 1., 1., 1.], dtype=torch.float64)\n",
            "0 tensor([1., 1., 1., 1., 1., 1., 1., 1., 1., 1.], dtype=torch.float64)\n",
            "0 tensor([1., 1., 1., 1., 1., 1., 1., 1., 1., 1.], dtype=torch.float64)\n",
            "1 tensor([1., 1., 1., 1., 1., 1., 1., 1., 1., 1.], dtype=torch.float64)\n",
            "1 tensor([1., 1., 1., 1., 1., 1., 1., 1., 1., 1.], dtype=torch.float64)\n",
            "1 tensor([1., 1., 1., 1., 1., 1., 1., 1., 1., 1.], dtype=torch.float64)\n",
            "1 tensor([1., 1., 1., 1., 1., 1., 1., 1., 1., 1.], dtype=torch.float64)\n",
            "2 tensor([11., 12., 13., 14., 15., 16., 17., 18., 19., 20.], dtype=torch.float64)\n",
            "2 tensor([1., 1., 1., 1., 1., 1., 1., 1., 1., 1.], dtype=torch.float64)\n",
            "2 tensor([1., 1., 1., 1., 1., 1., 1., 1., 1., 1.], dtype=torch.float64)\n"
          ]
        }
      ]
    },
    {
      "cell_type": "code",
      "source": [
        "len(iter(e1_dataloader))\n",
        "\n",
        "for i in range (len(iter(e1_dataloader))):\n",
        "  print(next(iter(e1_dataloader)))"
      ],
      "metadata": {
        "id": "_6N1FEmri_4R",
        "outputId": "53998df8-3cc8-43d5-b9b3-761abda9c8e2",
        "colab": {
          "base_uri": "https://localhost:8080/"
        }
      },
      "execution_count": 298,
      "outputs": [
        {
          "output_type": "stream",
          "name": "stdout",
          "text": [
            "tensor([[0., 0., 0., 0., 0., 0., 0., 0., 0., 0.],\n",
            "        [0., 0., 0., 0., 0., 0., 0., 0., 0., 0.],\n",
            "        [0., 0., 0., 0., 0., 0., 0., 0., 0., 0.],\n",
            "        [0., 0., 0., 0., 0., 0., 0., 0., 0., 0.]], dtype=torch.float64)\n",
            "tensor([[0., 0., 0., 0., 0., 0., 0., 0., 0., 0.],\n",
            "        [0., 0., 0., 0., 0., 0., 0., 0., 0., 0.],\n",
            "        [0., 0., 0., 0., 0., 0., 0., 0., 0., 0.],\n",
            "        [0., 0., 0., 0., 0., 0., 0., 0., 0., 0.]], dtype=torch.float64)\n",
            "tensor([[0., 0., 0., 0., 0., 0., 0., 0., 0., 0.],\n",
            "        [0., 0., 0., 0., 0., 0., 0., 0., 0., 0.],\n",
            "        [0., 0., 0., 0., 0., 0., 0., 0., 0., 0.],\n",
            "        [0., 0., 0., 0., 0., 0., 0., 0., 0., 0.]], dtype=torch.float64)\n"
          ]
        }
      ]
    },
    {
      "cell_type": "code",
      "source": [
        "len(iter(e2_dataloader))\n",
        "\n",
        "for i in range (len(iter(e2_dataloader))):\n",
        "  print(next(iter(e2_dataloader)))"
      ],
      "metadata": {
        "id": "cNI4NePvhf1t",
        "outputId": "4eed2640-2ae1-49d2-8304-ccfd9c7d8ee7",
        "colab": {
          "base_uri": "https://localhost:8080/"
        }
      },
      "execution_count": 299,
      "outputs": [
        {
          "output_type": "stream",
          "name": "stdout",
          "text": [
            "tensor([[1., 1., 1., 1., 1., 1., 1., 1., 1., 1.],\n",
            "        [1., 1., 1., 1., 1., 1., 1., 1., 1., 1.],\n",
            "        [1., 1., 1., 1., 1., 1., 1., 1., 1., 1.],\n",
            "        [1., 1., 1., 1., 1., 1., 1., 1., 1., 1.]], dtype=torch.float64)\n",
            "tensor([[1., 1., 1., 1., 1., 1., 1., 1., 1., 1.],\n",
            "        [1., 1., 1., 1., 1., 1., 1., 1., 1., 1.],\n",
            "        [1., 1., 1., 1., 1., 1., 1., 1., 1., 1.],\n",
            "        [1., 1., 1., 1., 1., 1., 1., 1., 1., 1.]], dtype=torch.float64)\n",
            "tensor([[ 1.,  1.,  1.,  1.,  1.,  1.,  1.,  1.,  1.,  1.],\n",
            "        [11., 12., 13., 14., 15., 16., 17., 18., 19., 20.],\n",
            "        [ 1.,  1.,  1.,  1.,  1.,  1.,  1.,  1.,  1.,  1.],\n",
            "        [ 1.,  1.,  1.,  1.,  1.,  1.,  1.,  1.,  1.,  1.]],\n",
            "       dtype=torch.float64)\n"
          ]
        }
      ]
    },
    {
      "cell_type": "code",
      "source": [
        "def get_mse() -> torch.nn.MSELoss:\n",
        "    return nn.MSELoss()"
      ],
      "metadata": {
        "id": "MoLLwKrUpo2E"
      },
      "execution_count": 300,
      "outputs": []
    },
    {
      "cell_type": "code",
      "source": [
        "def get_optimizer(model, lr):\n",
        "    return torch.optim.Adam(model.parameters(), lr)"
      ],
      "metadata": {
        "id": "Kygj0APpqNMy"
      },
      "execution_count": 301,
      "outputs": []
    },
    {
      "cell_type": "code",
      "source": [
        "def training_step(model, e1_dataloader, e2_dataloader, device='cuda'):\n",
        "    # converting the two dataloaders in iterators\n",
        "    print('training')\n",
        "    e1_iterator = iter(e1_dataloader)\n",
        "    e2_iterator = iter(e2_dataloader)\n",
        "\n",
        "    # getting lengths \n",
        "    iter1_length = len(e1_iterator)\n",
        "    iter2_length = len(e2_iterator)\n",
        "\n",
        "    flag = 0\n",
        "    loss = get_mse()\n",
        "    optimizer = get_optimizer(model, 0.001)\n",
        "\n",
        "    model.train()\n",
        "\n",
        "    if iter1_length > iter2_length:\n",
        "        flag = 1\n",
        "    elif iter2_length > iter1_length:\n",
        "        flag = 2\n",
        "\n",
        "    if flag==1:\n",
        "        for i in range(iter2_length):\n",
        "        # if the second entity's vector is longer than the first one\n",
        "        # I need to deal with this case\n",
        "        # With the devised solution, once the first iterator has reached the end \n",
        "        # it will be reinitialized \n",
        "            try:\n",
        "                e1_input = next(e1_iterator)\n",
        "                e1_input = e1_input.to(device)\n",
        "            except:\n",
        "                e1_iterator = iter(e1_dataloader)\n",
        "                e1_input = next(e1_iterator)\n",
        "                e1_input = e1_input.to(device)\n",
        "\n",
        "            # at this point, al inputs are loaded on GPU\n",
        "            outputs = model([e1_input, e2_input]) # call method\n",
        "            loss.backward()\n",
        "            optimizer.step()\n",
        "            optimizer.zero_grad()\n",
        "\n",
        "            print(f'outputs: {outputs}')\n",
        "\n",
        "    elif flag==2:\n",
        "        for i in range(iter1_length):\n",
        "            try:\n",
        "                e2_input = next(e2_iterator)\n",
        "                e2_input = e2_input.to(device)\n",
        "            except:\n",
        "                e2_iterator = iter(e2_dataloader)\n",
        "                e2_input = next(e2_iterator)\n",
        "                e2_input = e2_input.to(device)\n",
        "\n",
        "            outputs = model([e1_input, e2_input]) # call method\n",
        "            loss.backward()\n",
        "            optimizer.step()\n",
        "            optimizer.zero_grad()\n",
        "    \n",
        "    elif flag==0:\n",
        "        for e1, e2 in zip(e1_iterator, e2_iterator):\n",
        "            #for element1, element2 in zip(e1,e2):\n",
        "                # in case they have the same length\n",
        "                #for i in range(iter1_length):\n",
        "            #    e1_input = element1.to(device)\n",
        "            #    e2_input = element2.to(device)\n",
        "                #print(e1_input)\n",
        "                #print(e2_input)\n",
        "            #    outputs = model([e1_input, e2_input]) # forward method\n",
        "        \n",
        "            #    loss.backward()\n",
        "            #    optimizer.step()\n",
        "            #    optimizer.zero_grad()\n",
        "            \n",
        "            # in this way I'm extracting the batches\n",
        "            print(f\"e1 : {e1.shape}\")\n",
        "            print(f\"e2 : {e2.shape}\")\n",
        "\n",
        "            e1_input = e1.to(device)\n",
        "            e2_input = e2.to(device)\n",
        "            outputs = model([e1_input, e2_input]) # forward method\n",
        "\n",
        "\n",
        "            #loss.backward()\n",
        "            #optimizer.step()\n",
        "            #optimizer.zero_grad()"
      ],
      "metadata": {
        "id": "3yhW3NFHjsnr"
      },
      "execution_count": 302,
      "outputs": []
    },
    {
      "cell_type": "code",
      "source": [
        "def main(dataloaders, epochs=5, device='cuda'):\n",
        "    model = NeuralTensorNetwork(output_dim=32, input_dim=10)\n",
        "    model = model.double().to(device)\n",
        "    for e in range(epochs):\n",
        "    # def training_step(model, e1_dataloader, e2_dataloader, device='cuda'):\n",
        "        training_step(model, dataloaders[0], dataloaders[1]) \n",
        "        print(e)\n",
        "    print('Traning done')"
      ],
      "metadata": {
        "id": "8_HKAPHSHOsx"
      },
      "execution_count": 309,
      "outputs": []
    },
    {
      "cell_type": "code",
      "source": [
        "main([e1_dataloader, e2_dataloader])"
      ],
      "metadata": {
        "id": "MUzSiL92JgIP",
        "outputId": "d1c47ad4-ad06-4d78-ebaf-374a106519f9",
        "colab": {
          "base_uri": "https://localhost:8080/"
        }
      },
      "execution_count": 310,
      "outputs": [
        {
          "output_type": "stream",
          "name": "stdout",
          "text": [
            "self.W : torch.Size([32, 10, 10])\n",
            "self.V : torch.Size([20, 32])\n",
            "self.b : torch.Size([10])\n",
            "training\n",
            "e1 : torch.Size([4, 10])\n",
            "e2 : torch.Size([4, 10])\n",
            "e1.shape : torch.Size([4, 10])\n",
            "e2.shape : torch.Size([4, 10])\n",
            "self.W[0] : torch.Size([10, 10])\n",
            "self.V : torch.Size([20, 32])\n",
            "self.bias : torch.Size([10])\n",
            "dot prod : tensor([[0., 0., 0., 0., 0., 0., 0., 0., 0., 0.],\n",
            "        [0., 0., 0., 0., 0., 0., 0., 0., 0., 0.],\n",
            "        [0., 0., 0., 0., 0., 0., 0., 0., 0., 0.],\n",
            "        [0., 0., 0., 0., 0., 0., 0., 0., 0., 0.]], device='cuda:0',\n",
            "       dtype=torch.float64, grad_fn=<MmBackward0>)\n",
            "dot prod size: torch.Size([4, 10])\n",
            "e1 : torch.Size([4, 10])\n",
            "e2 : torch.Size([4, 10])\n",
            "e1.shape : torch.Size([4, 10])\n",
            "e2.shape : torch.Size([4, 10])\n",
            "self.W[0] : torch.Size([10, 10])\n",
            "self.V : torch.Size([20, 32])\n",
            "self.bias : torch.Size([10])\n",
            "dot prod : tensor([[-10.0470,  35.9224,  29.1998,  21.6109,  25.7325,  17.0646, -20.7575,\n",
            "          11.5611, -23.2967,  31.7857],\n",
            "        [  0.0000,   0.0000,   0.0000,   0.0000,   0.0000,   0.0000,   0.0000,\n",
            "           0.0000,   0.0000,   0.0000],\n",
            "        [  0.0000,   0.0000,   0.0000,   0.0000,   0.0000,   0.0000,   0.0000,\n",
            "           0.0000,   0.0000,   0.0000],\n",
            "        [  0.0000,   0.0000,   0.0000,   0.0000,   0.0000,   0.0000,   0.0000,\n",
            "           0.0000,   0.0000,   0.0000]], device='cuda:0', dtype=torch.float64,\n",
            "       grad_fn=<MmBackward0>)\n",
            "dot prod size: torch.Size([4, 10])\n",
            "e1 : torch.Size([3, 10])\n",
            "e2 : torch.Size([3, 10])\n",
            "e1.shape : torch.Size([3, 10])\n",
            "e2.shape : torch.Size([3, 10])\n",
            "self.W[0] : torch.Size([10, 10])\n",
            "self.V : torch.Size([20, 32])\n",
            "self.bias : torch.Size([10])\n",
            "dot prod : tensor([[0., 0., 0., 0., 0., 0., 0., 0., 0., 0.],\n",
            "        [0., 0., 0., 0., 0., 0., 0., 0., 0., 0.],\n",
            "        [0., 0., 0., 0., 0., 0., 0., 0., 0., 0.]], device='cuda:0',\n",
            "       dtype=torch.float64, grad_fn=<MmBackward0>)\n",
            "dot prod size: torch.Size([3, 10])\n",
            "0\n",
            "training\n",
            "e1 : torch.Size([4, 10])\n",
            "e2 : torch.Size([4, 10])\n",
            "e1.shape : torch.Size([4, 10])\n",
            "e2.shape : torch.Size([4, 10])\n",
            "self.W[0] : torch.Size([10, 10])\n",
            "self.V : torch.Size([20, 32])\n",
            "self.bias : torch.Size([10])\n",
            "dot prod : tensor([[-10.0470,  35.9224,  29.1998,  21.6109,  25.7325,  17.0646, -20.7575,\n",
            "          11.5611, -23.2967,  31.7857],\n",
            "        [  0.0000,   0.0000,   0.0000,   0.0000,   0.0000,   0.0000,   0.0000,\n",
            "           0.0000,   0.0000,   0.0000],\n",
            "        [  0.0000,   0.0000,   0.0000,   0.0000,   0.0000,   0.0000,   0.0000,\n",
            "           0.0000,   0.0000,   0.0000],\n",
            "        [  0.0000,   0.0000,   0.0000,   0.0000,   0.0000,   0.0000,   0.0000,\n",
            "           0.0000,   0.0000,   0.0000]], device='cuda:0', dtype=torch.float64,\n",
            "       grad_fn=<MmBackward0>)\n",
            "dot prod size: torch.Size([4, 10])\n",
            "e1 : torch.Size([4, 10])\n",
            "e2 : torch.Size([4, 10])\n",
            "e1.shape : torch.Size([4, 10])\n",
            "e2.shape : torch.Size([4, 10])\n",
            "self.W[0] : torch.Size([10, 10])\n",
            "self.V : torch.Size([20, 32])\n",
            "self.bias : torch.Size([10])\n",
            "dot prod : tensor([[0., 0., 0., 0., 0., 0., 0., 0., 0., 0.],\n",
            "        [0., 0., 0., 0., 0., 0., 0., 0., 0., 0.],\n",
            "        [0., 0., 0., 0., 0., 0., 0., 0., 0., 0.],\n",
            "        [0., 0., 0., 0., 0., 0., 0., 0., 0., 0.]], device='cuda:0',\n",
            "       dtype=torch.float64, grad_fn=<MmBackward0>)\n",
            "dot prod size: torch.Size([4, 10])\n",
            "e1 : torch.Size([3, 10])\n",
            "e2 : torch.Size([3, 10])\n",
            "e1.shape : torch.Size([3, 10])\n",
            "e2.shape : torch.Size([3, 10])\n",
            "self.W[0] : torch.Size([10, 10])\n",
            "self.V : torch.Size([20, 32])\n",
            "self.bias : torch.Size([10])\n",
            "dot prod : tensor([[0., 0., 0., 0., 0., 0., 0., 0., 0., 0.],\n",
            "        [0., 0., 0., 0., 0., 0., 0., 0., 0., 0.],\n",
            "        [0., 0., 0., 0., 0., 0., 0., 0., 0., 0.]], device='cuda:0',\n",
            "       dtype=torch.float64, grad_fn=<MmBackward0>)\n",
            "dot prod size: torch.Size([3, 10])\n",
            "1\n",
            "training\n",
            "e1 : torch.Size([4, 10])\n",
            "e2 : torch.Size([4, 10])\n",
            "e1.shape : torch.Size([4, 10])\n",
            "e2.shape : torch.Size([4, 10])\n",
            "self.W[0] : torch.Size([10, 10])\n",
            "self.V : torch.Size([20, 32])\n",
            "self.bias : torch.Size([10])\n",
            "dot prod : tensor([[0., 0., 0., 0., 0., 0., 0., 0., 0., 0.],\n",
            "        [0., 0., 0., 0., 0., 0., 0., 0., 0., 0.],\n",
            "        [0., 0., 0., 0., 0., 0., 0., 0., 0., 0.],\n",
            "        [0., 0., 0., 0., 0., 0., 0., 0., 0., 0.]], device='cuda:0',\n",
            "       dtype=torch.float64, grad_fn=<MmBackward0>)\n",
            "dot prod size: torch.Size([4, 10])\n",
            "e1 : torch.Size([4, 10])\n",
            "e2 : torch.Size([4, 10])\n",
            "e1.shape : torch.Size([4, 10])\n",
            "e2.shape : torch.Size([4, 10])\n",
            "self.W[0] : torch.Size([10, 10])\n",
            "self.V : torch.Size([20, 32])\n",
            "self.bias : torch.Size([10])\n",
            "dot prod : tensor([[  0.0000,   0.0000,   0.0000,   0.0000,   0.0000,   0.0000,   0.0000,\n",
            "           0.0000,   0.0000,   0.0000],\n",
            "        [  0.0000,   0.0000,   0.0000,   0.0000,   0.0000,   0.0000,   0.0000,\n",
            "           0.0000,   0.0000,   0.0000],\n",
            "        [-10.0470,  35.9224,  29.1998,  21.6109,  25.7325,  17.0646, -20.7575,\n",
            "          11.5611, -23.2967,  31.7857],\n",
            "        [  0.0000,   0.0000,   0.0000,   0.0000,   0.0000,   0.0000,   0.0000,\n",
            "           0.0000,   0.0000,   0.0000]], device='cuda:0', dtype=torch.float64,\n",
            "       grad_fn=<MmBackward0>)\n",
            "dot prod size: torch.Size([4, 10])\n",
            "e1 : torch.Size([3, 10])\n",
            "e2 : torch.Size([3, 10])\n",
            "e1.shape : torch.Size([3, 10])\n",
            "e2.shape : torch.Size([3, 10])\n",
            "self.W[0] : torch.Size([10, 10])\n",
            "self.V : torch.Size([20, 32])\n",
            "self.bias : torch.Size([10])\n",
            "dot prod : tensor([[0., 0., 0., 0., 0., 0., 0., 0., 0., 0.],\n",
            "        [0., 0., 0., 0., 0., 0., 0., 0., 0., 0.],\n",
            "        [0., 0., 0., 0., 0., 0., 0., 0., 0., 0.]], device='cuda:0',\n",
            "       dtype=torch.float64, grad_fn=<MmBackward0>)\n",
            "dot prod size: torch.Size([3, 10])\n",
            "2\n",
            "training\n",
            "e1 : torch.Size([4, 10])\n",
            "e2 : torch.Size([4, 10])\n",
            "e1.shape : torch.Size([4, 10])\n",
            "e2.shape : torch.Size([4, 10])\n",
            "self.W[0] : torch.Size([10, 10])\n",
            "self.V : torch.Size([20, 32])\n",
            "self.bias : torch.Size([10])\n",
            "dot prod : tensor([[0., 0., 0., 0., 0., 0., 0., 0., 0., 0.],\n",
            "        [0., 0., 0., 0., 0., 0., 0., 0., 0., 0.],\n",
            "        [0., 0., 0., 0., 0., 0., 0., 0., 0., 0.],\n",
            "        [0., 0., 0., 0., 0., 0., 0., 0., 0., 0.]], device='cuda:0',\n",
            "       dtype=torch.float64, grad_fn=<MmBackward0>)\n",
            "dot prod size: torch.Size([4, 10])\n",
            "e1 : torch.Size([4, 10])\n",
            "e2 : torch.Size([4, 10])\n",
            "e1.shape : torch.Size([4, 10])\n",
            "e2.shape : torch.Size([4, 10])\n",
            "self.W[0] : torch.Size([10, 10])\n",
            "self.V : torch.Size([20, 32])\n",
            "self.bias : torch.Size([10])\n",
            "dot prod : tensor([[  0.0000,   0.0000,   0.0000,   0.0000,   0.0000,   0.0000,   0.0000,\n",
            "           0.0000,   0.0000,   0.0000],\n",
            "        [  0.0000,   0.0000,   0.0000,   0.0000,   0.0000,   0.0000,   0.0000,\n",
            "           0.0000,   0.0000,   0.0000],\n",
            "        [-10.0470,  35.9224,  29.1998,  21.6109,  25.7325,  17.0646, -20.7575,\n",
            "          11.5611, -23.2967,  31.7857],\n",
            "        [  0.0000,   0.0000,   0.0000,   0.0000,   0.0000,   0.0000,   0.0000,\n",
            "           0.0000,   0.0000,   0.0000]], device='cuda:0', dtype=torch.float64,\n",
            "       grad_fn=<MmBackward0>)\n",
            "dot prod size: torch.Size([4, 10])\n",
            "e1 : torch.Size([3, 10])\n",
            "e2 : torch.Size([3, 10])\n",
            "e1.shape : torch.Size([3, 10])\n",
            "e2.shape : torch.Size([3, 10])\n",
            "self.W[0] : torch.Size([10, 10])\n",
            "self.V : torch.Size([20, 32])\n",
            "self.bias : torch.Size([10])\n",
            "dot prod : tensor([[0., 0., 0., 0., 0., 0., 0., 0., 0., 0.],\n",
            "        [0., 0., 0., 0., 0., 0., 0., 0., 0., 0.],\n",
            "        [0., 0., 0., 0., 0., 0., 0., 0., 0., 0.]], device='cuda:0',\n",
            "       dtype=torch.float64, grad_fn=<MmBackward0>)\n",
            "dot prod size: torch.Size([3, 10])\n",
            "3\n",
            "training\n",
            "e1 : torch.Size([4, 10])\n",
            "e2 : torch.Size([4, 10])\n",
            "e1.shape : torch.Size([4, 10])\n",
            "e2.shape : torch.Size([4, 10])\n",
            "self.W[0] : torch.Size([10, 10])\n",
            "self.V : torch.Size([20, 32])\n",
            "self.bias : torch.Size([10])\n",
            "dot prod : tensor([[0., 0., 0., 0., 0., 0., 0., 0., 0., 0.],\n",
            "        [0., 0., 0., 0., 0., 0., 0., 0., 0., 0.],\n",
            "        [0., 0., 0., 0., 0., 0., 0., 0., 0., 0.],\n",
            "        [0., 0., 0., 0., 0., 0., 0., 0., 0., 0.]], device='cuda:0',\n",
            "       dtype=torch.float64, grad_fn=<MmBackward0>)\n",
            "dot prod size: torch.Size([4, 10])\n",
            "e1 : torch.Size([4, 10])\n",
            "e2 : torch.Size([4, 10])\n",
            "e1.shape : torch.Size([4, 10])\n",
            "e2.shape : torch.Size([4, 10])\n",
            "self.W[0] : torch.Size([10, 10])\n",
            "self.V : torch.Size([20, 32])\n",
            "self.bias : torch.Size([10])\n",
            "dot prod : tensor([[  0.0000,   0.0000,   0.0000,   0.0000,   0.0000,   0.0000,   0.0000,\n",
            "           0.0000,   0.0000,   0.0000],\n",
            "        [  0.0000,   0.0000,   0.0000,   0.0000,   0.0000,   0.0000,   0.0000,\n",
            "           0.0000,   0.0000,   0.0000],\n",
            "        [-10.0470,  35.9224,  29.1998,  21.6109,  25.7325,  17.0646, -20.7575,\n",
            "          11.5611, -23.2967,  31.7857],\n",
            "        [  0.0000,   0.0000,   0.0000,   0.0000,   0.0000,   0.0000,   0.0000,\n",
            "           0.0000,   0.0000,   0.0000]], device='cuda:0', dtype=torch.float64,\n",
            "       grad_fn=<MmBackward0>)\n",
            "dot prod size: torch.Size([4, 10])\n",
            "e1 : torch.Size([3, 10])\n",
            "e2 : torch.Size([3, 10])\n",
            "e1.shape : torch.Size([3, 10])\n",
            "e2.shape : torch.Size([3, 10])\n",
            "self.W[0] : torch.Size([10, 10])\n",
            "self.V : torch.Size([20, 32])\n",
            "self.bias : torch.Size([10])\n",
            "dot prod : tensor([[0., 0., 0., 0., 0., 0., 0., 0., 0., 0.],\n",
            "        [0., 0., 0., 0., 0., 0., 0., 0., 0., 0.],\n",
            "        [0., 0., 0., 0., 0., 0., 0., 0., 0., 0.]], device='cuda:0',\n",
            "       dtype=torch.float64, grad_fn=<MmBackward0>)\n",
            "dot prod size: torch.Size([3, 10])\n",
            "4\n",
            "Traning done\n"
          ]
        }
      ]
    },
    {
      "cell_type": "markdown",
      "source": [
        "### to collapse"
      ],
      "metadata": {
        "id": "bfw_Ard1YVR7"
      }
    },
    {
      "cell_type": "code",
      "source": [
        "import numpy as np\n",
        "\n",
        "\n",
        "# Dummy training data\n",
        "x_train1 = np.random.random((1000, 300))\n",
        "x_train2 = np.random.random((1000, 300))\n",
        "y_train = np.random.random((1000, 1))\n",
        "\n",
        "# Dummy validation data\n",
        "x_val1 = np.random.random((100, 300))\n",
        "x_val2 = np.random.random((100, 300))\n",
        "y_val = np.random.random((100, 1))\n",
        "\n",
        "\n",
        "print ('Shape of Training Data: ', x_train1.shape, x_train2.shape, y_train.shape)\n",
        "print ('Shape of Validation Data', x_val1.shape, x_val2.shape, y_val.shape)"
      ],
      "metadata": {
        "id": "TXq4IXC-pYRW",
        "outputId": "3c92b12f-ca50-45f5-8aad-36884859581a",
        "colab": {
          "base_uri": "https://localhost:8080/"
        }
      },
      "execution_count": null,
      "outputs": [
        {
          "output_type": "stream",
          "name": "stdout",
          "text": [
            "Shape of Training Data:  (1000, 300) (1000, 300) (1000, 1)\n",
            "Shape of Validation Data (100, 300) (100, 300) (100, 1)\n"
          ]
        }
      ]
    },
    {
      "cell_type": "code",
      "source": [
        "x1, x2 = batching_data([x_train1, x_train2])"
      ],
      "metadata": {
        "id": "7xvVymYO2uAk"
      },
      "execution_count": null,
      "outputs": []
    },
    {
      "cell_type": "code",
      "source": [
        "type(x1)"
      ],
      "metadata": {
        "colab": {
          "base_uri": "https://localhost:8080/"
        },
        "id": "XlE35uqf7ItV",
        "outputId": "d207aaa8-0855-460b-a696-d518aa71506a"
      },
      "execution_count": null,
      "outputs": [
        {
          "output_type": "execute_result",
          "data": {
            "text/plain": [
              "torch.utils.data.dataloader.DataLoader"
            ]
          },
          "metadata": {},
          "execution_count": 47
        }
      ]
    },
    {
      "cell_type": "code",
      "source": [
        "type(x2)"
      ],
      "metadata": {
        "colab": {
          "base_uri": "https://localhost:8080/"
        },
        "id": "7FgpHwh97N1N",
        "outputId": "a3c33fdc-9f83-4248-9e3e-aa8725c1992b"
      },
      "execution_count": null,
      "outputs": [
        {
          "output_type": "execute_result",
          "data": {
            "text/plain": [
              "torch.utils.data.dataloader.DataLoader"
            ]
          },
          "metadata": {},
          "execution_count": 48
        }
      ]
    },
    {
      "cell_type": "markdown",
      "source": [
        "## Tensrflow Version"
      ],
      "metadata": {
        "id": "XYzKkf7VEREB"
      }
    },
    {
      "cell_type": "code",
      "source": [
        "import tensorflow as tf\n",
        "from tensorflow import keras\n",
        "from keras import optimizers\n",
        "from keras import backend as K  # in keras simple computations are not handled directly but it relies on a well optimized tensor handler library\n",
        "from keras.layers import Layer\n",
        "from keras.layers import Input, Dense\n",
        "from keras.models import Model"
      ],
      "metadata": {
        "id": "2zWIRcpstrr1"
      },
      "execution_count": 148,
      "outputs": []
    },
    {
      "cell_type": "code",
      "source": [
        "class NeuralTensorLayer(Layer):\n",
        "    def __init__(self, output_dim, input_dim, activation= None):\n",
        "        super().__init__()\n",
        "        self.output_dim = output_dim #The k in the formula\n",
        "        self.input_dim = input_dim   #The d in the formula\n",
        "        self.activation = activation #The f function in the formula\n",
        "        \n",
        "    # called the first time call is called\n",
        "    def build(self, input_shape):\n",
        "        #The initialisation parameters\n",
        "        self.mean = 0.0 \n",
        "        self.stddev = 1.0\n",
        "        dtype = 'float32'\n",
        "        self.seed = 1\n",
        "        \n",
        "        #The output and the inut dimension\n",
        "        k = self.output_dim\n",
        "        d = self.input_dim\n",
        "        \n",
        "        #Initialise the variables to be trained. The variables are according to the\n",
        "        #function defined.\n",
        "        self.W = K.variable(K.random_normal((k,d,d), self.mean, self.stddev,\n",
        "                               dtype=dtype, seed=self.seed))\n",
        "        self.V = K.variable(K.random_normal((2*d,k), self.mean, self.stddev,\n",
        "                               dtype=dtype, seed=self.seed))\n",
        "        self.b = K.zeros((self.input_dim,))\n",
        "        \n",
        "        #Set the variables to be trained.\n",
        "        self._trainable_weights = [self.W, self.V, self.b]\n",
        "        \n",
        "    def call(self, inputs):\n",
        "        \n",
        "        #Get Both the inputs\n",
        "        e1 = inputs[0]\n",
        "        e2 = inputs[1]\n",
        "\n",
        "        tf.print(\"\\n\")\n",
        "        tf.print(\"e1.shape : \", tf.shape(e1))\n",
        "        tf.print(\"e2.shape : \", tf.shape(e2))\n",
        "        tf.print(\"W[0].shape : \", tf.shape(self.W[0]))\n",
        "        tf.print(\"V.shape : \", tf.shape(self.V))\n",
        "        tf.print(\"b.shape : \", tf.shape(self.b))\n",
        "\n",
        "        #Get the batch size\n",
        "        batch_size = K.shape(e1)[0]\n",
        "        \n",
        "        #The output and the inut dimension\n",
        "        k = self.output_dim\n",
        "        d = self.input_dim\n",
        "\n",
        "        #The first term in the function which is the bilinear product is calculated here.\n",
        "        first_term_k = [K.sum((e2 * K.dot(e1, self.W[0])) + self.b, axis=1)]\n",
        "        tf.print(\"K.dot : \" , K.dot(e1,self.W[0]))\n",
        "        tf.print(\"K.dot shape : \" , tf.shape(K.dot(e1,self.W[0])))\n",
        "        for i in range(1, k):\n",
        "            temp = K.sum((e2 * K.dot(e1, self.W[i])) + self.b, axis=1)\n",
        "            first_term_k.append(temp)\n",
        "        first_term = K.reshape(K.concatenate(first_term_k, axis=0), (batch_size, k))\n",
        "\n",
        "        #The second term in the function is calculated here.\n",
        "        second_term = K.dot(K.concatenate([e1,e2]), self.V)\n",
        "        \n",
        "        #Sum of the two terms to get the final function\n",
        "        z =  first_term + second_term\n",
        " \n",
        "        # The activation is selected here\n",
        "        if (self.activation == None):\n",
        "            return z\n",
        "        elif (self.activation == 'tanh'):\n",
        "            return K.tanh(z)\n",
        "        elif (self.activation == 'relu'):\n",
        "            return K.relu(z)\n",
        "        else :\n",
        "            print ('Activation not found')"
      ],
      "metadata": {
        "id": "7c9WtJoGtl1b"
      },
      "execution_count": 195,
      "outputs": []
    },
    {
      "cell_type": "code",
      "source": [
        "#Here Define the model\n",
        "vector1 = Input(shape=(10,), dtype='float32')\n",
        "vector2 = Input(shape=(10,), dtype='float32')\n",
        "BilinearLayer = NeuralTensorLayer(output_dim=32, input_dim=10, \n",
        "                                  activation= 'relu')([vector1, vector2])\n",
        "\n",
        "g = Dense(1)(BilinearLayer)\n",
        "\n",
        "#The g or the output of the modelled function.\n",
        "model = Model(inputs=[vector1, vector2], outputs=[g])\n",
        "\n",
        "#Compile the model\n",
        "adam = keras.optimizers.Adam(learning_rate=0.001)\n",
        "model.compile(loss='mean_squared_error', optimizer=adam)\n",
        "#The summary of the model.\n",
        "model.summary()"
      ],
      "metadata": {
        "colab": {
          "base_uri": "https://localhost:8080/"
        },
        "id": "ssnK68owuovX",
        "outputId": "c432e94a-d82c-4dfd-98c9-09ca63e2f5e2"
      },
      "execution_count": 196,
      "outputs": [
        {
          "output_type": "stream",
          "name": "stdout",
          "text": [
            "Model: \"model_12\"\n",
            "__________________________________________________________________________________________________\n",
            " Layer (type)                   Output Shape         Param #     Connected to                     \n",
            "==================================================================================================\n",
            " input_29 (InputLayer)          [(None, 10)]         0           []                               \n",
            "                                                                                                  \n",
            " input_30 (InputLayer)          [(None, 10)]         0           []                               \n",
            "                                                                                                  \n",
            " neural_tensor_layer_14 (Neural  (None, 32)          3850        ['input_29[0][0]',               \n",
            " TensorLayer)                                                     'input_30[0][0]']               \n",
            "                                                                                                  \n",
            " dense_12 (Dense)               (None, 1)            33          ['neural_tensor_layer_14[0][0]'] \n",
            "                                                                                                  \n",
            "==================================================================================================\n",
            "Total params: 3,883\n",
            "Trainable params: 3,883\n",
            "Non-trainable params: 0\n",
            "__________________________________________________________________________________________________\n"
          ]
        }
      ]
    },
    {
      "cell_type": "code",
      "source": [
        "from keras.utils.vis_utils import plot_model\n",
        "\n",
        "plot_model(model)"
      ],
      "metadata": {
        "colab": {
          "base_uri": "https://localhost:8080/",
          "height": 272
        },
        "id": "SHOYAvffxwwl",
        "outputId": "eb9f7c98-f70a-416a-bc49-c900a43d730c"
      },
      "execution_count": 197,
      "outputs": [
        {
          "output_type": "execute_result",
          "data": {
            "image/png": "[encoded data removed]",
            "text/plain": [
              "<IPython.core.display.Image object>"
            ]
          },
          "metadata": {},
          "execution_count": 197
        }
      ]
    },
    {
      "cell_type": "code",
      "source": [
        "ll = []\n",
        "i = np.array([1,2,3,4,5,6,7,8,9,10])\n",
        "ll.append(i)\n",
        "for k in range(0,10):\n",
        "    ll.append(np.zeros(i.shape))\n",
        "\n",
        "print(ll)\n",
        "\n",
        "\n",
        "l = []\n",
        "\n",
        "j = np.array([11,12,13,14,15,16,17,18,19,20])\n",
        "l.append(j)\n",
        "for z in range(0,10):\n",
        "    l.append(np.ones(j.shape))\n",
        "\n",
        "print(l)\n",
        "\n",
        "print(np.array(l).shape)\n",
        "print(np.array(ll).shape)\n",
        "\n",
        "y = np.random.random((len(l),1))\n",
        "y.shape"
      ],
      "metadata": {
        "id": "k_8bE3iA_q8U",
        "outputId": "0ff074ac-30a6-4798-b474-5d39908fa4be",
        "colab": {
          "base_uri": "https://localhost:8080/"
        }
      },
      "execution_count": 198,
      "outputs": [
        {
          "output_type": "stream",
          "name": "stdout",
          "text": [
            "[array([ 1,  2,  3,  4,  5,  6,  7,  8,  9, 10]), array([0., 0., 0., 0., 0., 0., 0., 0., 0., 0.]), array([0., 0., 0., 0., 0., 0., 0., 0., 0., 0.]), array([0., 0., 0., 0., 0., 0., 0., 0., 0., 0.]), array([0., 0., 0., 0., 0., 0., 0., 0., 0., 0.]), array([0., 0., 0., 0., 0., 0., 0., 0., 0., 0.]), array([0., 0., 0., 0., 0., 0., 0., 0., 0., 0.]), array([0., 0., 0., 0., 0., 0., 0., 0., 0., 0.]), array([0., 0., 0., 0., 0., 0., 0., 0., 0., 0.]), array([0., 0., 0., 0., 0., 0., 0., 0., 0., 0.]), array([0., 0., 0., 0., 0., 0., 0., 0., 0., 0.])]\n",
            "[array([11, 12, 13, 14, 15, 16, 17, 18, 19, 20]), array([1., 1., 1., 1., 1., 1., 1., 1., 1., 1.]), array([1., 1., 1., 1., 1., 1., 1., 1., 1., 1.]), array([1., 1., 1., 1., 1., 1., 1., 1., 1., 1.]), array([1., 1., 1., 1., 1., 1., 1., 1., 1., 1.]), array([1., 1., 1., 1., 1., 1., 1., 1., 1., 1.]), array([1., 1., 1., 1., 1., 1., 1., 1., 1., 1.]), array([1., 1., 1., 1., 1., 1., 1., 1., 1., 1.]), array([1., 1., 1., 1., 1., 1., 1., 1., 1., 1.]), array([1., 1., 1., 1., 1., 1., 1., 1., 1., 1.]), array([1., 1., 1., 1., 1., 1., 1., 1., 1., 1.])]\n",
            "(11, 10)\n",
            "(11, 10)\n"
          ]
        },
        {
          "output_type": "execute_result",
          "data": {
            "text/plain": [
              "(11, 1)"
            ]
          },
          "metadata": {},
          "execution_count": 198
        }
      ]
    },
    {
      "cell_type": "code",
      "source": [
        "model.fit(([np.array(ll), np.array(l)]), y, batch_size=4, epochs=10)"
      ],
      "metadata": {
        "id": "gpLKGofgrq29",
        "outputId": "a4cee90e-b28a-47ba-e29c-550cfc59ccae",
        "colab": {
          "base_uri": "https://localhost:8080/"
        }
      },
      "execution_count": 199,
      "outputs": [
        {
          "output_type": "stream",
          "name": "stdout",
          "text": [
            "Epoch 1/10\n",
            "\n",
            "\n",
            "e1.shape :  [4 10]\n",
            "e2.shape :  [4 10]\n",
            "W[0].shape :  [10 10]\n",
            "V.shape :  [20 32]\n",
            "b.shape :  [10]\n",
            "K.dot :  [[0 0 0 ... 0 0 0]\n",
            " [0 0 0 ... 0 0 0]\n",
            " [0 0 0 ... 0 0 0]\n",
            " [0 0 0 ... 0 0 0]]\n",
            "K.dot shape :  [4 10]\n",
            "1/3 [=========>....................] - ETA: 5s - loss: 2.1644\n",
            "\n",
            "e1.shape :  [4 10]\n",
            "e2.shape :  [4 10]\n",
            "W[0].shape :  [10 10]\n",
            "V.shape :  [20 32]\n",
            "b.shape :  [10]\n",
            "K.dot :  [[0 0 0 ... 0 0 0]\n",
            " [0 0 0 ... 0 0 0]\n",
            " [0 0 0 ... 0 0 0]\n",
            " [0 0 0 ... 0 0 0]]\n",
            "K.dot shape :  [4 10]\n",
            "\n",
            "\n",
            "e1.shape :  [3 10]\n",
            "e2.shape :  [3 10]\n",
            "W[0].shape :  [10 10]\n",
            "V.shape :  [20 32]\n",
            "b.shape :  [10]\n",
            "K.dot :  [[0 0 0 ... 0 0 0]\n",
            " [-23.5958939 2.46462226 -11.866703 ... -8.75178432 1.76259947 20.083498]\n",
            " [0 0 0 ... 0 0 0]]\n",
            "K.dot shape :  [3 10]\n",
            "3/3 [==============================] - 3s 34ms/step - loss: 91045.3672\n",
            "Epoch 2/10\n",
            "\n",
            "\n",
            "e1.shape :  [4 10]\n",
            "e2.shape :  [4 10]\n",
            "W[0].shape :  [10 10]\n",
            "V.shape :  [20 32]\n",
            "b.shape :  [10]\n",
            "K.dot :  [[0 0 0 ... 0 0 0]\n",
            " [0 0 0 ... 0 0 0]\n",
            " [0 0 0 ... 0 0 0]\n",
            " [0 0 0 ... 0 0 0]]\n",
            "K.dot shape :  [4 10]\n",
            "1/3 [=========>....................] - ETA: 0s - loss: 1.5792\n",
            "\n",
            "e1.shape :  [4 10]\n",
            "e2.shape :  [4 10]\n",
            "W[0].shape :  [10 10]\n",
            "V.shape :  [20 32]\n",
            "b.shape :  [10]\n",
            "K.dot :  [[0 0 0 ... 0 0 0]\n",
            " [0 0 0 ... 0 0 0]\n",
            " [-23.5958939 2.46462226 -11.866703 ... -8.75178432 1.76259947 20.083498]\n",
            " [0 0 0 ... 0 0 0]]\n",
            "K.dot shape :  [4 10]\n",
            "\n",
            "\n",
            "e1.shape :  [3 10]\n",
            "e2.shape :  [3 10]\n",
            "W[0].shape :  [10 10]\n",
            "V.shape :  [20 32]\n",
            "b.shape :  [10]\n",
            "K.dot :  [[0 0 0 ... 0 0 0]\n",
            " [0 0 0 ... 0 0 0]\n",
            " [0 0 0 ... 0 0 0]]\n",
            "K.dot shape :  [3 10]\n",
            "3/3 [==============================] - 0s 30ms/step - loss: 66136.1562\n",
            "Epoch 3/10\n",
            "\n",
            "\n",
            "e1.shape :  [4 10]\n",
            "e2.shape :  [4 10]\n",
            "W[0].shape :  [10 10]\n",
            "V.shape :  [20 32]\n",
            "b.shape :  [10]\n",
            "K.dot :  [[0 0 0 ... 0 0 0]\n",
            " [0 0 0 ... 0 0 0]\n",
            " [0 0 0 ... 0 0 0]\n",
            " [0 0 0 ... 0 0 0]]\n",
            "K.dot shape :  [4 10]\n",
            "1/3 [=========>....................] - ETA: 0s - loss: 1.9812\n",
            "\n",
            "e1.shape :  [4 10]\n",
            "e2.shape :  [4 10]\n",
            "W[0].shape :  [10 10]\n",
            "V.shape :  [20 32]\n",
            "b.shape :  [10]\n",
            "K.dot :  [[0 0 0 ... 0 0 0]\n",
            " [0 0 0 ... 0 0 0]\n",
            " [0 0 0 ... 0 0 0]\n",
            " [0 0 0 ... 0 0 0]]\n",
            "K.dot shape :  [4 10]\n",
            "\n",
            "\n",
            "e1.shape :  [3 10]\n",
            "e2.shape :  [3 10]\n",
            "W[0].shape :  [10 10]\n",
            "V.shape :  [20 32]\n",
            "b.shape :  [10]\n",
            "K.dot :  [[-23.5958939 2.46462226 -11.866703 ... -8.75178432 1.76259947 20.083498]\n",
            " [0 0 0 ... 0 0 0]\n",
            " [0 0 0 ... 0 0 0]]\n",
            "K.dot shape :  [3 10]\n",
            "3/3 [==============================] - 0s 27ms/step - loss: 53539.5586\n",
            "Epoch 4/10\n",
            "\n",
            "\n",
            "e1.shape :  [4 10]\n",
            "e2.shape :  [4 10]\n",
            "W[0].shape :  [10 10]\n",
            "V.shape :  [20 32]\n",
            "b.shape :  [10]\n",
            "K.dot :  [[0 0 0 ... 0 0 0]\n",
            " [0 0 0 ... 0 0 0]\n",
            " [0 0 0 ... 0 0 0]\n",
            " [0 0 0 ... 0 0 0]]\n",
            "K.dot shape :  [4 10]\n",
            "1/3 [=========>....................] - ETA: 0s - loss: 1.4248\n",
            "\n",
            "e1.shape :  [4 10]\n",
            "e2.shape :  [4 10]\n",
            "W[0].shape :  [10 10]\n",
            "V.shape :  [20 32]\n",
            "b.shape :  [10]\n",
            "K.dot :  [[-23.5958939 2.46462226 -11.866703 ... -8.75178432 1.76259947 20.083498]\n",
            " [0 0 0 ... 0 0 0]\n",
            " [0 0 0 ... 0 0 0]\n",
            " [0 0 0 ... 0 0 0]]\n",
            "K.dot shape :  [4 10]\n",
            "\n",
            "\n",
            "e1.shape :  [3 10]\n",
            "e2.shape :  [3 10]\n",
            "W[0].shape :  [10 10]\n",
            "V.shape :  [20 32]\n",
            "b.shape :  [10]\n",
            "K.dot :  [[0 0 0 ... 0 0 0]\n",
            " [0 0 0 ... 0 0 0]\n",
            " [0 0 0 ... 0 0 0]]\n",
            "K.dot shape :  [3 10]\n",
            "3/3 [==============================] - 0s 39ms/step - loss: 39055.0977\n",
            "Epoch 5/10\n",
            "\n",
            "\n",
            "e1.shape :  [4 10]\n",
            "e2.shape :  [4 10]\n",
            "W[0].shape :  [10 10]\n",
            "V.shape :  [20 32]\n",
            "b.shape :  [10]\n",
            "K.dot :  [[0 0 0 ... 0 0 0]\n",
            " [0 0 0 ... 0 0 0]\n",
            " [0 0 0 ... 0 0 0]\n",
            " [0 0 0 ... 0 0 0]]\n",
            "K.dot shape :  [4 10]\n",
            "1/3 [=========>....................] - ETA: 0s - loss: 1.3297\n",
            "\n",
            "e1.shape :  [4 10]\n",
            "e2.shape :  [4 10]\n",
            "W[0].shape :  [10 10]\n",
            "V.shape :  [20 32]\n",
            "b.shape :  [10]\n",
            "K.dot :  [[0 0 0 ... 0 0 0]\n",
            " [0 0 0 ... 0 0 0]\n",
            " [0 0 0 ... 0 0 0]\n",
            " [0 0 0 ... 0 0 0]]\n",
            "K.dot shape :  [4 10]\n",
            "\n",
            "\n",
            "e1.shape :  [3 10]\n",
            "e2.shape :  [3 10]\n",
            "W[0].shape :  [10 10]\n",
            "V.shape :  [20 32]\n",
            "b.shape :  [10]\n",
            "K.dot :  [[-23.5958939 2.46462226 -11.866703 ... -8.75178432 1.76259947 20.083498]\n",
            " [0 0 0 ... 0 0 0]\n",
            " [0 0 0 ... 0 0 0]]\n",
            "K.dot shape :  [3 10]\n",
            "3/3 [==============================] - 0s 31ms/step - loss: 48921.0977\n",
            "Epoch 6/10\n",
            "\n",
            "\n",
            "e1.shape :  [4 10]\n",
            "e2.shape :  [4 10]\n",
            "W[0].shape :  [10 10]\n",
            "V.shape :  [20 32]\n",
            "b.shape :  [10]\n",
            "K.dot :  [[0 0 0 ... 0 0 0]\n",
            " [0 0 0 ... 0 0 0]\n",
            " [0 0 0 ... 0 0 0]\n",
            " [0 0 0 ... 0 0 0]]\n",
            "K.dot shape :  [4 10]\n",
            "1/3 [=========>....................] - ETA: 0s - loss: 1.1178\n",
            "\n",
            "e1.shape :  [4 10]\n",
            "e2.shape :  [4 10]\n",
            "W[0].shape :  [10 10]\n",
            "V.shape :  [20 32]\n",
            "b.shape :  [10]\n",
            "K.dot :  [[0 0 0 ... 0 0 0]\n",
            " [0 0 0 ... 0 0 0]\n",
            " [-23.5958939 2.46462226 -11.866703 ... -8.75178432 1.76259947 20.083498]\n",
            " [0 0 0 ... 0 0 0]]\n",
            "K.dot shape :  [4 10]\n",
            "\n",
            "\n",
            "e1.shape :  [3 10]\n",
            "e2.shape :  [3 10]\n",
            "W[0].shape :  [10 10]\n",
            "V.shape :  [20 32]\n",
            "b.shape :  [10]\n",
            "K.dot :  [[0 0 0 ... 0 0 0]\n",
            " [0 0 0 ... 0 0 0]\n",
            " [0 0 0 ... 0 0 0]]\n",
            "K.dot shape :  [3 10]\n",
            "3/3 [==============================] - 0s 28ms/step - loss: 59866.5625\n",
            "Epoch 7/10\n",
            "\n",
            "\n",
            "e1.shape :  [4 10]\n",
            "e2.shape :  [4 10]\n",
            "W[0].shape :  [10 10]\n",
            "V.shape :  [20 32]\n",
            "b.shape :  [10]\n",
            "K.dot :  [[0 0 0 ... 0 0 0]\n",
            " [0 0 0 ... 0 0 0]\n",
            " [0 0 0 ... 0 0 0]\n",
            " [-23.5958939 2.46462226 -11.866703 ... -8.75178432 1.76259947 20.083498]]\n",
            "K.dot shape :  [4 10]\n",
            "1/3 [=========>....................] - ETA: 0s - loss: 101529.4297\n",
            "\n",
            "e1.shape :  [4 10]\n",
            "e2.shape :  [4 10]\n",
            "W[0].shape :  [10 10]\n",
            "V.shape :  [20 32]\n",
            "b.shape :  [10]\n",
            "K.dot :  [[0 0 0 ... 0 0 0]\n",
            " [0 0 0 ... 0 0 0]\n",
            " [0 0 0 ... 0 0 0]\n",
            " [0 0 0 ... 0 0 0]]\n",
            "K.dot shape :  [4 10]\n",
            "\n",
            "\n",
            "e1.shape :  [3 10]\n",
            "e2.shape :  [3 10]\n",
            "W[0].shape :  [10 10]\n",
            "V.shape :  [20 32]\n",
            "b.shape :  [10]\n",
            "K.dot :  [[0 0 0 ... 0 0 0]\n",
            " [0 0 0 ... 0 0 0]\n",
            " [0 0 0 ... 0 0 0]]\n",
            "K.dot shape :  [3 10]\n",
            "3/3 [==============================] - 0s 32ms/step - loss: 36920.4844\n",
            "Epoch 8/10\n",
            "\n",
            "\n",
            "e1.shape :  [4 10]\n",
            "e2.shape :  [4 10]\n",
            "W[0].shape :  [10 10]\n",
            "V.shape :  [20 32]\n",
            "b.shape :  [10]\n",
            "K.dot :  [[0 0 0 ... 0 0 0]\n",
            " [0 0 0 ... 0 0 0]\n",
            " [0 0 0 ... 0 0 0]\n",
            " [0 0 0 ... 0 0 0]]\n",
            "K.dot shape :  [4 10]\n",
            "1/3 [=========>....................] - ETA: 0s - loss: 0.7138\n",
            "\n",
            "e1.shape :  [4 10]\n",
            "e2.shape :  [4 10]\n",
            "W[0].shape :  [10 10]\n",
            "V.shape :  [20 32]\n",
            "b.shape :  [10]\n",
            "K.dot :  [[0 0 0 ... 0 0 0]\n",
            " [0 0 0 ... 0 0 0]\n",
            " [0 0 0 ... 0 0 0]\n",
            " [0 0 0 ... 0 0 0]]\n",
            "K.dot shape :  [4 10]\n",
            "\n",
            "\n",
            "e1.shape :  [3 10]\n",
            "e2.shape :  [3 10]\n",
            "W[0].shape :  [10 10]\n",
            "V.shape :  [20 32]\n",
            "b.shape :  [10]\n",
            "K.dot :  [[-23.5958939 2.46462226 -11.866703 ... -8.75178432 1.76259947 20.083498]\n",
            " [0 0 0 ... 0 0 0]\n",
            " [0 0 0 ... 0 0 0]]\n",
            "K.dot shape :  [3 10]\n",
            "3/3 [==============================] - 0s 26ms/step - loss: 42118.3359\n",
            "Epoch 9/10\n",
            "\n",
            "\n",
            "e1.shape :  [4 10]\n",
            "e2.shape :  [4 10]\n",
            "W[0].shape :  [10 10]\n",
            "V.shape :  [20 32]\n",
            "b.shape :  [10]\n",
            "K.dot :  [[0 0 0 ... 0 0 0]\n",
            " [0 0 0 ... 0 0 0]\n",
            " [0 0 0 ... 0 0 0]\n",
            " [0 0 0 ... 0 0 0]]\n",
            "K.dot shape :  [4 10]\n",
            "1/3 [=========>....................] - ETA: 0s - loss: 0.7322\n",
            "\n",
            "e1.shape :  [4 10]\n",
            "e2.shape :  [4 10]\n",
            "W[0].shape :  [10 10]\n",
            "V.shape :  [20 32]\n",
            "b.shape :  [10]\n",
            "K.dot :  [[0 0 0 ... 0 0 0]\n",
            " [0 0 0 ... 0 0 0]\n",
            " [0 0 0 ... 0 0 0]\n",
            " [0 0 0 ... 0 0 0]]\n",
            "K.dot shape :  [4 10]\n",
            "\n",
            "\n",
            "e1.shape :  [3 10]\n",
            "e2.shape :  [3 10]\n",
            "W[0].shape :  [10 10]\n",
            "V.shape :  [20 32]\n",
            "b.shape :  [10]\n",
            "K.dot :  [[-23.5958939 2.46462226 -11.866703 ... -8.75178432 1.76259947 20.083498]\n",
            " [0 0 0 ... 0 0 0]\n",
            " [0 0 0 ... 0 0 0]]\n",
            "K.dot shape :  [3 10]\n",
            "3/3 [==============================] - 0s 30ms/step - loss: 39809.5469\n",
            "Epoch 10/10\n",
            "\n",
            "\n",
            "e1.shape :  [4 10]\n",
            "e2.shape :  [4 10]\n",
            "W[0].shape :  [10 10]\n",
            "V.shape :  [20 32]\n",
            "b.shape :  [10]\n",
            "K.dot :  [[0 0 0 ... 0 0 0]\n",
            " [0 0 0 ... 0 0 0]\n",
            " [0 0 0 ... 0 0 0]\n",
            " [0 0 0 ... 0 0 0]]\n",
            "K.dot shape :  [4 10]\n",
            "1/3 [=========>....................] - ETA: 0s - loss: 0.7523\n",
            "\n",
            "e1.shape :  [4 10]\n",
            "e2.shape :  [4 10]\n",
            "W[0].shape :  [10 10]\n",
            "V.shape :  [20 32]\n",
            "b.shape :  [10]\n",
            "K.dot :  [[0 0 0 ... 0 0 0]\n",
            " [0 0 0 ... 0 0 0]\n",
            " [0 0 0 ... 0 0 0]\n",
            " [0 0 0 ... 0 0 0]]\n",
            "K.dot shape :  [4 10]\n",
            "\n",
            "\n",
            "e1.shape :  [3 10]\n",
            "e2.shape :  [3 10]\n",
            "W[0].shape :  [10 10]\n",
            "V.shape :  [20 32]\n",
            "b.shape :  [10]\n",
            "K.dot :  [[0 0 0 ... 0 0 0]\n",
            " [0 0 0 ... 0 0 0]\n",
            " [-23.5958939 2.46462226 -11.866703 ... -8.75178432 1.76259947 20.083498]]\n",
            "K.dot shape :  [3 10]\n",
            "3/3 [==============================] - 0s 35ms/step - loss: 35962.4375\n"
          ]
        },
        {
          "output_type": "execute_result",
          "data": {
            "text/plain": [
              "<keras.callbacks.History at 0x7f408f80e910>"
            ]
          },
          "metadata": {},
          "execution_count": 199
        }
      ]
    },
    {
      "cell_type": "code",
      "source": [
        "import numpy as np\n",
        "\n",
        "\n",
        "# Dummy training data\n",
        "x_train1 = np.random.random((1000, 300))\n",
        "x_train2 = np.random.random((1000, 300))\n",
        "y_train = np.random.random((1000, 1))\n",
        "\n",
        "# Dummy validation data\n",
        "x_val1 = np.random.random((100, 300))\n",
        "x_val2 = np.random.random((100, 300))\n",
        "y_val = np.random.random((100, 1))\n",
        "\n",
        "print ('Shape of Training Data: ', x_train1.shape, x_train2.shape, y_train.shape)\n",
        "print ('Shape of Validation Data', x_val1.shape, x_val2.shape, y_val.shape)\n"
      ],
      "metadata": {
        "colab": {
          "base_uri": "https://localhost:8080/"
        },
        "id": "YxiWrtEXuoJ7",
        "outputId": "396461a3-d7cf-432e-942e-48f5fe80997a"
      },
      "execution_count": 175,
      "outputs": [
        {
          "output_type": "stream",
          "name": "stdout",
          "text": [
            "Shape of Training Data:  (1000, 300) (1000, 300) (1000, 1)\n",
            "Shape of Validation Data (100, 300) (100, 300) (100, 1)\n"
          ]
        }
      ]
    },
    {
      "cell_type": "code",
      "source": [
        "#Here Define the model\n",
        "vector1 = Input(shape=(300,), dtype='float32')\n",
        "vector2 = Input(shape=(300,), dtype='float32')\n",
        "BilinearLayer = NeuralTensorLayer(output_dim=32, input_dim=10, \n",
        "                                  activation= 'relu')([vector1, vector2])\n",
        "\n",
        "g = Dense(1)(BilinearLayer)\n",
        "\n",
        "#The g or the output of the modelled function.\n",
        "model = Model(inputs=[vector1, vector2], outputs=[g])\n",
        "\n",
        "#Compile the model\n",
        "adam = keras.optimizers.Adam(learning_rate=0.001)\n",
        "model.compile(loss='mean_squared_error', optimizer=adam)\n",
        "#The summary of the model.\n",
        "model.summary()"
      ],
      "metadata": {
        "colab": {
          "base_uri": "https://localhost:8080/"
        },
        "outputId": "bbe6885b-fad6-4153-b574-819047eb8008",
        "id": "6r8LSnNwTlm4"
      },
      "execution_count": null,
      "outputs": [
        {
          "output_type": "stream",
          "name": "stdout",
          "text": [
            "Model: \"model_7\"\n",
            "__________________________________________________________________________________________________\n",
            " Layer (type)                   Output Shape         Param #     Connected to                     \n",
            "==================================================================================================\n",
            " input_19 (InputLayer)          [(None, 10)]         0           []                               \n",
            "                                                                                                  \n",
            " input_20 (InputLayer)          [(None, 10)]         0           []                               \n",
            "                                                                                                  \n",
            " neural_tensor_layer_9 (NeuralT  (None, 32)          3850        ['input_19[0][0]',               \n",
            " ensorLayer)                                                      'input_20[0][0]']               \n",
            "                                                                                                  \n",
            " dense_7 (Dense)                (None, 1)            33          ['neural_tensor_layer_9[0][0]']  \n",
            "                                                                                                  \n",
            "==================================================================================================\n",
            "Total params: 3,883\n",
            "Trainable params: 3,883\n",
            "Non-trainable params: 0\n",
            "__________________________________________________________________________________________________\n"
          ]
        }
      ]
    },
    {
      "cell_type": "code",
      "source": [
        "model.fit([x_train1, x_train2], y_train,\n",
        "          batch_size=64, epochs=10,\n",
        "          validation_data=([x_val1, x_val2], y_val))"
      ],
      "metadata": {
        "id": "8uGv2VC0uz_k"
      },
      "execution_count": null,
      "outputs": []
    }
  ]
}