{
  "nbformat": 4,
  "nbformat_minor": 0,
  "metadata": {
    "colab": {
      "provenance": [],
      "include_colab_link": true
    },
    "kernelspec": {
      "name": "python3",
      "display_name": "Python 3"
    },
    "language_info": {
      "name": "python"
    },
    "gpuClass": "standard",
    "accelerator": "GPU"
  },
  "cells": [
    {
      "cell_type": "markdown",
      "metadata": {
        "id": "view-in-github",
        "colab_type": "text"
      },
      "source": [
        "<a href=\"https://colab.research.google.com/github/MatteoGuglielmi-tech/Polarity-and-Subjectivity-Detection/blob/main/src/MyModel/NTN.ipynb\" target=\"_parent\"><img src=\"https://colab.research.google.com/assets/colab-badge.svg\" alt=\"Open In Colab\"/></a>"
      ]
    },
    {
      "cell_type": "markdown",
      "source": [
        "### NTN (Neural Tensor Network) [[reference_paper](https://proceedings.neurips.cc/paper/2013/file/b337e84de8752b27eda3a12363109e80-Paper.pdf)]\n",
        "\n",
        "<u><i>Goal</i></u> : state if two entities $(e_1, e_2)$ are in a certain relationship $R$.   \n",
        ">Ex. defines whehter $$(e_1, R, e_2) = (\\text{Bengal tiger}, \\text{has part}, \\text{tail})$$ is true and with which certainty.\n",
        "\n",
        "- $e_1$ and $e_2$ are vector representations or features of the two entities.\n",
        "- NTN, unlike a linear canoncical NN layer, uses a bilinear tensor layer that directly relates two entity vectors across differet dimensions.\n",
        "- Model computes a score of how likely it is two entities are in a specific position following : $$g(e_1, R, e_2) = u_R^Tf\\biggr(e_i^T W_R^{[1:K]}e_2+V_R \\begin{align}\n",
        "    \\begin{bmatrix}\n",
        "           e_{1} \\\\\n",
        "           e_{2} \\\\\n",
        "         \\end{bmatrix}\n",
        "  \\end{align} + b_R\\Biggl)$$  \n",
        "where : \n",
        "- $f=\\tanh$\n",
        "- $W_R^{[1:K]} \\in \\mathbb{R}^{d\\times d\\times k}$ is a multi-dimensional tensor\n",
        "- $e_1^TW_R^{[1:k]}e_2=h\\in\\mathbb{R}$ is the bilinear tensor\n",
        "- $V_R \\in \\mathbb{R}^{k\\times2d}$, $U \\in \\mathbb{R}^K$, $b_R\\in \\mathbb{R}^K$ are NN parameters\n",
        "\n",
        "\n"
      ],
      "metadata": {
        "id": "KuB3DKrgQfSL"
      }
    },
    {
      "cell_type": "markdown",
      "source": [
        "##### pytorch trials"
      ],
      "metadata": {
        "id": "Tq-h_R_lEKwr"
      }
    },
    {
      "cell_type": "code",
      "execution_count": 2,
      "metadata": {
        "id": "4WlxO-pC-Pmo"
      },
      "outputs": [],
      "source": [
        "import torch\n",
        "import torch.nn as nn\n",
        "from typing import Tuple, List\n",
        "import numpy as np\n",
        "from torch.utils.data import DataLoader, RandomSampler, SequentialSampler"
      ]
    },
    {
      "cell_type": "code",
      "source": [
        "class NeuralTensorNetwork(nn.Module):\n",
        "    def __init__(self, output_dim: int, input_dim: int, activation: str=\"tanh\", mean: float=0.0, std: float=1.0):\n",
        "        \n",
        "        super(NeuralTensorNetwork, self).__init__()\n",
        "\n",
        "        # setting input and output dimensions\n",
        "        self.k = output_dim\n",
        "        self.d = input_dim # e1,e2\n",
        "\n",
        "        # setting mean and std for random initialization\n",
        "        self.mean = mean\n",
        "        self.std = std\n",
        "\n",
        "        self.activation = activation\n",
        "\n",
        "        # parameters has been used in order to consider W, V, b as model parameters\n",
        "        # inference -> they'll be optimized\n",
        "\n",
        "        # normal sampling -> https://pytorch.org/docs/stable/generated/torch.normal.html\n",
        "        # parameter -> https://pytorch.org/docs/stable/generated/torch.nn.parameter.Parameter.html#torch.nn.parameter.Parameter\n",
        "        self.W = nn.Parameter(torch.normal(self.mean, self.std, size=(self.k, self.d, self.d)))\n",
        "        self.V = nn.Parameter(torch.normal(self.mean, self.std, size=(2*self.d, self.k)))\n",
        "        self.b = nn.Parameter(torch.zeros(size=(self.d,)))\n",
        "        \n",
        "        print(f\"self.W : {torch.Tensor.size(self.W)}\")\n",
        "        print(f\"self.V : {torch.Tensor.size(self.V)}\")\n",
        "        print(f\"self.b : {torch.Tensor.size(self.b)}\")\n",
        "        \n",
        "        if activation == 'tanh':\n",
        "            self.activation = nn.Tanh()\n",
        "        elif activation == 'sigmoid':\n",
        "            self.activation = nn.Sigmoid()\n",
        "        elif self.activation == 'relu':\n",
        "            self.activation = nn.ReLU()\n",
        "        # checking for a good activation function\n",
        "        else:\n",
        "            raise ValueError('Possible activation choices are tanh, sigmoid or ReLU')\n",
        "\n",
        "    def forward(self, inputs: List[torch.Tensor]) -> torch.Tensor:\n",
        "\n",
        "        # getting the entities\n",
        "        e1 = inputs[0]\n",
        "        e2 = inputs[1]\n",
        "        print(f\"e1.shape : {torch.Tensor.size(e1)}\")\n",
        "        print(f\"e2.shape : {torch.Tensor.size(e2)}\")\n",
        "        print(f\"self.W[0] : {torch.Tensor.size(self.W[0])}\")\n",
        "        print(f\"self.V : {torch.Tensor.size(self.V)}\")\n",
        "        print(f\"self.bias : {torch.Tensor.size(self.b)}\")\n",
        "        print(f\"batch_size : {torch.clone(e1).cpu().numpy().shape[0]}\")\n",
        "        print(f\"k : {self.k}\")\n",
        "        print(f\"torch.cat([e1,e2], dim=1) : {torch.Tensor.size(torch.cat([e1,e2], dim=1))}\")\n",
        "        \n",
        "\n",
        "        # input tensor should be of shape (batch_size, padded_length, 768)\n",
        "        batch_size = torch.clone(e1).cpu().numpy().shape[0]\n",
        "        k = self.k\n",
        "        d = self.d\n",
        "\n",
        "        # print(f\"dot prod : {torch.matmul(e1, self.W[0])}\")\n",
        "        print(f\"dot prod size: {torch.Tensor.size(torch.matmul(e1, self.W[0]))}\")\n",
        "\n",
        "        # bilinear tensor + bias\n",
        "        bil_bias = [torch.sum((e2 * torch.matmul(e1, self.W[0])) + self.b, axis=1)]\n",
        "        \n",
        "        for i in range(1,k):\n",
        "            bil_bias.append(torch.sum((e2*torch.matmul(e1, self.W[i])) + self.b, axis=1))\n",
        "        \n",
        "        bil_bias = torch.cat(bil_bias, axis=0)\n",
        "        bil_bias = torch.reshape(bil_bias, (batch_size, k))\n",
        "\n",
        "        # Vr * [e1, e2]\n",
        "        rest = torch.matmul(torch.cat([e1,e2], dim=1), self.V)\n",
        "\n",
        "        e1_R_e2 = bil_bias + rest\n",
        "\n",
        "        # applying activation\n",
        "        f = self.activation(e1_R_e2)\n",
        "        return f"
      ],
      "metadata": {
        "id": "-anTmLwuTLvR"
      },
      "execution_count": 25,
      "outputs": []
    },
    {
      "cell_type": "code",
      "source": [
        "def batching_data(dataset, batch_size: int=64) -> torch.utils.data.DataLoader:\n",
        "    dataloader = DataLoader(dataset=dataset, sampler=RandomSampler(dataset), batch_size=batch_size, shuffle=False)\n",
        "    return dataloader"
      ],
      "metadata": {
        "id": "FtBwT8k8z-89"
      },
      "execution_count": 4,
      "outputs": []
    },
    {
      "cell_type": "code",
      "source": [
        "ll = []\n",
        "i = np.array([1,2,3,4,5,6,7,8,9,10])\n",
        "ll.append(i)\n",
        "for k in range(0,10):\n",
        "    ll.append(np.zeros(i.shape))\n",
        "\n",
        "print(ll)\n",
        "\n",
        "\n",
        "l = []\n",
        "\n",
        "j = np.array([11,12,13,14,15,16,17,18,19,20])\n",
        "l.append(j)\n",
        "for z in range(0,10):\n",
        "    l.append(np.ones(j.shape))\n",
        "\n",
        "print(l)\n",
        "\n",
        "print(np.array(l).shape)\n",
        "print(np.array(ll).shape)\n",
        "\n",
        "y = np.random.random((len(l),1))\n",
        "y.shape"
      ],
      "metadata": {
        "outputId": "b7e891b7-bc48-45ab-bdb2-8eae478a1e16",
        "colab": {
          "base_uri": "https://localhost:8080/"
        },
        "id": "-qxlLJz7YbBm"
      },
      "execution_count": 5,
      "outputs": [
        {
          "output_type": "stream",
          "name": "stdout",
          "text": [
            "[array([ 1,  2,  3,  4,  5,  6,  7,  8,  9, 10]), array([0., 0., 0., 0., 0., 0., 0., 0., 0., 0.]), array([0., 0., 0., 0., 0., 0., 0., 0., 0., 0.]), array([0., 0., 0., 0., 0., 0., 0., 0., 0., 0.]), array([0., 0., 0., 0., 0., 0., 0., 0., 0., 0.]), array([0., 0., 0., 0., 0., 0., 0., 0., 0., 0.]), array([0., 0., 0., 0., 0., 0., 0., 0., 0., 0.]), array([0., 0., 0., 0., 0., 0., 0., 0., 0., 0.]), array([0., 0., 0., 0., 0., 0., 0., 0., 0., 0.]), array([0., 0., 0., 0., 0., 0., 0., 0., 0., 0.]), array([0., 0., 0., 0., 0., 0., 0., 0., 0., 0.])]\n",
            "[array([11, 12, 13, 14, 15, 16, 17, 18, 19, 20]), array([1., 1., 1., 1., 1., 1., 1., 1., 1., 1.]), array([1., 1., 1., 1., 1., 1., 1., 1., 1., 1.]), array([1., 1., 1., 1., 1., 1., 1., 1., 1., 1.]), array([1., 1., 1., 1., 1., 1., 1., 1., 1., 1.]), array([1., 1., 1., 1., 1., 1., 1., 1., 1., 1.]), array([1., 1., 1., 1., 1., 1., 1., 1., 1., 1.]), array([1., 1., 1., 1., 1., 1., 1., 1., 1., 1.]), array([1., 1., 1., 1., 1., 1., 1., 1., 1., 1.]), array([1., 1., 1., 1., 1., 1., 1., 1., 1., 1.]), array([1., 1., 1., 1., 1., 1., 1., 1., 1., 1.])]\n",
            "(11, 10)\n",
            "(11, 10)\n"
          ]
        },
        {
          "output_type": "execute_result",
          "data": {
            "text/plain": [
              "(11, 1)"
            ]
          },
          "metadata": {},
          "execution_count": 5
        }
      ]
    },
    {
      "cell_type": "code",
      "source": [
        "e1_dataloader = batching_data(np.array(ll), batch_size=4)\n",
        "e2_dataloader = batching_data(np.array(l), batch_size=4)"
      ],
      "metadata": {
        "id": "jVIm2yo9gzLB"
      },
      "execution_count": 61,
      "outputs": []
    },
    {
      "cell_type": "code",
      "source": [
        "e1_dataloader"
      ],
      "metadata": {
        "id": "BABMrSGzhU_t",
        "outputId": "7e7d8c04-547d-4d9b-eba9-92d8bbc59e23",
        "colab": {
          "base_uri": "https://localhost:8080/"
        }
      },
      "execution_count": 62,
      "outputs": [
        {
          "output_type": "execute_result",
          "data": {
            "text/plain": [
              "<torch.utils.data.dataloader.DataLoader at 0x7fe729437dd0>"
            ]
          },
          "metadata": {},
          "execution_count": 62
        }
      ]
    },
    {
      "cell_type": "code",
      "source": [
        "e2_dataloader"
      ],
      "metadata": {
        "id": "oc9Gy7bdjfKe",
        "outputId": "847637b9-de84-47af-87c2-729c9cb07a00",
        "colab": {
          "base_uri": "https://localhost:8080/"
        }
      },
      "execution_count": 63,
      "outputs": [
        {
          "output_type": "execute_result",
          "data": {
            "text/plain": [
              "<torch.utils.data.dataloader.DataLoader at 0x7fe729437210>"
            ]
          },
          "metadata": {},
          "execution_count": 63
        }
      ]
    },
    {
      "cell_type": "code",
      "source": [
        "for idx, i in enumerate(iter(e2_dataloader)):\n",
        "    for element in i :\n",
        "        print(idx, element)"
      ],
      "metadata": {
        "id": "TL4SNMYbOjJd",
        "outputId": "47454b91-3c8b-4dc3-81de-a14c44329505",
        "colab": {
          "base_uri": "https://localhost:8080/"
        }
      },
      "execution_count": 9,
      "outputs": [
        {
          "output_type": "stream",
          "name": "stdout",
          "text": [
            "0 tensor([1., 1., 1., 1., 1., 1., 1., 1., 1., 1.], dtype=torch.float64)\n",
            "0 tensor([1., 1., 1., 1., 1., 1., 1., 1., 1., 1.], dtype=torch.float64)\n",
            "0 tensor([11., 12., 13., 14., 15., 16., 17., 18., 19., 20.], dtype=torch.float64)\n",
            "0 tensor([1., 1., 1., 1., 1., 1., 1., 1., 1., 1.], dtype=torch.float64)\n",
            "1 tensor([1., 1., 1., 1., 1., 1., 1., 1., 1., 1.], dtype=torch.float64)\n",
            "1 tensor([1., 1., 1., 1., 1., 1., 1., 1., 1., 1.], dtype=torch.float64)\n",
            "1 tensor([1., 1., 1., 1., 1., 1., 1., 1., 1., 1.], dtype=torch.float64)\n",
            "1 tensor([1., 1., 1., 1., 1., 1., 1., 1., 1., 1.], dtype=torch.float64)\n",
            "2 tensor([1., 1., 1., 1., 1., 1., 1., 1., 1., 1.], dtype=torch.float64)\n",
            "2 tensor([1., 1., 1., 1., 1., 1., 1., 1., 1., 1.], dtype=torch.float64)\n",
            "2 tensor([1., 1., 1., 1., 1., 1., 1., 1., 1., 1.], dtype=torch.float64)\n"
          ]
        }
      ]
    },
    {
      "cell_type": "code",
      "source": [
        "len(iter(e1_dataloader))\n",
        "\n",
        "for i in range (len(iter(e1_dataloader))):\n",
        "  print(next(iter(e1_dataloader)))"
      ],
      "metadata": {
        "id": "_6N1FEmri_4R",
        "outputId": "fd24ea05-f6ed-46ed-b4a3-14d146fe84cb",
        "colab": {
          "base_uri": "https://localhost:8080/"
        }
      },
      "execution_count": 10,
      "outputs": [
        {
          "output_type": "stream",
          "name": "stdout",
          "text": [
            "tensor([[0., 0., 0., 0., 0., 0., 0., 0., 0., 0.],\n",
            "        [0., 0., 0., 0., 0., 0., 0., 0., 0., 0.],\n",
            "        [0., 0., 0., 0., 0., 0., 0., 0., 0., 0.],\n",
            "        [0., 0., 0., 0., 0., 0., 0., 0., 0., 0.]], dtype=torch.float64)\n",
            "tensor([[0., 0., 0., 0., 0., 0., 0., 0., 0., 0.],\n",
            "        [0., 0., 0., 0., 0., 0., 0., 0., 0., 0.],\n",
            "        [0., 0., 0., 0., 0., 0., 0., 0., 0., 0.],\n",
            "        [0., 0., 0., 0., 0., 0., 0., 0., 0., 0.]], dtype=torch.float64)\n",
            "tensor([[0., 0., 0., 0., 0., 0., 0., 0., 0., 0.],\n",
            "        [0., 0., 0., 0., 0., 0., 0., 0., 0., 0.],\n",
            "        [0., 0., 0., 0., 0., 0., 0., 0., 0., 0.],\n",
            "        [0., 0., 0., 0., 0., 0., 0., 0., 0., 0.]], dtype=torch.float64)\n"
          ]
        }
      ]
    },
    {
      "cell_type": "code",
      "source": [
        "len(iter(e2_dataloader))\n",
        "\n",
        "for i in range (len(iter(e2_dataloader))):\n",
        "  print(next(iter(e2_dataloader)))"
      ],
      "metadata": {
        "id": "cNI4NePvhf1t",
        "outputId": "8aaad88e-483d-4e5c-952f-e0f8b11fcbe4",
        "colab": {
          "base_uri": "https://localhost:8080/"
        }
      },
      "execution_count": 11,
      "outputs": [
        {
          "output_type": "stream",
          "name": "stdout",
          "text": [
            "tensor([[1., 1., 1., 1., 1., 1., 1., 1., 1., 1.],\n",
            "        [1., 1., 1., 1., 1., 1., 1., 1., 1., 1.],\n",
            "        [1., 1., 1., 1., 1., 1., 1., 1., 1., 1.],\n",
            "        [1., 1., 1., 1., 1., 1., 1., 1., 1., 1.]], dtype=torch.float64)\n",
            "tensor([[1., 1., 1., 1., 1., 1., 1., 1., 1., 1.],\n",
            "        [1., 1., 1., 1., 1., 1., 1., 1., 1., 1.],\n",
            "        [1., 1., 1., 1., 1., 1., 1., 1., 1., 1.],\n",
            "        [1., 1., 1., 1., 1., 1., 1., 1., 1., 1.]], dtype=torch.float64)\n",
            "tensor([[1., 1., 1., 1., 1., 1., 1., 1., 1., 1.],\n",
            "        [1., 1., 1., 1., 1., 1., 1., 1., 1., 1.],\n",
            "        [1., 1., 1., 1., 1., 1., 1., 1., 1., 1.],\n",
            "        [1., 1., 1., 1., 1., 1., 1., 1., 1., 1.]], dtype=torch.float64)\n"
          ]
        }
      ]
    },
    {
      "cell_type": "code",
      "source": [
        "def get_mse() -> torch.nn.MSELoss:\n",
        "    return nn.MSELoss()"
      ],
      "metadata": {
        "id": "MoLLwKrUpo2E"
      },
      "execution_count": 12,
      "outputs": []
    },
    {
      "cell_type": "code",
      "source": [
        "def get_optimizer(model, lr):\n",
        "    return torch.optim.Adam(model.parameters(), lr)"
      ],
      "metadata": {
        "id": "Kygj0APpqNMy"
      },
      "execution_count": 13,
      "outputs": []
    },
    {
      "cell_type": "code",
      "source": [
        "def training_step(model, e1_dataloader, e2_dataloader, target_dataloader=None, device='cuda'):\n",
        "    # converting the two dataloaders in iterators\n",
        "    print('training')\n",
        "    e1_iterator = iter(e1_dataloader)\n",
        "    e2_iterator = iter(e2_dataloader)\n",
        "\n",
        "    # vector of target values (gt)\n",
        "    if target_dataloader!= None:\n",
        "        target_iter = iter(target_dataloader)\n",
        "\n",
        "    # getting lengths \n",
        "    iter1_length = len(e1_iterator)\n",
        "    iter2_length = len(e2_iterator)\n",
        "\n",
        "    flag = 0\n",
        "    #loss = get_mse()\n",
        "    optimizer = get_optimizer(model, 0.001)\n",
        "\n",
        "    model.train()\n",
        "\n",
        "    if iter1_length > iter2_length:\n",
        "        flag = 1\n",
        "    elif iter2_length > iter1_length:\n",
        "        flag = 2\n",
        "\n",
        "    if flag==1:\n",
        "        for i in range(iter2_length):\n",
        "        # if the second entity's vector is longer than the first one\n",
        "        # I need to deal with this case\n",
        "        # With the devised solution, once the first iterator has reached the end \n",
        "        # it will be reinitialized \n",
        "            try:\n",
        "                e1_input = next(e1_iterator)\n",
        "                e1_input = e1_input.to(device)\n",
        "                if target_dataloader!=None:\n",
        "                    target = next(target_iter)\n",
        "                    target = target.to(device)\n",
        "            except:\n",
        "                e1_iterator = iter(e1_dataloader)\n",
        "                e1_input = next(e1_iterator)\n",
        "                e1_input = e1_input.to(device)\n",
        "                if target_dataloader!=None:\n",
        "                    target_iter = iter(target_dataloader)\n",
        "                    target = next(target_iter)\n",
        "                    target = target.to(device)\n",
        "\n",
        "            # at this point, al inputs are loaded on GPU\n",
        "            outputs = model([e1_input, e2_input]) # call method\n",
        "            if target_dataloader==None:\n",
        "                continue\n",
        "            loss = get_mse(outputs, target)\n",
        "\n",
        "            loss.backward()\n",
        "            optimizer.step()\n",
        "            optimizer.zero_grad()\n",
        "\n",
        "            print(f'outputs: {outputs}')\n",
        "\n",
        "    elif flag==2:\n",
        "        for i in range(iter1_length):\n",
        "            try:\n",
        "                e2_input = next(e2_iterator)\n",
        "                e2_input = e2_input.to(device)\n",
        "                target = next(target_iter)\n",
        "                target = target.to(device)\n",
        "            except:\n",
        "                e2_iterator = iter(e2_dataloader)\n",
        "                e2_input = next(e2_iterator)\n",
        "                e2_input = e2_input.to(device)\n",
        "                target_iter = iter(target_dataloader)\n",
        "                target = next(target_iter)\n",
        "                target = target.to(device)\n",
        "\n",
        "            outputs = model([e1_input, e2_input]) # call method\n",
        "            if target_dataloader==None:\n",
        "                continue\n",
        "            loss = get_mse(outputs, target)\n",
        "            loss.backward()\n",
        "            optimizer.step()\n",
        "            optimizer.zero_grad()\n",
        "    \n",
        "    elif flag==0:\n",
        "        for e1, e2 in zip(e1_iterator, e2_iterator):\n",
        "            #for element1, element2 in zip(e1,e2):\n",
        "                # in case they have the same length\n",
        "                #for i in range(iter1_length):\n",
        "            #    e1_input = element1.to(device)\n",
        "            #    e2_input = element2.to(device)\n",
        "                #print(e1_input)\n",
        "                #print(e2_input)\n",
        "            #    outputs = model([e1_input, e2_input]) # forward method\n",
        "        \n",
        "            #    loss.backward()\n",
        "            #    optimizer.step()\n",
        "            #    optimizer.zero_grad()\n",
        "            if target_dataloader!=None:\n",
        "                target = next(target_iter)\n",
        "                target = target.to(device)\n",
        "\n",
        "            # in this way I'm extracting the batches\n",
        "            print(f\"e1 : {e1.shape}\")\n",
        "            print(f\"e2 : {e2.shape}\")\n",
        "\n",
        "            e1_input = e1.to(device)\n",
        "            e2_input = e2.to(device)\n",
        "            outputs = model([e1_input, e2_input]) # forward method\n",
        "            if target_dataloader==None:\n",
        "                continue\n",
        "            loss = get_mse(outputs, target)\n",
        "\n",
        "            loss.backward()\n",
        "            optimizer.step()\n",
        "            optimizer.zero_grad()"
      ],
      "metadata": {
        "id": "3yhW3NFHjsnr"
      },
      "execution_count": 58,
      "outputs": []
    },
    {
      "cell_type": "code",
      "source": [
        "def main(dataloaders, epochs=5, device='cuda'):\n",
        "    model = NeuralTensorNetwork(output_dim=32, input_dim=10)\n",
        "    model = model.double().to(device)\n",
        "    for e in range(epochs):\n",
        "    # def training_step(model, e1_dataloader, e2_dataloader, device='cuda'):\n",
        "        training_step(model, dataloaders[0], dataloaders[1]) \n",
        "        print(e)\n",
        "    print('Traning done')"
      ],
      "metadata": {
        "id": "8_HKAPHSHOsx"
      },
      "execution_count": 59,
      "outputs": []
    },
    {
      "cell_type": "code",
      "source": [
        "main([e1_dataloader, e2_dataloader])"
      ],
      "metadata": {
        "id": "MUzSiL92JgIP",
        "outputId": "577b3932-4a8d-4fea-d6ff-6fc4bda8af31",
        "colab": {
          "base_uri": "https://localhost:8080/"
        }
      },
      "execution_count": 64,
      "outputs": [
        {
          "output_type": "stream",
          "name": "stdout",
          "text": [
            "self.W : torch.Size([32, 10, 10])\n",
            "self.V : torch.Size([20, 32])\n",
            "self.b : torch.Size([10])\n",
            "training\n",
            "e1 : torch.Size([4, 10])\n",
            "e2 : torch.Size([4, 10])\n",
            "e1.shape : torch.Size([4, 10])\n",
            "e2.shape : torch.Size([4, 10])\n",
            "self.W[0] : torch.Size([10, 10])\n",
            "self.V : torch.Size([20, 32])\n",
            "self.bias : torch.Size([10])\n",
            "batch_size : 4\n",
            "k : 32\n",
            "torch.cat([e1,e2], dim=1) : torch.Size([4, 20])\n",
            "dot prod size: torch.Size([4, 10])\n",
            "e1 : torch.Size([4, 10])\n",
            "e2 : torch.Size([4, 10])\n",
            "e1.shape : torch.Size([4, 10])\n",
            "e2.shape : torch.Size([4, 10])\n",
            "self.W[0] : torch.Size([10, 10])\n",
            "self.V : torch.Size([20, 32])\n",
            "self.bias : torch.Size([10])\n",
            "batch_size : 4\n",
            "k : 32\n",
            "torch.cat([e1,e2], dim=1) : torch.Size([4, 20])\n",
            "dot prod size: torch.Size([4, 10])\n",
            "e1 : torch.Size([3, 10])\n",
            "e2 : torch.Size([3, 10])\n",
            "e1.shape : torch.Size([3, 10])\n",
            "e2.shape : torch.Size([3, 10])\n",
            "self.W[0] : torch.Size([10, 10])\n",
            "self.V : torch.Size([20, 32])\n",
            "self.bias : torch.Size([10])\n",
            "batch_size : 3\n",
            "k : 32\n",
            "torch.cat([e1,e2], dim=1) : torch.Size([3, 20])\n",
            "dot prod size: torch.Size([3, 10])\n",
            "0\n",
            "training\n",
            "e1 : torch.Size([4, 10])\n",
            "e2 : torch.Size([4, 10])\n",
            "e1.shape : torch.Size([4, 10])\n",
            "e2.shape : torch.Size([4, 10])\n",
            "self.W[0] : torch.Size([10, 10])\n",
            "self.V : torch.Size([20, 32])\n",
            "self.bias : torch.Size([10])\n",
            "batch_size : 4\n",
            "k : 32\n",
            "torch.cat([e1,e2], dim=1) : torch.Size([4, 20])\n",
            "dot prod size: torch.Size([4, 10])\n",
            "e1 : torch.Size([4, 10])\n",
            "e2 : torch.Size([4, 10])\n",
            "e1.shape : torch.Size([4, 10])\n",
            "e2.shape : torch.Size([4, 10])\n",
            "self.W[0] : torch.Size([10, 10])\n",
            "self.V : torch.Size([20, 32])\n",
            "self.bias : torch.Size([10])\n",
            "batch_size : 4\n",
            "k : 32\n",
            "torch.cat([e1,e2], dim=1) : torch.Size([4, 20])\n",
            "dot prod size: torch.Size([4, 10])\n",
            "e1 : torch.Size([3, 10])\n",
            "e2 : torch.Size([3, 10])\n",
            "e1.shape : torch.Size([3, 10])\n",
            "e2.shape : torch.Size([3, 10])\n",
            "self.W[0] : torch.Size([10, 10])\n",
            "self.V : torch.Size([20, 32])\n",
            "self.bias : torch.Size([10])\n",
            "batch_size : 3\n",
            "k : 32\n",
            "torch.cat([e1,e2], dim=1) : torch.Size([3, 20])\n",
            "dot prod size: torch.Size([3, 10])\n",
            "1\n",
            "training\n",
            "e1 : torch.Size([4, 10])\n",
            "e2 : torch.Size([4, 10])\n",
            "e1.shape : torch.Size([4, 10])\n",
            "e2.shape : torch.Size([4, 10])\n",
            "self.W[0] : torch.Size([10, 10])\n",
            "self.V : torch.Size([20, 32])\n",
            "self.bias : torch.Size([10])\n",
            "batch_size : 4\n",
            "k : 32\n",
            "torch.cat([e1,e2], dim=1) : torch.Size([4, 20])\n",
            "dot prod size: torch.Size([4, 10])\n",
            "e1 : torch.Size([4, 10])\n",
            "e2 : torch.Size([4, 10])\n",
            "e1.shape : torch.Size([4, 10])\n",
            "e2.shape : torch.Size([4, 10])\n",
            "self.W[0] : torch.Size([10, 10])\n",
            "self.V : torch.Size([20, 32])\n",
            "self.bias : torch.Size([10])\n",
            "batch_size : 4\n",
            "k : 32\n",
            "torch.cat([e1,e2], dim=1) : torch.Size([4, 20])\n",
            "dot prod size: torch.Size([4, 10])\n",
            "e1 : torch.Size([3, 10])\n",
            "e2 : torch.Size([3, 10])\n",
            "e1.shape : torch.Size([3, 10])\n",
            "e2.shape : torch.Size([3, 10])\n",
            "self.W[0] : torch.Size([10, 10])\n",
            "self.V : torch.Size([20, 32])\n",
            "self.bias : torch.Size([10])\n",
            "batch_size : 3\n",
            "k : 32\n",
            "torch.cat([e1,e2], dim=1) : torch.Size([3, 20])\n",
            "dot prod size: torch.Size([3, 10])\n",
            "2\n",
            "training\n",
            "e1 : torch.Size([4, 10])\n",
            "e2 : torch.Size([4, 10])\n",
            "e1.shape : torch.Size([4, 10])\n",
            "e2.shape : torch.Size([4, 10])\n",
            "self.W[0] : torch.Size([10, 10])\n",
            "self.V : torch.Size([20, 32])\n",
            "self.bias : torch.Size([10])\n",
            "batch_size : 4\n",
            "k : 32\n",
            "torch.cat([e1,e2], dim=1) : torch.Size([4, 20])\n",
            "dot prod size: torch.Size([4, 10])\n",
            "e1 : torch.Size([4, 10])\n",
            "e2 : torch.Size([4, 10])\n",
            "e1.shape : torch.Size([4, 10])\n",
            "e2.shape : torch.Size([4, 10])\n",
            "self.W[0] : torch.Size([10, 10])\n",
            "self.V : torch.Size([20, 32])\n",
            "self.bias : torch.Size([10])\n",
            "batch_size : 4\n",
            "k : 32\n",
            "torch.cat([e1,e2], dim=1) : torch.Size([4, 20])\n",
            "dot prod size: torch.Size([4, 10])\n",
            "e1 : torch.Size([3, 10])\n",
            "e2 : torch.Size([3, 10])\n",
            "e1.shape : torch.Size([3, 10])\n",
            "e2.shape : torch.Size([3, 10])\n",
            "self.W[0] : torch.Size([10, 10])\n",
            "self.V : torch.Size([20, 32])\n",
            "self.bias : torch.Size([10])\n",
            "batch_size : 3\n",
            "k : 32\n",
            "torch.cat([e1,e2], dim=1) : torch.Size([3, 20])\n",
            "dot prod size: torch.Size([3, 10])\n",
            "3\n",
            "training\n",
            "e1 : torch.Size([4, 10])\n",
            "e2 : torch.Size([4, 10])\n",
            "e1.shape : torch.Size([4, 10])\n",
            "e2.shape : torch.Size([4, 10])\n",
            "self.W[0] : torch.Size([10, 10])\n",
            "self.V : torch.Size([20, 32])\n",
            "self.bias : torch.Size([10])\n",
            "batch_size : 4\n",
            "k : 32\n",
            "torch.cat([e1,e2], dim=1) : torch.Size([4, 20])\n",
            "dot prod size: torch.Size([4, 10])\n",
            "e1 : torch.Size([4, 10])\n",
            "e2 : torch.Size([4, 10])\n",
            "e1.shape : torch.Size([4, 10])\n",
            "e2.shape : torch.Size([4, 10])\n",
            "self.W[0] : torch.Size([10, 10])\n",
            "self.V : torch.Size([20, 32])\n",
            "self.bias : torch.Size([10])\n",
            "batch_size : 4\n",
            "k : 32\n",
            "torch.cat([e1,e2], dim=1) : torch.Size([4, 20])\n",
            "dot prod size: torch.Size([4, 10])\n",
            "e1 : torch.Size([3, 10])\n",
            "e2 : torch.Size([3, 10])\n",
            "e1.shape : torch.Size([3, 10])\n",
            "e2.shape : torch.Size([3, 10])\n",
            "self.W[0] : torch.Size([10, 10])\n",
            "self.V : torch.Size([20, 32])\n",
            "self.bias : torch.Size([10])\n",
            "batch_size : 3\n",
            "k : 32\n",
            "torch.cat([e1,e2], dim=1) : torch.Size([3, 20])\n",
            "dot prod size: torch.Size([3, 10])\n",
            "4\n",
            "Traning done\n"
          ]
        }
      ]
    },
    {
      "cell_type": "markdown",
      "source": [
        "### to collapse"
      ],
      "metadata": {
        "id": "bfw_Ard1YVR7"
      }
    },
    {
      "cell_type": "code",
      "source": [
        "import numpy as np\n",
        "\n",
        "\n",
        "# Dummy training data\n",
        "x_train1 = np.random.random((1000, 300))\n",
        "x_train2 = np.random.random((1000, 300))\n",
        "y_train = np.random.random((1000, 1))\n",
        "\n",
        "# Dummy validation data\n",
        "x_val1 = np.random.random((100, 300))\n",
        "x_val2 = np.random.random((100, 300))\n",
        "y_val = np.random.random((100, 1))\n",
        "\n",
        "\n",
        "print ('Shape of Training Data: ', x_train1.shape, x_train2.shape, y_train.shape)\n",
        "print ('Shape of Validation Data', x_val1.shape, x_val2.shape, y_val.shape)"
      ],
      "metadata": {
        "id": "TXq4IXC-pYRW",
        "outputId": "34c98224-61cf-489e-ca7e-68b999e04050",
        "colab": {
          "base_uri": "https://localhost:8080/"
        }
      },
      "execution_count": 29,
      "outputs": [
        {
          "output_type": "stream",
          "name": "stdout",
          "text": [
            "Shape of Training Data:  (1000, 300) (1000, 300) (1000, 1)\n",
            "Shape of Validation Data (100, 300) (100, 300) (100, 1)\n"
          ]
        }
      ]
    },
    {
      "cell_type": "code",
      "source": [
        "x1, x2 = batching_data([x_train1, x_train2])"
      ],
      "metadata": {
        "id": "7xvVymYO2uAk"
      },
      "execution_count": null,
      "outputs": []
    },
    {
      "cell_type": "code",
      "source": [
        "type(x1)"
      ],
      "metadata": {
        "id": "XlE35uqf7ItV"
      },
      "execution_count": null,
      "outputs": []
    },
    {
      "cell_type": "code",
      "source": [
        "type(x2)"
      ],
      "metadata": {
        "id": "7FgpHwh97N1N"
      },
      "execution_count": null,
      "outputs": []
    },
    {
      "cell_type": "markdown",
      "source": [
        "## Tensrflow Version"
      ],
      "metadata": {
        "id": "XYzKkf7VEREB"
      }
    },
    {
      "cell_type": "code",
      "source": [
        "import tensorflow as tf\n",
        "from tensorflow import keras\n",
        "from keras import optimizers\n",
        "from keras import backend as K  # in keras simple computations are not handled directly but it relies on a well optimized tensor handler library\n",
        "from keras.layers import Layer\n",
        "from keras.layers import Input, Dense\n",
        "from keras.models import Model"
      ],
      "metadata": {
        "id": "2zWIRcpstrr1"
      },
      "execution_count": 32,
      "outputs": []
    },
    {
      "cell_type": "code",
      "source": [
        "class NeuralTensorLayer(Layer):\n",
        "    def __init__(self, output_dim, input_dim, activation= None):\n",
        "        super().__init__()\n",
        "        self.output_dim = output_dim #The k in the formula\n",
        "        self.input_dim = input_dim   #The d in the formula\n",
        "        self.activation = activation #The f function in the formula\n",
        "        \n",
        "    # called the first time call is called\n",
        "    def build(self, input_shape):\n",
        "        #The initialisation parameters\n",
        "        self.mean = 0.0 \n",
        "        self.stddev = 1.0\n",
        "        dtype = 'float32'\n",
        "        self.seed = 1\n",
        "        \n",
        "        #The output and the inut dimension\n",
        "        k = self.output_dim\n",
        "        d = self.input_dim\n",
        "        \n",
        "        #Initialise the variables to be trained. The variables are according to the\n",
        "        #function defined.\n",
        "        self.W = K.variable(K.random_normal((k,d,d), self.mean, self.stddev,\n",
        "                               dtype=dtype, seed=self.seed))\n",
        "        self.V = K.variable(K.random_normal((2*d,k), self.mean, self.stddev,\n",
        "                               dtype=dtype, seed=self.seed))\n",
        "        self.b = K.zeros((self.input_dim,))\n",
        "        \n",
        "        #Set the variables to be trained.\n",
        "        self._trainable_weights = [self.W, self.V, self.b]\n",
        "        \n",
        "    def call(self, inputs):\n",
        "        \n",
        "        #Get Both the inputs\n",
        "        e1 = inputs[0]\n",
        "        e2 = inputs[1]\n",
        "\n",
        "        #tf.print(\"\\n\")\n",
        "        #tf.print(\"e1.shape : \", tf.shape(e1))\n",
        "        #tf.print(\"e2.shape : \", tf.shape(e2))\n",
        "        #tf.print(\"W[0].shape : \", tf.shape(self.W[0]))\n",
        "        #tf.print(\"V.shape : \", tf.shape(self.V))\n",
        "        #tf.print(\"b.shape : \", tf.shape(self.b))\n",
        "        #tf.print(\"batch_size : \", K.shape(e1)[0])\n",
        "\n",
        "        #Get the batch size\n",
        "        batch_size = K.shape(e1)[0]\n",
        "        \n",
        "        #The output and the inut dimension\n",
        "        k = self.output_dim\n",
        "        d = self.input_dim\n",
        "\n",
        "        #The first term in the function which is the bilinear product is calculated here.\n",
        "        first_term_k = [K.sum((e2 * K.dot(e1, self.W[0])) + self.b, axis=1)]\n",
        "        #tf.print(\"K.dot : \" , K.dot(e1,self.W[0]))\n",
        "        #tf.print(\"K.dot shape : \" , tf.shape(K.dot(e1,self.W[0])))\n",
        "        for i in range(1, k):\n",
        "            temp = K.sum((e2 * K.dot(e1, self.W[i])) + self.b, axis=1)\n",
        "            first_term_k.append(temp)\n",
        "        first_term = K.concatenate(first_term_k, axis=0) \n",
        "        #tf.print(\"first_term size :\", tf.shape(first_term))\n",
        "        \n",
        "        first_term = K.reshape(first_term, (batch_size, k))\n",
        "\n",
        "        #tf.print(\"first_term size :\", tf.shape(first_term))\n",
        "\n",
        "        #The second term in the function is calculated here.\n",
        "        second_term = K.dot(K.concatenate([e1,e2]), self.V)\n",
        "        \n",
        "        #Sum of the two terms to get the final function\n",
        "        z =  first_term + second_term\n",
        " \n",
        "        # The activation is selected here\n",
        "        if (self.activation == None):\n",
        "            return z\n",
        "        elif (self.activation == 'tanh'):\n",
        "            return K.tanh(z)\n",
        "        elif (self.activation == 'relu'):\n",
        "            #tf.print(K.relu(z))\n",
        "            return K.relu(z)\n",
        "        else :\n",
        "            print ('Activation not found')\n",
        "        "
      ],
      "metadata": {
        "id": "7c9WtJoGtl1b"
      },
      "execution_count": 38,
      "outputs": []
    },
    {
      "cell_type": "code",
      "source": [
        "#Here Define the model\n",
        "vector1 = Input(shape=(10,), dtype='float32')\n",
        "vector2 = Input(shape=(10,), dtype='float32')\n",
        "BilinearLayer = NeuralTensorLayer(output_dim=32, input_dim=10, \n",
        "                                  activation= 'relu')([vector1, vector2])\n",
        "\n",
        "g = Dense(1)(BilinearLayer)\n",
        "\n",
        "#The g or the output of the modelled function.\n",
        "model = Model(inputs=[vector1, vector2], outputs=[g])\n",
        "\n",
        "#Compile the model\n",
        "adam = keras.optimizers.Adam(learning_rate=0.001)\n",
        "model.compile(loss='mean_squared_error', optimizer=adam)\n",
        "#The summary of the model.\n",
        "model.summary()"
      ],
      "metadata": {
        "colab": {
          "base_uri": "https://localhost:8080/"
        },
        "id": "ssnK68owuovX",
        "outputId": "56aec532-54cc-40aa-e67c-4d1067bcea6d"
      },
      "execution_count": 39,
      "outputs": [
        {
          "output_type": "stream",
          "name": "stdout",
          "text": [
            "Model: \"model_1\"\n",
            "__________________________________________________________________________________________________\n",
            " Layer (type)                   Output Shape         Param #     Connected to                     \n",
            "==================================================================================================\n",
            " input_3 (InputLayer)           [(None, 10)]         0           []                               \n",
            "                                                                                                  \n",
            " input_4 (InputLayer)           [(None, 10)]         0           []                               \n",
            "                                                                                                  \n",
            " neural_tensor_layer_1 (NeuralT  (None, 32)          3850        ['input_3[0][0]',                \n",
            " ensorLayer)                                                      'input_4[0][0]']                \n",
            "                                                                                                  \n",
            " dense_1 (Dense)                (None, 1)            33          ['neural_tensor_layer_1[0][0]']  \n",
            "                                                                                                  \n",
            "==================================================================================================\n",
            "Total params: 3,883\n",
            "Trainable params: 3,883\n",
            "Non-trainable params: 0\n",
            "__________________________________________________________________________________________________\n"
          ]
        }
      ]
    },
    {
      "cell_type": "code",
      "source": [
        "from keras.utils.vis_utils import plot_model\n",
        "\n",
        "plot_model(model)"
      ],
      "metadata": {
        "colab": {
          "base_uri": "https://localhost:8080/",
          "height": 272
        },
        "id": "SHOYAvffxwwl",
        "outputId": "2776f040-f15e-4823-e531-3b77867f581a"
      },
      "execution_count": 40,
      "outputs": [
        {
          "output_type": "execute_result",
          "data": {
            "image/png": "[encoded data removed]",
            "text/plain": [
              "<IPython.core.display.Image object>"
            ]
          },
          "metadata": {},
          "execution_count": 40
        }
      ]
    },
    {
      "cell_type": "code",
      "source": [
        "ll = []\n",
        "i = np.array([1,2,3,4,5,6,7,8,9,10])\n",
        "ll.append(i)\n",
        "for k in range(0,10):\n",
        "    ll.append(np.zeros(i.shape))\n",
        "\n",
        "print(ll)\n",
        "\n",
        "\n",
        "l = []\n",
        "\n",
        "j = np.array([11,12,13,14,15,16,17,18,19,20])\n",
        "l.append(j)\n",
        "for z in range(0,10):\n",
        "    l.append(np.ones(j.shape))\n",
        "\n",
        "print(l)\n",
        "\n",
        "print(np.array(l).shape)\n",
        "print(np.array(ll).shape)\n",
        "\n",
        "y = np.random.random((len(l),1))\n",
        "y.shape"
      ],
      "metadata": {
        "id": "k_8bE3iA_q8U",
        "outputId": "70577939-2d2c-409c-bfed-6f90377528a9",
        "colab": {
          "base_uri": "https://localhost:8080/"
        }
      },
      "execution_count": 41,
      "outputs": [
        {
          "output_type": "stream",
          "name": "stdout",
          "text": [
            "[array([ 1,  2,  3,  4,  5,  6,  7,  8,  9, 10]), array([0., 0., 0., 0., 0., 0., 0., 0., 0., 0.]), array([0., 0., 0., 0., 0., 0., 0., 0., 0., 0.]), array([0., 0., 0., 0., 0., 0., 0., 0., 0., 0.]), array([0., 0., 0., 0., 0., 0., 0., 0., 0., 0.]), array([0., 0., 0., 0., 0., 0., 0., 0., 0., 0.]), array([0., 0., 0., 0., 0., 0., 0., 0., 0., 0.]), array([0., 0., 0., 0., 0., 0., 0., 0., 0., 0.]), array([0., 0., 0., 0., 0., 0., 0., 0., 0., 0.]), array([0., 0., 0., 0., 0., 0., 0., 0., 0., 0.]), array([0., 0., 0., 0., 0., 0., 0., 0., 0., 0.])]\n",
            "[array([11, 12, 13, 14, 15, 16, 17, 18, 19, 20]), array([1., 1., 1., 1., 1., 1., 1., 1., 1., 1.]), array([1., 1., 1., 1., 1., 1., 1., 1., 1., 1.]), array([1., 1., 1., 1., 1., 1., 1., 1., 1., 1.]), array([1., 1., 1., 1., 1., 1., 1., 1., 1., 1.]), array([1., 1., 1., 1., 1., 1., 1., 1., 1., 1.]), array([1., 1., 1., 1., 1., 1., 1., 1., 1., 1.]), array([1., 1., 1., 1., 1., 1., 1., 1., 1., 1.]), array([1., 1., 1., 1., 1., 1., 1., 1., 1., 1.]), array([1., 1., 1., 1., 1., 1., 1., 1., 1., 1.]), array([1., 1., 1., 1., 1., 1., 1., 1., 1., 1.])]\n",
            "(11, 10)\n",
            "(11, 10)\n"
          ]
        },
        {
          "output_type": "execute_result",
          "data": {
            "text/plain": [
              "(11, 1)"
            ]
          },
          "metadata": {},
          "execution_count": 41
        }
      ]
    },
    {
      "cell_type": "code",
      "source": [
        "model.fit(([np.array(ll), np.array(l)]), y, batch_size=4, epochs=10)"
      ],
      "metadata": {
        "id": "gpLKGofgrq29",
        "outputId": "6b0678af-f424-4dc3-ee19-b372198db5b2",
        "colab": {
          "base_uri": "https://localhost:8080/"
        }
      },
      "execution_count": 42,
      "outputs": [
        {
          "output_type": "stream",
          "name": "stdout",
          "text": [
            "Epoch 1/10\n",
            "3/3 [==============================] - 3s 12ms/step - loss: 79629.3672\n",
            "Epoch 2/10\n",
            "3/3 [==============================] - 0s 10ms/step - loss: 177705.6094\n",
            "Epoch 3/10\n",
            "3/3 [==============================] - 0s 9ms/step - loss: 30667.2109\n",
            "Epoch 4/10\n",
            "3/3 [==============================] - 0s 9ms/step - loss: 165620.4375\n",
            "Epoch 5/10\n",
            "3/3 [==============================] - 0s 10ms/step - loss: 88233.2422\n",
            "Epoch 6/10\n",
            "3/3 [==============================] - 0s 10ms/step - loss: 156021.5938\n",
            "Epoch 7/10\n",
            "3/3 [==============================] - 0s 10ms/step - loss: 148106.1719\n",
            "Epoch 8/10\n",
            "3/3 [==============================] - 0s 10ms/step - loss: 141851.0312\n",
            "Epoch 9/10\n",
            "3/3 [==============================] - 0s 10ms/step - loss: 32416.1699\n",
            "Epoch 10/10\n",
            "3/3 [==============================] - 0s 10ms/step - loss: 29716.0879\n"
          ]
        },
        {
          "output_type": "execute_result",
          "data": {
            "text/plain": [
              "<keras.callbacks.History at 0x7fe72c748310>"
            ]
          },
          "metadata": {},
          "execution_count": 42
        }
      ]
    },
    {
      "cell_type": "code",
      "source": [
        "import numpy as np\n",
        "\n",
        "\n",
        "# Dummy training data\n",
        "x_train1 = np.random.random((1000, 300))\n",
        "x_train2 = np.random.random((1000, 300))\n",
        "y_train = np.random.random((1000, 1))\n",
        "\n",
        "# Dummy validation data\n",
        "x_val1 = np.random.random((100, 300))\n",
        "x_val2 = np.random.random((100, 300))\n",
        "y_val = np.random.random((100, 1))\n",
        "\n",
        "print ('Shape of Training Data: ', x_train1.shape, x_train2.shape, y_train.shape)\n",
        "print ('Shape of Validation Data', x_val1.shape, x_val2.shape, y_val.shape)\n"
      ],
      "metadata": {
        "colab": {
          "base_uri": "https://localhost:8080/"
        },
        "id": "YxiWrtEXuoJ7",
        "outputId": "3ba7e21e-de91-40d5-ff22-90223752b15d"
      },
      "execution_count": 43,
      "outputs": [
        {
          "output_type": "stream",
          "name": "stdout",
          "text": [
            "Shape of Training Data:  (1000, 300) (1000, 300) (1000, 1)\n",
            "Shape of Validation Data (100, 300) (100, 300) (100, 1)\n"
          ]
        }
      ]
    },
    {
      "cell_type": "code",
      "source": [
        "#Here Define the model\n",
        "vector1 = Input(shape=(300,), dtype='float32')\n",
        "vector2 = Input(shape=(300,), dtype='float32')\n",
        "BilinearLayer = NeuralTensorLayer(output_dim=32, input_dim=300, \n",
        "                                  activation= 'relu')([vector1, vector2])\n",
        "\n",
        "g = Dense(1)(BilinearLayer)\n",
        "\n",
        "#The g or the output of the modelled function.\n",
        "model = Model(inputs=[vector1, vector2], outputs=[g])\n",
        "\n",
        "#Compile the model\n",
        "adam = keras.optimizers.Adam(learning_rate=0.001)\n",
        "model.compile(loss='mean_squared_error', optimizer=adam)\n",
        "#The summary of the model.\n",
        "model.summary()"
      ],
      "metadata": {
        "colab": {
          "base_uri": "https://localhost:8080/"
        },
        "outputId": "2b94403b-c14f-4b96-af30-b89a8abac09b",
        "id": "6r8LSnNwTlm4"
      },
      "execution_count": 44,
      "outputs": [
        {
          "output_type": "stream",
          "name": "stdout",
          "text": [
            "Model: \"model_2\"\n",
            "__________________________________________________________________________________________________\n",
            " Layer (type)                   Output Shape         Param #     Connected to                     \n",
            "==================================================================================================\n",
            " input_5 (InputLayer)           [(None, 300)]        0           []                               \n",
            "                                                                                                  \n",
            " input_6 (InputLayer)           [(None, 300)]        0           []                               \n",
            "                                                                                                  \n",
            " neural_tensor_layer_2 (NeuralT  (None, 32)          2899500     ['input_5[0][0]',                \n",
            " ensorLayer)                                                      'input_6[0][0]']                \n",
            "                                                                                                  \n",
            " dense_2 (Dense)                (None, 1)            33          ['neural_tensor_layer_2[0][0]']  \n",
            "                                                                                                  \n",
            "==================================================================================================\n",
            "Total params: 2,899,533\n",
            "Trainable params: 2,899,533\n",
            "Non-trainable params: 0\n",
            "__________________________________________________________________________________________________\n"
          ]
        }
      ]
    },
    {
      "cell_type": "code",
      "source": [
        "model.fit([x_train1, x_train2], y_train,\n",
        "          batch_size=64, epochs=10,\n",
        "          validation_data=([x_val1, x_val2], y_val))"
      ],
      "metadata": {
        "id": "8uGv2VC0uz_k",
        "colab": {
          "base_uri": "https://localhost:8080/"
        },
        "outputId": "5d6ee49a-c308-4c92-8c8f-cb3d9a2af11a"
      },
      "execution_count": 45,
      "outputs": [
        {
          "output_type": "stream",
          "name": "stdout",
          "text": [
            "Epoch 1/10\n",
            "16/16 [==============================] - 3s 41ms/step - loss: 3176.0068 - val_loss: 10.5460\n",
            "Epoch 2/10\n",
            "16/16 [==============================] - 0s 15ms/step - loss: 5.9429 - val_loss: 1.0483\n",
            "Epoch 3/10\n",
            "16/16 [==============================] - 0s 14ms/step - loss: 1.3358 - val_loss: 0.5798\n",
            "Epoch 4/10\n",
            "16/16 [==============================] - 0s 15ms/step - loss: 0.8591 - val_loss: 0.5033\n",
            "Epoch 5/10\n",
            "16/16 [==============================] - 0s 15ms/step - loss: 0.8173 - val_loss: 0.4845\n",
            "Epoch 6/10\n",
            "16/16 [==============================] - 0s 14ms/step - loss: 1.2097 - val_loss: 0.4702\n",
            "Epoch 7/10\n",
            "16/16 [==============================] - 0s 15ms/step - loss: 0.7599 - val_loss: 0.4568\n",
            "Epoch 8/10\n",
            "16/16 [==============================] - 0s 15ms/step - loss: 1.2153 - val_loss: 0.4334\n",
            "Epoch 9/10\n",
            "16/16 [==============================] - 0s 15ms/step - loss: 0.7543 - val_loss: 0.4197\n",
            "Epoch 10/10\n",
            "16/16 [==============================] - 0s 14ms/step - loss: 1.5281 - val_loss: 0.4113\n"
          ]
        },
        {
          "output_type": "execute_result",
          "data": {
            "text/plain": [
              "<keras.callbacks.History at 0x7fe7c0445610>"
            ]
          },
          "metadata": {},
          "execution_count": 45
        }
      ]
    },
    {
      "cell_type": "code",
      "source": [
        "e1_dataloader = batching_data(x_train1, batch_size=64)\n",
        "e2_dataloader = batching_data(x_train2, batch_size=64)\n",
        "y_dataloader = batching_data(y_train, batch_size=64)\n",
        "\n",
        "main([e1_dataloader, e2_dataloader, y_dataloader], epochs=10)\n"
      ],
      "metadata": {
        "id": "MAfk6lLpbjOi",
        "outputId": "d6b3d4d7-f91d-41f6-9ab2-8c52eae4222a",
        "colab": {
          "base_uri": "https://localhost:8080/",
          "height": 588
        }
      },
      "execution_count": 49,
      "outputs": [
        {
          "output_type": "stream",
          "name": "stdout",
          "text": [
            "self.W : torch.Size([32, 10, 10])\n",
            "self.V : torch.Size([20, 32])\n",
            "self.b : torch.Size([10])\n",
            "training\n",
            "e1 : torch.Size([64, 300])\n",
            "e2 : torch.Size([64, 300])\n",
            "e1.shape : torch.Size([64, 300])\n",
            "e2.shape : torch.Size([64, 300])\n",
            "self.W[0] : torch.Size([10, 10])\n",
            "self.V : torch.Size([20, 32])\n",
            "self.bias : torch.Size([10])\n",
            "batch_size : 64\n",
            "k : 32\n",
            "torch.cat([e1,e2], dim=1) : torch.Size([64, 600])\n"
          ]
        },
        {
          "output_type": "error",
          "ename": "RuntimeError",
          "evalue": "ignored",
          "traceback": [
            "\u001b[0;31m---------------------------------------------------------------------------\u001b[0m",
            "\u001b[0;31mRuntimeError\u001b[0m                              Traceback (most recent call last)",
            "\u001b[0;32m<ipython-input-49-1ec254921be8>\u001b[0m in \u001b[0;36m<module>\u001b[0;34m\u001b[0m\n\u001b[1;32m      3\u001b[0m \u001b[0my_dataloader\u001b[0m \u001b[0;34m=\u001b[0m \u001b[0mbatching_data\u001b[0m\u001b[0;34m(\u001b[0m\u001b[0my_train\u001b[0m\u001b[0;34m,\u001b[0m \u001b[0mbatch_size\u001b[0m\u001b[0;34m=\u001b[0m\u001b[0;36m64\u001b[0m\u001b[0;34m)\u001b[0m\u001b[0;34m\u001b[0m\u001b[0;34m\u001b[0m\u001b[0m\n\u001b[1;32m      4\u001b[0m \u001b[0;34m\u001b[0m\u001b[0m\n\u001b[0;32m----> 5\u001b[0;31m \u001b[0mmain\u001b[0m\u001b[0;34m(\u001b[0m\u001b[0;34m[\u001b[0m\u001b[0me1_dataloader\u001b[0m\u001b[0;34m,\u001b[0m \u001b[0me2_dataloader\u001b[0m\u001b[0;34m,\u001b[0m \u001b[0my_dataloader\u001b[0m\u001b[0;34m]\u001b[0m\u001b[0;34m,\u001b[0m \u001b[0mepochs\u001b[0m\u001b[0;34m=\u001b[0m\u001b[0;36m10\u001b[0m\u001b[0;34m)\u001b[0m\u001b[0;34m\u001b[0m\u001b[0;34m\u001b[0m\u001b[0m\n\u001b[0m",
            "\u001b[0;32m<ipython-input-48-889ec32f9d4b>\u001b[0m in \u001b[0;36mmain\u001b[0;34m(dataloaders, epochs, device)\u001b[0m\n\u001b[1;32m      4\u001b[0m     \u001b[0;32mfor\u001b[0m \u001b[0me\u001b[0m \u001b[0;32min\u001b[0m \u001b[0mrange\u001b[0m\u001b[0;34m(\u001b[0m\u001b[0mepochs\u001b[0m\u001b[0;34m)\u001b[0m\u001b[0;34m:\u001b[0m\u001b[0;34m\u001b[0m\u001b[0;34m\u001b[0m\u001b[0m\n\u001b[1;32m      5\u001b[0m     \u001b[0;31m# def training_step(model, e1_dataloader, e2_dataloader, device='cuda'):\u001b[0m\u001b[0;34m\u001b[0m\u001b[0;34m\u001b[0m\u001b[0;34m\u001b[0m\u001b[0m\n\u001b[0;32m----> 6\u001b[0;31m         \u001b[0mtraining_step\u001b[0m\u001b[0;34m(\u001b[0m\u001b[0mmodel\u001b[0m\u001b[0;34m,\u001b[0m \u001b[0mdataloaders\u001b[0m\u001b[0;34m[\u001b[0m\u001b[0;36m0\u001b[0m\u001b[0;34m]\u001b[0m\u001b[0;34m,\u001b[0m \u001b[0mdataloaders\u001b[0m\u001b[0;34m[\u001b[0m\u001b[0;36m1\u001b[0m\u001b[0;34m]\u001b[0m\u001b[0;34m,\u001b[0m \u001b[0mdataloaders\u001b[0m\u001b[0;34m[\u001b[0m\u001b[0;36m2\u001b[0m\u001b[0;34m]\u001b[0m\u001b[0;34m)\u001b[0m\u001b[0;34m\u001b[0m\u001b[0;34m\u001b[0m\u001b[0m\n\u001b[0m\u001b[1;32m      7\u001b[0m         \u001b[0mprint\u001b[0m\u001b[0;34m(\u001b[0m\u001b[0me\u001b[0m\u001b[0;34m)\u001b[0m\u001b[0;34m\u001b[0m\u001b[0;34m\u001b[0m\u001b[0m\n\u001b[1;32m      8\u001b[0m     \u001b[0mprint\u001b[0m\u001b[0;34m(\u001b[0m\u001b[0;34m'Traning done'\u001b[0m\u001b[0;34m)\u001b[0m\u001b[0;34m\u001b[0m\u001b[0;34m\u001b[0m\u001b[0m\n",
            "\u001b[0;32m<ipython-input-30-baeea62897d4>\u001b[0m in \u001b[0;36mtraining_step\u001b[0;34m(model, e1_dataloader, e2_dataloader, target_dataloader, device)\u001b[0m\n\u001b[1;32m     97\u001b[0m             \u001b[0me1_input\u001b[0m \u001b[0;34m=\u001b[0m \u001b[0me1\u001b[0m\u001b[0;34m.\u001b[0m\u001b[0mto\u001b[0m\u001b[0;34m(\u001b[0m\u001b[0mdevice\u001b[0m\u001b[0;34m)\u001b[0m\u001b[0;34m\u001b[0m\u001b[0;34m\u001b[0m\u001b[0m\n\u001b[1;32m     98\u001b[0m             \u001b[0me2_input\u001b[0m \u001b[0;34m=\u001b[0m \u001b[0me2\u001b[0m\u001b[0;34m.\u001b[0m\u001b[0mto\u001b[0m\u001b[0;34m(\u001b[0m\u001b[0mdevice\u001b[0m\u001b[0;34m)\u001b[0m\u001b[0;34m\u001b[0m\u001b[0;34m\u001b[0m\u001b[0m\n\u001b[0;32m---> 99\u001b[0;31m             \u001b[0moutputs\u001b[0m \u001b[0;34m=\u001b[0m \u001b[0mmodel\u001b[0m\u001b[0;34m(\u001b[0m\u001b[0;34m[\u001b[0m\u001b[0me1_input\u001b[0m\u001b[0;34m,\u001b[0m \u001b[0me2_input\u001b[0m\u001b[0;34m]\u001b[0m\u001b[0;34m)\u001b[0m \u001b[0;31m# forward method\u001b[0m\u001b[0;34m\u001b[0m\u001b[0;34m\u001b[0m\u001b[0m\n\u001b[0m\u001b[1;32m    100\u001b[0m             \u001b[0mloss\u001b[0m \u001b[0;34m=\u001b[0m \u001b[0mget_mse\u001b[0m\u001b[0;34m(\u001b[0m\u001b[0moutputs\u001b[0m\u001b[0;34m,\u001b[0m \u001b[0mtarget\u001b[0m\u001b[0;34m)\u001b[0m\u001b[0;34m\u001b[0m\u001b[0;34m\u001b[0m\u001b[0m\n\u001b[1;32m    101\u001b[0m \u001b[0;34m\u001b[0m\u001b[0m\n",
            "\u001b[0;32m/usr/local/lib/python3.7/dist-packages/torch/nn/modules/module.py\u001b[0m in \u001b[0;36m_call_impl\u001b[0;34m(self, *input, **kwargs)\u001b[0m\n\u001b[1;32m   1128\u001b[0m         if not (self._backward_hooks or self._forward_hooks or self._forward_pre_hooks or _global_backward_hooks\n\u001b[1;32m   1129\u001b[0m                 or _global_forward_hooks or _global_forward_pre_hooks):\n\u001b[0;32m-> 1130\u001b[0;31m             \u001b[0;32mreturn\u001b[0m \u001b[0mforward_call\u001b[0m\u001b[0;34m(\u001b[0m\u001b[0;34m*\u001b[0m\u001b[0minput\u001b[0m\u001b[0;34m,\u001b[0m \u001b[0;34m**\u001b[0m\u001b[0mkwargs\u001b[0m\u001b[0;34m)\u001b[0m\u001b[0;34m\u001b[0m\u001b[0;34m\u001b[0m\u001b[0m\n\u001b[0m\u001b[1;32m   1131\u001b[0m         \u001b[0;31m# Do not call functions when jit is used\u001b[0m\u001b[0;34m\u001b[0m\u001b[0;34m\u001b[0m\u001b[0;34m\u001b[0m\u001b[0m\n\u001b[1;32m   1132\u001b[0m         \u001b[0mfull_backward_hooks\u001b[0m\u001b[0;34m,\u001b[0m \u001b[0mnon_full_backward_hooks\u001b[0m \u001b[0;34m=\u001b[0m \u001b[0;34m[\u001b[0m\u001b[0;34m]\u001b[0m\u001b[0;34m,\u001b[0m \u001b[0;34m[\u001b[0m\u001b[0;34m]\u001b[0m\u001b[0;34m\u001b[0m\u001b[0;34m\u001b[0m\u001b[0m\n",
            "\u001b[0;32m<ipython-input-25-21fb0eee4ef7>\u001b[0m in \u001b[0;36mforward\u001b[0;34m(self, inputs)\u001b[0m\n\u001b[1;32m     58\u001b[0m \u001b[0;34m\u001b[0m\u001b[0m\n\u001b[1;32m     59\u001b[0m         \u001b[0;31m# print(f\"dot prod : {torch.matmul(e1, self.W[0])}\")\u001b[0m\u001b[0;34m\u001b[0m\u001b[0;34m\u001b[0m\u001b[0;34m\u001b[0m\u001b[0m\n\u001b[0;32m---> 60\u001b[0;31m         \u001b[0mprint\u001b[0m\u001b[0;34m(\u001b[0m\u001b[0;34mf\"dot prod size: {torch.Tensor.size(torch.matmul(e1, self.W[0]))}\"\u001b[0m\u001b[0;34m)\u001b[0m\u001b[0;34m\u001b[0m\u001b[0;34m\u001b[0m\u001b[0m\n\u001b[0m\u001b[1;32m     61\u001b[0m \u001b[0;34m\u001b[0m\u001b[0m\n\u001b[1;32m     62\u001b[0m         \u001b[0;31m# bilinear tensor + bias\u001b[0m\u001b[0;34m\u001b[0m\u001b[0;34m\u001b[0m\u001b[0;34m\u001b[0m\u001b[0m\n",
            "\u001b[0;31mRuntimeError\u001b[0m: mat1 and mat2 shapes cannot be multiplied (64x300 and 10x10)"
          ]
        }
      ]
    },
    {
      "cell_type": "code",
      "source": [],
      "metadata": {
        "id": "MkBVwajri-bH"
      },
      "execution_count": null,
      "outputs": []
    }
  ]
}