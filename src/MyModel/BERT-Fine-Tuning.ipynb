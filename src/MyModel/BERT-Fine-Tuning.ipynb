{
  "nbformat": 4,
  "nbformat_minor": 0,
  "metadata": {
    "colab": {
      "provenance": [],
      "authorship_tag": "ABX9TyN1Wb0MUoW400iP5jzFGurl",
      "include_colab_link": true
    },
    "kernelspec": {
      "name": "python3",
      "display_name": "Python 3"
    },
    "language_info": {
      "name": "python"
    },
    "gpuClass": "standard",
    "accelerator": "GPU",
    "widgets": {
      "application/vnd.jupyter.widget-state+json": {
        "8916a8241be34fad87855ed23ca63aaa": {
          "model_module": "@jupyter-widgets/controls",
          "model_name": "HBoxModel",
          "model_module_version": "1.5.0",
          "state": {
            "_dom_classes": [],
            "_model_module": "@jupyter-widgets/controls",
            "_model_module_version": "1.5.0",
            "_model_name": "HBoxModel",
            "_view_count": null,
            "_view_module": "@jupyter-widgets/controls",
            "_view_module_version": "1.5.0",
            "_view_name": "HBoxView",
            "box_style": "",
            "children": [
              "IPY_MODEL_6d6ad3d7a1444b28b5a6764bd67fe0b2",
              "IPY_MODEL_e9361621884c4bba9b0dd188e323edb3",
              "IPY_MODEL_663232c79d6f4188896cb5f9380ad4b8"
            ],
            "layout": "IPY_MODEL_07cf8001a3e74ee0a1aa9b4df38b8141"
          }
        },
        "6d6ad3d7a1444b28b5a6764bd67fe0b2": {
          "model_module": "@jupyter-widgets/controls",
          "model_name": "HTMLModel",
          "model_module_version": "1.5.0",
          "state": {
            "_dom_classes": [],
            "_model_module": "@jupyter-widgets/controls",
            "_model_module_version": "1.5.0",
            "_model_name": "HTMLModel",
            "_view_count": null,
            "_view_module": "@jupyter-widgets/controls",
            "_view_module_version": "1.5.0",
            "_view_name": "HTMLView",
            "description": "",
            "description_tooltip": null,
            "layout": "IPY_MODEL_e4e6acf9e4144a2f8b81450c5cb32b59",
            "placeholder": "​",
            "style": "IPY_MODEL_f86c0fdcebd742b5a667b51969ef4c82",
            "value": "Downloading: 100%"
          }
        },
        "e9361621884c4bba9b0dd188e323edb3": {
          "model_module": "@jupyter-widgets/controls",
          "model_name": "FloatProgressModel",
          "model_module_version": "1.5.0",
          "state": {
            "_dom_classes": [],
            "_model_module": "@jupyter-widgets/controls",
            "_model_module_version": "1.5.0",
            "_model_name": "FloatProgressModel",
            "_view_count": null,
            "_view_module": "@jupyter-widgets/controls",
            "_view_module_version": "1.5.0",
            "_view_name": "ProgressView",
            "bar_style": "success",
            "description": "",
            "description_tooltip": null,
            "layout": "IPY_MODEL_a5e96f21e2e948d9a3fd64a2d5a14165",
            "max": 231508,
            "min": 0,
            "orientation": "horizontal",
            "style": "IPY_MODEL_6c050b93efed4dcb9cf2e6b1fe4f3f97",
            "value": 231508
          }
        },
        "663232c79d6f4188896cb5f9380ad4b8": {
          "model_module": "@jupyter-widgets/controls",
          "model_name": "HTMLModel",
          "model_module_version": "1.5.0",
          "state": {
            "_dom_classes": [],
            "_model_module": "@jupyter-widgets/controls",
            "_model_module_version": "1.5.0",
            "_model_name": "HTMLModel",
            "_view_count": null,
            "_view_module": "@jupyter-widgets/controls",
            "_view_module_version": "1.5.0",
            "_view_name": "HTMLView",
            "description": "",
            "description_tooltip": null,
            "layout": "IPY_MODEL_82052d0bd95e4008839821e64225bd99",
            "placeholder": "​",
            "style": "IPY_MODEL_2382a61388f5472f825a0c7caaa5e77e",
            "value": " 232k/232k [00:00&lt;00:00, 589kB/s]"
          }
        },
        "07cf8001a3e74ee0a1aa9b4df38b8141": {
          "model_module": "@jupyter-widgets/base",
          "model_name": "LayoutModel",
          "model_module_version": "1.2.0",
          "state": {
            "_model_module": "@jupyter-widgets/base",
            "_model_module_version": "1.2.0",
            "_model_name": "LayoutModel",
            "_view_count": null,
            "_view_module": "@jupyter-widgets/base",
            "_view_module_version": "1.2.0",
            "_view_name": "LayoutView",
            "align_content": null,
            "align_items": null,
            "align_self": null,
            "border": null,
            "bottom": null,
            "display": null,
            "flex": null,
            "flex_flow": null,
            "grid_area": null,
            "grid_auto_columns": null,
            "grid_auto_flow": null,
            "grid_auto_rows": null,
            "grid_column": null,
            "grid_gap": null,
            "grid_row": null,
            "grid_template_areas": null,
            "grid_template_columns": null,
            "grid_template_rows": null,
            "height": null,
            "justify_content": null,
            "justify_items": null,
            "left": null,
            "margin": null,
            "max_height": null,
            "max_width": null,
            "min_height": null,
            "min_width": null,
            "object_fit": null,
            "object_position": null,
            "order": null,
            "overflow": null,
            "overflow_x": null,
            "overflow_y": null,
            "padding": null,
            "right": null,
            "top": null,
            "visibility": null,
            "width": null
          }
        },
        "e4e6acf9e4144a2f8b81450c5cb32b59": {
          "model_module": "@jupyter-widgets/base",
          "model_name": "LayoutModel",
          "model_module_version": "1.2.0",
          "state": {
            "_model_module": "@jupyter-widgets/base",
            "_model_module_version": "1.2.0",
            "_model_name": "LayoutModel",
            "_view_count": null,
            "_view_module": "@jupyter-widgets/base",
            "_view_module_version": "1.2.0",
            "_view_name": "LayoutView",
            "align_content": null,
            "align_items": null,
            "align_self": null,
            "border": null,
            "bottom": null,
            "display": null,
            "flex": null,
            "flex_flow": null,
            "grid_area": null,
            "grid_auto_columns": null,
            "grid_auto_flow": null,
            "grid_auto_rows": null,
            "grid_column": null,
            "grid_gap": null,
            "grid_row": null,
            "grid_template_areas": null,
            "grid_template_columns": null,
            "grid_template_rows": null,
            "height": null,
            "justify_content": null,
            "justify_items": null,
            "left": null,
            "margin": null,
            "max_height": null,
            "max_width": null,
            "min_height": null,
            "min_width": null,
            "object_fit": null,
            "object_position": null,
            "order": null,
            "overflow": null,
            "overflow_x": null,
            "overflow_y": null,
            "padding": null,
            "right": null,
            "top": null,
            "visibility": null,
            "width": null
          }
        },
        "f86c0fdcebd742b5a667b51969ef4c82": {
          "model_module": "@jupyter-widgets/controls",
          "model_name": "DescriptionStyleModel",
          "model_module_version": "1.5.0",
          "state": {
            "_model_module": "@jupyter-widgets/controls",
            "_model_module_version": "1.5.0",
            "_model_name": "DescriptionStyleModel",
            "_view_count": null,
            "_view_module": "@jupyter-widgets/base",
            "_view_module_version": "1.2.0",
            "_view_name": "StyleView",
            "description_width": ""
          }
        },
        "a5e96f21e2e948d9a3fd64a2d5a14165": {
          "model_module": "@jupyter-widgets/base",
          "model_name": "LayoutModel",
          "model_module_version": "1.2.0",
          "state": {
            "_model_module": "@jupyter-widgets/base",
            "_model_module_version": "1.2.0",
            "_model_name": "LayoutModel",
            "_view_count": null,
            "_view_module": "@jupyter-widgets/base",
            "_view_module_version": "1.2.0",
            "_view_name": "LayoutView",
            "align_content": null,
            "align_items": null,
            "align_self": null,
            "border": null,
            "bottom": null,
            "display": null,
            "flex": null,
            "flex_flow": null,
            "grid_area": null,
            "grid_auto_columns": null,
            "grid_auto_flow": null,
            "grid_auto_rows": null,
            "grid_column": null,
            "grid_gap": null,
            "grid_row": null,
            "grid_template_areas": null,
            "grid_template_columns": null,
            "grid_template_rows": null,
            "height": null,
            "justify_content": null,
            "justify_items": null,
            "left": null,
            "margin": null,
            "max_height": null,
            "max_width": null,
            "min_height": null,
            "min_width": null,
            "object_fit": null,
            "object_position": null,
            "order": null,
            "overflow": null,
            "overflow_x": null,
            "overflow_y": null,
            "padding": null,
            "right": null,
            "top": null,
            "visibility": null,
            "width": null
          }
        },
        "6c050b93efed4dcb9cf2e6b1fe4f3f97": {
          "model_module": "@jupyter-widgets/controls",
          "model_name": "ProgressStyleModel",
          "model_module_version": "1.5.0",
          "state": {
            "_model_module": "@jupyter-widgets/controls",
            "_model_module_version": "1.5.0",
            "_model_name": "ProgressStyleModel",
            "_view_count": null,
            "_view_module": "@jupyter-widgets/base",
            "_view_module_version": "1.2.0",
            "_view_name": "StyleView",
            "bar_color": null,
            "description_width": ""
          }
        },
        "82052d0bd95e4008839821e64225bd99": {
          "model_module": "@jupyter-widgets/base",
          "model_name": "LayoutModel",
          "model_module_version": "1.2.0",
          "state": {
            "_model_module": "@jupyter-widgets/base",
            "_model_module_version": "1.2.0",
            "_model_name": "LayoutModel",
            "_view_count": null,
            "_view_module": "@jupyter-widgets/base",
            "_view_module_version": "1.2.0",
            "_view_name": "LayoutView",
            "align_content": null,
            "align_items": null,
            "align_self": null,
            "border": null,
            "bottom": null,
            "display": null,
            "flex": null,
            "flex_flow": null,
            "grid_area": null,
            "grid_auto_columns": null,
            "grid_auto_flow": null,
            "grid_auto_rows": null,
            "grid_column": null,
            "grid_gap": null,
            "grid_row": null,
            "grid_template_areas": null,
            "grid_template_columns": null,
            "grid_template_rows": null,
            "height": null,
            "justify_content": null,
            "justify_items": null,
            "left": null,
            "margin": null,
            "max_height": null,
            "max_width": null,
            "min_height": null,
            "min_width": null,
            "object_fit": null,
            "object_position": null,
            "order": null,
            "overflow": null,
            "overflow_x": null,
            "overflow_y": null,
            "padding": null,
            "right": null,
            "top": null,
            "visibility": null,
            "width": null
          }
        },
        "2382a61388f5472f825a0c7caaa5e77e": {
          "model_module": "@jupyter-widgets/controls",
          "model_name": "DescriptionStyleModel",
          "model_module_version": "1.5.0",
          "state": {
            "_model_module": "@jupyter-widgets/controls",
            "_model_module_version": "1.5.0",
            "_model_name": "DescriptionStyleModel",
            "_view_count": null,
            "_view_module": "@jupyter-widgets/base",
            "_view_module_version": "1.2.0",
            "_view_name": "StyleView",
            "description_width": ""
          }
        },
        "e86b76d385284a30bf66cc002556fc66": {
          "model_module": "@jupyter-widgets/controls",
          "model_name": "HBoxModel",
          "model_module_version": "1.5.0",
          "state": {
            "_dom_classes": [],
            "_model_module": "@jupyter-widgets/controls",
            "_model_module_version": "1.5.0",
            "_model_name": "HBoxModel",
            "_view_count": null,
            "_view_module": "@jupyter-widgets/controls",
            "_view_module_version": "1.5.0",
            "_view_name": "HBoxView",
            "box_style": "",
            "children": [
              "IPY_MODEL_55089e657ac2490b8b9f556f6ca44ba9",
              "IPY_MODEL_8c1b095940e440098cfad48178f34436",
              "IPY_MODEL_22b1daef3b8f4a888f1864a2c2256c9f"
            ],
            "layout": "IPY_MODEL_18decaf6209749599187e11486577a3a"
          }
        },
        "55089e657ac2490b8b9f556f6ca44ba9": {
          "model_module": "@jupyter-widgets/controls",
          "model_name": "HTMLModel",
          "model_module_version": "1.5.0",
          "state": {
            "_dom_classes": [],
            "_model_module": "@jupyter-widgets/controls",
            "_model_module_version": "1.5.0",
            "_model_name": "HTMLModel",
            "_view_count": null,
            "_view_module": "@jupyter-widgets/controls",
            "_view_module_version": "1.5.0",
            "_view_name": "HTMLView",
            "description": "",
            "description_tooltip": null,
            "layout": "IPY_MODEL_d9a95dcbe2dd44c9b4d6da44af97253e",
            "placeholder": "​",
            "style": "IPY_MODEL_6a637756254a481d9544dfa1e6ad4e13",
            "value": "Downloading: 100%"
          }
        },
        "8c1b095940e440098cfad48178f34436": {
          "model_module": "@jupyter-widgets/controls",
          "model_name": "FloatProgressModel",
          "model_module_version": "1.5.0",
          "state": {
            "_dom_classes": [],
            "_model_module": "@jupyter-widgets/controls",
            "_model_module_version": "1.5.0",
            "_model_name": "FloatProgressModel",
            "_view_count": null,
            "_view_module": "@jupyter-widgets/controls",
            "_view_module_version": "1.5.0",
            "_view_name": "ProgressView",
            "bar_style": "success",
            "description": "",
            "description_tooltip": null,
            "layout": "IPY_MODEL_29b8714270da4566afd14805a683e0b5",
            "max": 28,
            "min": 0,
            "orientation": "horizontal",
            "style": "IPY_MODEL_3a7567f7e09946a8a2748f665d797569",
            "value": 28
          }
        },
        "22b1daef3b8f4a888f1864a2c2256c9f": {
          "model_module": "@jupyter-widgets/controls",
          "model_name": "HTMLModel",
          "model_module_version": "1.5.0",
          "state": {
            "_dom_classes": [],
            "_model_module": "@jupyter-widgets/controls",
            "_model_module_version": "1.5.0",
            "_model_name": "HTMLModel",
            "_view_count": null,
            "_view_module": "@jupyter-widgets/controls",
            "_view_module_version": "1.5.0",
            "_view_name": "HTMLView",
            "description": "",
            "description_tooltip": null,
            "layout": "IPY_MODEL_afff063fda5e431289cdc3775b802cf0",
            "placeholder": "​",
            "style": "IPY_MODEL_ce2f2e079b074449b70942bbca071b46",
            "value": " 28.0/28.0 [00:00&lt;00:00, 809B/s]"
          }
        },
        "18decaf6209749599187e11486577a3a": {
          "model_module": "@jupyter-widgets/base",
          "model_name": "LayoutModel",
          "model_module_version": "1.2.0",
          "state": {
            "_model_module": "@jupyter-widgets/base",
            "_model_module_version": "1.2.0",
            "_model_name": "LayoutModel",
            "_view_count": null,
            "_view_module": "@jupyter-widgets/base",
            "_view_module_version": "1.2.0",
            "_view_name": "LayoutView",
            "align_content": null,
            "align_items": null,
            "align_self": null,
            "border": null,
            "bottom": null,
            "display": null,
            "flex": null,
            "flex_flow": null,
            "grid_area": null,
            "grid_auto_columns": null,
            "grid_auto_flow": null,
            "grid_auto_rows": null,
            "grid_column": null,
            "grid_gap": null,
            "grid_row": null,
            "grid_template_areas": null,
            "grid_template_columns": null,
            "grid_template_rows": null,
            "height": null,
            "justify_content": null,
            "justify_items": null,
            "left": null,
            "margin": null,
            "max_height": null,
            "max_width": null,
            "min_height": null,
            "min_width": null,
            "object_fit": null,
            "object_position": null,
            "order": null,
            "overflow": null,
            "overflow_x": null,
            "overflow_y": null,
            "padding": null,
            "right": null,
            "top": null,
            "visibility": null,
            "width": null
          }
        },
        "d9a95dcbe2dd44c9b4d6da44af97253e": {
          "model_module": "@jupyter-widgets/base",
          "model_name": "LayoutModel",
          "model_module_version": "1.2.0",
          "state": {
            "_model_module": "@jupyter-widgets/base",
            "_model_module_version": "1.2.0",
            "_model_name": "LayoutModel",
            "_view_count": null,
            "_view_module": "@jupyter-widgets/base",
            "_view_module_version": "1.2.0",
            "_view_name": "LayoutView",
            "align_content": null,
            "align_items": null,
            "align_self": null,
            "border": null,
            "bottom": null,
            "display": null,
            "flex": null,
            "flex_flow": null,
            "grid_area": null,
            "grid_auto_columns": null,
            "grid_auto_flow": null,
            "grid_auto_rows": null,
            "grid_column": null,
            "grid_gap": null,
            "grid_row": null,
            "grid_template_areas": null,
            "grid_template_columns": null,
            "grid_template_rows": null,
            "height": null,
            "justify_content": null,
            "justify_items": null,
            "left": null,
            "margin": null,
            "max_height": null,
            "max_width": null,
            "min_height": null,
            "min_width": null,
            "object_fit": null,
            "object_position": null,
            "order": null,
            "overflow": null,
            "overflow_x": null,
            "overflow_y": null,
            "padding": null,
            "right": null,
            "top": null,
            "visibility": null,
            "width": null
          }
        },
        "6a637756254a481d9544dfa1e6ad4e13": {
          "model_module": "@jupyter-widgets/controls",
          "model_name": "DescriptionStyleModel",
          "model_module_version": "1.5.0",
          "state": {
            "_model_module": "@jupyter-widgets/controls",
            "_model_module_version": "1.5.0",
            "_model_name": "DescriptionStyleModel",
            "_view_count": null,
            "_view_module": "@jupyter-widgets/base",
            "_view_module_version": "1.2.0",
            "_view_name": "StyleView",
            "description_width": ""
          }
        },
        "29b8714270da4566afd14805a683e0b5": {
          "model_module": "@jupyter-widgets/base",
          "model_name": "LayoutModel",
          "model_module_version": "1.2.0",
          "state": {
            "_model_module": "@jupyter-widgets/base",
            "_model_module_version": "1.2.0",
            "_model_name": "LayoutModel",
            "_view_count": null,
            "_view_module": "@jupyter-widgets/base",
            "_view_module_version": "1.2.0",
            "_view_name": "LayoutView",
            "align_content": null,
            "align_items": null,
            "align_self": null,
            "border": null,
            "bottom": null,
            "display": null,
            "flex": null,
            "flex_flow": null,
            "grid_area": null,
            "grid_auto_columns": null,
            "grid_auto_flow": null,
            "grid_auto_rows": null,
            "grid_column": null,
            "grid_gap": null,
            "grid_row": null,
            "grid_template_areas": null,
            "grid_template_columns": null,
            "grid_template_rows": null,
            "height": null,
            "justify_content": null,
            "justify_items": null,
            "left": null,
            "margin": null,
            "max_height": null,
            "max_width": null,
            "min_height": null,
            "min_width": null,
            "object_fit": null,
            "object_position": null,
            "order": null,
            "overflow": null,
            "overflow_x": null,
            "overflow_y": null,
            "padding": null,
            "right": null,
            "top": null,
            "visibility": null,
            "width": null
          }
        },
        "3a7567f7e09946a8a2748f665d797569": {
          "model_module": "@jupyter-widgets/controls",
          "model_name": "ProgressStyleModel",
          "model_module_version": "1.5.0",
          "state": {
            "_model_module": "@jupyter-widgets/controls",
            "_model_module_version": "1.5.0",
            "_model_name": "ProgressStyleModel",
            "_view_count": null,
            "_view_module": "@jupyter-widgets/base",
            "_view_module_version": "1.2.0",
            "_view_name": "StyleView",
            "bar_color": null,
            "description_width": ""
          }
        },
        "afff063fda5e431289cdc3775b802cf0": {
          "model_module": "@jupyter-widgets/base",
          "model_name": "LayoutModel",
          "model_module_version": "1.2.0",
          "state": {
            "_model_module": "@jupyter-widgets/base",
            "_model_module_version": "1.2.0",
            "_model_name": "LayoutModel",
            "_view_count": null,
            "_view_module": "@jupyter-widgets/base",
            "_view_module_version": "1.2.0",
            "_view_name": "LayoutView",
            "align_content": null,
            "align_items": null,
            "align_self": null,
            "border": null,
            "bottom": null,
            "display": null,
            "flex": null,
            "flex_flow": null,
            "grid_area": null,
            "grid_auto_columns": null,
            "grid_auto_flow": null,
            "grid_auto_rows": null,
            "grid_column": null,
            "grid_gap": null,
            "grid_row": null,
            "grid_template_areas": null,
            "grid_template_columns": null,
            "grid_template_rows": null,
            "height": null,
            "justify_content": null,
            "justify_items": null,
            "left": null,
            "margin": null,
            "max_height": null,
            "max_width": null,
            "min_height": null,
            "min_width": null,
            "object_fit": null,
            "object_position": null,
            "order": null,
            "overflow": null,
            "overflow_x": null,
            "overflow_y": null,
            "padding": null,
            "right": null,
            "top": null,
            "visibility": null,
            "width": null
          }
        },
        "ce2f2e079b074449b70942bbca071b46": {
          "model_module": "@jupyter-widgets/controls",
          "model_name": "DescriptionStyleModel",
          "model_module_version": "1.5.0",
          "state": {
            "_model_module": "@jupyter-widgets/controls",
            "_model_module_version": "1.5.0",
            "_model_name": "DescriptionStyleModel",
            "_view_count": null,
            "_view_module": "@jupyter-widgets/base",
            "_view_module_version": "1.2.0",
            "_view_name": "StyleView",
            "description_width": ""
          }
        },
        "ad4cee31c67f4329bc504066334803ef": {
          "model_module": "@jupyter-widgets/controls",
          "model_name": "HBoxModel",
          "model_module_version": "1.5.0",
          "state": {
            "_dom_classes": [],
            "_model_module": "@jupyter-widgets/controls",
            "_model_module_version": "1.5.0",
            "_model_name": "HBoxModel",
            "_view_count": null,
            "_view_module": "@jupyter-widgets/controls",
            "_view_module_version": "1.5.0",
            "_view_name": "HBoxView",
            "box_style": "",
            "children": [
              "IPY_MODEL_30797a76a2ca44c0b4ada4154fe52cf1",
              "IPY_MODEL_c6788a59cdc74a8ebb0a6056741c9cf9",
              "IPY_MODEL_0feca1164ca443038a8b91cf676484b3"
            ],
            "layout": "IPY_MODEL_347912a1f6ff476c9b272a48a1bc9b79"
          }
        },
        "30797a76a2ca44c0b4ada4154fe52cf1": {
          "model_module": "@jupyter-widgets/controls",
          "model_name": "HTMLModel",
          "model_module_version": "1.5.0",
          "state": {
            "_dom_classes": [],
            "_model_module": "@jupyter-widgets/controls",
            "_model_module_version": "1.5.0",
            "_model_name": "HTMLModel",
            "_view_count": null,
            "_view_module": "@jupyter-widgets/controls",
            "_view_module_version": "1.5.0",
            "_view_name": "HTMLView",
            "description": "",
            "description_tooltip": null,
            "layout": "IPY_MODEL_d585a225b6544df9bb4d0de251f2a1e0",
            "placeholder": "​",
            "style": "IPY_MODEL_b801806ad30e4fdeb999a4fa76fa9452",
            "value": "Downloading: 100%"
          }
        },
        "c6788a59cdc74a8ebb0a6056741c9cf9": {
          "model_module": "@jupyter-widgets/controls",
          "model_name": "FloatProgressModel",
          "model_module_version": "1.5.0",
          "state": {
            "_dom_classes": [],
            "_model_module": "@jupyter-widgets/controls",
            "_model_module_version": "1.5.0",
            "_model_name": "FloatProgressModel",
            "_view_count": null,
            "_view_module": "@jupyter-widgets/controls",
            "_view_module_version": "1.5.0",
            "_view_name": "ProgressView",
            "bar_style": "success",
            "description": "",
            "description_tooltip": null,
            "layout": "IPY_MODEL_12262b69345e41a091b77405f2f8f07e",
            "max": 570,
            "min": 0,
            "orientation": "horizontal",
            "style": "IPY_MODEL_ff083a76180a45e09221e2176f10f619",
            "value": 570
          }
        },
        "0feca1164ca443038a8b91cf676484b3": {
          "model_module": "@jupyter-widgets/controls",
          "model_name": "HTMLModel",
          "model_module_version": "1.5.0",
          "state": {
            "_dom_classes": [],
            "_model_module": "@jupyter-widgets/controls",
            "_model_module_version": "1.5.0",
            "_model_name": "HTMLModel",
            "_view_count": null,
            "_view_module": "@jupyter-widgets/controls",
            "_view_module_version": "1.5.0",
            "_view_name": "HTMLView",
            "description": "",
            "description_tooltip": null,
            "layout": "IPY_MODEL_55fd67dfe11447f6b36be8b0ead9a6c0",
            "placeholder": "​",
            "style": "IPY_MODEL_2e31efa295d74bffb793e9fdad79910f",
            "value": " 570/570 [00:00&lt;00:00, 14.7kB/s]"
          }
        },
        "347912a1f6ff476c9b272a48a1bc9b79": {
          "model_module": "@jupyter-widgets/base",
          "model_name": "LayoutModel",
          "model_module_version": "1.2.0",
          "state": {
            "_model_module": "@jupyter-widgets/base",
            "_model_module_version": "1.2.0",
            "_model_name": "LayoutModel",
            "_view_count": null,
            "_view_module": "@jupyter-widgets/base",
            "_view_module_version": "1.2.0",
            "_view_name": "LayoutView",
            "align_content": null,
            "align_items": null,
            "align_self": null,
            "border": null,
            "bottom": null,
            "display": null,
            "flex": null,
            "flex_flow": null,
            "grid_area": null,
            "grid_auto_columns": null,
            "grid_auto_flow": null,
            "grid_auto_rows": null,
            "grid_column": null,
            "grid_gap": null,
            "grid_row": null,
            "grid_template_areas": null,
            "grid_template_columns": null,
            "grid_template_rows": null,
            "height": null,
            "justify_content": null,
            "justify_items": null,
            "left": null,
            "margin": null,
            "max_height": null,
            "max_width": null,
            "min_height": null,
            "min_width": null,
            "object_fit": null,
            "object_position": null,
            "order": null,
            "overflow": null,
            "overflow_x": null,
            "overflow_y": null,
            "padding": null,
            "right": null,
            "top": null,
            "visibility": null,
            "width": null
          }
        },
        "d585a225b6544df9bb4d0de251f2a1e0": {
          "model_module": "@jupyter-widgets/base",
          "model_name": "LayoutModel",
          "model_module_version": "1.2.0",
          "state": {
            "_model_module": "@jupyter-widgets/base",
            "_model_module_version": "1.2.0",
            "_model_name": "LayoutModel",
            "_view_count": null,
            "_view_module": "@jupyter-widgets/base",
            "_view_module_version": "1.2.0",
            "_view_name": "LayoutView",
            "align_content": null,
            "align_items": null,
            "align_self": null,
            "border": null,
            "bottom": null,
            "display": null,
            "flex": null,
            "flex_flow": null,
            "grid_area": null,
            "grid_auto_columns": null,
            "grid_auto_flow": null,
            "grid_auto_rows": null,
            "grid_column": null,
            "grid_gap": null,
            "grid_row": null,
            "grid_template_areas": null,
            "grid_template_columns": null,
            "grid_template_rows": null,
            "height": null,
            "justify_content": null,
            "justify_items": null,
            "left": null,
            "margin": null,
            "max_height": null,
            "max_width": null,
            "min_height": null,
            "min_width": null,
            "object_fit": null,
            "object_position": null,
            "order": null,
            "overflow": null,
            "overflow_x": null,
            "overflow_y": null,
            "padding": null,
            "right": null,
            "top": null,
            "visibility": null,
            "width": null
          }
        },
        "b801806ad30e4fdeb999a4fa76fa9452": {
          "model_module": "@jupyter-widgets/controls",
          "model_name": "DescriptionStyleModel",
          "model_module_version": "1.5.0",
          "state": {
            "_model_module": "@jupyter-widgets/controls",
            "_model_module_version": "1.5.0",
            "_model_name": "DescriptionStyleModel",
            "_view_count": null,
            "_view_module": "@jupyter-widgets/base",
            "_view_module_version": "1.2.0",
            "_view_name": "StyleView",
            "description_width": ""
          }
        },
        "12262b69345e41a091b77405f2f8f07e": {
          "model_module": "@jupyter-widgets/base",
          "model_name": "LayoutModel",
          "model_module_version": "1.2.0",
          "state": {
            "_model_module": "@jupyter-widgets/base",
            "_model_module_version": "1.2.0",
            "_model_name": "LayoutModel",
            "_view_count": null,
            "_view_module": "@jupyter-widgets/base",
            "_view_module_version": "1.2.0",
            "_view_name": "LayoutView",
            "align_content": null,
            "align_items": null,
            "align_self": null,
            "border": null,
            "bottom": null,
            "display": null,
            "flex": null,
            "flex_flow": null,
            "grid_area": null,
            "grid_auto_columns": null,
            "grid_auto_flow": null,
            "grid_auto_rows": null,
            "grid_column": null,
            "grid_gap": null,
            "grid_row": null,
            "grid_template_areas": null,
            "grid_template_columns": null,
            "grid_template_rows": null,
            "height": null,
            "justify_content": null,
            "justify_items": null,
            "left": null,
            "margin": null,
            "max_height": null,
            "max_width": null,
            "min_height": null,
            "min_width": null,
            "object_fit": null,
            "object_position": null,
            "order": null,
            "overflow": null,
            "overflow_x": null,
            "overflow_y": null,
            "padding": null,
            "right": null,
            "top": null,
            "visibility": null,
            "width": null
          }
        },
        "ff083a76180a45e09221e2176f10f619": {
          "model_module": "@jupyter-widgets/controls",
          "model_name": "ProgressStyleModel",
          "model_module_version": "1.5.0",
          "state": {
            "_model_module": "@jupyter-widgets/controls",
            "_model_module_version": "1.5.0",
            "_model_name": "ProgressStyleModel",
            "_view_count": null,
            "_view_module": "@jupyter-widgets/base",
            "_view_module_version": "1.2.0",
            "_view_name": "StyleView",
            "bar_color": null,
            "description_width": ""
          }
        },
        "55fd67dfe11447f6b36be8b0ead9a6c0": {
          "model_module": "@jupyter-widgets/base",
          "model_name": "LayoutModel",
          "model_module_version": "1.2.0",
          "state": {
            "_model_module": "@jupyter-widgets/base",
            "_model_module_version": "1.2.0",
            "_model_name": "LayoutModel",
            "_view_count": null,
            "_view_module": "@jupyter-widgets/base",
            "_view_module_version": "1.2.0",
            "_view_name": "LayoutView",
            "align_content": null,
            "align_items": null,
            "align_self": null,
            "border": null,
            "bottom": null,
            "display": null,
            "flex": null,
            "flex_flow": null,
            "grid_area": null,
            "grid_auto_columns": null,
            "grid_auto_flow": null,
            "grid_auto_rows": null,
            "grid_column": null,
            "grid_gap": null,
            "grid_row": null,
            "grid_template_areas": null,
            "grid_template_columns": null,
            "grid_template_rows": null,
            "height": null,
            "justify_content": null,
            "justify_items": null,
            "left": null,
            "margin": null,
            "max_height": null,
            "max_width": null,
            "min_height": null,
            "min_width": null,
            "object_fit": null,
            "object_position": null,
            "order": null,
            "overflow": null,
            "overflow_x": null,
            "overflow_y": null,
            "padding": null,
            "right": null,
            "top": null,
            "visibility": null,
            "width": null
          }
        },
        "2e31efa295d74bffb793e9fdad79910f": {
          "model_module": "@jupyter-widgets/controls",
          "model_name": "DescriptionStyleModel",
          "model_module_version": "1.5.0",
          "state": {
            "_model_module": "@jupyter-widgets/controls",
            "_model_module_version": "1.5.0",
            "_model_name": "DescriptionStyleModel",
            "_view_count": null,
            "_view_module": "@jupyter-widgets/base",
            "_view_module_version": "1.2.0",
            "_view_name": "StyleView",
            "description_width": ""
          }
        },
        "bada313568394c4dba986c9789b90f2f": {
          "model_module": "@jupyter-widgets/controls",
          "model_name": "HBoxModel",
          "model_module_version": "1.5.0",
          "state": {
            "_dom_classes": [],
            "_model_module": "@jupyter-widgets/controls",
            "_model_module_version": "1.5.0",
            "_model_name": "HBoxModel",
            "_view_count": null,
            "_view_module": "@jupyter-widgets/controls",
            "_view_module_version": "1.5.0",
            "_view_name": "HBoxView",
            "box_style": "",
            "children": [
              "IPY_MODEL_c5591c52ee6f486388520b2db0c2f94b",
              "IPY_MODEL_f9b9c2dd4c2c4512a81e79c7adfad4ab",
              "IPY_MODEL_94cf8ac157534210896d895b8733fff8"
            ],
            "layout": "IPY_MODEL_5a803d7dc0df488ebc94208ea826e334"
          }
        },
        "c5591c52ee6f486388520b2db0c2f94b": {
          "model_module": "@jupyter-widgets/controls",
          "model_name": "HTMLModel",
          "model_module_version": "1.5.0",
          "state": {
            "_dom_classes": [],
            "_model_module": "@jupyter-widgets/controls",
            "_model_module_version": "1.5.0",
            "_model_name": "HTMLModel",
            "_view_count": null,
            "_view_module": "@jupyter-widgets/controls",
            "_view_module_version": "1.5.0",
            "_view_name": "HTMLView",
            "description": "",
            "description_tooltip": null,
            "layout": "IPY_MODEL_506cac95d0c445bcbacbdfcee92f8b42",
            "placeholder": "​",
            "style": "IPY_MODEL_d1f8d98f71d144e3a33fe235a5a1576e",
            "value": "Downloading: 100%"
          }
        },
        "f9b9c2dd4c2c4512a81e79c7adfad4ab": {
          "model_module": "@jupyter-widgets/controls",
          "model_name": "FloatProgressModel",
          "model_module_version": "1.5.0",
          "state": {
            "_dom_classes": [],
            "_model_module": "@jupyter-widgets/controls",
            "_model_module_version": "1.5.0",
            "_model_name": "FloatProgressModel",
            "_view_count": null,
            "_view_module": "@jupyter-widgets/controls",
            "_view_module_version": "1.5.0",
            "_view_name": "ProgressView",
            "bar_style": "success",
            "description": "",
            "description_tooltip": null,
            "layout": "IPY_MODEL_981eff74c3f14fc3874e85b725e651d4",
            "max": 440473133,
            "min": 0,
            "orientation": "horizontal",
            "style": "IPY_MODEL_f658079bc20f4a0f8de74dec2972700b",
            "value": 440473133
          }
        },
        "94cf8ac157534210896d895b8733fff8": {
          "model_module": "@jupyter-widgets/controls",
          "model_name": "HTMLModel",
          "model_module_version": "1.5.0",
          "state": {
            "_dom_classes": [],
            "_model_module": "@jupyter-widgets/controls",
            "_model_module_version": "1.5.0",
            "_model_name": "HTMLModel",
            "_view_count": null,
            "_view_module": "@jupyter-widgets/controls",
            "_view_module_version": "1.5.0",
            "_view_name": "HTMLView",
            "description": "",
            "description_tooltip": null,
            "layout": "IPY_MODEL_a4ac4c6db0804f1eb7f264d6b492ce31",
            "placeholder": "​",
            "style": "IPY_MODEL_6fbb9727276343b3aee47bf5cdcb356e",
            "value": " 440M/440M [00:07&lt;00:00, 60.1MB/s]"
          }
        },
        "5a803d7dc0df488ebc94208ea826e334": {
          "model_module": "@jupyter-widgets/base",
          "model_name": "LayoutModel",
          "model_module_version": "1.2.0",
          "state": {
            "_model_module": "@jupyter-widgets/base",
            "_model_module_version": "1.2.0",
            "_model_name": "LayoutModel",
            "_view_count": null,
            "_view_module": "@jupyter-widgets/base",
            "_view_module_version": "1.2.0",
            "_view_name": "LayoutView",
            "align_content": null,
            "align_items": null,
            "align_self": null,
            "border": null,
            "bottom": null,
            "display": null,
            "flex": null,
            "flex_flow": null,
            "grid_area": null,
            "grid_auto_columns": null,
            "grid_auto_flow": null,
            "grid_auto_rows": null,
            "grid_column": null,
            "grid_gap": null,
            "grid_row": null,
            "grid_template_areas": null,
            "grid_template_columns": null,
            "grid_template_rows": null,
            "height": null,
            "justify_content": null,
            "justify_items": null,
            "left": null,
            "margin": null,
            "max_height": null,
            "max_width": null,
            "min_height": null,
            "min_width": null,
            "object_fit": null,
            "object_position": null,
            "order": null,
            "overflow": null,
            "overflow_x": null,
            "overflow_y": null,
            "padding": null,
            "right": null,
            "top": null,
            "visibility": null,
            "width": null
          }
        },
        "506cac95d0c445bcbacbdfcee92f8b42": {
          "model_module": "@jupyter-widgets/base",
          "model_name": "LayoutModel",
          "model_module_version": "1.2.0",
          "state": {
            "_model_module": "@jupyter-widgets/base",
            "_model_module_version": "1.2.0",
            "_model_name": "LayoutModel",
            "_view_count": null,
            "_view_module": "@jupyter-widgets/base",
            "_view_module_version": "1.2.0",
            "_view_name": "LayoutView",
            "align_content": null,
            "align_items": null,
            "align_self": null,
            "border": null,
            "bottom": null,
            "display": null,
            "flex": null,
            "flex_flow": null,
            "grid_area": null,
            "grid_auto_columns": null,
            "grid_auto_flow": null,
            "grid_auto_rows": null,
            "grid_column": null,
            "grid_gap": null,
            "grid_row": null,
            "grid_template_areas": null,
            "grid_template_columns": null,
            "grid_template_rows": null,
            "height": null,
            "justify_content": null,
            "justify_items": null,
            "left": null,
            "margin": null,
            "max_height": null,
            "max_width": null,
            "min_height": null,
            "min_width": null,
            "object_fit": null,
            "object_position": null,
            "order": null,
            "overflow": null,
            "overflow_x": null,
            "overflow_y": null,
            "padding": null,
            "right": null,
            "top": null,
            "visibility": null,
            "width": null
          }
        },
        "d1f8d98f71d144e3a33fe235a5a1576e": {
          "model_module": "@jupyter-widgets/controls",
          "model_name": "DescriptionStyleModel",
          "model_module_version": "1.5.0",
          "state": {
            "_model_module": "@jupyter-widgets/controls",
            "_model_module_version": "1.5.0",
            "_model_name": "DescriptionStyleModel",
            "_view_count": null,
            "_view_module": "@jupyter-widgets/base",
            "_view_module_version": "1.2.0",
            "_view_name": "StyleView",
            "description_width": ""
          }
        },
        "981eff74c3f14fc3874e85b725e651d4": {
          "model_module": "@jupyter-widgets/base",
          "model_name": "LayoutModel",
          "model_module_version": "1.2.0",
          "state": {
            "_model_module": "@jupyter-widgets/base",
            "_model_module_version": "1.2.0",
            "_model_name": "LayoutModel",
            "_view_count": null,
            "_view_module": "@jupyter-widgets/base",
            "_view_module_version": "1.2.0",
            "_view_name": "LayoutView",
            "align_content": null,
            "align_items": null,
            "align_self": null,
            "border": null,
            "bottom": null,
            "display": null,
            "flex": null,
            "flex_flow": null,
            "grid_area": null,
            "grid_auto_columns": null,
            "grid_auto_flow": null,
            "grid_auto_rows": null,
            "grid_column": null,
            "grid_gap": null,
            "grid_row": null,
            "grid_template_areas": null,
            "grid_template_columns": null,
            "grid_template_rows": null,
            "height": null,
            "justify_content": null,
            "justify_items": null,
            "left": null,
            "margin": null,
            "max_height": null,
            "max_width": null,
            "min_height": null,
            "min_width": null,
            "object_fit": null,
            "object_position": null,
            "order": null,
            "overflow": null,
            "overflow_x": null,
            "overflow_y": null,
            "padding": null,
            "right": null,
            "top": null,
            "visibility": null,
            "width": null
          }
        },
        "f658079bc20f4a0f8de74dec2972700b": {
          "model_module": "@jupyter-widgets/controls",
          "model_name": "ProgressStyleModel",
          "model_module_version": "1.5.0",
          "state": {
            "_model_module": "@jupyter-widgets/controls",
            "_model_module_version": "1.5.0",
            "_model_name": "ProgressStyleModel",
            "_view_count": null,
            "_view_module": "@jupyter-widgets/base",
            "_view_module_version": "1.2.0",
            "_view_name": "StyleView",
            "bar_color": null,
            "description_width": ""
          }
        },
        "a4ac4c6db0804f1eb7f264d6b492ce31": {
          "model_module": "@jupyter-widgets/base",
          "model_name": "LayoutModel",
          "model_module_version": "1.2.0",
          "state": {
            "_model_module": "@jupyter-widgets/base",
            "_model_module_version": "1.2.0",
            "_model_name": "LayoutModel",
            "_view_count": null,
            "_view_module": "@jupyter-widgets/base",
            "_view_module_version": "1.2.0",
            "_view_name": "LayoutView",
            "align_content": null,
            "align_items": null,
            "align_self": null,
            "border": null,
            "bottom": null,
            "display": null,
            "flex": null,
            "flex_flow": null,
            "grid_area": null,
            "grid_auto_columns": null,
            "grid_auto_flow": null,
            "grid_auto_rows": null,
            "grid_column": null,
            "grid_gap": null,
            "grid_row": null,
            "grid_template_areas": null,
            "grid_template_columns": null,
            "grid_template_rows": null,
            "height": null,
            "justify_content": null,
            "justify_items": null,
            "left": null,
            "margin": null,
            "max_height": null,
            "max_width": null,
            "min_height": null,
            "min_width": null,
            "object_fit": null,
            "object_position": null,
            "order": null,
            "overflow": null,
            "overflow_x": null,
            "overflow_y": null,
            "padding": null,
            "right": null,
            "top": null,
            "visibility": null,
            "width": null
          }
        },
        "6fbb9727276343b3aee47bf5cdcb356e": {
          "model_module": "@jupyter-widgets/controls",
          "model_name": "DescriptionStyleModel",
          "model_module_version": "1.5.0",
          "state": {
            "_model_module": "@jupyter-widgets/controls",
            "_model_module_version": "1.5.0",
            "_model_name": "DescriptionStyleModel",
            "_view_count": null,
            "_view_module": "@jupyter-widgets/base",
            "_view_module_version": "1.2.0",
            "_view_name": "StyleView",
            "description_width": ""
          }
        }
      }
    }
  },
  "cells": [
    {
      "cell_type": "markdown",
      "metadata": {
        "id": "view-in-github",
        "colab_type": "text"
      },
      "source": [
        "<a href=\"https://colab.research.google.com/github/MatteoGuglielmi-tech/Polarity-and-Subjectivity-Detection/blob/main/src/MyModel/BERT-Fine-Tuning.ipynb\" target=\"_parent\"><img src=\"https://colab.research.google.com/assets/colab-badge.svg\" alt=\"Open In Colab\"/></a>"
      ]
    },
    {
      "cell_type": "markdown",
      "source": [
        "# BERT Embedding Fine Tuning"
      ],
      "metadata": {
        "id": "gxa6J-lH4jrA"
      }
    },
    {
      "cell_type": "code",
      "source": [
        "!pip install transformers"
      ],
      "metadata": {
        "colab": {
          "base_uri": "https://localhost:8080/"
        },
        "id": "b4Pu3CpB90ga",
        "outputId": "c99e0b72-7385-49a0-dede-a9a82f1c148e"
      },
      "execution_count": 1,
      "outputs": [
        {
          "output_type": "stream",
          "name": "stdout",
          "text": [
            "Looking in indexes: https://pypi.org/simple, https://us-python.pkg.dev/colab-wheels/public/simple/\n",
            "Collecting transformers\n",
            "  Downloading transformers-4.23.1-py3-none-any.whl (5.3 MB)\n",
            "\u001b[K     |████████████████████████████████| 5.3 MB 14.5 MB/s \n",
            "\u001b[?25hCollecting huggingface-hub<1.0,>=0.10.0\n",
            "  Downloading huggingface_hub-0.10.1-py3-none-any.whl (163 kB)\n",
            "\u001b[K     |████████████████████████████████| 163 kB 47.0 MB/s \n",
            "\u001b[?25hRequirement already satisfied: packaging>=20.0 in /usr/local/lib/python3.7/dist-packages (from transformers) (21.3)\n",
            "Requirement already satisfied: importlib-metadata in /usr/local/lib/python3.7/dist-packages (from transformers) (4.13.0)\n",
            "Requirement already satisfied: regex!=2019.12.17 in /usr/local/lib/python3.7/dist-packages (from transformers) (2022.6.2)\n",
            "Requirement already satisfied: requests in /usr/local/lib/python3.7/dist-packages (from transformers) (2.23.0)\n",
            "Requirement already satisfied: filelock in /usr/local/lib/python3.7/dist-packages (from transformers) (3.8.0)\n",
            "Collecting tokenizers!=0.11.3,<0.14,>=0.11.1\n",
            "  Downloading tokenizers-0.13.1-cp37-cp37m-manylinux_2_17_x86_64.manylinux2014_x86_64.whl (7.6 MB)\n",
            "\u001b[K     |████████████████████████████████| 7.6 MB 52.3 MB/s \n",
            "\u001b[?25hRequirement already satisfied: tqdm>=4.27 in /usr/local/lib/python3.7/dist-packages (from transformers) (4.64.1)\n",
            "Requirement already satisfied: numpy>=1.17 in /usr/local/lib/python3.7/dist-packages (from transformers) (1.21.6)\n",
            "Requirement already satisfied: pyyaml>=5.1 in /usr/local/lib/python3.7/dist-packages (from transformers) (6.0)\n",
            "Requirement already satisfied: typing-extensions>=3.7.4.3 in /usr/local/lib/python3.7/dist-packages (from huggingface-hub<1.0,>=0.10.0->transformers) (4.1.1)\n",
            "Requirement already satisfied: pyparsing!=3.0.5,>=2.0.2 in /usr/local/lib/python3.7/dist-packages (from packaging>=20.0->transformers) (3.0.9)\n",
            "Requirement already satisfied: zipp>=0.5 in /usr/local/lib/python3.7/dist-packages (from importlib-metadata->transformers) (3.9.0)\n",
            "Requirement already satisfied: idna<3,>=2.5 in /usr/local/lib/python3.7/dist-packages (from requests->transformers) (2.10)\n",
            "Requirement already satisfied: urllib3!=1.25.0,!=1.25.1,<1.26,>=1.21.1 in /usr/local/lib/python3.7/dist-packages (from requests->transformers) (1.24.3)\n",
            "Requirement already satisfied: chardet<4,>=3.0.2 in /usr/local/lib/python3.7/dist-packages (from requests->transformers) (3.0.4)\n",
            "Requirement already satisfied: certifi>=2017.4.17 in /usr/local/lib/python3.7/dist-packages (from requests->transformers) (2022.9.24)\n",
            "Installing collected packages: tokenizers, huggingface-hub, transformers\n",
            "Successfully installed huggingface-hub-0.10.1 tokenizers-0.13.1 transformers-4.23.1\n"
          ]
        }
      ]
    },
    {
      "cell_type": "code",
      "source": [
        "from google.colab import drive\n",
        "drive.mount('/content/gdrive')"
      ],
      "metadata": {
        "colab": {
          "base_uri": "https://localhost:8080/"
        },
        "id": "GFjx3Xf38J7l",
        "outputId": "b91c4567-d715-484c-ac98-bb9fd76df12d"
      },
      "execution_count": 2,
      "outputs": [
        {
          "output_type": "stream",
          "name": "stdout",
          "text": [
            "Mounted at /content/gdrive\n"
          ]
        }
      ]
    },
    {
      "cell_type": "code",
      "source": [
        "rootdir = '/content/gdrive/MyDrive/Colab Notebooks/Polarity-Subjectivity-Detection/'"
      ],
      "metadata": {
        "id": "suw-3tTbAfrA"
      },
      "execution_count": 3,
      "outputs": []
    },
    {
      "cell_type": "code",
      "source": [
        "import tensorflow as tf\n",
        "import torch\n",
        "\n",
        "# Get the GPU device name\n",
        "device = tf.test.gpu_device_name()\n",
        "\n",
        "if 'GPU' in device:\n",
        "  print(f'GPU available : {device}')\n",
        "  device = torch.device('cuda'+device[-2:])\n",
        "else :\n",
        "  device = torch.device(\"cpu\")\n",
        "  raise SystemError(\"GPU not found, use CPU instead\")"
      ],
      "metadata": {
        "colab": {
          "base_uri": "https://localhost:8080/"
        },
        "id": "Tl20NCMY6_xi",
        "outputId": "2b48a91f-dfc6-4e6f-f947-ad56c4c8dbfc"
      },
      "execution_count": 4,
      "outputs": [
        {
          "output_type": "stream",
          "name": "stdout",
          "text": [
            "GPU available : /device:GPU:0\n"
          ]
        }
      ]
    },
    {
      "cell_type": "code",
      "source": [
        "device"
      ],
      "metadata": {
        "colab": {
          "base_uri": "https://localhost:8080/"
        },
        "id": "p6buUIlod0K5",
        "outputId": "4696e9c9-35e7-486d-aff5-7f51ef2461f0"
      },
      "execution_count": 5,
      "outputs": [
        {
          "output_type": "execute_result",
          "data": {
            "text/plain": [
              "device(type='cuda', index=0)"
            ]
          },
          "metadata": {},
          "execution_count": 5
        }
      ]
    },
    {
      "cell_type": "code",
      "source": [
        "import pandas as pd\n",
        "\n",
        "\n",
        "# loading dataset\n",
        "movie_reviews = pd.read_csv(rootdir+'movie_rews.csv')\n",
        "subj_obj_dataset = pd.read_csv(rootdir+'subj_obj_dataset.csv')"
      ],
      "metadata": {
        "id": "TZCUmC4h7WEh"
      },
      "execution_count": 6,
      "outputs": []
    },
    {
      "cell_type": "code",
      "source": [
        "movie_reviews"
      ],
      "metadata": {
        "colab": {
          "base_uri": "https://localhost:8080/",
          "height": 424
        },
        "id": "mDrScMj7Asm3",
        "outputId": "05038e84-01d8-4b06-f84d-e5c33fb26fbd"
      },
      "execution_count": 7,
      "outputs": [
        {
          "output_type": "execute_result",
          "data": {
            "text/plain": [
              "      Unnamed: 0                                               text  labels\n",
              "0              0  films adapted comic books plenty success wheth...       1\n",
              "1              1  every movie comes along suspect studio every i...       1\n",
              "2              2  got mail works alot better deserves order make...       1\n",
              "3              3  jaws rare film grabs attention shows single im...       1\n",
              "4              4  moviemaking lot like general manager nfl team ...       1\n",
              "...          ...                                                ...     ...\n",
              "1995        1995  anything stigmata taken warning releasing simi...       0\n",
              "1996        1996  john boorman zardoz goofy cinematic debacle fu...       0\n",
              "1997        1997  kids hall acquired taste took least season wat...       0\n",
              "1998        1998  time john carpenter great horror director cour...       0\n",
              "1999        1999  two party guys bob heads haddaway dance hit lo...       0\n",
              "\n",
              "[2000 rows x 3 columns]"
            ],
            "text/html": [
              "\n",
              "  <div id=\"df-fa4000e4-f829-4d02-ba13-3425fb0eb179\">\n",
              "    <div class=\"colab-df-container\">\n",
              "      <div>\n",
              "<style scoped>\n",
              "    .dataframe tbody tr th:only-of-type {\n",
              "        vertical-align: middle;\n",
              "    }\n",
              "\n",
              "    .dataframe tbody tr th {\n",
              "        vertical-align: top;\n",
              "    }\n",
              "\n",
              "    .dataframe thead th {\n",
              "        text-align: right;\n",
              "    }\n",
              "</style>\n",
              "<table border=\"1\" class=\"dataframe\">\n",
              "  <thead>\n",
              "    <tr style=\"text-align: right;\">\n",
              "      <th></th>\n",
              "      <th>Unnamed: 0</th>\n",
              "      <th>text</th>\n",
              "      <th>labels</th>\n",
              "    </tr>\n",
              "  </thead>\n",
              "  <tbody>\n",
              "    <tr>\n",
              "      <th>0</th>\n",
              "      <td>0</td>\n",
              "      <td>films adapted comic books plenty success wheth...</td>\n",
              "      <td>1</td>\n",
              "    </tr>\n",
              "    <tr>\n",
              "      <th>1</th>\n",
              "      <td>1</td>\n",
              "      <td>every movie comes along suspect studio every i...</td>\n",
              "      <td>1</td>\n",
              "    </tr>\n",
              "    <tr>\n",
              "      <th>2</th>\n",
              "      <td>2</td>\n",
              "      <td>got mail works alot better deserves order make...</td>\n",
              "      <td>1</td>\n",
              "    </tr>\n",
              "    <tr>\n",
              "      <th>3</th>\n",
              "      <td>3</td>\n",
              "      <td>jaws rare film grabs attention shows single im...</td>\n",
              "      <td>1</td>\n",
              "    </tr>\n",
              "    <tr>\n",
              "      <th>4</th>\n",
              "      <td>4</td>\n",
              "      <td>moviemaking lot like general manager nfl team ...</td>\n",
              "      <td>1</td>\n",
              "    </tr>\n",
              "    <tr>\n",
              "      <th>...</th>\n",
              "      <td>...</td>\n",
              "      <td>...</td>\n",
              "      <td>...</td>\n",
              "    </tr>\n",
              "    <tr>\n",
              "      <th>1995</th>\n",
              "      <td>1995</td>\n",
              "      <td>anything stigmata taken warning releasing simi...</td>\n",
              "      <td>0</td>\n",
              "    </tr>\n",
              "    <tr>\n",
              "      <th>1996</th>\n",
              "      <td>1996</td>\n",
              "      <td>john boorman zardoz goofy cinematic debacle fu...</td>\n",
              "      <td>0</td>\n",
              "    </tr>\n",
              "    <tr>\n",
              "      <th>1997</th>\n",
              "      <td>1997</td>\n",
              "      <td>kids hall acquired taste took least season wat...</td>\n",
              "      <td>0</td>\n",
              "    </tr>\n",
              "    <tr>\n",
              "      <th>1998</th>\n",
              "      <td>1998</td>\n",
              "      <td>time john carpenter great horror director cour...</td>\n",
              "      <td>0</td>\n",
              "    </tr>\n",
              "    <tr>\n",
              "      <th>1999</th>\n",
              "      <td>1999</td>\n",
              "      <td>two party guys bob heads haddaway dance hit lo...</td>\n",
              "      <td>0</td>\n",
              "    </tr>\n",
              "  </tbody>\n",
              "</table>\n",
              "<p>2000 rows × 3 columns</p>\n",
              "</div>\n",
              "      <button class=\"colab-df-convert\" onclick=\"convertToInteractive('df-fa4000e4-f829-4d02-ba13-3425fb0eb179')\"\n",
              "              title=\"Convert this dataframe to an interactive table.\"\n",
              "              style=\"display:none;\">\n",
              "        \n",
              "  <svg xmlns=\"http://www.w3.org/2000/svg\" height=\"24px\"viewBox=\"0 0 24 24\"\n",
              "       width=\"24px\">\n",
              "    <path d=\"M0 0h24v24H0V0z\" fill=\"none\"/>\n",
              "    <path d=\"M18.56 5.44l.94 2.06.94-2.06 2.06-.94-2.06-.94-.94-2.06-.94 2.06-2.06.94zm-11 1L8.5 8.5l.94-2.06 2.06-.94-2.06-.94L8.5 2.5l-.94 2.06-2.06.94zm10 10l.94 2.06.94-2.06 2.06-.94-2.06-.94-.94-2.06-.94 2.06-2.06.94z\"/><path d=\"M17.41 7.96l-1.37-1.37c-.4-.4-.92-.59-1.43-.59-.52 0-1.04.2-1.43.59L10.3 9.45l-7.72 7.72c-.78.78-.78 2.05 0 2.83L4 21.41c.39.39.9.59 1.41.59.51 0 1.02-.2 1.41-.59l7.78-7.78 2.81-2.81c.8-.78.8-2.07 0-2.86zM5.41 20L4 18.59l7.72-7.72 1.47 1.35L5.41 20z\"/>\n",
              "  </svg>\n",
              "      </button>\n",
              "      \n",
              "  <style>\n",
              "    .colab-df-container {\n",
              "      display:flex;\n",
              "      flex-wrap:wrap;\n",
              "      gap: 12px;\n",
              "    }\n",
              "\n",
              "    .colab-df-convert {\n",
              "      background-color: #E8F0FE;\n",
              "      border: none;\n",
              "      border-radius: 50%;\n",
              "      cursor: pointer;\n",
              "      display: none;\n",
              "      fill: #1967D2;\n",
              "      height: 32px;\n",
              "      padding: 0 0 0 0;\n",
              "      width: 32px;\n",
              "    }\n",
              "\n",
              "    .colab-df-convert:hover {\n",
              "      background-color: #E2EBFA;\n",
              "      box-shadow: 0px 1px 2px rgba(60, 64, 67, 0.3), 0px 1px 3px 1px rgba(60, 64, 67, 0.15);\n",
              "      fill: #174EA6;\n",
              "    }\n",
              "\n",
              "    [theme=dark] .colab-df-convert {\n",
              "      background-color: #3B4455;\n",
              "      fill: #D2E3FC;\n",
              "    }\n",
              "\n",
              "    [theme=dark] .colab-df-convert:hover {\n",
              "      background-color: #434B5C;\n",
              "      box-shadow: 0px 1px 3px 1px rgba(0, 0, 0, 0.15);\n",
              "      filter: drop-shadow(0px 1px 2px rgba(0, 0, 0, 0.3));\n",
              "      fill: #FFFFFF;\n",
              "    }\n",
              "  </style>\n",
              "\n",
              "      <script>\n",
              "        const buttonEl =\n",
              "          document.querySelector('#df-fa4000e4-f829-4d02-ba13-3425fb0eb179 button.colab-df-convert');\n",
              "        buttonEl.style.display =\n",
              "          google.colab.kernel.accessAllowed ? 'block' : 'none';\n",
              "\n",
              "        async function convertToInteractive(key) {\n",
              "          const element = document.querySelector('#df-fa4000e4-f829-4d02-ba13-3425fb0eb179');\n",
              "          const dataTable =\n",
              "            await google.colab.kernel.invokeFunction('convertToInteractive',\n",
              "                                                     [key], {});\n",
              "          if (!dataTable) return;\n",
              "\n",
              "          const docLinkHtml = 'Like what you see? Visit the ' +\n",
              "            '<a target=\"_blank\" href=https://colab.research.google.com/notebooks/data_table.ipynb>data table notebook</a>'\n",
              "            + ' to learn more about interactive tables.';\n",
              "          element.innerHTML = '';\n",
              "          dataTable['output_type'] = 'display_data';\n",
              "          await google.colab.output.renderOutput(dataTable, element);\n",
              "          const docLink = document.createElement('div');\n",
              "          docLink.innerHTML = docLinkHtml;\n",
              "          element.appendChild(docLink);\n",
              "        }\n",
              "      </script>\n",
              "    </div>\n",
              "  </div>\n",
              "  "
            ]
          },
          "metadata": {},
          "execution_count": 7
        }
      ]
    },
    {
      "cell_type": "code",
      "source": [
        "subj_obj_dataset"
      ],
      "metadata": {
        "colab": {
          "base_uri": "https://localhost:8080/",
          "height": 424
        },
        "id": "DujGO_7-AwXH",
        "outputId": "2108f88d-5ee6-4a03-97c4-3132b4444714"
      },
      "execution_count": 8,
      "outputs": [
        {
          "output_type": "execute_result",
          "data": {
            "text/plain": [
              "      Unnamed: 0                                               text  labels\n",
              "0              0  smart and alert , thirteen conversations about...       1\n",
              "1              1  color , musical bounce and warm seas lapping o...       1\n",
              "2              2  it is not a mass-market entertainment but an u...       1\n",
              "3              3  a light-hearted french film about the spiritua...       1\n",
              "4              4  my wife is an actress has its moments in looki...       1\n",
              "...          ...                                                ...     ...\n",
              "9995        9995  in the end , they discover that balance in lif...       0\n",
              "9996        9996  a counterfeit 1000 tomin bank note is passed i...       0\n",
              "9997        9997  enter the beautiful and mysterious secret agen...       0\n",
              "9998        9998  after listening to a missionary from china spe...       0\n",
              "9999        9999  looking for a short cut to fame , glass concoc...       0\n",
              "\n",
              "[10000 rows x 3 columns]"
            ],
            "text/html": [
              "\n",
              "  <div id=\"df-1c68cad5-cc04-4359-a0a2-b3fe9cae395a\">\n",
              "    <div class=\"colab-df-container\">\n",
              "      <div>\n",
              "<style scoped>\n",
              "    .dataframe tbody tr th:only-of-type {\n",
              "        vertical-align: middle;\n",
              "    }\n",
              "\n",
              "    .dataframe tbody tr th {\n",
              "        vertical-align: top;\n",
              "    }\n",
              "\n",
              "    .dataframe thead th {\n",
              "        text-align: right;\n",
              "    }\n",
              "</style>\n",
              "<table border=\"1\" class=\"dataframe\">\n",
              "  <thead>\n",
              "    <tr style=\"text-align: right;\">\n",
              "      <th></th>\n",
              "      <th>Unnamed: 0</th>\n",
              "      <th>text</th>\n",
              "      <th>labels</th>\n",
              "    </tr>\n",
              "  </thead>\n",
              "  <tbody>\n",
              "    <tr>\n",
              "      <th>0</th>\n",
              "      <td>0</td>\n",
              "      <td>smart and alert , thirteen conversations about...</td>\n",
              "      <td>1</td>\n",
              "    </tr>\n",
              "    <tr>\n",
              "      <th>1</th>\n",
              "      <td>1</td>\n",
              "      <td>color , musical bounce and warm seas lapping o...</td>\n",
              "      <td>1</td>\n",
              "    </tr>\n",
              "    <tr>\n",
              "      <th>2</th>\n",
              "      <td>2</td>\n",
              "      <td>it is not a mass-market entertainment but an u...</td>\n",
              "      <td>1</td>\n",
              "    </tr>\n",
              "    <tr>\n",
              "      <th>3</th>\n",
              "      <td>3</td>\n",
              "      <td>a light-hearted french film about the spiritua...</td>\n",
              "      <td>1</td>\n",
              "    </tr>\n",
              "    <tr>\n",
              "      <th>4</th>\n",
              "      <td>4</td>\n",
              "      <td>my wife is an actress has its moments in looki...</td>\n",
              "      <td>1</td>\n",
              "    </tr>\n",
              "    <tr>\n",
              "      <th>...</th>\n",
              "      <td>...</td>\n",
              "      <td>...</td>\n",
              "      <td>...</td>\n",
              "    </tr>\n",
              "    <tr>\n",
              "      <th>9995</th>\n",
              "      <td>9995</td>\n",
              "      <td>in the end , they discover that balance in lif...</td>\n",
              "      <td>0</td>\n",
              "    </tr>\n",
              "    <tr>\n",
              "      <th>9996</th>\n",
              "      <td>9996</td>\n",
              "      <td>a counterfeit 1000 tomin bank note is passed i...</td>\n",
              "      <td>0</td>\n",
              "    </tr>\n",
              "    <tr>\n",
              "      <th>9997</th>\n",
              "      <td>9997</td>\n",
              "      <td>enter the beautiful and mysterious secret agen...</td>\n",
              "      <td>0</td>\n",
              "    </tr>\n",
              "    <tr>\n",
              "      <th>9998</th>\n",
              "      <td>9998</td>\n",
              "      <td>after listening to a missionary from china spe...</td>\n",
              "      <td>0</td>\n",
              "    </tr>\n",
              "    <tr>\n",
              "      <th>9999</th>\n",
              "      <td>9999</td>\n",
              "      <td>looking for a short cut to fame , glass concoc...</td>\n",
              "      <td>0</td>\n",
              "    </tr>\n",
              "  </tbody>\n",
              "</table>\n",
              "<p>10000 rows × 3 columns</p>\n",
              "</div>\n",
              "      <button class=\"colab-df-convert\" onclick=\"convertToInteractive('df-1c68cad5-cc04-4359-a0a2-b3fe9cae395a')\"\n",
              "              title=\"Convert this dataframe to an interactive table.\"\n",
              "              style=\"display:none;\">\n",
              "        \n",
              "  <svg xmlns=\"http://www.w3.org/2000/svg\" height=\"24px\"viewBox=\"0 0 24 24\"\n",
              "       width=\"24px\">\n",
              "    <path d=\"M0 0h24v24H0V0z\" fill=\"none\"/>\n",
              "    <path d=\"M18.56 5.44l.94 2.06.94-2.06 2.06-.94-2.06-.94-.94-2.06-.94 2.06-2.06.94zm-11 1L8.5 8.5l.94-2.06 2.06-.94-2.06-.94L8.5 2.5l-.94 2.06-2.06.94zm10 10l.94 2.06.94-2.06 2.06-.94-2.06-.94-.94-2.06-.94 2.06-2.06.94z\"/><path d=\"M17.41 7.96l-1.37-1.37c-.4-.4-.92-.59-1.43-.59-.52 0-1.04.2-1.43.59L10.3 9.45l-7.72 7.72c-.78.78-.78 2.05 0 2.83L4 21.41c.39.39.9.59 1.41.59.51 0 1.02-.2 1.41-.59l7.78-7.78 2.81-2.81c.8-.78.8-2.07 0-2.86zM5.41 20L4 18.59l7.72-7.72 1.47 1.35L5.41 20z\"/>\n",
              "  </svg>\n",
              "      </button>\n",
              "      \n",
              "  <style>\n",
              "    .colab-df-container {\n",
              "      display:flex;\n",
              "      flex-wrap:wrap;\n",
              "      gap: 12px;\n",
              "    }\n",
              "\n",
              "    .colab-df-convert {\n",
              "      background-color: #E8F0FE;\n",
              "      border: none;\n",
              "      border-radius: 50%;\n",
              "      cursor: pointer;\n",
              "      display: none;\n",
              "      fill: #1967D2;\n",
              "      height: 32px;\n",
              "      padding: 0 0 0 0;\n",
              "      width: 32px;\n",
              "    }\n",
              "\n",
              "    .colab-df-convert:hover {\n",
              "      background-color: #E2EBFA;\n",
              "      box-shadow: 0px 1px 2px rgba(60, 64, 67, 0.3), 0px 1px 3px 1px rgba(60, 64, 67, 0.15);\n",
              "      fill: #174EA6;\n",
              "    }\n",
              "\n",
              "    [theme=dark] .colab-df-convert {\n",
              "      background-color: #3B4455;\n",
              "      fill: #D2E3FC;\n",
              "    }\n",
              "\n",
              "    [theme=dark] .colab-df-convert:hover {\n",
              "      background-color: #434B5C;\n",
              "      box-shadow: 0px 1px 3px 1px rgba(0, 0, 0, 0.15);\n",
              "      filter: drop-shadow(0px 1px 2px rgba(0, 0, 0, 0.3));\n",
              "      fill: #FFFFFF;\n",
              "    }\n",
              "  </style>\n",
              "\n",
              "      <script>\n",
              "        const buttonEl =\n",
              "          document.querySelector('#df-1c68cad5-cc04-4359-a0a2-b3fe9cae395a button.colab-df-convert');\n",
              "        buttonEl.style.display =\n",
              "          google.colab.kernel.accessAllowed ? 'block' : 'none';\n",
              "\n",
              "        async function convertToInteractive(key) {\n",
              "          const element = document.querySelector('#df-1c68cad5-cc04-4359-a0a2-b3fe9cae395a');\n",
              "          const dataTable =\n",
              "            await google.colab.kernel.invokeFunction('convertToInteractive',\n",
              "                                                     [key], {});\n",
              "          if (!dataTable) return;\n",
              "\n",
              "          const docLinkHtml = 'Like what you see? Visit the ' +\n",
              "            '<a target=\"_blank\" href=https://colab.research.google.com/notebooks/data_table.ipynb>data table notebook</a>'\n",
              "            + ' to learn more about interactive tables.';\n",
              "          element.innerHTML = '';\n",
              "          dataTable['output_type'] = 'display_data';\n",
              "          await google.colab.output.renderOutput(dataTable, element);\n",
              "          const docLink = document.createElement('div');\n",
              "          docLink.innerHTML = docLinkHtml;\n",
              "          element.appendChild(docLink);\n",
              "        }\n",
              "      </script>\n",
              "    </div>\n",
              "  </div>\n",
              "  "
            ]
          },
          "metadata": {},
          "execution_count": 8
        }
      ]
    },
    {
      "cell_type": "code",
      "source": [
        "subjective = subj_obj_dataset[['text','labels']][:len(subj_obj_dataset)//2].sample(n=1000)"
      ],
      "metadata": {
        "id": "G9UOFOzx1_cU"
      },
      "execution_count": 9,
      "outputs": []
    },
    {
      "cell_type": "code",
      "source": [
        "objective = subj_obj_dataset[['text', 'labels']][len(subj_obj_dataset)//2:].sample(n=1000)"
      ],
      "metadata": {
        "id": "EI6BUx7F4GiC"
      },
      "execution_count": 10,
      "outputs": []
    },
    {
      "cell_type": "code",
      "source": [
        "subj_obj_dataset = pd.concat([subjective,objective], axis=0)"
      ],
      "metadata": {
        "id": "QMXa0AnE5HPf"
      },
      "execution_count": 11,
      "outputs": []
    },
    {
      "cell_type": "code",
      "source": [
        "subj_obj_dataset"
      ],
      "metadata": {
        "id": "LobPS0qV5aXt",
        "outputId": "ad567d27-4268-4538-a42d-33995f760e57",
        "colab": {
          "base_uri": "https://localhost:8080/",
          "height": 424
        }
      },
      "execution_count": 12,
      "outputs": [
        {
          "output_type": "execute_result",
          "data": {
            "text/plain": [
              "                                                   text  labels\n",
              "1806  the values that have held the enterprise crew ...       1\n",
              "4754  movies like this are selling the old european ...       1\n",
              "4850  succeeds very well in its primary aim of makin...       1\n",
              "1759  coral reef adventure is a heavyweight film tha...       1\n",
              "1821  there's a neat twist , subtly rendered , that ...       1\n",
              "...                                                 ...     ...\n",
              "5518  directed by rob bowman ( \" the x-files \" ) , \"...       0\n",
              "7488  el toro&#180 ; s sons , cain and abel , were s...       0\n",
              "5187  in addition , the detective has to deal with a...       0\n",
              "9040  while mitchell is there , his mother shows up ...       0\n",
              "5684  now the assassin and the cop must join forces ...       0\n",
              "\n",
              "[2000 rows x 2 columns]"
            ],
            "text/html": [
              "\n",
              "  <div id=\"df-bad8c947-2f4a-430d-b5dd-20c265c8bf63\">\n",
              "    <div class=\"colab-df-container\">\n",
              "      <div>\n",
              "<style scoped>\n",
              "    .dataframe tbody tr th:only-of-type {\n",
              "        vertical-align: middle;\n",
              "    }\n",
              "\n",
              "    .dataframe tbody tr th {\n",
              "        vertical-align: top;\n",
              "    }\n",
              "\n",
              "    .dataframe thead th {\n",
              "        text-align: right;\n",
              "    }\n",
              "</style>\n",
              "<table border=\"1\" class=\"dataframe\">\n",
              "  <thead>\n",
              "    <tr style=\"text-align: right;\">\n",
              "      <th></th>\n",
              "      <th>text</th>\n",
              "      <th>labels</th>\n",
              "    </tr>\n",
              "  </thead>\n",
              "  <tbody>\n",
              "    <tr>\n",
              "      <th>1806</th>\n",
              "      <td>the values that have held the enterprise crew ...</td>\n",
              "      <td>1</td>\n",
              "    </tr>\n",
              "    <tr>\n",
              "      <th>4754</th>\n",
              "      <td>movies like this are selling the old european ...</td>\n",
              "      <td>1</td>\n",
              "    </tr>\n",
              "    <tr>\n",
              "      <th>4850</th>\n",
              "      <td>succeeds very well in its primary aim of makin...</td>\n",
              "      <td>1</td>\n",
              "    </tr>\n",
              "    <tr>\n",
              "      <th>1759</th>\n",
              "      <td>coral reef adventure is a heavyweight film tha...</td>\n",
              "      <td>1</td>\n",
              "    </tr>\n",
              "    <tr>\n",
              "      <th>1821</th>\n",
              "      <td>there's a neat twist , subtly rendered , that ...</td>\n",
              "      <td>1</td>\n",
              "    </tr>\n",
              "    <tr>\n",
              "      <th>...</th>\n",
              "      <td>...</td>\n",
              "      <td>...</td>\n",
              "    </tr>\n",
              "    <tr>\n",
              "      <th>5518</th>\n",
              "      <td>directed by rob bowman ( \" the x-files \" ) , \"...</td>\n",
              "      <td>0</td>\n",
              "    </tr>\n",
              "    <tr>\n",
              "      <th>7488</th>\n",
              "      <td>el toro&amp;#180 ; s sons , cain and abel , were s...</td>\n",
              "      <td>0</td>\n",
              "    </tr>\n",
              "    <tr>\n",
              "      <th>5187</th>\n",
              "      <td>in addition , the detective has to deal with a...</td>\n",
              "      <td>0</td>\n",
              "    </tr>\n",
              "    <tr>\n",
              "      <th>9040</th>\n",
              "      <td>while mitchell is there , his mother shows up ...</td>\n",
              "      <td>0</td>\n",
              "    </tr>\n",
              "    <tr>\n",
              "      <th>5684</th>\n",
              "      <td>now the assassin and the cop must join forces ...</td>\n",
              "      <td>0</td>\n",
              "    </tr>\n",
              "  </tbody>\n",
              "</table>\n",
              "<p>2000 rows × 2 columns</p>\n",
              "</div>\n",
              "      <button class=\"colab-df-convert\" onclick=\"convertToInteractive('df-bad8c947-2f4a-430d-b5dd-20c265c8bf63')\"\n",
              "              title=\"Convert this dataframe to an interactive table.\"\n",
              "              style=\"display:none;\">\n",
              "        \n",
              "  <svg xmlns=\"http://www.w3.org/2000/svg\" height=\"24px\"viewBox=\"0 0 24 24\"\n",
              "       width=\"24px\">\n",
              "    <path d=\"M0 0h24v24H0V0z\" fill=\"none\"/>\n",
              "    <path d=\"M18.56 5.44l.94 2.06.94-2.06 2.06-.94-2.06-.94-.94-2.06-.94 2.06-2.06.94zm-11 1L8.5 8.5l.94-2.06 2.06-.94-2.06-.94L8.5 2.5l-.94 2.06-2.06.94zm10 10l.94 2.06.94-2.06 2.06-.94-2.06-.94-.94-2.06-.94 2.06-2.06.94z\"/><path d=\"M17.41 7.96l-1.37-1.37c-.4-.4-.92-.59-1.43-.59-.52 0-1.04.2-1.43.59L10.3 9.45l-7.72 7.72c-.78.78-.78 2.05 0 2.83L4 21.41c.39.39.9.59 1.41.59.51 0 1.02-.2 1.41-.59l7.78-7.78 2.81-2.81c.8-.78.8-2.07 0-2.86zM5.41 20L4 18.59l7.72-7.72 1.47 1.35L5.41 20z\"/>\n",
              "  </svg>\n",
              "      </button>\n",
              "      \n",
              "  <style>\n",
              "    .colab-df-container {\n",
              "      display:flex;\n",
              "      flex-wrap:wrap;\n",
              "      gap: 12px;\n",
              "    }\n",
              "\n",
              "    .colab-df-convert {\n",
              "      background-color: #E8F0FE;\n",
              "      border: none;\n",
              "      border-radius: 50%;\n",
              "      cursor: pointer;\n",
              "      display: none;\n",
              "      fill: #1967D2;\n",
              "      height: 32px;\n",
              "      padding: 0 0 0 0;\n",
              "      width: 32px;\n",
              "    }\n",
              "\n",
              "    .colab-df-convert:hover {\n",
              "      background-color: #E2EBFA;\n",
              "      box-shadow: 0px 1px 2px rgba(60, 64, 67, 0.3), 0px 1px 3px 1px rgba(60, 64, 67, 0.15);\n",
              "      fill: #174EA6;\n",
              "    }\n",
              "\n",
              "    [theme=dark] .colab-df-convert {\n",
              "      background-color: #3B4455;\n",
              "      fill: #D2E3FC;\n",
              "    }\n",
              "\n",
              "    [theme=dark] .colab-df-convert:hover {\n",
              "      background-color: #434B5C;\n",
              "      box-shadow: 0px 1px 3px 1px rgba(0, 0, 0, 0.15);\n",
              "      filter: drop-shadow(0px 1px 2px rgba(0, 0, 0, 0.3));\n",
              "      fill: #FFFFFF;\n",
              "    }\n",
              "  </style>\n",
              "\n",
              "      <script>\n",
              "        const buttonEl =\n",
              "          document.querySelector('#df-bad8c947-2f4a-430d-b5dd-20c265c8bf63 button.colab-df-convert');\n",
              "        buttonEl.style.display =\n",
              "          google.colab.kernel.accessAllowed ? 'block' : 'none';\n",
              "\n",
              "        async function convertToInteractive(key) {\n",
              "          const element = document.querySelector('#df-bad8c947-2f4a-430d-b5dd-20c265c8bf63');\n",
              "          const dataTable =\n",
              "            await google.colab.kernel.invokeFunction('convertToInteractive',\n",
              "                                                     [key], {});\n",
              "          if (!dataTable) return;\n",
              "\n",
              "          const docLinkHtml = 'Like what you see? Visit the ' +\n",
              "            '<a target=\"_blank\" href=https://colab.research.google.com/notebooks/data_table.ipynb>data table notebook</a>'\n",
              "            + ' to learn more about interactive tables.';\n",
              "          element.innerHTML = '';\n",
              "          dataTable['output_type'] = 'display_data';\n",
              "          await google.colab.output.renderOutput(dataTable, element);\n",
              "          const docLink = document.createElement('div');\n",
              "          docLink.innerHTML = docLinkHtml;\n",
              "          element.appendChild(docLink);\n",
              "        }\n",
              "      </script>\n",
              "    </div>\n",
              "  </div>\n",
              "  "
            ]
          },
          "metadata": {},
          "execution_count": 12
        }
      ]
    },
    {
      "cell_type": "markdown",
      "source": [
        "### Major commands :\n",
        "- .tokenize(sent)\n",
        "- .convert_tokens_to_ids(tokenized_sent)\n",
        "- .encode.plus() [source](https://huggingface.co/docs/transformers/internal/tokenization_utils#transformers.tokenization_utils_base.PreTrainedTokenizerBase.batch_encode_plus)"
      ],
      "metadata": {
        "id": "RnYxmD2FEySp"
      }
    },
    {
      "cell_type": "code",
      "source": [
        "# BERT model script from: huggingface.co\n",
        "from transformers import BertTokenizer, BertModel\n",
        "from typing import Tuple, List, Dict\n",
        "import numpy as np\n",
        "import torch\n",
        "from torch.utils.data import DataLoader, RandomSampler, SequentialSampler\n",
        "from transformers import logging\n",
        "import gc\n",
        "\n",
        "# to not see warning everytime\n",
        "logging.set_verbosity_error()\n",
        "\n",
        "\n",
        "tokenizer = BertTokenizer.from_pretrained(\"bert-base-uncased\", do_lower_case=True)\n",
        "model = BertModel.from_pretrained(\"bert-base-uncased\").to(device)"
      ],
      "metadata": {
        "id": "KuyfsCFkKaSy",
        "colab": {
          "base_uri": "https://localhost:8080/",
          "height": 145,
          "referenced_widgets": [
            "8916a8241be34fad87855ed23ca63aaa",
            "6d6ad3d7a1444b28b5a6764bd67fe0b2",
            "e9361621884c4bba9b0dd188e323edb3",
            "663232c79d6f4188896cb5f9380ad4b8",
            "07cf8001a3e74ee0a1aa9b4df38b8141",
            "e4e6acf9e4144a2f8b81450c5cb32b59",
            "f86c0fdcebd742b5a667b51969ef4c82",
            "a5e96f21e2e948d9a3fd64a2d5a14165",
            "6c050b93efed4dcb9cf2e6b1fe4f3f97",
            "82052d0bd95e4008839821e64225bd99",
            "2382a61388f5472f825a0c7caaa5e77e",
            "e86b76d385284a30bf66cc002556fc66",
            "55089e657ac2490b8b9f556f6ca44ba9",
            "8c1b095940e440098cfad48178f34436",
            "22b1daef3b8f4a888f1864a2c2256c9f",
            "18decaf6209749599187e11486577a3a",
            "d9a95dcbe2dd44c9b4d6da44af97253e",
            "6a637756254a481d9544dfa1e6ad4e13",
            "29b8714270da4566afd14805a683e0b5",
            "3a7567f7e09946a8a2748f665d797569",
            "afff063fda5e431289cdc3775b802cf0",
            "ce2f2e079b074449b70942bbca071b46",
            "ad4cee31c67f4329bc504066334803ef",
            "30797a76a2ca44c0b4ada4154fe52cf1",
            "c6788a59cdc74a8ebb0a6056741c9cf9",
            "0feca1164ca443038a8b91cf676484b3",
            "347912a1f6ff476c9b272a48a1bc9b79",
            "d585a225b6544df9bb4d0de251f2a1e0",
            "b801806ad30e4fdeb999a4fa76fa9452",
            "12262b69345e41a091b77405f2f8f07e",
            "ff083a76180a45e09221e2176f10f619",
            "55fd67dfe11447f6b36be8b0ead9a6c0",
            "2e31efa295d74bffb793e9fdad79910f",
            "bada313568394c4dba986c9789b90f2f",
            "c5591c52ee6f486388520b2db0c2f94b",
            "f9b9c2dd4c2c4512a81e79c7adfad4ab",
            "94cf8ac157534210896d895b8733fff8",
            "5a803d7dc0df488ebc94208ea826e334",
            "506cac95d0c445bcbacbdfcee92f8b42",
            "d1f8d98f71d144e3a33fe235a5a1576e",
            "981eff74c3f14fc3874e85b725e651d4",
            "f658079bc20f4a0f8de74dec2972700b",
            "a4ac4c6db0804f1eb7f264d6b492ce31",
            "6fbb9727276343b3aee47bf5cdcb356e"
          ]
        },
        "outputId": "e6c9fe42-27ed-4090-ffcc-0b3c2f5be352"
      },
      "execution_count": 13,
      "outputs": [
        {
          "output_type": "display_data",
          "data": {
            "text/plain": [
              "Downloading:   0%|          | 0.00/232k [00:00<?, ?B/s]"
            ],
            "application/vnd.jupyter.widget-view+json": {
              "version_major": 2,
              "version_minor": 0,
              "model_id": "8916a8241be34fad87855ed23ca63aaa"
            }
          },
          "metadata": {}
        },
        {
          "output_type": "display_data",
          "data": {
            "text/plain": [
              "Downloading:   0%|          | 0.00/28.0 [00:00<?, ?B/s]"
            ],
            "application/vnd.jupyter.widget-view+json": {
              "version_major": 2,
              "version_minor": 0,
              "model_id": "e86b76d385284a30bf66cc002556fc66"
            }
          },
          "metadata": {}
        },
        {
          "output_type": "display_data",
          "data": {
            "text/plain": [
              "Downloading:   0%|          | 0.00/570 [00:00<?, ?B/s]"
            ],
            "application/vnd.jupyter.widget-view+json": {
              "version_major": 2,
              "version_minor": 0,
              "model_id": "ad4cee31c67f4329bc504066334803ef"
            }
          },
          "metadata": {}
        },
        {
          "output_type": "display_data",
          "data": {
            "text/plain": [
              "Downloading:   0%|          | 0.00/440M [00:00<?, ?B/s]"
            ],
            "application/vnd.jupyter.widget-view+json": {
              "version_major": 2,
              "version_minor": 0,
              "model_id": "bada313568394c4dba986c9789b90f2f"
            }
          },
          "metadata": {}
        }
      ]
    },
    {
      "cell_type": "code",
      "source": [
        "type(model)"
      ],
      "metadata": {
        "colab": {
          "base_uri": "https://localhost:8080/"
        },
        "id": "e3FmCxeBsaD0",
        "outputId": "a42af180-9392-4f08-d12a-3aa396e02523"
      },
      "execution_count": 14,
      "outputs": [
        {
          "output_type": "execute_result",
          "data": {
            "text/plain": [
              "transformers.models.bert.modeling_bert.BertModel"
            ]
          },
          "metadata": {},
          "execution_count": 14
        }
      ]
    },
    {
      "cell_type": "code",
      "source": [
        "type(tokenizer)"
      ],
      "metadata": {
        "id": "jXKC7c1-9-Zw",
        "outputId": "4d384fc9-0a68-4b18-d2b6-1759a2cc14ab",
        "colab": {
          "base_uri": "https://localhost:8080/"
        }
      },
      "execution_count": 15,
      "outputs": [
        {
          "output_type": "execute_result",
          "data": {
            "text/plain": [
              "transformers.models.bert.tokenization_bert.BertTokenizer"
            ]
          },
          "metadata": {},
          "execution_count": 15
        }
      ]
    },
    {
      "cell_type": "code",
      "source": [
        "def embedding(dataset : pd.DataFrame, sentence_column: str, tokenizer: BertTokenizer) -> Tuple[torch.Tensor]:  # Tuple[List]:\n",
        "    '''Extract embedding information using passed tokenizer and model\n",
        "        Params:\n",
        "        ------\n",
        "            dataset : pd.DataFrame\n",
        "                dataframe containig sentences to be encoded\n",
        "            sentence_column : str\n",
        "                column in the beforementioned dataframe to be encoded\n",
        "            tokenizer : transformers.models.bert.tokenization_bert.BertTokenizer\n",
        "                tokenizer used to process sentences and extract related information\n",
        "        Return:\n",
        "        ------\n",
        "            Return encodings and attention masks as pytorch tensors\n",
        "    '''\n",
        "    \n",
        "    embeddings = {\n",
        "        'embedding' : [],\n",
        "        'attention_mask' : []\n",
        "        }\n",
        "        \n",
        "    for sent in dataset[sentence_column]:\n",
        "        dic_sent_encoding = tokenizer.encode_plus(sent, # untokenized sentence\n",
        "                                                add_special_tokens = True,  # add '[CLS]' and '[SEP]'\n",
        "                                                truncation = True,  # truncate to maximum length\n",
        "                                                padding = \"max_length\",  # pad to maximum admissible sentence\n",
        "                                                return_attention_mask = True,  # return attention mask\n",
        "                                                return_tensors = \"pt\") # returns pytorch tensors\n",
        "    \n",
        "        # extracting embeddings and attention masks in list form\n",
        "        embeddings['embedding'].append(dic_sent_encoding['input_ids'])\n",
        "        embeddings['attention_mask'].append(dic_sent_encoding['attention_mask'])\n",
        "\n",
        "    # convert lists of tensors into tensors\n",
        "    #input_ids = torch.cat(embeddings['embedding'], axis=0)\n",
        "    #attention_masks = torch.cat(embeddings['attention_mask'], axis=0)\n",
        "    \n",
        "    #return input_ids, attention_masks\n",
        "    return embeddings['embedding'], embeddings['attention_mask']\n",
        "    #return dic_sent_encoding"
      ],
      "metadata": {
        "id": "I1Ov7l-CAyG6"
      },
      "execution_count": 24,
      "outputs": []
    },
    {
      "cell_type": "code",
      "source": [
        "#embedding(movie_reviews, 'text', tokenizer)"
      ],
      "metadata": {
        "id": "e_8VUmv4FE1J"
      },
      "execution_count": 26,
      "outputs": []
    },
    {
      "cell_type": "code",
      "source": [
        "#mr_encoding, attention_masks_mr = embedding(dataset=movie_reviews, sentence_column='text', tokenizer=tokenizer)"
      ],
      "metadata": {
        "id": "bslSQQ1VagQf"
      },
      "execution_count": 50,
      "outputs": []
    },
    {
      "cell_type": "code",
      "source": [
        "#type(mr_encoding), type(mr_encoding[0])"
      ],
      "metadata": {
        "id": "eBXtr7sZ9lRx"
      },
      "execution_count": 51,
      "outputs": []
    },
    {
      "cell_type": "code",
      "source": [
        "#to display a sample tensor uncomment following lines\n",
        "#mr_encoding[0], attention_masks_mr[0]"
      ],
      "metadata": {
        "id": "0Wa8BAy3SaQp"
      },
      "execution_count": 34,
      "outputs": []
    },
    {
      "cell_type": "code",
      "source": [
        "#so_encoding, attention_masks_so = embedding(dataset=subj_obj_dataset, sentence_column='text', tokenizer=tokenizer)"
      ],
      "metadata": {
        "id": "A_RI20fmM0JW"
      },
      "execution_count": 52,
      "outputs": []
    },
    {
      "cell_type": "code",
      "source": [
        "#to display a sample tensor uncomment following lines\n",
        "#so_encoding[0], attention_masks_so[0]"
      ],
      "metadata": {
        "id": "QmB8kLzASrTR"
      },
      "execution_count": 46,
      "outputs": []
    },
    {
      "cell_type": "code",
      "source": [
        "#to investigate size of a tensor uncomment following lones\n",
        "#so_encoding[0].size(), attention_masks_so[0].size()"
      ],
      "metadata": {
        "id": "LCs25QfZTYpX"
      },
      "execution_count": 47,
      "outputs": []
    },
    {
      "cell_type": "code",
      "source": [
        "BATCH_SIZE = 128 # reduced due to RAM limitations"
      ],
      "metadata": {
        "id": "uNy-pqdEnS-h"
      },
      "execution_count": 49,
      "outputs": []
    },
    {
      "cell_type": "code",
      "source": [
        "def batching_data(dataset: pd.DataFrame, tokenizer: BertTokenizer, column_name: str='text', batch_size: int=BATCH_SIZE) -> Tuple[torch.utils.data.DataLoader]:\n",
        "    '''Function to batch sentences to fit BERT model and get embeddings\n",
        "\n",
        "        Params:\n",
        "        ------\n",
        "            dataset : pd.DataFrame\n",
        "                dataset to be batched\n",
        "            column_name : str\n",
        "                column of 'dataset' DataFrame to catch \n",
        "            batch_size : int\n",
        "                batch size\n",
        "        \n",
        "        Return:\n",
        "        ------\n",
        "            tuple of dataloader to iterate over\n",
        "    '''\n",
        "\n",
        "    # getting encodings and attention masks for whole dataset\n",
        "    emb, msk = embedding(dataset=dataset, sentence_column=column_name, tokenizer=tokenizer)\n",
        "\n",
        "    # defining DataLoader that batches ids randomly\n",
        "    #emb_dataloader = DataLoader(dataset=emb, batch_size=batch_size, shuffle=False)\n",
        "    for e in zip(emb,msk):\n",
        "        output = model(e[0].to(device),e[1].to(device))\n",
        "    # defining DataLoader that batches masks\n",
        "    #msk_dataloader = DataLoader(dataset=msk, batch_size=batch_size, shuffle=False)\n",
        "\n",
        "    #return ids_dataloader, msk_dataloader\n",
        "    return output"
      ],
      "metadata": {
        "id": "16S6YJ7wnBZ5"
      },
      "execution_count": 58,
      "outputs": []
    },
    {
      "cell_type": "code",
      "source": [
        "batching_data(movie_reviews, tokenizer)"
      ],
      "metadata": {
        "colab": {
          "base_uri": "https://localhost:8080/"
        },
        "id": "aAjWkH_8XCKM",
        "outputId": "0f134916-aad8-4bd5-e5c6-bb10fb08e6ee"
      },
      "execution_count": 59,
      "outputs": [
        {
          "output_type": "execute_result",
          "data": {
            "text/plain": [
              "BaseModelOutputWithPoolingAndCrossAttentions(last_hidden_state=tensor([[[-0.4424,  0.0517,  0.0861,  ..., -0.3419,  0.3107,  0.0740],\n",
              "         [-0.1545, -0.0906,  0.7247,  ...,  0.1055,  1.3482, -0.1013],\n",
              "         [-0.2433, -0.7178,  1.0836,  ...,  0.5467,  0.7199, -0.3362],\n",
              "         ...,\n",
              "         [ 0.2447,  0.2098,  0.5096,  ...,  0.0152, -0.0250, -0.5137],\n",
              "         [ 0.1360,  0.2764,  0.5797,  ..., -0.0135, -0.0326, -0.5723],\n",
              "         [ 0.1134,  0.0813,  0.5243,  ..., -0.0306,  0.0437, -0.4213]]],\n",
              "       device='cuda:0', grad_fn=<NativeLayerNormBackward0>), pooler_output=tensor([[-4.3934e-01, -4.4720e-01, -4.2942e-01,  1.4759e-01, -1.4939e-01,\n",
              "         -1.2933e-01, -4.4358e-02,  3.8541e-01, -1.1615e-01, -9.9960e-01,\n",
              "          1.2993e-01,  3.4936e-01,  9.4202e-01,  8.8197e-02,  6.2682e-01,\n",
              "         -1.0838e-01,  4.3199e-01, -4.7832e-01,  3.3852e-01,  6.5896e-01,\n",
              "          5.0559e-01,  9.9597e-01,  4.1468e-01,  3.0092e-01,  3.2507e-01,\n",
              "          3.5818e-01, -4.3893e-01,  7.1569e-01,  7.8611e-01,  6.7317e-01,\n",
              "         -1.1797e-01,  3.4296e-01, -9.4943e-01, -2.9124e-01, -7.2910e-01,\n",
              "         -9.6433e-01,  1.7994e-01, -2.5988e-01, -1.3750e-01, -8.4846e-02,\n",
              "         -4.6621e-01,  2.7009e-01,  9.9886e-01, -4.1899e-01,  1.2877e-01,\n",
              "         -2.7262e-01, -9.9830e-01,  1.8297e-01, -3.1255e-01,  3.4323e-03,\n",
              "          5.4208e-02,  2.3777e-01,  2.5020e-01,  2.6029e-01,  2.7045e-01,\n",
              "          2.6038e-01, -1.6440e-01,  1.5913e-01, -2.2280e-01, -4.6198e-01,\n",
              "         -6.2936e-01,  3.9469e-01, -3.1358e-01, -5.4649e-01,  6.6266e-02,\n",
              "          3.0669e-01, -4.4723e-01, -4.0350e-01, -9.0211e-02, -6.9034e-02,\n",
              "          3.1862e-01,  3.5307e-01, -1.7510e-01, -7.0468e-01,  1.2364e-02,\n",
              "          3.7540e-01, -5.9801e-01,  9.9999e-01,  2.1323e-01, -9.0296e-01,\n",
              "          6.4791e-01,  3.5866e-01,  4.9328e-01,  1.0972e-01, -5.2779e-03,\n",
              "         -9.9995e-01,  2.3089e-01, -1.8257e-01, -9.4166e-01,  3.5828e-01,\n",
              "          1.0898e-01, -5.1315e-02,  7.0430e-01,  5.3632e-01, -4.2585e-01,\n",
              "         -2.9294e-01, -1.9426e-01, -1.9876e-01, -3.0899e-01, -1.7770e-01,\n",
              "          2.0770e-01, -2.8014e-01, -2.4059e-01, -1.7216e-01,  2.2587e-01,\n",
              "         -2.9784e-01,  2.1887e-01,  8.7667e-02,  7.5696e-02,  5.2848e-01,\n",
              "          5.3598e-01, -4.3399e-01,  2.8956e-01, -8.0371e-01,  4.1603e-01,\n",
              "         -2.4233e-01, -8.9117e-01, -5.6957e-01, -9.4962e-01,  4.4660e-01,\n",
              "          7.0791e-02, -3.0059e-01,  7.4081e-01, -2.0454e-01,  2.4081e-01,\n",
              "         -1.1498e-01,  1.0808e-01, -1.0000e+00,  1.2058e-01, -1.5915e-01,\n",
              "          9.4249e-02, -2.2663e-01, -8.5930e-01, -7.6812e-01,  3.8779e-01,\n",
              "          6.8126e-01,  1.0006e-01,  9.9671e-01, -1.9300e-01,  8.2582e-01,\n",
              "          3.3917e-01, -4.1523e-01, -1.7942e-01, -5.0239e-01,  3.3012e-01,\n",
              "         -6.4278e-01, -5.0237e-05,  1.8228e-01,  2.7472e-01, -3.2743e-01,\n",
              "         -2.0620e-01, -2.3126e-01, -1.2476e-01, -5.4703e-01, -3.7096e-01,\n",
              "          8.0305e-01,  1.6639e-01, -3.4028e-01,  2.1889e-01, -9.8645e-02,\n",
              "         -1.1734e-02,  4.9595e-01,  3.1889e-03,  2.7599e-01, -1.7526e-01,\n",
              "          4.6059e-01, -1.5157e-01,  1.9871e-01, -5.0374e-01,  8.2437e-02,\n",
              "          1.9037e-01, -2.8889e-01, -5.1368e-01, -9.1797e-01, -2.6217e-01,\n",
              "          2.0193e-01,  8.9157e-01,  2.7113e-01,  1.6780e-01, -2.8003e-01,\n",
              "         -2.9264e-01,  2.4081e-01, -8.6102e-01,  9.0778e-01, -7.7286e-02,\n",
              "          2.3196e-01, -2.0241e-01,  2.6617e-01, -2.5439e-01,  6.4250e-02,\n",
              "          5.2449e-01, -1.4654e-02, -4.3173e-01, -2.1100e-03, -4.2434e-01,\n",
              "         -3.3436e-01, -1.7819e-01, -8.3363e-02, -1.9720e-01, -3.5031e-01,\n",
              "         -1.5433e-01,  7.1548e-01,  3.4339e-01,  2.0322e-02,  2.2202e-02,\n",
              "          6.4191e-02, -5.5571e-01, -3.6291e-01,  1.1616e-01,  6.9296e-02,\n",
              "          4.3158e-02,  9.1182e-01, -2.4708e-01,  1.4938e-01, -2.9962e-01,\n",
              "         -9.3644e-01,  5.3687e-02, -3.5625e-01, -6.4989e-02, -4.5334e-01,\n",
              "          4.2924e-01, -3.5073e-02, -2.1209e-01,  1.4767e-01, -1.1333e-01,\n",
              "         -4.5170e-01,  4.5051e-02, -2.8848e-01,  3.9402e-01, -1.7609e-01,\n",
              "          8.3743e-01,  6.7265e-01, -4.2349e-01, -5.7790e-01,  9.0612e-01,\n",
              "         -4.1608e-01, -4.0339e-01,  2.3985e-01, -1.2028e-01,  3.8473e-01,\n",
              "         -5.5590e-01,  9.5817e-01,  3.0544e-01, -8.0765e-03, -5.7890e-01,\n",
              "         -5.9646e-01,  1.9850e-01, -8.7768e-02, -1.2009e-01, -2.8599e-01,\n",
              "          3.5110e-01,  5.1797e-01,  1.6239e-01,  4.7021e-01, -2.7343e-01,\n",
              "          4.3879e-02, -8.3855e-01, -8.3478e-01, -8.4305e-01,  7.3950e-02,\n",
              "         -9.5530e-01,  1.4302e-01,  2.7023e-01, -1.8781e-01, -3.9417e-01,\n",
              "         -1.1540e-01, -7.7932e-01,  1.4781e-01,  1.6869e-01,  5.9332e-01,\n",
              "         -2.0196e-01, -2.9913e-01, -3.2572e-01, -7.8698e-01,  2.9331e-02,\n",
              "         -8.7171e-02,  1.7086e-01,  8.3995e-03, -6.4400e-01,  4.6755e-01,\n",
              "          2.0570e-01,  1.2200e-01, -3.6161e-01,  8.0864e-01,  9.9985e-01,\n",
              "          8.6298e-01,  5.8850e-01, -1.0476e-01, -9.8788e-01, -3.0591e-01,\n",
              "          9.9988e-01, -7.4898e-01, -9.9992e-01, -5.8015e-01, -4.2794e-01,\n",
              "          6.1064e-02, -1.0000e+00, -1.4140e-01, -4.5125e-02, -6.0768e-01,\n",
              "          7.3914e-02,  9.0459e-01,  3.9308e-01, -1.0000e+00,  5.3804e-01,\n",
              "          4.7168e-01, -6.5168e-01,  4.9687e-02, -1.5729e-01,  9.0057e-01,\n",
              "          2.0973e-01,  3.4429e-01, -3.5704e-01,  5.1845e-01, -7.1973e-01,\n",
              "         -2.9580e-01, -2.5374e-01, -1.2220e-01,  9.2397e-01,  9.2303e-02,\n",
              "         -4.5747e-01, -7.6294e-01, -1.7715e-01, -1.0526e-01, -6.8236e-02,\n",
              "         -8.1167e-01, -1.9496e-01, -1.0244e-01,  1.5213e-01,  7.7426e-02,\n",
              "          1.8968e-01, -1.3063e-01,  8.4566e-02,  6.4518e-02,  2.4054e-02,\n",
              "          5.7833e-01, -8.7862e-01, -1.8111e-02,  2.0251e-01, -3.9906e-01,\n",
              "         -3.4228e-01, -9.2400e-01,  8.5905e-01, -4.3253e-01, -5.4231e-02,\n",
              "          1.0000e+00,  5.3092e-01, -3.1164e-01,  5.1157e-02,  8.2511e-03,\n",
              "         -2.5234e-01,  9.9997e-01,  3.4294e-01, -9.2688e-01, -5.3795e-01,\n",
              "          3.4495e-01, -3.9696e-01, -4.2625e-01,  9.9500e-01, -1.2052e-01,\n",
              "         -1.6910e-01,  4.2183e-01,  9.5740e-01, -9.6678e-01,  8.6882e-01,\n",
              "         -3.6992e-01, -8.0132e-01,  8.1044e-01,  7.2421e-01, -9.4712e-02,\n",
              "         -2.4350e-01,  1.9005e-01, -3.5688e-01,  3.2882e-01, -2.8031e-01,\n",
              "          3.2054e-01,  1.8968e-01, -6.6562e-02,  5.6784e-01,  4.1467e-01,\n",
              "         -4.4085e-01,  2.9829e-01, -2.7652e-01,  2.6610e-02,  4.0694e-01,\n",
              "          4.1837e-01, -1.4517e-01, -4.8323e-04, -3.3630e-01, -5.2002e-01,\n",
              "         -7.9646e-01,  8.3029e-03,  9.9999e-01, -2.9703e-01,  8.6110e-02,\n",
              "         -3.0169e-01, -7.6956e-02,  5.3908e-02,  4.0206e-01,  3.8121e-01,\n",
              "         -2.0707e-01, -5.0986e-01,  1.6041e-02, -2.6644e-01, -9.6974e-01,\n",
              "          2.1983e-01,  2.2054e-01, -1.3202e-01,  9.9028e-01,  2.8523e-01,\n",
              "          2.1988e-01,  2.2379e-01,  4.1908e-01,  2.1179e-01, -2.5587e-01,\n",
              "          2.0386e-01,  8.2390e-01, -2.3992e-01,  5.5458e-01, -2.7755e-02,\n",
              "         -2.0344e-01, -2.2204e-01, -3.8785e-01,  1.0484e-01, -8.8103e-01,\n",
              "          5.0923e-02, -7.3705e-01,  7.3906e-01,  2.0215e-01,  3.3248e-01,\n",
              "          3.0995e-01,  4.2024e-01,  1.0000e+00, -7.5416e-01,  2.1288e-01,\n",
              "          8.3755e-01,  8.8927e-02, -9.8076e-01, -2.3780e-01, -4.9817e-01,\n",
              "         -2.4216e-02, -2.3337e-01, -1.0627e-01,  1.4167e-01, -8.4958e-01,\n",
              "          8.5717e-02,  1.1256e-01, -3.0607e-01, -9.2413e-01, -4.1302e-01,\n",
              "         -2.0989e-01,  6.8104e-02, -7.1412e-01, -1.2181e-02, -2.2391e-01,\n",
              "          1.8024e-01, -3.4711e-01, -7.7979e-01,  3.6552e-01, -2.8356e-01,\n",
              "          3.4589e-01, -1.6168e-01,  5.5208e-01,  2.7039e-01,  6.9985e-01,\n",
              "         -3.5933e-02, -5.0863e-03, -1.7396e-01, -5.1479e-01, -7.9245e-02,\n",
              "         -2.1475e-01,  1.0219e-01, -2.4181e-01,  1.0000e+00, -3.1618e-01,\n",
              "          2.9349e-01,  2.7514e-01,  3.4026e-02, -2.7664e-01,  1.7037e-01,\n",
              "          6.5109e-01,  3.0154e-01, -2.5098e-01,  5.5625e-02,  8.5087e-01,\n",
              "         -3.4177e-01,  5.3714e-01, -1.0223e-01,  4.1215e-01,  3.7697e-01,\n",
              "          9.0998e-02,  1.5781e-01,  1.0180e-02,  1.6149e-01,  5.4682e-01,\n",
              "         -1.0414e-01, -2.5596e-01, -3.7430e-01, -1.3711e-01, -3.1616e-01,\n",
              "          6.4427e-01,  9.9998e-01,  2.4658e-01,  3.3973e-01, -9.6516e-01,\n",
              "         -2.5223e-01, -4.6927e-01,  9.9956e-01,  5.7685e-01, -3.2081e-01,\n",
              "          3.7408e-01,  3.5251e-01, -1.8570e-01, -4.1653e-01, -2.2721e-01,\n",
              "         -2.2134e-01,  2.9340e-01,  2.2634e-01,  8.4911e-01, -4.8678e-01,\n",
              "         -8.8283e-01, -3.7626e-01,  2.2986e-01, -7.0247e-01,  9.9342e-01,\n",
              "         -5.5332e-01, -1.5865e-01,  5.2992e-02,  9.7943e-02, -8.6589e-01,\n",
              "         -5.2476e-02, -9.0917e-01, -1.0509e-01,  4.9577e-02,  8.3704e-01,\n",
              "          2.1595e-01, -6.3662e-01, -7.1620e-01,  1.4153e-01,  2.0382e-01,\n",
              "         -1.2583e-01, -7.7875e-01,  8.3349e-01, -8.0141e-01,  6.7960e-02,\n",
              "          9.9970e-01,  4.1921e-01, -3.4147e-01,  1.0852e-01,  1.1629e-02,\n",
              "          2.8185e-01, -1.2084e-01,  3.7461e-02, -7.5128e-01, -1.7384e-01,\n",
              "         -2.0653e-01,  4.5549e-01, -4.8538e-02, -5.7590e-01,  2.9386e-01,\n",
              "          2.7395e-01, -4.9534e-01, -5.8516e-01, -3.4423e-03,  2.3347e-01,\n",
              "          3.6606e-01, -3.0515e-01, -4.9899e-02,  6.2847e-02, -7.1888e-02,\n",
              "         -8.6663e-01, -3.9496e-01, -2.8801e-01, -9.9733e-01,  3.5744e-01,\n",
              "         -9.9999e-01, -2.2265e-02, -6.5476e-02, -1.5024e-01,  5.4108e-01,\n",
              "          1.5102e-01,  2.1157e-01,  5.0843e-02, -1.0127e-01,  6.4208e-01,\n",
              "          6.3852e-01, -9.2085e-02,  3.7370e-01, -1.3449e-01,  3.1875e-01,\n",
              "         -1.0164e-01,  2.9287e-01, -2.6772e-01,  5.1947e-01, -2.1935e-01,\n",
              "          1.0000e+00,  1.2125e-01, -6.0996e-03, -1.8551e-01,  3.2419e-01,\n",
              "         -1.2901e-01,  9.9986e-01,  3.1175e-01, -8.2521e-01,  3.4318e-01,\n",
              "         -3.1696e-01, -5.0394e-01,  1.8962e-01,  9.1108e-02, -5.6313e-01,\n",
              "         -4.5742e-01,  7.3459e-01,  6.2632e-02, -5.7799e-01,  2.5579e-01,\n",
              "         -3.4222e-01, -8.9761e-02,  2.2365e-01,  2.0842e-01,  9.4050e-01,\n",
              "          2.4350e-01, -1.0560e-02, -5.4900e-01, -2.6731e-01,  8.3043e-01,\n",
              "          2.6341e-01, -3.3845e-01,  2.5019e-01,  9.9994e-01,  2.7502e-01,\n",
              "         -7.3238e-01,  1.5231e-01, -6.3084e-01, -2.7840e-01, -6.2543e-01,\n",
              "          2.2583e-01,  2.1151e-01,  6.3693e-01, -2.2343e-01,  7.8523e-01,\n",
              "         -2.5850e-01, -2.6813e-02,  2.2071e-01, -2.3753e-02,  3.3422e-01,\n",
              "         -6.4225e-01, -9.5502e-01, -9.3872e-01,  2.4774e-01, -3.5414e-01,\n",
              "         -5.4661e-02,  3.9370e-01,  2.8564e-01,  2.0806e-01,  3.3075e-01,\n",
              "         -9.9997e-01,  8.0284e-01,  4.0265e-01,  4.3281e-01,  7.6268e-01,\n",
              "          3.4055e-01,  3.2554e-01,  3.3877e-01, -8.9601e-01, -1.8386e-02,\n",
              "         -3.3671e-01, -2.4348e-01,  1.8591e-01,  4.5530e-01,  3.7181e-01,\n",
              "          3.1838e-01, -3.5733e-01, -4.4950e-01, -3.2822e-01, -7.8347e-01,\n",
              "         -9.4709e-01,  4.8292e-01, -1.2217e-01,  1.0549e-01,  8.2728e-01,\n",
              "         -4.7178e-02, -6.3503e-02,  7.0251e-03, -3.6893e-01, -1.2482e-01,\n",
              "          3.6551e-01, -8.4707e-02,  1.3468e-02,  3.8334e-01,  5.4876e-01,\n",
              "          5.2666e-01,  9.4813e-01, -5.4352e-01, -2.9030e-01,  1.2950e-01,\n",
              "          2.9824e-01,  7.9179e-01, -8.4656e-01,  1.6026e-01, -1.4321e-01,\n",
              "         -2.3828e-01,  2.6785e-01, -2.7720e-01, -3.2187e-01,  5.4249e-01,\n",
              "         -3.4826e-01,  2.5232e-01, -3.7478e-01,  1.7942e-02, -2.9711e-01,\n",
              "         -2.3829e-01, -4.0255e-01, -3.3651e-01,  5.9742e-01, -3.3239e-01,\n",
              "          6.2975e-01,  3.1485e-01, -1.6991e-01, -7.1215e-02, -2.5439e-01,\n",
              "         -1.9907e-01, -7.1516e-01, -1.7456e-01,  3.4927e-02, -8.8154e-02,\n",
              "         -3.1075e-01, -7.3502e-02,  8.6220e-01, -6.8945e-02, -2.8013e-01,\n",
              "         -3.4459e-01, -4.2220e-01,  2.3159e-01,  1.5514e-01, -4.3302e-01,\n",
              "         -2.3395e-01,  2.7490e-01,  1.7830e-01,  9.9714e-01, -4.2273e-01,\n",
              "         -3.2345e-01,  4.2755e-02, -2.3670e-01,  2.6584e-01,  1.6441e-04,\n",
              "         -9.9997e-01,  8.9021e-02, -1.1496e-01,  4.1898e-01,  1.9890e-01,\n",
              "          3.2185e-01,  5.4339e-02, -6.0373e-01, -2.5404e-01,  2.1229e-01,\n",
              "          6.0497e-02, -4.5672e-01, -2.3345e-01,  5.4596e-01,  9.9954e-02,\n",
              "          2.8375e-01,  3.1099e-01,  4.9259e-01,  2.2754e-01,  5.6131e-01,\n",
              "         -2.4728e-01, -5.0019e-01,  4.1814e-01]], device='cuda:0',\n",
              "       grad_fn=<TanhBackward0>), hidden_states=None, past_key_values=None, attentions=None, cross_attentions=None)"
            ]
          },
          "metadata": {},
          "execution_count": 59
        }
      ]
    },
    {
      "cell_type": "code",
      "source": [
        "#ids_dataloader, _ = batching_data(dataset=movie_reviews, tokenizer=tokenizer)\n",
        "#for idx, ids in enumerate(ids_dataloader):\n",
        "#    print(idx, ids, len(ids))\n",
        "#    if idx==2:\n",
        "#        break"
      ],
      "metadata": {
        "id": "W1PnRA0lp9aV"
      },
      "execution_count": null,
      "outputs": []
    },
    {
      "cell_type": "code",
      "source": [
        "# embedding taken from last layer of BERT\n",
        "# avoid touching and computing gradients -> torch.no_grad()\n",
        "# https://towardsdatascience.com/what-is-npy-files-and-why-you-should-use-them-603373c78883\n",
        "\n",
        "def fine_tune_BERT( model: BertModel, dataset: pd.DataFrame, tokenizer: BertTokenizer,\n",
        "                   sentence_column: str='text', batch_size: int=BATCH_SIZE, \n",
        "                   device: str=device, rootdir: str=rootdir, filename: str='pol') -> List[torch.Tensor]:\n",
        "    \"\"\"Return Embeddings of dataset\n",
        "\n",
        "        Params:\n",
        "        ------\n",
        "            model: transformers.models.bert.modeling_bert.BertModel\n",
        "                BertModel to get embeddings from\n",
        "            dataset : pd.Dataframe\n",
        "                dataframe containing sentences to embed\n",
        "            tokenizer : transformers.models.bert.tokenization_bert.BertTokenizer\n",
        "                tokenizer model to use\n",
        "            sentence_column : str\n",
        "                column of 'dataset' to get\n",
        "            batch_size : int\n",
        "                batch size\n",
        "            device : str\n",
        "                device to load data on\n",
        "            rootdir : str\n",
        "                root directory where to store embeddings\n",
        "            filename : str\n",
        "                name on which saving embeddings\n",
        "        \n",
        "        Return:\n",
        "        ------\n",
        "            List of embeddings\n",
        "    \"\"\"\n",
        "\n",
        "    embs = []\n",
        "    # getting dataloaders\n",
        "    ids_dataloader, msk_dataloader = batching_data(dataset=dataset, tokenizer=tokenizer, batch_size=batch_size)\n",
        "    # disabling gradients computation --> I'm using a pre-trained net. Don't want to rewrite weights\n",
        "    with torch.no_grad():\n",
        "        # iterating through batches\n",
        "        for idx, (ids,msk) in enumerate(zip(ids_dataloader,msk_dataloader)):\n",
        "\n",
        "            # move data to device \n",
        "            ids = ids.to(device)\n",
        "            msk = msk.to(device)\n",
        "\n",
        "            # 'forward pass'\n",
        "            outputs = model(ids,msk)\n",
        "\n",
        "            # extracting tensor at last layer : https://github.com/esrel/NLU.Lab.2022.Public/blob/master/notebooks/10_sequence_nn.ipynb\n",
        "            last_hidden_state = outputs.last_hidden_state\n",
        "\n",
        "            print(f\"Done batch #{idx}\")\n",
        "            print(last_hidden_state.cpu().numpy().shape)\n",
        "            embs.append(last_hidden_state)\n",
        "        if len(embs)>0:\n",
        "            print('Embs list has been successfully built')\n",
        "        else:\n",
        "            raise ValueError('List has not been filled')\n",
        "\n",
        "    return embs"
      ],
      "metadata": {
        "id": "2qYdI6k4Qir3"
      },
      "execution_count": null,
      "outputs": []
    },
    {
      "cell_type": "code",
      "source": [
        "def save_embs(embs: List[torch.Tensor], filename: str) -> None:\n",
        "    # collecting all embeddings together\n",
        "    # each element of the list is a list of tensors concerning each batch\n",
        "    to_save = []\n",
        "    for b in embs: # getting one tensor at a time -> embs[i]\n",
        "        for gs in b: # getting the t-th sample -> embs[i][t]\n",
        "            for s in gs:\n",
        "                # s is a tensor now\n",
        "                to_save.append(s.cpu().numpy())\n",
        "    \n",
        "    np.save(rootdir+filename, to_save)"
      ],
      "metadata": {
        "id": "tPpBF7fcNhY9"
      },
      "execution_count": null,
      "outputs": []
    },
    {
      "cell_type": "code",
      "source": [
        "embs_per_batch_mr = fine_tune_BERT(model=model, dataset=movie_reviews, tokenizer=tokenizer)"
      ],
      "metadata": {
        "colab": {
          "base_uri": "https://localhost:8080/"
        },
        "id": "W9a_OQRmRQR1",
        "outputId": "8ce92db4-f45b-4eee-f24b-20e95fdb3dbe"
      },
      "execution_count": null,
      "outputs": [
        {
          "output_type": "stream",
          "name": "stdout",
          "text": [
            "Done batch #0\n",
            "(64, 512, 768)\n",
            "Done batch #1\n",
            "(64, 512, 768)\n",
            "Done batch #2\n",
            "(64, 512, 768)\n",
            "Done batch #3\n",
            "(64, 512, 768)\n",
            "Done batch #4\n",
            "(64, 512, 768)\n",
            "Done batch #5\n",
            "(64, 512, 768)\n",
            "Done batch #6\n",
            "(64, 512, 768)\n",
            "Done batch #7\n",
            "(64, 512, 768)\n",
            "Done batch #8\n",
            "(64, 512, 768)\n",
            "Done batch #9\n",
            "(64, 512, 768)\n",
            "Done batch #10\n",
            "(64, 512, 768)\n",
            "Done batch #11\n",
            "(64, 512, 768)\n",
            "Done batch #12\n",
            "(64, 512, 768)\n",
            "Done batch #13\n",
            "(64, 512, 768)\n",
            "Done batch #14\n",
            "(64, 512, 768)\n",
            "Done batch #15\n",
            "(64, 512, 768)\n",
            "Done batch #16\n",
            "(64, 512, 768)\n",
            "Done batch #17\n",
            "(64, 512, 768)\n",
            "Done batch #18\n",
            "(64, 512, 768)\n",
            "Done batch #19\n",
            "(64, 512, 768)\n",
            "Done batch #20\n",
            "(64, 512, 768)\n",
            "Done batch #21\n",
            "(64, 512, 768)\n",
            "Done batch #22\n",
            "(64, 512, 768)\n",
            "Done batch #23\n",
            "(64, 512, 768)\n",
            "Done batch #24\n",
            "(64, 512, 768)\n",
            "Done batch #25\n",
            "(64, 512, 768)\n",
            "Done batch #26\n",
            "(64, 512, 768)\n",
            "Done batch #27\n",
            "(64, 512, 768)\n",
            "Done batch #28\n",
            "(64, 512, 768)\n",
            "Done batch #29\n",
            "(64, 512, 768)\n",
            "Done batch #30\n",
            "(64, 512, 768)\n",
            "Done batch #31\n",
            "(16, 512, 768)\n",
            "Embs list has been successfully built\n"
          ]
        }
      ]
    },
    {
      "cell_type": "code",
      "source": [
        "torch.cuda.empty_cache()\n",
        "gc.collect()"
      ],
      "metadata": {
        "colab": {
          "base_uri": "https://localhost:8080/"
        },
        "id": "g-Xzdt8N1yfU",
        "outputId": "1c07a8f7-8f25-4fea-9d7d-83c1e1e8a6c8"
      },
      "execution_count": null,
      "outputs": [
        {
          "output_type": "execute_result",
          "data": {
            "text/plain": [
              "166"
            ]
          },
          "metadata": {},
          "execution_count": 44
        }
      ]
    },
    {
      "cell_type": "code",
      "source": [
        "#number of batches made by the DataLoader\n",
        "#len(embs_per_batch_mr)"
      ],
      "metadata": {
        "id": "kKZEElNyIUOe",
        "outputId": "a59c2290-381c-4152-b88a-2a5220243d48",
        "colab": {
          "base_uri": "https://localhost:8080/"
        }
      },
      "execution_count": null,
      "outputs": [
        {
          "output_type": "execute_result",
          "data": {
            "text/plain": [
              "32"
            ]
          },
          "metadata": {},
          "execution_count": 28
        }
      ]
    },
    {
      "cell_type": "code",
      "source": [
        "#padded sequence length (maximum in the dataset)\n",
        "#len(embs_per_batch_mr[0])"
      ],
      "metadata": {
        "id": "GrMFAC06IYnM",
        "outputId": "856c578f-0b55-4e4e-dc8f-47c048b1268f",
        "colab": {
          "base_uri": "https://localhost:8080/"
        }
      },
      "execution_count": null,
      "outputs": [
        {
          "output_type": "execute_result",
          "data": {
            "text/plain": [
              "64"
            ]
          },
          "metadata": {},
          "execution_count": 29
        }
      ]
    },
    {
      "cell_type": "code",
      "source": [
        "#number of feature extracted per sentence by the BertModel\n",
        "#len(embs_per_batch_mr[0][0])"
      ],
      "metadata": {
        "id": "05si5BjXIcr9",
        "outputId": "013ff7a6-1450-433f-c813-53c54796ca55",
        "colab": {
          "base_uri": "https://localhost:8080/"
        }
      },
      "execution_count": null,
      "outputs": [
        {
          "output_type": "execute_result",
          "data": {
            "text/plain": [
              "512"
            ]
          },
          "metadata": {},
          "execution_count": 30
        }
      ]
    },
    {
      "cell_type": "code",
      "source": [
        "#len(embs_per_batch_mr[0][0][0])"
      ],
      "metadata": {
        "id": "OLVFVHcVSDMG",
        "outputId": "b648deb9-3ddc-4d58-c4be-13e132e5d78e",
        "colab": {
          "base_uri": "https://localhost:8080/"
        }
      },
      "execution_count": null,
      "outputs": [
        {
          "output_type": "execute_result",
          "data": {
            "text/plain": [
              "768"
            ]
          },
          "metadata": {},
          "execution_count": 31
        }
      ]
    },
    {
      "cell_type": "code",
      "source": [
        "# uncomment if you want to display the embeddings\n",
        "#embs_per_batch_mr[0][0][1]"
      ],
      "metadata": {
        "id": "z23_ExdOxhRf"
      },
      "execution_count": null,
      "outputs": []
    },
    {
      "cell_type": "code",
      "source": [
        "embs_per_batch_subj_obj = fine_tune_BERT(model=model, dataset=subj_obj_dataset, tokenizer=tokenizer)"
      ],
      "metadata": {
        "id": "zmanvhy3jNwI",
        "outputId": "fbc0584b-8d03-4b27-cae7-b5cf7fd2a678",
        "colab": {
          "base_uri": "https://localhost:8080/"
        }
      },
      "execution_count": null,
      "outputs": [
        {
          "output_type": "stream",
          "name": "stdout",
          "text": [
            "Done batch #0\n",
            "(64, 512, 768)\n",
            "Done batch #1\n",
            "(64, 512, 768)\n",
            "Done batch #2\n",
            "(64, 512, 768)\n",
            "Done batch #3\n",
            "(64, 512, 768)\n",
            "Done batch #4\n",
            "(64, 512, 768)\n",
            "Done batch #5\n",
            "(64, 512, 768)\n",
            "Done batch #6\n",
            "(64, 512, 768)\n",
            "Done batch #7\n",
            "(64, 512, 768)\n",
            "Done batch #8\n",
            "(64, 512, 768)\n",
            "Done batch #9\n",
            "(64, 512, 768)\n",
            "Done batch #10\n",
            "(64, 512, 768)\n",
            "Done batch #11\n",
            "(64, 512, 768)\n",
            "Done batch #12\n",
            "(64, 512, 768)\n",
            "Done batch #13\n",
            "(64, 512, 768)\n",
            "Done batch #14\n",
            "(64, 512, 768)\n",
            "Done batch #15\n",
            "(64, 512, 768)\n",
            "Done batch #16\n",
            "(64, 512, 768)\n",
            "Done batch #17\n",
            "(64, 512, 768)\n",
            "Done batch #18\n",
            "(64, 512, 768)\n",
            "Done batch #19\n",
            "(64, 512, 768)\n",
            "Done batch #20\n",
            "(64, 512, 768)\n",
            "Done batch #21\n",
            "(64, 512, 768)\n",
            "Done batch #22\n",
            "(64, 512, 768)\n",
            "Done batch #23\n",
            "(64, 512, 768)\n",
            "Done batch #24\n",
            "(64, 512, 768)\n",
            "Done batch #25\n",
            "(64, 512, 768)\n",
            "Done batch #26\n",
            "(64, 512, 768)\n",
            "Done batch #27\n",
            "(64, 512, 768)\n",
            "Done batch #28\n",
            "(64, 512, 768)\n",
            "Done batch #29\n",
            "(64, 512, 768)\n",
            "Done batch #30\n",
            "(64, 512, 768)\n",
            "Done batch #31\n",
            "(16, 512, 768)\n",
            "Embs list has been successfully built\n"
          ]
        }
      ]
    },
    {
      "cell_type": "code",
      "source": [
        "save_embs(embs=embs_per_batch_mr, filename='pol.npy')"
      ],
      "metadata": {
        "id": "SK-f7LrcFVQh"
      },
      "execution_count": null,
      "outputs": []
    },
    {
      "cell_type": "code",
      "source": [
        "save_embs(embs=embs_per_batch_subj_obj, filename='subj_obj.npy')"
      ],
      "metadata": {
        "id": "LlHUeyek7S5_"
      },
      "execution_count": null,
      "outputs": []
    },
    {
      "cell_type": "code",
      "source": [
        "torch.cuda.empty_cache()\n",
        "gc.collect()"
      ],
      "metadata": {
        "id": "iQWu_AXR756n",
        "outputId": "f5eeeeec-7aca-4f4c-eeff-1194352db877",
        "colab": {
          "base_uri": "https://localhost:8080/"
        }
      },
      "execution_count": null,
      "outputs": [
        {
          "output_type": "execute_result",
          "data": {
            "text/plain": [
              "133"
            ]
          },
          "metadata": {},
          "execution_count": 49
        }
      ]
    },
    {
      "cell_type": "code",
      "source": [
        "#subj_obj = {}\n",
        "\n",
        "# 64*15+40 = 1000\n",
        "#for i in range(1000,11000,1000):\n",
        "    #subj_obj[str(i)] = subj_obj_dataset[i-1000:i]\n",
        "    #embs_per_batch_subj_obj = fine_tune_BERT(model=model, dataset=subj_obj_dataset[i-1000:i], tokenizer=tokenizer)\n",
        "    #save_embs(embs_per_batch_subj_obj, f'subj_obj_{i}.npy')"
      ],
      "metadata": {
        "id": "ozLXZGFdubXG"
      },
      "execution_count": null,
      "outputs": []
    },
    {
      "cell_type": "code",
      "source": [
        "#save_embs(embs=embs_per_batch_subj_obj, filename='subj_obj.npy')"
      ],
      "metadata": {
        "id": "XTgTB31ljeLS"
      },
      "execution_count": null,
      "outputs": []
    },
    {
      "cell_type": "code",
      "source": [
        "#subj_obj_embs = np.load(rootdir+'subj_obj_10000.npy')\n",
        "#for i in range(1000, 11000, 1000):\n",
        "#    subj_obj_embs = np.concatenate((subj_obj_embs, np.load(rootdir+f'subj_obj_{i}.npy')), axis=0)\n",
        "\n",
        "#save_embs(dataset=subj_obj_embs, filename='subj_obj_embs.npy')"
      ],
      "metadata": {
        "id": "wdoXzX1pxvqo"
      },
      "execution_count": null,
      "outputs": []
    },
    {
      "cell_type": "code",
      "source": [],
      "metadata": {
        "id": "K__bk9aA07-C"
      },
      "execution_count": null,
      "outputs": []
    }
  ]
}