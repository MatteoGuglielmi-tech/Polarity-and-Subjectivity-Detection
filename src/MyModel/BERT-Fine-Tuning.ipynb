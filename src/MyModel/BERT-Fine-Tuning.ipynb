{
  "nbformat": 4,
  "nbformat_minor": 0,
  "metadata": {
    "colab": {
      "provenance": [],
      "authorship_tag": "ABX9TyNn/gf7BwRaaNQjAJ5W2/l/",
      "include_colab_link": true
    },
    "kernelspec": {
      "name": "python3",
      "display_name": "Python 3"
    },
    "language_info": {
      "name": "python"
    },
    "gpuClass": "standard",
    "accelerator": "GPU",
    "widgets": {
      "application/vnd.jupyter.widget-state+json": {
        "d8e9bfcdf006469a82c0f5600ad7630c": {
          "model_module": "@jupyter-widgets/controls",
          "model_name": "HBoxModel",
          "model_module_version": "1.5.0",
          "state": {
            "_dom_classes": [],
            "_model_module": "@jupyter-widgets/controls",
            "_model_module_version": "1.5.0",
            "_model_name": "HBoxModel",
            "_view_count": null,
            "_view_module": "@jupyter-widgets/controls",
            "_view_module_version": "1.5.0",
            "_view_name": "HBoxView",
            "box_style": "",
            "children": [
              "IPY_MODEL_603be6b8ee284bcea39bdf22fdfaa7a5",
              "IPY_MODEL_7c3e89de932d4307adaf863f44b3188f",
              "IPY_MODEL_e18d5f6e0bda4c928a3f0405efb67730"
            ],
            "layout": "IPY_MODEL_06ca34c727f34c1ebb3060a169beaac4"
          }
        },
        "603be6b8ee284bcea39bdf22fdfaa7a5": {
          "model_module": "@jupyter-widgets/controls",
          "model_name": "HTMLModel",
          "model_module_version": "1.5.0",
          "state": {
            "_dom_classes": [],
            "_model_module": "@jupyter-widgets/controls",
            "_model_module_version": "1.5.0",
            "_model_name": "HTMLModel",
            "_view_count": null,
            "_view_module": "@jupyter-widgets/controls",
            "_view_module_version": "1.5.0",
            "_view_name": "HTMLView",
            "description": "",
            "description_tooltip": null,
            "layout": "IPY_MODEL_fa337c64f2a94645b35b900944f653cc",
            "placeholder": "​",
            "style": "IPY_MODEL_88674ca2039e41c58a020ea82661704d",
            "value": "Downloading vocab.txt: 100%"
          }
        },
        "7c3e89de932d4307adaf863f44b3188f": {
          "model_module": "@jupyter-widgets/controls",
          "model_name": "FloatProgressModel",
          "model_module_version": "1.5.0",
          "state": {
            "_dom_classes": [],
            "_model_module": "@jupyter-widgets/controls",
            "_model_module_version": "1.5.0",
            "_model_name": "FloatProgressModel",
            "_view_count": null,
            "_view_module": "@jupyter-widgets/controls",
            "_view_module_version": "1.5.0",
            "_view_name": "ProgressView",
            "bar_style": "success",
            "description": "",
            "description_tooltip": null,
            "layout": "IPY_MODEL_265625f6722a4763b5a1ebd44fd3ffd6",
            "max": 231508,
            "min": 0,
            "orientation": "horizontal",
            "style": "IPY_MODEL_4bfd94d3380a413ca3972f9dfb55e896",
            "value": 231508
          }
        },
        "e18d5f6e0bda4c928a3f0405efb67730": {
          "model_module": "@jupyter-widgets/controls",
          "model_name": "HTMLModel",
          "model_module_version": "1.5.0",
          "state": {
            "_dom_classes": [],
            "_model_module": "@jupyter-widgets/controls",
            "_model_module_version": "1.5.0",
            "_model_name": "HTMLModel",
            "_view_count": null,
            "_view_module": "@jupyter-widgets/controls",
            "_view_module_version": "1.5.0",
            "_view_name": "HTMLView",
            "description": "",
            "description_tooltip": null,
            "layout": "IPY_MODEL_d5aa11a69fc94619ab5e2a6f43e8b7fa",
            "placeholder": "​",
            "style": "IPY_MODEL_46344906b7104c9ca95f0f610ed0b460",
            "value": " 226k/226k [00:00&lt;00:00, 528kB/s]"
          }
        },
        "06ca34c727f34c1ebb3060a169beaac4": {
          "model_module": "@jupyter-widgets/base",
          "model_name": "LayoutModel",
          "model_module_version": "1.2.0",
          "state": {
            "_model_module": "@jupyter-widgets/base",
            "_model_module_version": "1.2.0",
            "_model_name": "LayoutModel",
            "_view_count": null,
            "_view_module": "@jupyter-widgets/base",
            "_view_module_version": "1.2.0",
            "_view_name": "LayoutView",
            "align_content": null,
            "align_items": null,
            "align_self": null,
            "border": null,
            "bottom": null,
            "display": null,
            "flex": null,
            "flex_flow": null,
            "grid_area": null,
            "grid_auto_columns": null,
            "grid_auto_flow": null,
            "grid_auto_rows": null,
            "grid_column": null,
            "grid_gap": null,
            "grid_row": null,
            "grid_template_areas": null,
            "grid_template_columns": null,
            "grid_template_rows": null,
            "height": null,
            "justify_content": null,
            "justify_items": null,
            "left": null,
            "margin": null,
            "max_height": null,
            "max_width": null,
            "min_height": null,
            "min_width": null,
            "object_fit": null,
            "object_position": null,
            "order": null,
            "overflow": null,
            "overflow_x": null,
            "overflow_y": null,
            "padding": null,
            "right": null,
            "top": null,
            "visibility": null,
            "width": null
          }
        },
        "fa337c64f2a94645b35b900944f653cc": {
          "model_module": "@jupyter-widgets/base",
          "model_name": "LayoutModel",
          "model_module_version": "1.2.0",
          "state": {
            "_model_module": "@jupyter-widgets/base",
            "_model_module_version": "1.2.0",
            "_model_name": "LayoutModel",
            "_view_count": null,
            "_view_module": "@jupyter-widgets/base",
            "_view_module_version": "1.2.0",
            "_view_name": "LayoutView",
            "align_content": null,
            "align_items": null,
            "align_self": null,
            "border": null,
            "bottom": null,
            "display": null,
            "flex": null,
            "flex_flow": null,
            "grid_area": null,
            "grid_auto_columns": null,
            "grid_auto_flow": null,
            "grid_auto_rows": null,
            "grid_column": null,
            "grid_gap": null,
            "grid_row": null,
            "grid_template_areas": null,
            "grid_template_columns": null,
            "grid_template_rows": null,
            "height": null,
            "justify_content": null,
            "justify_items": null,
            "left": null,
            "margin": null,
            "max_height": null,
            "max_width": null,
            "min_height": null,
            "min_width": null,
            "object_fit": null,
            "object_position": null,
            "order": null,
            "overflow": null,
            "overflow_x": null,
            "overflow_y": null,
            "padding": null,
            "right": null,
            "top": null,
            "visibility": null,
            "width": null
          }
        },
        "88674ca2039e41c58a020ea82661704d": {
          "model_module": "@jupyter-widgets/controls",
          "model_name": "DescriptionStyleModel",
          "model_module_version": "1.5.0",
          "state": {
            "_model_module": "@jupyter-widgets/controls",
            "_model_module_version": "1.5.0",
            "_model_name": "DescriptionStyleModel",
            "_view_count": null,
            "_view_module": "@jupyter-widgets/base",
            "_view_module_version": "1.2.0",
            "_view_name": "StyleView",
            "description_width": ""
          }
        },
        "265625f6722a4763b5a1ebd44fd3ffd6": {
          "model_module": "@jupyter-widgets/base",
          "model_name": "LayoutModel",
          "model_module_version": "1.2.0",
          "state": {
            "_model_module": "@jupyter-widgets/base",
            "_model_module_version": "1.2.0",
            "_model_name": "LayoutModel",
            "_view_count": null,
            "_view_module": "@jupyter-widgets/base",
            "_view_module_version": "1.2.0",
            "_view_name": "LayoutView",
            "align_content": null,
            "align_items": null,
            "align_self": null,
            "border": null,
            "bottom": null,
            "display": null,
            "flex": null,
            "flex_flow": null,
            "grid_area": null,
            "grid_auto_columns": null,
            "grid_auto_flow": null,
            "grid_auto_rows": null,
            "grid_column": null,
            "grid_gap": null,
            "grid_row": null,
            "grid_template_areas": null,
            "grid_template_columns": null,
            "grid_template_rows": null,
            "height": null,
            "justify_content": null,
            "justify_items": null,
            "left": null,
            "margin": null,
            "max_height": null,
            "max_width": null,
            "min_height": null,
            "min_width": null,
            "object_fit": null,
            "object_position": null,
            "order": null,
            "overflow": null,
            "overflow_x": null,
            "overflow_y": null,
            "padding": null,
            "right": null,
            "top": null,
            "visibility": null,
            "width": null
          }
        },
        "4bfd94d3380a413ca3972f9dfb55e896": {
          "model_module": "@jupyter-widgets/controls",
          "model_name": "ProgressStyleModel",
          "model_module_version": "1.5.0",
          "state": {
            "_model_module": "@jupyter-widgets/controls",
            "_model_module_version": "1.5.0",
            "_model_name": "ProgressStyleModel",
            "_view_count": null,
            "_view_module": "@jupyter-widgets/base",
            "_view_module_version": "1.2.0",
            "_view_name": "StyleView",
            "bar_color": null,
            "description_width": ""
          }
        },
        "d5aa11a69fc94619ab5e2a6f43e8b7fa": {
          "model_module": "@jupyter-widgets/base",
          "model_name": "LayoutModel",
          "model_module_version": "1.2.0",
          "state": {
            "_model_module": "@jupyter-widgets/base",
            "_model_module_version": "1.2.0",
            "_model_name": "LayoutModel",
            "_view_count": null,
            "_view_module": "@jupyter-widgets/base",
            "_view_module_version": "1.2.0",
            "_view_name": "LayoutView",
            "align_content": null,
            "align_items": null,
            "align_self": null,
            "border": null,
            "bottom": null,
            "display": null,
            "flex": null,
            "flex_flow": null,
            "grid_area": null,
            "grid_auto_columns": null,
            "grid_auto_flow": null,
            "grid_auto_rows": null,
            "grid_column": null,
            "grid_gap": null,
            "grid_row": null,
            "grid_template_areas": null,
            "grid_template_columns": null,
            "grid_template_rows": null,
            "height": null,
            "justify_content": null,
            "justify_items": null,
            "left": null,
            "margin": null,
            "max_height": null,
            "max_width": null,
            "min_height": null,
            "min_width": null,
            "object_fit": null,
            "object_position": null,
            "order": null,
            "overflow": null,
            "overflow_x": null,
            "overflow_y": null,
            "padding": null,
            "right": null,
            "top": null,
            "visibility": null,
            "width": null
          }
        },
        "46344906b7104c9ca95f0f610ed0b460": {
          "model_module": "@jupyter-widgets/controls",
          "model_name": "DescriptionStyleModel",
          "model_module_version": "1.5.0",
          "state": {
            "_model_module": "@jupyter-widgets/controls",
            "_model_module_version": "1.5.0",
            "_model_name": "DescriptionStyleModel",
            "_view_count": null,
            "_view_module": "@jupyter-widgets/base",
            "_view_module_version": "1.2.0",
            "_view_name": "StyleView",
            "description_width": ""
          }
        },
        "65fe6acf0941450aac434fc04e6eea8f": {
          "model_module": "@jupyter-widgets/controls",
          "model_name": "HBoxModel",
          "model_module_version": "1.5.0",
          "state": {
            "_dom_classes": [],
            "_model_module": "@jupyter-widgets/controls",
            "_model_module_version": "1.5.0",
            "_model_name": "HBoxModel",
            "_view_count": null,
            "_view_module": "@jupyter-widgets/controls",
            "_view_module_version": "1.5.0",
            "_view_name": "HBoxView",
            "box_style": "",
            "children": [
              "IPY_MODEL_f305ecf29ffc4e32bfe1c3cd89a60372",
              "IPY_MODEL_f75dd64cdb134fcd9f549d8ba163f3d0",
              "IPY_MODEL_56b8db538d4443d0960fd9e834bc85c9"
            ],
            "layout": "IPY_MODEL_0146c6f411be447a863b7db04529ebf7"
          }
        },
        "f305ecf29ffc4e32bfe1c3cd89a60372": {
          "model_module": "@jupyter-widgets/controls",
          "model_name": "HTMLModel",
          "model_module_version": "1.5.0",
          "state": {
            "_dom_classes": [],
            "_model_module": "@jupyter-widgets/controls",
            "_model_module_version": "1.5.0",
            "_model_name": "HTMLModel",
            "_view_count": null,
            "_view_module": "@jupyter-widgets/controls",
            "_view_module_version": "1.5.0",
            "_view_name": "HTMLView",
            "description": "",
            "description_tooltip": null,
            "layout": "IPY_MODEL_0b5b56a2ebcf40f9b22cfbf6468f6b58",
            "placeholder": "​",
            "style": "IPY_MODEL_49710e35714f47968d8cc1595073af47",
            "value": "Downloading tokenizer_config.json: 100%"
          }
        },
        "f75dd64cdb134fcd9f549d8ba163f3d0": {
          "model_module": "@jupyter-widgets/controls",
          "model_name": "FloatProgressModel",
          "model_module_version": "1.5.0",
          "state": {
            "_dom_classes": [],
            "_model_module": "@jupyter-widgets/controls",
            "_model_module_version": "1.5.0",
            "_model_name": "FloatProgressModel",
            "_view_count": null,
            "_view_module": "@jupyter-widgets/controls",
            "_view_module_version": "1.5.0",
            "_view_name": "ProgressView",
            "bar_style": "success",
            "description": "",
            "description_tooltip": null,
            "layout": "IPY_MODEL_5e5b61b3072d45e2885f6308b41d9bc9",
            "max": 28,
            "min": 0,
            "orientation": "horizontal",
            "style": "IPY_MODEL_e75e40fb81f54e8e8eb9f2fd14bf1542",
            "value": 28
          }
        },
        "56b8db538d4443d0960fd9e834bc85c9": {
          "model_module": "@jupyter-widgets/controls",
          "model_name": "HTMLModel",
          "model_module_version": "1.5.0",
          "state": {
            "_dom_classes": [],
            "_model_module": "@jupyter-widgets/controls",
            "_model_module_version": "1.5.0",
            "_model_name": "HTMLModel",
            "_view_count": null,
            "_view_module": "@jupyter-widgets/controls",
            "_view_module_version": "1.5.0",
            "_view_name": "HTMLView",
            "description": "",
            "description_tooltip": null,
            "layout": "IPY_MODEL_4d42e1e8fc1f4c30aa963c4f7992f9b6",
            "placeholder": "​",
            "style": "IPY_MODEL_127a8d9be30e4f4e8d805583c66f541d",
            "value": " 28.0/28.0 [00:00&lt;00:00, 204B/s]"
          }
        },
        "0146c6f411be447a863b7db04529ebf7": {
          "model_module": "@jupyter-widgets/base",
          "model_name": "LayoutModel",
          "model_module_version": "1.2.0",
          "state": {
            "_model_module": "@jupyter-widgets/base",
            "_model_module_version": "1.2.0",
            "_model_name": "LayoutModel",
            "_view_count": null,
            "_view_module": "@jupyter-widgets/base",
            "_view_module_version": "1.2.0",
            "_view_name": "LayoutView",
            "align_content": null,
            "align_items": null,
            "align_self": null,
            "border": null,
            "bottom": null,
            "display": null,
            "flex": null,
            "flex_flow": null,
            "grid_area": null,
            "grid_auto_columns": null,
            "grid_auto_flow": null,
            "grid_auto_rows": null,
            "grid_column": null,
            "grid_gap": null,
            "grid_row": null,
            "grid_template_areas": null,
            "grid_template_columns": null,
            "grid_template_rows": null,
            "height": null,
            "justify_content": null,
            "justify_items": null,
            "left": null,
            "margin": null,
            "max_height": null,
            "max_width": null,
            "min_height": null,
            "min_width": null,
            "object_fit": null,
            "object_position": null,
            "order": null,
            "overflow": null,
            "overflow_x": null,
            "overflow_y": null,
            "padding": null,
            "right": null,
            "top": null,
            "visibility": null,
            "width": null
          }
        },
        "0b5b56a2ebcf40f9b22cfbf6468f6b58": {
          "model_module": "@jupyter-widgets/base",
          "model_name": "LayoutModel",
          "model_module_version": "1.2.0",
          "state": {
            "_model_module": "@jupyter-widgets/base",
            "_model_module_version": "1.2.0",
            "_model_name": "LayoutModel",
            "_view_count": null,
            "_view_module": "@jupyter-widgets/base",
            "_view_module_version": "1.2.0",
            "_view_name": "LayoutView",
            "align_content": null,
            "align_items": null,
            "align_self": null,
            "border": null,
            "bottom": null,
            "display": null,
            "flex": null,
            "flex_flow": null,
            "grid_area": null,
            "grid_auto_columns": null,
            "grid_auto_flow": null,
            "grid_auto_rows": null,
            "grid_column": null,
            "grid_gap": null,
            "grid_row": null,
            "grid_template_areas": null,
            "grid_template_columns": null,
            "grid_template_rows": null,
            "height": null,
            "justify_content": null,
            "justify_items": null,
            "left": null,
            "margin": null,
            "max_height": null,
            "max_width": null,
            "min_height": null,
            "min_width": null,
            "object_fit": null,
            "object_position": null,
            "order": null,
            "overflow": null,
            "overflow_x": null,
            "overflow_y": null,
            "padding": null,
            "right": null,
            "top": null,
            "visibility": null,
            "width": null
          }
        },
        "49710e35714f47968d8cc1595073af47": {
          "model_module": "@jupyter-widgets/controls",
          "model_name": "DescriptionStyleModel",
          "model_module_version": "1.5.0",
          "state": {
            "_model_module": "@jupyter-widgets/controls",
            "_model_module_version": "1.5.0",
            "_model_name": "DescriptionStyleModel",
            "_view_count": null,
            "_view_module": "@jupyter-widgets/base",
            "_view_module_version": "1.2.0",
            "_view_name": "StyleView",
            "description_width": ""
          }
        },
        "5e5b61b3072d45e2885f6308b41d9bc9": {
          "model_module": "@jupyter-widgets/base",
          "model_name": "LayoutModel",
          "model_module_version": "1.2.0",
          "state": {
            "_model_module": "@jupyter-widgets/base",
            "_model_module_version": "1.2.0",
            "_model_name": "LayoutModel",
            "_view_count": null,
            "_view_module": "@jupyter-widgets/base",
            "_view_module_version": "1.2.0",
            "_view_name": "LayoutView",
            "align_content": null,
            "align_items": null,
            "align_self": null,
            "border": null,
            "bottom": null,
            "display": null,
            "flex": null,
            "flex_flow": null,
            "grid_area": null,
            "grid_auto_columns": null,
            "grid_auto_flow": null,
            "grid_auto_rows": null,
            "grid_column": null,
            "grid_gap": null,
            "grid_row": null,
            "grid_template_areas": null,
            "grid_template_columns": null,
            "grid_template_rows": null,
            "height": null,
            "justify_content": null,
            "justify_items": null,
            "left": null,
            "margin": null,
            "max_height": null,
            "max_width": null,
            "min_height": null,
            "min_width": null,
            "object_fit": null,
            "object_position": null,
            "order": null,
            "overflow": null,
            "overflow_x": null,
            "overflow_y": null,
            "padding": null,
            "right": null,
            "top": null,
            "visibility": null,
            "width": null
          }
        },
        "e75e40fb81f54e8e8eb9f2fd14bf1542": {
          "model_module": "@jupyter-widgets/controls",
          "model_name": "ProgressStyleModel",
          "model_module_version": "1.5.0",
          "state": {
            "_model_module": "@jupyter-widgets/controls",
            "_model_module_version": "1.5.0",
            "_model_name": "ProgressStyleModel",
            "_view_count": null,
            "_view_module": "@jupyter-widgets/base",
            "_view_module_version": "1.2.0",
            "_view_name": "StyleView",
            "bar_color": null,
            "description_width": ""
          }
        },
        "4d42e1e8fc1f4c30aa963c4f7992f9b6": {
          "model_module": "@jupyter-widgets/base",
          "model_name": "LayoutModel",
          "model_module_version": "1.2.0",
          "state": {
            "_model_module": "@jupyter-widgets/base",
            "_model_module_version": "1.2.0",
            "_model_name": "LayoutModel",
            "_view_count": null,
            "_view_module": "@jupyter-widgets/base",
            "_view_module_version": "1.2.0",
            "_view_name": "LayoutView",
            "align_content": null,
            "align_items": null,
            "align_self": null,
            "border": null,
            "bottom": null,
            "display": null,
            "flex": null,
            "flex_flow": null,
            "grid_area": null,
            "grid_auto_columns": null,
            "grid_auto_flow": null,
            "grid_auto_rows": null,
            "grid_column": null,
            "grid_gap": null,
            "grid_row": null,
            "grid_template_areas": null,
            "grid_template_columns": null,
            "grid_template_rows": null,
            "height": null,
            "justify_content": null,
            "justify_items": null,
            "left": null,
            "margin": null,
            "max_height": null,
            "max_width": null,
            "min_height": null,
            "min_width": null,
            "object_fit": null,
            "object_position": null,
            "order": null,
            "overflow": null,
            "overflow_x": null,
            "overflow_y": null,
            "padding": null,
            "right": null,
            "top": null,
            "visibility": null,
            "width": null
          }
        },
        "127a8d9be30e4f4e8d805583c66f541d": {
          "model_module": "@jupyter-widgets/controls",
          "model_name": "DescriptionStyleModel",
          "model_module_version": "1.5.0",
          "state": {
            "_model_module": "@jupyter-widgets/controls",
            "_model_module_version": "1.5.0",
            "_model_name": "DescriptionStyleModel",
            "_view_count": null,
            "_view_module": "@jupyter-widgets/base",
            "_view_module_version": "1.2.0",
            "_view_name": "StyleView",
            "description_width": ""
          }
        },
        "538cdcc1cb6e47fcb077144443897dc9": {
          "model_module": "@jupyter-widgets/controls",
          "model_name": "HBoxModel",
          "model_module_version": "1.5.0",
          "state": {
            "_dom_classes": [],
            "_model_module": "@jupyter-widgets/controls",
            "_model_module_version": "1.5.0",
            "_model_name": "HBoxModel",
            "_view_count": null,
            "_view_module": "@jupyter-widgets/controls",
            "_view_module_version": "1.5.0",
            "_view_name": "HBoxView",
            "box_style": "",
            "children": [
              "IPY_MODEL_8a8459731a9747de974c54ea7932413c",
              "IPY_MODEL_fa69e366d4c24852baa97e5478665d35",
              "IPY_MODEL_1811bd1c240441f9a498628a524cb733"
            ],
            "layout": "IPY_MODEL_1f4cafac8e1a42c19d2266283099e464"
          }
        },
        "8a8459731a9747de974c54ea7932413c": {
          "model_module": "@jupyter-widgets/controls",
          "model_name": "HTMLModel",
          "model_module_version": "1.5.0",
          "state": {
            "_dom_classes": [],
            "_model_module": "@jupyter-widgets/controls",
            "_model_module_version": "1.5.0",
            "_model_name": "HTMLModel",
            "_view_count": null,
            "_view_module": "@jupyter-widgets/controls",
            "_view_module_version": "1.5.0",
            "_view_name": "HTMLView",
            "description": "",
            "description_tooltip": null,
            "layout": "IPY_MODEL_ff094c48db5f476081568c27b0303e65",
            "placeholder": "​",
            "style": "IPY_MODEL_a3fa5796acc34b2586da0bd5e895848e",
            "value": "Downloading config.json: 100%"
          }
        },
        "fa69e366d4c24852baa97e5478665d35": {
          "model_module": "@jupyter-widgets/controls",
          "model_name": "FloatProgressModel",
          "model_module_version": "1.5.0",
          "state": {
            "_dom_classes": [],
            "_model_module": "@jupyter-widgets/controls",
            "_model_module_version": "1.5.0",
            "_model_name": "FloatProgressModel",
            "_view_count": null,
            "_view_module": "@jupyter-widgets/controls",
            "_view_module_version": "1.5.0",
            "_view_name": "ProgressView",
            "bar_style": "success",
            "description": "",
            "description_tooltip": null,
            "layout": "IPY_MODEL_d478fe42b3eb4e5eb6e8f137fff6546c",
            "max": 570,
            "min": 0,
            "orientation": "horizontal",
            "style": "IPY_MODEL_4435bbd0aee6469d8b0db11d276e4400",
            "value": 570
          }
        },
        "1811bd1c240441f9a498628a524cb733": {
          "model_module": "@jupyter-widgets/controls",
          "model_name": "HTMLModel",
          "model_module_version": "1.5.0",
          "state": {
            "_dom_classes": [],
            "_model_module": "@jupyter-widgets/controls",
            "_model_module_version": "1.5.0",
            "_model_name": "HTMLModel",
            "_view_count": null,
            "_view_module": "@jupyter-widgets/controls",
            "_view_module_version": "1.5.0",
            "_view_name": "HTMLView",
            "description": "",
            "description_tooltip": null,
            "layout": "IPY_MODEL_c5cbfbe6e2c2443fa2a7d36e17b3994b",
            "placeholder": "​",
            "style": "IPY_MODEL_0fd02f274a3c49178c8113a8706ec687",
            "value": " 570/570 [00:00&lt;00:00, 4.49kB/s]"
          }
        },
        "1f4cafac8e1a42c19d2266283099e464": {
          "model_module": "@jupyter-widgets/base",
          "model_name": "LayoutModel",
          "model_module_version": "1.2.0",
          "state": {
            "_model_module": "@jupyter-widgets/base",
            "_model_module_version": "1.2.0",
            "_model_name": "LayoutModel",
            "_view_count": null,
            "_view_module": "@jupyter-widgets/base",
            "_view_module_version": "1.2.0",
            "_view_name": "LayoutView",
            "align_content": null,
            "align_items": null,
            "align_self": null,
            "border": null,
            "bottom": null,
            "display": null,
            "flex": null,
            "flex_flow": null,
            "grid_area": null,
            "grid_auto_columns": null,
            "grid_auto_flow": null,
            "grid_auto_rows": null,
            "grid_column": null,
            "grid_gap": null,
            "grid_row": null,
            "grid_template_areas": null,
            "grid_template_columns": null,
            "grid_template_rows": null,
            "height": null,
            "justify_content": null,
            "justify_items": null,
            "left": null,
            "margin": null,
            "max_height": null,
            "max_width": null,
            "min_height": null,
            "min_width": null,
            "object_fit": null,
            "object_position": null,
            "order": null,
            "overflow": null,
            "overflow_x": null,
            "overflow_y": null,
            "padding": null,
            "right": null,
            "top": null,
            "visibility": null,
            "width": null
          }
        },
        "ff094c48db5f476081568c27b0303e65": {
          "model_module": "@jupyter-widgets/base",
          "model_name": "LayoutModel",
          "model_module_version": "1.2.0",
          "state": {
            "_model_module": "@jupyter-widgets/base",
            "_model_module_version": "1.2.0",
            "_model_name": "LayoutModel",
            "_view_count": null,
            "_view_module": "@jupyter-widgets/base",
            "_view_module_version": "1.2.0",
            "_view_name": "LayoutView",
            "align_content": null,
            "align_items": null,
            "align_self": null,
            "border": null,
            "bottom": null,
            "display": null,
            "flex": null,
            "flex_flow": null,
            "grid_area": null,
            "grid_auto_columns": null,
            "grid_auto_flow": null,
            "grid_auto_rows": null,
            "grid_column": null,
            "grid_gap": null,
            "grid_row": null,
            "grid_template_areas": null,
            "grid_template_columns": null,
            "grid_template_rows": null,
            "height": null,
            "justify_content": null,
            "justify_items": null,
            "left": null,
            "margin": null,
            "max_height": null,
            "max_width": null,
            "min_height": null,
            "min_width": null,
            "object_fit": null,
            "object_position": null,
            "order": null,
            "overflow": null,
            "overflow_x": null,
            "overflow_y": null,
            "padding": null,
            "right": null,
            "top": null,
            "visibility": null,
            "width": null
          }
        },
        "a3fa5796acc34b2586da0bd5e895848e": {
          "model_module": "@jupyter-widgets/controls",
          "model_name": "DescriptionStyleModel",
          "model_module_version": "1.5.0",
          "state": {
            "_model_module": "@jupyter-widgets/controls",
            "_model_module_version": "1.5.0",
            "_model_name": "DescriptionStyleModel",
            "_view_count": null,
            "_view_module": "@jupyter-widgets/base",
            "_view_module_version": "1.2.0",
            "_view_name": "StyleView",
            "description_width": ""
          }
        },
        "d478fe42b3eb4e5eb6e8f137fff6546c": {
          "model_module": "@jupyter-widgets/base",
          "model_name": "LayoutModel",
          "model_module_version": "1.2.0",
          "state": {
            "_model_module": "@jupyter-widgets/base",
            "_model_module_version": "1.2.0",
            "_model_name": "LayoutModel",
            "_view_count": null,
            "_view_module": "@jupyter-widgets/base",
            "_view_module_version": "1.2.0",
            "_view_name": "LayoutView",
            "align_content": null,
            "align_items": null,
            "align_self": null,
            "border": null,
            "bottom": null,
            "display": null,
            "flex": null,
            "flex_flow": null,
            "grid_area": null,
            "grid_auto_columns": null,
            "grid_auto_flow": null,
            "grid_auto_rows": null,
            "grid_column": null,
            "grid_gap": null,
            "grid_row": null,
            "grid_template_areas": null,
            "grid_template_columns": null,
            "grid_template_rows": null,
            "height": null,
            "justify_content": null,
            "justify_items": null,
            "left": null,
            "margin": null,
            "max_height": null,
            "max_width": null,
            "min_height": null,
            "min_width": null,
            "object_fit": null,
            "object_position": null,
            "order": null,
            "overflow": null,
            "overflow_x": null,
            "overflow_y": null,
            "padding": null,
            "right": null,
            "top": null,
            "visibility": null,
            "width": null
          }
        },
        "4435bbd0aee6469d8b0db11d276e4400": {
          "model_module": "@jupyter-widgets/controls",
          "model_name": "ProgressStyleModel",
          "model_module_version": "1.5.0",
          "state": {
            "_model_module": "@jupyter-widgets/controls",
            "_model_module_version": "1.5.0",
            "_model_name": "ProgressStyleModel",
            "_view_count": null,
            "_view_module": "@jupyter-widgets/base",
            "_view_module_version": "1.2.0",
            "_view_name": "StyleView",
            "bar_color": null,
            "description_width": ""
          }
        },
        "c5cbfbe6e2c2443fa2a7d36e17b3994b": {
          "model_module": "@jupyter-widgets/base",
          "model_name": "LayoutModel",
          "model_module_version": "1.2.0",
          "state": {
            "_model_module": "@jupyter-widgets/base",
            "_model_module_version": "1.2.0",
            "_model_name": "LayoutModel",
            "_view_count": null,
            "_view_module": "@jupyter-widgets/base",
            "_view_module_version": "1.2.0",
            "_view_name": "LayoutView",
            "align_content": null,
            "align_items": null,
            "align_self": null,
            "border": null,
            "bottom": null,
            "display": null,
            "flex": null,
            "flex_flow": null,
            "grid_area": null,
            "grid_auto_columns": null,
            "grid_auto_flow": null,
            "grid_auto_rows": null,
            "grid_column": null,
            "grid_gap": null,
            "grid_row": null,
            "grid_template_areas": null,
            "grid_template_columns": null,
            "grid_template_rows": null,
            "height": null,
            "justify_content": null,
            "justify_items": null,
            "left": null,
            "margin": null,
            "max_height": null,
            "max_width": null,
            "min_height": null,
            "min_width": null,
            "object_fit": null,
            "object_position": null,
            "order": null,
            "overflow": null,
            "overflow_x": null,
            "overflow_y": null,
            "padding": null,
            "right": null,
            "top": null,
            "visibility": null,
            "width": null
          }
        },
        "0fd02f274a3c49178c8113a8706ec687": {
          "model_module": "@jupyter-widgets/controls",
          "model_name": "DescriptionStyleModel",
          "model_module_version": "1.5.0",
          "state": {
            "_model_module": "@jupyter-widgets/controls",
            "_model_module_version": "1.5.0",
            "_model_name": "DescriptionStyleModel",
            "_view_count": null,
            "_view_module": "@jupyter-widgets/base",
            "_view_module_version": "1.2.0",
            "_view_name": "StyleView",
            "description_width": ""
          }
        },
        "766c871c6d3b4a6ebfca32239c754089": {
          "model_module": "@jupyter-widgets/controls",
          "model_name": "HBoxModel",
          "model_module_version": "1.5.0",
          "state": {
            "_dom_classes": [],
            "_model_module": "@jupyter-widgets/controls",
            "_model_module_version": "1.5.0",
            "_model_name": "HBoxModel",
            "_view_count": null,
            "_view_module": "@jupyter-widgets/controls",
            "_view_module_version": "1.5.0",
            "_view_name": "HBoxView",
            "box_style": "",
            "children": [
              "IPY_MODEL_d7b134515a0444e5887f60bc7ce2bfd5",
              "IPY_MODEL_ed977edcaa9b466d807e8f26ef640ca8",
              "IPY_MODEL_71b0238fc73840d0a0401a7fbbb59a19"
            ],
            "layout": "IPY_MODEL_a397d4fede9044248bc48d1ff5105779"
          }
        },
        "d7b134515a0444e5887f60bc7ce2bfd5": {
          "model_module": "@jupyter-widgets/controls",
          "model_name": "HTMLModel",
          "model_module_version": "1.5.0",
          "state": {
            "_dom_classes": [],
            "_model_module": "@jupyter-widgets/controls",
            "_model_module_version": "1.5.0",
            "_model_name": "HTMLModel",
            "_view_count": null,
            "_view_module": "@jupyter-widgets/controls",
            "_view_module_version": "1.5.0",
            "_view_name": "HTMLView",
            "description": "",
            "description_tooltip": null,
            "layout": "IPY_MODEL_3e41ba82d2ff4e0982be1f4b8f40ad91",
            "placeholder": "​",
            "style": "IPY_MODEL_291072d1e57c46bcaebb35f41cbb6750",
            "value": "Downloading pytorch_model.bin: 100%"
          }
        },
        "ed977edcaa9b466d807e8f26ef640ca8": {
          "model_module": "@jupyter-widgets/controls",
          "model_name": "FloatProgressModel",
          "model_module_version": "1.5.0",
          "state": {
            "_dom_classes": [],
            "_model_module": "@jupyter-widgets/controls",
            "_model_module_version": "1.5.0",
            "_model_name": "FloatProgressModel",
            "_view_count": null,
            "_view_module": "@jupyter-widgets/controls",
            "_view_module_version": "1.5.0",
            "_view_name": "ProgressView",
            "bar_style": "success",
            "description": "",
            "description_tooltip": null,
            "layout": "IPY_MODEL_e05c044dd6094693a0e63dcd0ab0fb9a",
            "max": 440473133,
            "min": 0,
            "orientation": "horizontal",
            "style": "IPY_MODEL_d15978405929446398a5beec341b223c",
            "value": 440473133
          }
        },
        "71b0238fc73840d0a0401a7fbbb59a19": {
          "model_module": "@jupyter-widgets/controls",
          "model_name": "HTMLModel",
          "model_module_version": "1.5.0",
          "state": {
            "_dom_classes": [],
            "_model_module": "@jupyter-widgets/controls",
            "_model_module_version": "1.5.0",
            "_model_name": "HTMLModel",
            "_view_count": null,
            "_view_module": "@jupyter-widgets/controls",
            "_view_module_version": "1.5.0",
            "_view_name": "HTMLView",
            "description": "",
            "description_tooltip": null,
            "layout": "IPY_MODEL_53c5848826174a02b372c5c673cb8b0b",
            "placeholder": "​",
            "style": "IPY_MODEL_0d7d275394e54b6398feae4785c15a71",
            "value": " 420M/420M [00:10&lt;00:00, 52.3MB/s]"
          }
        },
        "a397d4fede9044248bc48d1ff5105779": {
          "model_module": "@jupyter-widgets/base",
          "model_name": "LayoutModel",
          "model_module_version": "1.2.0",
          "state": {
            "_model_module": "@jupyter-widgets/base",
            "_model_module_version": "1.2.0",
            "_model_name": "LayoutModel",
            "_view_count": null,
            "_view_module": "@jupyter-widgets/base",
            "_view_module_version": "1.2.0",
            "_view_name": "LayoutView",
            "align_content": null,
            "align_items": null,
            "align_self": null,
            "border": null,
            "bottom": null,
            "display": null,
            "flex": null,
            "flex_flow": null,
            "grid_area": null,
            "grid_auto_columns": null,
            "grid_auto_flow": null,
            "grid_auto_rows": null,
            "grid_column": null,
            "grid_gap": null,
            "grid_row": null,
            "grid_template_areas": null,
            "grid_template_columns": null,
            "grid_template_rows": null,
            "height": null,
            "justify_content": null,
            "justify_items": null,
            "left": null,
            "margin": null,
            "max_height": null,
            "max_width": null,
            "min_height": null,
            "min_width": null,
            "object_fit": null,
            "object_position": null,
            "order": null,
            "overflow": null,
            "overflow_x": null,
            "overflow_y": null,
            "padding": null,
            "right": null,
            "top": null,
            "visibility": null,
            "width": null
          }
        },
        "3e41ba82d2ff4e0982be1f4b8f40ad91": {
          "model_module": "@jupyter-widgets/base",
          "model_name": "LayoutModel",
          "model_module_version": "1.2.0",
          "state": {
            "_model_module": "@jupyter-widgets/base",
            "_model_module_version": "1.2.0",
            "_model_name": "LayoutModel",
            "_view_count": null,
            "_view_module": "@jupyter-widgets/base",
            "_view_module_version": "1.2.0",
            "_view_name": "LayoutView",
            "align_content": null,
            "align_items": null,
            "align_self": null,
            "border": null,
            "bottom": null,
            "display": null,
            "flex": null,
            "flex_flow": null,
            "grid_area": null,
            "grid_auto_columns": null,
            "grid_auto_flow": null,
            "grid_auto_rows": null,
            "grid_column": null,
            "grid_gap": null,
            "grid_row": null,
            "grid_template_areas": null,
            "grid_template_columns": null,
            "grid_template_rows": null,
            "height": null,
            "justify_content": null,
            "justify_items": null,
            "left": null,
            "margin": null,
            "max_height": null,
            "max_width": null,
            "min_height": null,
            "min_width": null,
            "object_fit": null,
            "object_position": null,
            "order": null,
            "overflow": null,
            "overflow_x": null,
            "overflow_y": null,
            "padding": null,
            "right": null,
            "top": null,
            "visibility": null,
            "width": null
          }
        },
        "291072d1e57c46bcaebb35f41cbb6750": {
          "model_module": "@jupyter-widgets/controls",
          "model_name": "DescriptionStyleModel",
          "model_module_version": "1.5.0",
          "state": {
            "_model_module": "@jupyter-widgets/controls",
            "_model_module_version": "1.5.0",
            "_model_name": "DescriptionStyleModel",
            "_view_count": null,
            "_view_module": "@jupyter-widgets/base",
            "_view_module_version": "1.2.0",
            "_view_name": "StyleView",
            "description_width": ""
          }
        },
        "e05c044dd6094693a0e63dcd0ab0fb9a": {
          "model_module": "@jupyter-widgets/base",
          "model_name": "LayoutModel",
          "model_module_version": "1.2.0",
          "state": {
            "_model_module": "@jupyter-widgets/base",
            "_model_module_version": "1.2.0",
            "_model_name": "LayoutModel",
            "_view_count": null,
            "_view_module": "@jupyter-widgets/base",
            "_view_module_version": "1.2.0",
            "_view_name": "LayoutView",
            "align_content": null,
            "align_items": null,
            "align_self": null,
            "border": null,
            "bottom": null,
            "display": null,
            "flex": null,
            "flex_flow": null,
            "grid_area": null,
            "grid_auto_columns": null,
            "grid_auto_flow": null,
            "grid_auto_rows": null,
            "grid_column": null,
            "grid_gap": null,
            "grid_row": null,
            "grid_template_areas": null,
            "grid_template_columns": null,
            "grid_template_rows": null,
            "height": null,
            "justify_content": null,
            "justify_items": null,
            "left": null,
            "margin": null,
            "max_height": null,
            "max_width": null,
            "min_height": null,
            "min_width": null,
            "object_fit": null,
            "object_position": null,
            "order": null,
            "overflow": null,
            "overflow_x": null,
            "overflow_y": null,
            "padding": null,
            "right": null,
            "top": null,
            "visibility": null,
            "width": null
          }
        },
        "d15978405929446398a5beec341b223c": {
          "model_module": "@jupyter-widgets/controls",
          "model_name": "ProgressStyleModel",
          "model_module_version": "1.5.0",
          "state": {
            "_model_module": "@jupyter-widgets/controls",
            "_model_module_version": "1.5.0",
            "_model_name": "ProgressStyleModel",
            "_view_count": null,
            "_view_module": "@jupyter-widgets/base",
            "_view_module_version": "1.2.0",
            "_view_name": "StyleView",
            "bar_color": null,
            "description_width": ""
          }
        },
        "53c5848826174a02b372c5c673cb8b0b": {
          "model_module": "@jupyter-widgets/base",
          "model_name": "LayoutModel",
          "model_module_version": "1.2.0",
          "state": {
            "_model_module": "@jupyter-widgets/base",
            "_model_module_version": "1.2.0",
            "_model_name": "LayoutModel",
            "_view_count": null,
            "_view_module": "@jupyter-widgets/base",
            "_view_module_version": "1.2.0",
            "_view_name": "LayoutView",
            "align_content": null,
            "align_items": null,
            "align_self": null,
            "border": null,
            "bottom": null,
            "display": null,
            "flex": null,
            "flex_flow": null,
            "grid_area": null,
            "grid_auto_columns": null,
            "grid_auto_flow": null,
            "grid_auto_rows": null,
            "grid_column": null,
            "grid_gap": null,
            "grid_row": null,
            "grid_template_areas": null,
            "grid_template_columns": null,
            "grid_template_rows": null,
            "height": null,
            "justify_content": null,
            "justify_items": null,
            "left": null,
            "margin": null,
            "max_height": null,
            "max_width": null,
            "min_height": null,
            "min_width": null,
            "object_fit": null,
            "object_position": null,
            "order": null,
            "overflow": null,
            "overflow_x": null,
            "overflow_y": null,
            "padding": null,
            "right": null,
            "top": null,
            "visibility": null,
            "width": null
          }
        },
        "0d7d275394e54b6398feae4785c15a71": {
          "model_module": "@jupyter-widgets/controls",
          "model_name": "DescriptionStyleModel",
          "model_module_version": "1.5.0",
          "state": {
            "_model_module": "@jupyter-widgets/controls",
            "_model_module_version": "1.5.0",
            "_model_name": "DescriptionStyleModel",
            "_view_count": null,
            "_view_module": "@jupyter-widgets/base",
            "_view_module_version": "1.2.0",
            "_view_name": "StyleView",
            "description_width": ""
          }
        }
      }
    }
  },
  "cells": [
    {
      "cell_type": "markdown",
      "metadata": {
        "id": "view-in-github",
        "colab_type": "text"
      },
      "source": [
        "<a href=\"https://colab.research.google.com/github/MatteoGuglielmi-tech/Polarity-and-Subjectivity-Detection/blob/main/src/MyModel/BERT-Fine-Tuning.ipynb\" target=\"_parent\"><img src=\"https://colab.research.google.com/assets/colab-badge.svg\" alt=\"Open In Colab\"/></a>"
      ]
    },
    {
      "cell_type": "markdown",
      "source": [
        "# BERT Embedding Fine Tuning"
      ],
      "metadata": {
        "id": "gxa6J-lH4jrA"
      }
    },
    {
      "cell_type": "code",
      "source": [
        "!pip install transformers"
      ],
      "metadata": {
        "colab": {
          "base_uri": "https://localhost:8080/"
        },
        "id": "b4Pu3CpB90ga",
        "outputId": "059a2857-db9f-484f-c2f0-ebc65efc7298"
      },
      "execution_count": 1,
      "outputs": [
        {
          "output_type": "stream",
          "name": "stdout",
          "text": [
            "Looking in indexes: https://pypi.org/simple, https://us-python.pkg.dev/colab-wheels/public/simple/\n",
            "Collecting transformers\n",
            "  Downloading transformers-4.21.3-py3-none-any.whl (4.7 MB)\n",
            "\u001b[K     |████████████████████████████████| 4.7 MB 6.0 MB/s \n",
            "\u001b[?25hRequirement already satisfied: filelock in /usr/local/lib/python3.7/dist-packages (from transformers) (3.8.0)\n",
            "Collecting tokenizers!=0.11.3,<0.13,>=0.11.1\n",
            "  Downloading tokenizers-0.12.1-cp37-cp37m-manylinux_2_12_x86_64.manylinux2010_x86_64.whl (6.6 MB)\n",
            "\u001b[K     |████████████████████████████████| 6.6 MB 54.6 MB/s \n",
            "\u001b[?25hRequirement already satisfied: packaging>=20.0 in /usr/local/lib/python3.7/dist-packages (from transformers) (21.3)\n",
            "Requirement already satisfied: tqdm>=4.27 in /usr/local/lib/python3.7/dist-packages (from transformers) (4.64.0)\n",
            "Requirement already satisfied: pyyaml>=5.1 in /usr/local/lib/python3.7/dist-packages (from transformers) (6.0)\n",
            "Requirement already satisfied: importlib-metadata in /usr/local/lib/python3.7/dist-packages (from transformers) (4.12.0)\n",
            "Requirement already satisfied: regex!=2019.12.17 in /usr/local/lib/python3.7/dist-packages (from transformers) (2022.6.2)\n",
            "Requirement already satisfied: requests in /usr/local/lib/python3.7/dist-packages (from transformers) (2.23.0)\n",
            "Collecting huggingface-hub<1.0,>=0.1.0\n",
            "  Downloading huggingface_hub-0.9.1-py3-none-any.whl (120 kB)\n",
            "\u001b[K     |████████████████████████████████| 120 kB 16.4 MB/s \n",
            "\u001b[?25hRequirement already satisfied: numpy>=1.17 in /usr/local/lib/python3.7/dist-packages (from transformers) (1.21.6)\n",
            "Requirement already satisfied: typing-extensions>=3.7.4.3 in /usr/local/lib/python3.7/dist-packages (from huggingface-hub<1.0,>=0.1.0->transformers) (4.1.1)\n",
            "Requirement already satisfied: pyparsing!=3.0.5,>=2.0.2 in /usr/local/lib/python3.7/dist-packages (from packaging>=20.0->transformers) (3.0.9)\n",
            "Requirement already satisfied: zipp>=0.5 in /usr/local/lib/python3.7/dist-packages (from importlib-metadata->transformers) (3.8.1)\n",
            "Requirement already satisfied: chardet<4,>=3.0.2 in /usr/local/lib/python3.7/dist-packages (from requests->transformers) (3.0.4)\n",
            "Requirement already satisfied: urllib3!=1.25.0,!=1.25.1,<1.26,>=1.21.1 in /usr/local/lib/python3.7/dist-packages (from requests->transformers) (1.24.3)\n",
            "Requirement already satisfied: idna<3,>=2.5 in /usr/local/lib/python3.7/dist-packages (from requests->transformers) (2.10)\n",
            "Requirement already satisfied: certifi>=2017.4.17 in /usr/local/lib/python3.7/dist-packages (from requests->transformers) (2022.6.15)\n",
            "Installing collected packages: tokenizers, huggingface-hub, transformers\n",
            "Successfully installed huggingface-hub-0.9.1 tokenizers-0.12.1 transformers-4.21.3\n"
          ]
        }
      ]
    },
    {
      "cell_type": "code",
      "source": [
        "from google.colab import drive\n",
        "drive.mount('/content/gdrive')"
      ],
      "metadata": {
        "colab": {
          "base_uri": "https://localhost:8080/"
        },
        "id": "GFjx3Xf38J7l",
        "outputId": "c9742475-1cd0-4266-caf4-912f1e946307"
      },
      "execution_count": 2,
      "outputs": [
        {
          "output_type": "stream",
          "name": "stdout",
          "text": [
            "Mounted at /content/gdrive\n"
          ]
        }
      ]
    },
    {
      "cell_type": "code",
      "source": [
        "rootdir = '/content/gdrive/MyDrive/Colab Notebooks/Polarity-Subjectivity-Detection/'"
      ],
      "metadata": {
        "id": "suw-3tTbAfrA"
      },
      "execution_count": 3,
      "outputs": []
    },
    {
      "cell_type": "code",
      "source": [
        "import tensorflow as tf\n",
        "import torch\n",
        "\n",
        "# Get the GPU device name\n",
        "device = tf.test.gpu_device_name()\n",
        "\n",
        "if 'GPU' in device:\n",
        "  print(f'GPU available : {device}')\n",
        "  device = torch.device('cuda'+device[-2:])\n",
        "else :\n",
        "  device = torch.device(\"cpu\")\n",
        "  raise SystemError(\"GPU not found, use CPU instead\")"
      ],
      "metadata": {
        "colab": {
          "base_uri": "https://localhost:8080/"
        },
        "id": "Tl20NCMY6_xi",
        "outputId": "9e7b9913-4cb0-4a4b-b3c2-6efffbb49f83"
      },
      "execution_count": 4,
      "outputs": [
        {
          "output_type": "stream",
          "name": "stdout",
          "text": [
            "GPU available : /device:GPU:0\n"
          ]
        }
      ]
    },
    {
      "cell_type": "code",
      "source": [
        "device"
      ],
      "metadata": {
        "colab": {
          "base_uri": "https://localhost:8080/"
        },
        "id": "p6buUIlod0K5",
        "outputId": "b8b8b92e-372e-494e-d80f-d41d2b0780ad"
      },
      "execution_count": 5,
      "outputs": [
        {
          "output_type": "execute_result",
          "data": {
            "text/plain": [
              "device(type='cuda', index=0)"
            ]
          },
          "metadata": {},
          "execution_count": 5
        }
      ]
    },
    {
      "cell_type": "code",
      "source": [
        "import pandas as pd\n",
        "\n",
        "\n",
        "# loading dataset\n",
        "movie_reviews = pd.read_csv(rootdir+'movie_rews.csv')\n",
        "subj_obj_dataset = pd.read_csv(rootdir+'subj_obj_dataset.csv')"
      ],
      "metadata": {
        "id": "TZCUmC4h7WEh"
      },
      "execution_count": 6,
      "outputs": []
    },
    {
      "cell_type": "code",
      "source": [
        "movie_reviews"
      ],
      "metadata": {
        "colab": {
          "base_uri": "https://localhost:8080/",
          "height": 424
        },
        "id": "mDrScMj7Asm3",
        "outputId": "000a0349-e1f0-4268-8a14-6017765ec459"
      },
      "execution_count": 7,
      "outputs": [
        {
          "output_type": "execute_result",
          "data": {
            "text/plain": [
              "      Unnamed: 0                                               text  pos  neg\n",
              "0              0  films adapted comic books plenty success wheth...    1    0\n",
              "1              1  every movie comes along suspect studio every i...    1    0\n",
              "2              2  got mail works alot better deserves order make...    1    0\n",
              "3              3  jaws rare film grabs attention shows single im...    1    0\n",
              "4              4  moviemaking lot like general manager nfl team ...    1    0\n",
              "...          ...                                                ...  ...  ...\n",
              "1995        1995  anything stigmata taken warning releasing simi...    0    1\n",
              "1996        1996  john boorman zardoz goofy cinematic debacle fu...    0    1\n",
              "1997        1997  kids hall acquired taste took least season wat...    0    1\n",
              "1998        1998  time john carpenter great horror director cour...    0    1\n",
              "1999        1999  two party guys bob heads haddaway dance hit lo...    0    1\n",
              "\n",
              "[2000 rows x 4 columns]"
            ],
            "text/html": [
              "\n",
              "  <div id=\"df-c3f1a975-8457-4b9c-9694-e6387ce12ee2\">\n",
              "    <div class=\"colab-df-container\">\n",
              "      <div>\n",
              "<style scoped>\n",
              "    .dataframe tbody tr th:only-of-type {\n",
              "        vertical-align: middle;\n",
              "    }\n",
              "\n",
              "    .dataframe tbody tr th {\n",
              "        vertical-align: top;\n",
              "    }\n",
              "\n",
              "    .dataframe thead th {\n",
              "        text-align: right;\n",
              "    }\n",
              "</style>\n",
              "<table border=\"1\" class=\"dataframe\">\n",
              "  <thead>\n",
              "    <tr style=\"text-align: right;\">\n",
              "      <th></th>\n",
              "      <th>Unnamed: 0</th>\n",
              "      <th>text</th>\n",
              "      <th>pos</th>\n",
              "      <th>neg</th>\n",
              "    </tr>\n",
              "  </thead>\n",
              "  <tbody>\n",
              "    <tr>\n",
              "      <th>0</th>\n",
              "      <td>0</td>\n",
              "      <td>films adapted comic books plenty success wheth...</td>\n",
              "      <td>1</td>\n",
              "      <td>0</td>\n",
              "    </tr>\n",
              "    <tr>\n",
              "      <th>1</th>\n",
              "      <td>1</td>\n",
              "      <td>every movie comes along suspect studio every i...</td>\n",
              "      <td>1</td>\n",
              "      <td>0</td>\n",
              "    </tr>\n",
              "    <tr>\n",
              "      <th>2</th>\n",
              "      <td>2</td>\n",
              "      <td>got mail works alot better deserves order make...</td>\n",
              "      <td>1</td>\n",
              "      <td>0</td>\n",
              "    </tr>\n",
              "    <tr>\n",
              "      <th>3</th>\n",
              "      <td>3</td>\n",
              "      <td>jaws rare film grabs attention shows single im...</td>\n",
              "      <td>1</td>\n",
              "      <td>0</td>\n",
              "    </tr>\n",
              "    <tr>\n",
              "      <th>4</th>\n",
              "      <td>4</td>\n",
              "      <td>moviemaking lot like general manager nfl team ...</td>\n",
              "      <td>1</td>\n",
              "      <td>0</td>\n",
              "    </tr>\n",
              "    <tr>\n",
              "      <th>...</th>\n",
              "      <td>...</td>\n",
              "      <td>...</td>\n",
              "      <td>...</td>\n",
              "      <td>...</td>\n",
              "    </tr>\n",
              "    <tr>\n",
              "      <th>1995</th>\n",
              "      <td>1995</td>\n",
              "      <td>anything stigmata taken warning releasing simi...</td>\n",
              "      <td>0</td>\n",
              "      <td>1</td>\n",
              "    </tr>\n",
              "    <tr>\n",
              "      <th>1996</th>\n",
              "      <td>1996</td>\n",
              "      <td>john boorman zardoz goofy cinematic debacle fu...</td>\n",
              "      <td>0</td>\n",
              "      <td>1</td>\n",
              "    </tr>\n",
              "    <tr>\n",
              "      <th>1997</th>\n",
              "      <td>1997</td>\n",
              "      <td>kids hall acquired taste took least season wat...</td>\n",
              "      <td>0</td>\n",
              "      <td>1</td>\n",
              "    </tr>\n",
              "    <tr>\n",
              "      <th>1998</th>\n",
              "      <td>1998</td>\n",
              "      <td>time john carpenter great horror director cour...</td>\n",
              "      <td>0</td>\n",
              "      <td>1</td>\n",
              "    </tr>\n",
              "    <tr>\n",
              "      <th>1999</th>\n",
              "      <td>1999</td>\n",
              "      <td>two party guys bob heads haddaway dance hit lo...</td>\n",
              "      <td>0</td>\n",
              "      <td>1</td>\n",
              "    </tr>\n",
              "  </tbody>\n",
              "</table>\n",
              "<p>2000 rows × 4 columns</p>\n",
              "</div>\n",
              "      <button class=\"colab-df-convert\" onclick=\"convertToInteractive('df-c3f1a975-8457-4b9c-9694-e6387ce12ee2')\"\n",
              "              title=\"Convert this dataframe to an interactive table.\"\n",
              "              style=\"display:none;\">\n",
              "        \n",
              "  <svg xmlns=\"http://www.w3.org/2000/svg\" height=\"24px\"viewBox=\"0 0 24 24\"\n",
              "       width=\"24px\">\n",
              "    <path d=\"M0 0h24v24H0V0z\" fill=\"none\"/>\n",
              "    <path d=\"M18.56 5.44l.94 2.06.94-2.06 2.06-.94-2.06-.94-.94-2.06-.94 2.06-2.06.94zm-11 1L8.5 8.5l.94-2.06 2.06-.94-2.06-.94L8.5 2.5l-.94 2.06-2.06.94zm10 10l.94 2.06.94-2.06 2.06-.94-2.06-.94-.94-2.06-.94 2.06-2.06.94z\"/><path d=\"M17.41 7.96l-1.37-1.37c-.4-.4-.92-.59-1.43-.59-.52 0-1.04.2-1.43.59L10.3 9.45l-7.72 7.72c-.78.78-.78 2.05 0 2.83L4 21.41c.39.39.9.59 1.41.59.51 0 1.02-.2 1.41-.59l7.78-7.78 2.81-2.81c.8-.78.8-2.07 0-2.86zM5.41 20L4 18.59l7.72-7.72 1.47 1.35L5.41 20z\"/>\n",
              "  </svg>\n",
              "      </button>\n",
              "      \n",
              "  <style>\n",
              "    .colab-df-container {\n",
              "      display:flex;\n",
              "      flex-wrap:wrap;\n",
              "      gap: 12px;\n",
              "    }\n",
              "\n",
              "    .colab-df-convert {\n",
              "      background-color: #E8F0FE;\n",
              "      border: none;\n",
              "      border-radius: 50%;\n",
              "      cursor: pointer;\n",
              "      display: none;\n",
              "      fill: #1967D2;\n",
              "      height: 32px;\n",
              "      padding: 0 0 0 0;\n",
              "      width: 32px;\n",
              "    }\n",
              "\n",
              "    .colab-df-convert:hover {\n",
              "      background-color: #E2EBFA;\n",
              "      box-shadow: 0px 1px 2px rgba(60, 64, 67, 0.3), 0px 1px 3px 1px rgba(60, 64, 67, 0.15);\n",
              "      fill: #174EA6;\n",
              "    }\n",
              "\n",
              "    [theme=dark] .colab-df-convert {\n",
              "      background-color: #3B4455;\n",
              "      fill: #D2E3FC;\n",
              "    }\n",
              "\n",
              "    [theme=dark] .colab-df-convert:hover {\n",
              "      background-color: #434B5C;\n",
              "      box-shadow: 0px 1px 3px 1px rgba(0, 0, 0, 0.15);\n",
              "      filter: drop-shadow(0px 1px 2px rgba(0, 0, 0, 0.3));\n",
              "      fill: #FFFFFF;\n",
              "    }\n",
              "  </style>\n",
              "\n",
              "      <script>\n",
              "        const buttonEl =\n",
              "          document.querySelector('#df-c3f1a975-8457-4b9c-9694-e6387ce12ee2 button.colab-df-convert');\n",
              "        buttonEl.style.display =\n",
              "          google.colab.kernel.accessAllowed ? 'block' : 'none';\n",
              "\n",
              "        async function convertToInteractive(key) {\n",
              "          const element = document.querySelector('#df-c3f1a975-8457-4b9c-9694-e6387ce12ee2');\n",
              "          const dataTable =\n",
              "            await google.colab.kernel.invokeFunction('convertToInteractive',\n",
              "                                                     [key], {});\n",
              "          if (!dataTable) return;\n",
              "\n",
              "          const docLinkHtml = 'Like what you see? Visit the ' +\n",
              "            '<a target=\"_blank\" href=https://colab.research.google.com/notebooks/data_table.ipynb>data table notebook</a>'\n",
              "            + ' to learn more about interactive tables.';\n",
              "          element.innerHTML = '';\n",
              "          dataTable['output_type'] = 'display_data';\n",
              "          await google.colab.output.renderOutput(dataTable, element);\n",
              "          const docLink = document.createElement('div');\n",
              "          docLink.innerHTML = docLinkHtml;\n",
              "          element.appendChild(docLink);\n",
              "        }\n",
              "      </script>\n",
              "    </div>\n",
              "  </div>\n",
              "  "
            ]
          },
          "metadata": {},
          "execution_count": 7
        }
      ]
    },
    {
      "cell_type": "code",
      "source": [
        "subj_obj_dataset"
      ],
      "metadata": {
        "colab": {
          "base_uri": "https://localhost:8080/",
          "height": 424
        },
        "id": "DujGO_7-AwXH",
        "outputId": "26713147-a577-4ce8-b983-b9843a80c003"
      },
      "execution_count": 8,
      "outputs": [
        {
          "output_type": "execute_result",
          "data": {
            "text/plain": [
              "      Unnamed: 0                                               text   tag\n",
              "0              0  smart and alert , thirteen conversations about...  subj\n",
              "1              1  color , musical bounce and warm seas lapping o...  subj\n",
              "2              2  it is not a mass-market entertainment but an u...  subj\n",
              "3              3  a light-hearted french film about the spiritua...  subj\n",
              "4              4  my wife is an actress has its moments in looki...  subj\n",
              "...          ...                                                ...   ...\n",
              "9995        9995  in the end , they discover that balance in lif...   obj\n",
              "9996        9996  a counterfeit 1000 tomin bank note is passed i...   obj\n",
              "9997        9997  enter the beautiful and mysterious secret agen...   obj\n",
              "9998        9998  after listening to a missionary from china spe...   obj\n",
              "9999        9999  looking for a short cut to fame , glass concoc...   obj\n",
              "\n",
              "[10000 rows x 3 columns]"
            ],
            "text/html": [
              "\n",
              "  <div id=\"df-b4ab2b9f-e373-491c-a4ce-27f2a0cb9490\">\n",
              "    <div class=\"colab-df-container\">\n",
              "      <div>\n",
              "<style scoped>\n",
              "    .dataframe tbody tr th:only-of-type {\n",
              "        vertical-align: middle;\n",
              "    }\n",
              "\n",
              "    .dataframe tbody tr th {\n",
              "        vertical-align: top;\n",
              "    }\n",
              "\n",
              "    .dataframe thead th {\n",
              "        text-align: right;\n",
              "    }\n",
              "</style>\n",
              "<table border=\"1\" class=\"dataframe\">\n",
              "  <thead>\n",
              "    <tr style=\"text-align: right;\">\n",
              "      <th></th>\n",
              "      <th>Unnamed: 0</th>\n",
              "      <th>text</th>\n",
              "      <th>tag</th>\n",
              "    </tr>\n",
              "  </thead>\n",
              "  <tbody>\n",
              "    <tr>\n",
              "      <th>0</th>\n",
              "      <td>0</td>\n",
              "      <td>smart and alert , thirteen conversations about...</td>\n",
              "      <td>subj</td>\n",
              "    </tr>\n",
              "    <tr>\n",
              "      <th>1</th>\n",
              "      <td>1</td>\n",
              "      <td>color , musical bounce and warm seas lapping o...</td>\n",
              "      <td>subj</td>\n",
              "    </tr>\n",
              "    <tr>\n",
              "      <th>2</th>\n",
              "      <td>2</td>\n",
              "      <td>it is not a mass-market entertainment but an u...</td>\n",
              "      <td>subj</td>\n",
              "    </tr>\n",
              "    <tr>\n",
              "      <th>3</th>\n",
              "      <td>3</td>\n",
              "      <td>a light-hearted french film about the spiritua...</td>\n",
              "      <td>subj</td>\n",
              "    </tr>\n",
              "    <tr>\n",
              "      <th>4</th>\n",
              "      <td>4</td>\n",
              "      <td>my wife is an actress has its moments in looki...</td>\n",
              "      <td>subj</td>\n",
              "    </tr>\n",
              "    <tr>\n",
              "      <th>...</th>\n",
              "      <td>...</td>\n",
              "      <td>...</td>\n",
              "      <td>...</td>\n",
              "    </tr>\n",
              "    <tr>\n",
              "      <th>9995</th>\n",
              "      <td>9995</td>\n",
              "      <td>in the end , they discover that balance in lif...</td>\n",
              "      <td>obj</td>\n",
              "    </tr>\n",
              "    <tr>\n",
              "      <th>9996</th>\n",
              "      <td>9996</td>\n",
              "      <td>a counterfeit 1000 tomin bank note is passed i...</td>\n",
              "      <td>obj</td>\n",
              "    </tr>\n",
              "    <tr>\n",
              "      <th>9997</th>\n",
              "      <td>9997</td>\n",
              "      <td>enter the beautiful and mysterious secret agen...</td>\n",
              "      <td>obj</td>\n",
              "    </tr>\n",
              "    <tr>\n",
              "      <th>9998</th>\n",
              "      <td>9998</td>\n",
              "      <td>after listening to a missionary from china spe...</td>\n",
              "      <td>obj</td>\n",
              "    </tr>\n",
              "    <tr>\n",
              "      <th>9999</th>\n",
              "      <td>9999</td>\n",
              "      <td>looking for a short cut to fame , glass concoc...</td>\n",
              "      <td>obj</td>\n",
              "    </tr>\n",
              "  </tbody>\n",
              "</table>\n",
              "<p>10000 rows × 3 columns</p>\n",
              "</div>\n",
              "      <button class=\"colab-df-convert\" onclick=\"convertToInteractive('df-b4ab2b9f-e373-491c-a4ce-27f2a0cb9490')\"\n",
              "              title=\"Convert this dataframe to an interactive table.\"\n",
              "              style=\"display:none;\">\n",
              "        \n",
              "  <svg xmlns=\"http://www.w3.org/2000/svg\" height=\"24px\"viewBox=\"0 0 24 24\"\n",
              "       width=\"24px\">\n",
              "    <path d=\"M0 0h24v24H0V0z\" fill=\"none\"/>\n",
              "    <path d=\"M18.56 5.44l.94 2.06.94-2.06 2.06-.94-2.06-.94-.94-2.06-.94 2.06-2.06.94zm-11 1L8.5 8.5l.94-2.06 2.06-.94-2.06-.94L8.5 2.5l-.94 2.06-2.06.94zm10 10l.94 2.06.94-2.06 2.06-.94-2.06-.94-.94-2.06-.94 2.06-2.06.94z\"/><path d=\"M17.41 7.96l-1.37-1.37c-.4-.4-.92-.59-1.43-.59-.52 0-1.04.2-1.43.59L10.3 9.45l-7.72 7.72c-.78.78-.78 2.05 0 2.83L4 21.41c.39.39.9.59 1.41.59.51 0 1.02-.2 1.41-.59l7.78-7.78 2.81-2.81c.8-.78.8-2.07 0-2.86zM5.41 20L4 18.59l7.72-7.72 1.47 1.35L5.41 20z\"/>\n",
              "  </svg>\n",
              "      </button>\n",
              "      \n",
              "  <style>\n",
              "    .colab-df-container {\n",
              "      display:flex;\n",
              "      flex-wrap:wrap;\n",
              "      gap: 12px;\n",
              "    }\n",
              "\n",
              "    .colab-df-convert {\n",
              "      background-color: #E8F0FE;\n",
              "      border: none;\n",
              "      border-radius: 50%;\n",
              "      cursor: pointer;\n",
              "      display: none;\n",
              "      fill: #1967D2;\n",
              "      height: 32px;\n",
              "      padding: 0 0 0 0;\n",
              "      width: 32px;\n",
              "    }\n",
              "\n",
              "    .colab-df-convert:hover {\n",
              "      background-color: #E2EBFA;\n",
              "      box-shadow: 0px 1px 2px rgba(60, 64, 67, 0.3), 0px 1px 3px 1px rgba(60, 64, 67, 0.15);\n",
              "      fill: #174EA6;\n",
              "    }\n",
              "\n",
              "    [theme=dark] .colab-df-convert {\n",
              "      background-color: #3B4455;\n",
              "      fill: #D2E3FC;\n",
              "    }\n",
              "\n",
              "    [theme=dark] .colab-df-convert:hover {\n",
              "      background-color: #434B5C;\n",
              "      box-shadow: 0px 1px 3px 1px rgba(0, 0, 0, 0.15);\n",
              "      filter: drop-shadow(0px 1px 2px rgba(0, 0, 0, 0.3));\n",
              "      fill: #FFFFFF;\n",
              "    }\n",
              "  </style>\n",
              "\n",
              "      <script>\n",
              "        const buttonEl =\n",
              "          document.querySelector('#df-b4ab2b9f-e373-491c-a4ce-27f2a0cb9490 button.colab-df-convert');\n",
              "        buttonEl.style.display =\n",
              "          google.colab.kernel.accessAllowed ? 'block' : 'none';\n",
              "\n",
              "        async function convertToInteractive(key) {\n",
              "          const element = document.querySelector('#df-b4ab2b9f-e373-491c-a4ce-27f2a0cb9490');\n",
              "          const dataTable =\n",
              "            await google.colab.kernel.invokeFunction('convertToInteractive',\n",
              "                                                     [key], {});\n",
              "          if (!dataTable) return;\n",
              "\n",
              "          const docLinkHtml = 'Like what you see? Visit the ' +\n",
              "            '<a target=\"_blank\" href=https://colab.research.google.com/notebooks/data_table.ipynb>data table notebook</a>'\n",
              "            + ' to learn more about interactive tables.';\n",
              "          element.innerHTML = '';\n",
              "          dataTable['output_type'] = 'display_data';\n",
              "          await google.colab.output.renderOutput(dataTable, element);\n",
              "          const docLink = document.createElement('div');\n",
              "          docLink.innerHTML = docLinkHtml;\n",
              "          element.appendChild(docLink);\n",
              "        }\n",
              "      </script>\n",
              "    </div>\n",
              "  </div>\n",
              "  "
            ]
          },
          "metadata": {},
          "execution_count": 8
        }
      ]
    },
    {
      "cell_type": "markdown",
      "source": [
        "### Major commands :\n",
        "- .tokenize(sent)\n",
        "- .convert_tokens_to_ids(tokenized_sent)\n",
        "- .encode.plus() [source](https://huggingface.co/docs/transformers/internal/tokenization_utils#transformers.tokenization_utils_base.PreTrainedTokenizerBase.batch_encode_plus)"
      ],
      "metadata": {
        "id": "RnYxmD2FEySp"
      }
    },
    {
      "cell_type": "code",
      "source": [
        "# BERT model script from: huggingface.co\n",
        "from transformers import BertTokenizer, BertModel\n",
        "from typing import Tuple, List, Dict\n",
        "import numpy as np\n",
        "import torch\n",
        "from torch.utils.data import DataLoader, RandomSampler, SequentialSampler\n",
        "from transformers import logging\n",
        "import gc\n",
        "\n",
        "# to not see warning everytime\n",
        "logging.set_verbosity_error()\n",
        "\n",
        "\n",
        "tokenizer = BertTokenizer.from_pretrained(\"bert-base-uncased\", do_lower_case=True)\n",
        "model = BertModel.from_pretrained(\"bert-base-uncased\").to(device)"
      ],
      "metadata": {
        "id": "KuyfsCFkKaSy",
        "outputId": "24bd2de5-a950-4612-c5e0-0092df607754",
        "colab": {
          "base_uri": "https://localhost:8080/",
          "height": 145,
          "referenced_widgets": [
            "d8e9bfcdf006469a82c0f5600ad7630c",
            "603be6b8ee284bcea39bdf22fdfaa7a5",
            "7c3e89de932d4307adaf863f44b3188f",
            "e18d5f6e0bda4c928a3f0405efb67730",
            "06ca34c727f34c1ebb3060a169beaac4",
            "fa337c64f2a94645b35b900944f653cc",
            "88674ca2039e41c58a020ea82661704d",
            "265625f6722a4763b5a1ebd44fd3ffd6",
            "4bfd94d3380a413ca3972f9dfb55e896",
            "d5aa11a69fc94619ab5e2a6f43e8b7fa",
            "46344906b7104c9ca95f0f610ed0b460",
            "65fe6acf0941450aac434fc04e6eea8f",
            "f305ecf29ffc4e32bfe1c3cd89a60372",
            "f75dd64cdb134fcd9f549d8ba163f3d0",
            "56b8db538d4443d0960fd9e834bc85c9",
            "0146c6f411be447a863b7db04529ebf7",
            "0b5b56a2ebcf40f9b22cfbf6468f6b58",
            "49710e35714f47968d8cc1595073af47",
            "5e5b61b3072d45e2885f6308b41d9bc9",
            "e75e40fb81f54e8e8eb9f2fd14bf1542",
            "4d42e1e8fc1f4c30aa963c4f7992f9b6",
            "127a8d9be30e4f4e8d805583c66f541d",
            "538cdcc1cb6e47fcb077144443897dc9",
            "8a8459731a9747de974c54ea7932413c",
            "fa69e366d4c24852baa97e5478665d35",
            "1811bd1c240441f9a498628a524cb733",
            "1f4cafac8e1a42c19d2266283099e464",
            "ff094c48db5f476081568c27b0303e65",
            "a3fa5796acc34b2586da0bd5e895848e",
            "d478fe42b3eb4e5eb6e8f137fff6546c",
            "4435bbd0aee6469d8b0db11d276e4400",
            "c5cbfbe6e2c2443fa2a7d36e17b3994b",
            "0fd02f274a3c49178c8113a8706ec687",
            "766c871c6d3b4a6ebfca32239c754089",
            "d7b134515a0444e5887f60bc7ce2bfd5",
            "ed977edcaa9b466d807e8f26ef640ca8",
            "71b0238fc73840d0a0401a7fbbb59a19",
            "a397d4fede9044248bc48d1ff5105779",
            "3e41ba82d2ff4e0982be1f4b8f40ad91",
            "291072d1e57c46bcaebb35f41cbb6750",
            "e05c044dd6094693a0e63dcd0ab0fb9a",
            "d15978405929446398a5beec341b223c",
            "53c5848826174a02b372c5c673cb8b0b",
            "0d7d275394e54b6398feae4785c15a71"
          ]
        }
      },
      "execution_count": 9,
      "outputs": [
        {
          "output_type": "display_data",
          "data": {
            "text/plain": [
              "Downloading vocab.txt:   0%|          | 0.00/226k [00:00<?, ?B/s]"
            ],
            "application/vnd.jupyter.widget-view+json": {
              "version_major": 2,
              "version_minor": 0,
              "model_id": "d8e9bfcdf006469a82c0f5600ad7630c"
            }
          },
          "metadata": {}
        },
        {
          "output_type": "display_data",
          "data": {
            "text/plain": [
              "Downloading tokenizer_config.json:   0%|          | 0.00/28.0 [00:00<?, ?B/s]"
            ],
            "application/vnd.jupyter.widget-view+json": {
              "version_major": 2,
              "version_minor": 0,
              "model_id": "65fe6acf0941450aac434fc04e6eea8f"
            }
          },
          "metadata": {}
        },
        {
          "output_type": "display_data",
          "data": {
            "text/plain": [
              "Downloading config.json:   0%|          | 0.00/570 [00:00<?, ?B/s]"
            ],
            "application/vnd.jupyter.widget-view+json": {
              "version_major": 2,
              "version_minor": 0,
              "model_id": "538cdcc1cb6e47fcb077144443897dc9"
            }
          },
          "metadata": {}
        },
        {
          "output_type": "display_data",
          "data": {
            "text/plain": [
              "Downloading pytorch_model.bin:   0%|          | 0.00/420M [00:00<?, ?B/s]"
            ],
            "application/vnd.jupyter.widget-view+json": {
              "version_major": 2,
              "version_minor": 0,
              "model_id": "766c871c6d3b4a6ebfca32239c754089"
            }
          },
          "metadata": {}
        }
      ]
    },
    {
      "cell_type": "code",
      "source": [
        "type(model)"
      ],
      "metadata": {
        "colab": {
          "base_uri": "https://localhost:8080/"
        },
        "id": "e3FmCxeBsaD0",
        "outputId": "1a8729a0-dabe-4e1b-ae31-c001bef8a7bf"
      },
      "execution_count": 10,
      "outputs": [
        {
          "output_type": "execute_result",
          "data": {
            "text/plain": [
              "transformers.models.bert.modeling_bert.BertModel"
            ]
          },
          "metadata": {},
          "execution_count": 10
        }
      ]
    },
    {
      "cell_type": "code",
      "source": [
        "type(tokenizer)"
      ],
      "metadata": {
        "id": "jXKC7c1-9-Zw",
        "outputId": "1953bd1d-2b80-46e2-fad7-bf9bcc3518d0",
        "colab": {
          "base_uri": "https://localhost:8080/"
        }
      },
      "execution_count": 11,
      "outputs": [
        {
          "output_type": "execute_result",
          "data": {
            "text/plain": [
              "transformers.models.bert.tokenization_bert.BertTokenizer"
            ]
          },
          "metadata": {},
          "execution_count": 11
        }
      ]
    },
    {
      "cell_type": "code",
      "source": [
        "def embedding(dataset : pd.DataFrame, sentence_column: str, tokenizer: BertTokenizer) -> Tuple[tf.Tensor]:  # Tuple[List]:\n",
        "    '''Extract embedding information using passed tokenizer and model\n",
        "        Params:\n",
        "        ------\n",
        "            dataset : pd.DataFrame\n",
        "                dataframe containig sentences to be encoded\n",
        "            sentence_column : str\n",
        "                column in the beforementioned dataframe to be encoded\n",
        "            tokenizer : transformers.models.bert.tokenization_bert.BertTokenizer\n",
        "                tokenizer used to process sentences and extract related information\n",
        "        Return:\n",
        "        ------\n",
        "            Return encodings and attention masks as pytorch tensors\n",
        "    '''\n",
        "    \n",
        "    embeddings = {\n",
        "        'embedding' : [],\n",
        "        'attention_mask' : []\n",
        "        }\n",
        "        \n",
        "    for sent in dataset[sentence_column]:\n",
        "        dic_sent_encoding = tokenizer.encode_plus(sent, # untokenized sentence\n",
        "                                                add_special_tokens = True,  # add '[CLS]' and '[SEP]'\n",
        "                                                truncation = True,  # truncate to maximum length\n",
        "                                                padding = \"max_length\",  # pad to maximum admissible sentence\n",
        "                                                return_attention_mask = True,  # return attention mask\n",
        "                                                return_tensors = \"pt\") # returns tensorflow constant obj\n",
        "    \n",
        "        # extracting embeddings and attention masks in list form\n",
        "        embeddings['embedding'].append(dic_sent_encoding['input_ids'])\n",
        "        embeddings['attention_mask'].append(dic_sent_encoding['attention_mask'])\n",
        "\n",
        "    # convert lists of tensors into tensors\n",
        "    input_ids = torch.cat(embeddings['embedding'], axis=0)\n",
        "    attention_masks = torch.cat(embeddings['attention_mask'], axis=0)\n",
        "    \n",
        "    return input_ids, attention_masks\n",
        "    #return embeddings['embedding'], embeddings['attention_mask']"
      ],
      "metadata": {
        "id": "I1Ov7l-CAyG6"
      },
      "execution_count": 12,
      "outputs": []
    },
    {
      "cell_type": "code",
      "source": [
        "#ids_mr, attention_masks_mr = embedding(dataset=movie_reviews, sentence_column='text', tokenizer=tokenizer)"
      ],
      "metadata": {
        "id": "bslSQQ1VagQf"
      },
      "execution_count": 13,
      "outputs": []
    },
    {
      "cell_type": "code",
      "source": [
        "#type(ids_mr)"
      ],
      "metadata": {
        "id": "eBXtr7sZ9lRx"
      },
      "execution_count": 14,
      "outputs": []
    },
    {
      "cell_type": "code",
      "source": [
        "#ids_mr[0]"
      ],
      "metadata": {
        "id": "98aw4RsqMvf-"
      },
      "execution_count": 15,
      "outputs": []
    },
    {
      "cell_type": "code",
      "source": [
        "#to display a sample tensor uncomment following lines\n",
        "#attention_masks_mr[0]"
      ],
      "metadata": {
        "id": "0Wa8BAy3SaQp"
      },
      "execution_count": 16,
      "outputs": []
    },
    {
      "cell_type": "code",
      "source": [
        "#attention_masks_mr[1]"
      ],
      "metadata": {
        "id": "X_gW4V1S_WMv"
      },
      "execution_count": 17,
      "outputs": []
    },
    {
      "cell_type": "code",
      "source": [
        "#ids_subj_obj , attention_masks_subj_obj = embedding(dataset=subj_obj_dataset, sentence_column='text', tokenizer=tokenizer)"
      ],
      "metadata": {
        "id": "A_RI20fmM0JW"
      },
      "execution_count": 18,
      "outputs": []
    },
    {
      "cell_type": "code",
      "source": [
        "#ids_subj_obj[0]"
      ],
      "metadata": {
        "id": "QmB8kLzASrTR"
      },
      "execution_count": 19,
      "outputs": []
    },
    {
      "cell_type": "code",
      "source": [
        "#attention_masks_subj_obj[0]"
      ],
      "metadata": {
        "id": "pPay8ed6Stin"
      },
      "execution_count": 20,
      "outputs": []
    },
    {
      "cell_type": "code",
      "source": [
        "BATCH_SIZE = 64 # reduced due to RAM limitations"
      ],
      "metadata": {
        "id": "uNy-pqdEnS-h"
      },
      "execution_count": 35,
      "outputs": []
    },
    {
      "cell_type": "code",
      "source": [
        "def batching_data(dataset: pd.DataFrame, tokenizer: BertTokenizer, column_name: str='text', batch_size: int=BATCH_SIZE) -> Tuple[torch.utils.data.DataLoader]:\n",
        "    '''Function to batch sentences to fit BERT model and get embeddings\n",
        "\n",
        "        Params:\n",
        "        ------\n",
        "            dataset : pd.DataFrame\n",
        "                dataset to be batched\n",
        "            column_name : str\n",
        "                column of 'dataset' DataFrame to catch \n",
        "            batch_size : int\n",
        "                batch size\n",
        "        \n",
        "        Return:\n",
        "        ------\n",
        "            tuple of dataloader to iterate over\n",
        "    '''\n",
        "\n",
        "    # getting encodings and attention masks for whole dataset\n",
        "    ids, msk = embedding(dataset=dataset, sentence_column=column_name, tokenizer=tokenizer)\n",
        "    # defining DataLoader that batches ids randomly\n",
        "    ids_dataloader = DataLoader(dataset=ids, sampler=RandomSampler(ids), batch_size=batch_size, shuffle=False)\n",
        "\n",
        "    # defining DataLoader that batches masks\n",
        "    msk_dataloader = DataLoader(dataset=msk, batch_size=batch_size, shuffle=False)\n",
        "\n",
        "    return ids_dataloader, msk_dataloader"
      ],
      "metadata": {
        "id": "16S6YJ7wnBZ5"
      },
      "execution_count": 22,
      "outputs": []
    },
    {
      "cell_type": "code",
      "source": [
        "ids_dataloader, _ = batching_data(dataset=movie_reviews, tokenizer=tokenizer)\n",
        "for idx, ids in enumerate(ids_dataloader):\n",
        "    print(idx, ids, len(ids))\n",
        "    if idx==2:\n",
        "        break"
      ],
      "metadata": {
        "colab": {
          "base_uri": "https://localhost:8080/"
        },
        "id": "W1PnRA0lp9aV",
        "outputId": "5c7d1f33-cad6-409d-a9c6-7b1047eb4b6d"
      },
      "execution_count": 23,
      "outputs": [
        {
          "output_type": "stream",
          "name": "stdout",
          "text": [
            "0 tensor([[  101,  5436, 14099,  ...,     0,     0,     0],\n",
            "        [  101,  4626, 11382,  ...,     0,     0,     0],\n",
            "        [  101,  3067,  6389,  ...,  2193,  2111,   102],\n",
            "        ...,\n",
            "        [  101,  2360,  5199,  ...,  2290,  3185,   102],\n",
            "        [  101,  2152,  3909,  ...,     0,     0,     0],\n",
            "        [  101,  5432,  3397,  ...,     0,     0,     0]]) 64\n",
            "1 tensor([[  101,  2028,  2197,  ...,     0,     0,     0],\n",
            "        [  101,  2131,  3308,  ...,     0,     0,     0],\n",
            "        [  101,  3666, 15635,  ...,  3841, 13910,   102],\n",
            "        ...,\n",
            "        [  101,  2332,  6654,  ...,  2959,  2306,   102],\n",
            "        [  101,  9120, 10874,  ..., 13910,  5994,   102],\n",
            "        [  101,  2175, 23957,  ...,  1997,  2638,   102]]) 64\n",
            "2 tensor([[  101,  2745,  9712,  ...,     0,     0,     0],\n",
            "        [  101, 19962, 22599,  ...,     0,     0,     0],\n",
            "        [  101,  2144,  2638,  ...,     0,     0,     0],\n",
            "        ...,\n",
            "        [  101, 20566,  5365,  ...,     0,     0,     0],\n",
            "        [  101,  2092,  2113,  ...,     0,     0,     0],\n",
            "        [  101,  2673, 11588,  ...,     0,     0,     0]]) 64\n"
          ]
        }
      ]
    },
    {
      "cell_type": "code",
      "source": [
        "# embedding taken from last layer of BERT\n",
        "# avoid touching and computing gradients -> torch.no_grad()\n",
        "# https://towardsdatascience.com/what-is-npy-files-and-why-you-should-use-them-603373c78883\n",
        "\n",
        "def fine_tune_BERT( model: BertModel, dataset: pd.DataFrame, tokenizer: BertTokenizer,\n",
        "                   sentence_column: str='text', batch_size: int=BATCH_SIZE, \n",
        "                   device: str=device, rootdir: str=rootdir, filename: str='pol') -> List[torch.Tensor]:\n",
        "    \"\"\"Return Embeddings of dataset\n",
        "\n",
        "        Params:\n",
        "        ------\n",
        "            model: transformers.models.bert.modeling_bert.BertModel\n",
        "                BertModel to get embeddings from\n",
        "            dataset : pd.Dataframe\n",
        "                dataframe containing sentences to embed\n",
        "            tokenizer : transformers.models.bert.tokenization_bert.BertTokenizer\n",
        "                tokenizer model to use\n",
        "            sentence_column : str\n",
        "                column of 'dataset' to get\n",
        "            batch_size : int\n",
        "                batch size\n",
        "            device : str\n",
        "                device to load data on\n",
        "            rootdir : str\n",
        "                root directory where to store embeddings\n",
        "            filename : str\n",
        "                name on which saving embeddings\n",
        "        \n",
        "        Return:\n",
        "        ------\n",
        "            List of embeddings\n",
        "    \"\"\"\n",
        "\n",
        "    embs = []\n",
        "    # getting dataloaders\n",
        "    ids_dataloader, msk_dataloader = batching_data(dataset=dataset, tokenizer=tokenizer)\n",
        "    # disabling gradients computation --> I'm using a pre-trained net. Don't want to rewrite weights\n",
        "    with torch.no_grad():\n",
        "        # iterating through batches\n",
        "        for idx, (ids,msk) in enumerate(zip(ids_dataloader,msk_dataloader)):\n",
        "\n",
        "            # move data to device \n",
        "            ids = ids.to(device)\n",
        "            msk = msk.to(device)\n",
        "\n",
        "            # 'forward pass'\n",
        "            outputs = model(ids,msk)\n",
        "\n",
        "            # extracting tensor at last layer : https://github.com/esrel/NLU.Lab.2022.Public/blob/master/notebooks/10_sequence_nn.ipynb\n",
        "            last_hidden_state = outputs.last_hidden_state\n",
        "\n",
        "            print(f\"Done batch #{idx}\")\n",
        "            print(last_hidden_state.cpu().numpy().shape)\n",
        "            embs.append(last_hidden_state)\n",
        "        #if len(embs)>0:\n",
        "        #    print('Embs list has been successfully built')\n",
        "        #else:\n",
        "        #    raise TypeError('List has not been filled')\n",
        "\n",
        "    return embs"
      ],
      "metadata": {
        "id": "2qYdI6k4Qir3"
      },
      "execution_count": 52,
      "outputs": []
    },
    {
      "cell_type": "code",
      "source": [
        "def save_embs(embs: List[torch.Tensor], filename: str) -> None:\n",
        "    # collecting all embeddings together\n",
        "    # each element of the list is a list of tensors concerning each batch\n",
        "    to_save = []\n",
        "    for b in embs: # getting one tensor at a time -> embs[i]\n",
        "        for gs in b: # getting the t-th sample -> embs[i][t]\n",
        "            for s in gs:\n",
        "                # s is a tensor now\n",
        "                to_save.append(s.cpu().numpy().flatten())\n",
        "    \n",
        "    np.save(rootdir+filename, to_save)"
      ],
      "metadata": {
        "id": "tPpBF7fcNhY9"
      },
      "execution_count": 60,
      "outputs": []
    },
    {
      "cell_type": "code",
      "source": [
        "embs_per_batch = fine_tune_BERT(model=model, dataset=movie_reviews, tokenizer=tokenizer)"
      ],
      "metadata": {
        "colab": {
          "base_uri": "https://localhost:8080/"
        },
        "id": "W9a_OQRmRQR1",
        "outputId": "39333865-a00d-4850-c152-e2bd74a8a202"
      },
      "execution_count": 41,
      "outputs": [
        {
          "output_type": "stream",
          "name": "stdout",
          "text": [
            "Done batch #0\n",
            "(64, 512, 768)\n",
            "Done batch #1\n",
            "(64, 512, 768)\n",
            "Done batch #2\n",
            "(64, 512, 768)\n",
            "Done batch #3\n",
            "(64, 512, 768)\n",
            "Done batch #4\n",
            "(64, 512, 768)\n",
            "Done batch #5\n",
            "(64, 512, 768)\n",
            "Done batch #6\n",
            "(64, 512, 768)\n",
            "Done batch #7\n",
            "(64, 512, 768)\n",
            "Done batch #8\n",
            "(64, 512, 768)\n",
            "Done batch #9\n",
            "(64, 512, 768)\n",
            "Done batch #10\n",
            "(64, 512, 768)\n",
            "Done batch #11\n",
            "(64, 512, 768)\n",
            "Done batch #12\n",
            "(64, 512, 768)\n",
            "Done batch #13\n",
            "(64, 512, 768)\n",
            "Done batch #14\n",
            "(64, 512, 768)\n",
            "Done batch #15\n",
            "(64, 512, 768)\n",
            "Done batch #16\n",
            "(64, 512, 768)\n",
            "Done batch #17\n",
            "(64, 512, 768)\n",
            "Done batch #18\n",
            "(64, 512, 768)\n",
            "Done batch #19\n",
            "(64, 512, 768)\n",
            "Done batch #20\n",
            "(64, 512, 768)\n",
            "Done batch #21\n",
            "(64, 512, 768)\n",
            "Done batch #22\n",
            "(64, 512, 768)\n",
            "Done batch #23\n",
            "(64, 512, 768)\n",
            "Done batch #24\n",
            "(64, 512, 768)\n",
            "Done batch #25\n",
            "(64, 512, 768)\n",
            "Done batch #26\n",
            "(64, 512, 768)\n",
            "Done batch #27\n",
            "(64, 512, 768)\n",
            "Done batch #28\n",
            "(64, 512, 768)\n",
            "Done batch #29\n",
            "(64, 512, 768)\n",
            "Done batch #30\n",
            "(64, 512, 768)\n",
            "Done batch #31\n",
            "(16, 512, 768)\n",
            "Embs list has been successfully built\n"
          ]
        }
      ]
    },
    {
      "cell_type": "code",
      "source": [
        "torch.cuda.empty_cache()\n",
        "gc.collect()"
      ],
      "metadata": {
        "colab": {
          "base_uri": "https://localhost:8080/"
        },
        "id": "g-Xzdt8N1yfU",
        "outputId": "de9a0815-c13a-40d5-8f8d-953a4764b614"
      },
      "execution_count": 49,
      "outputs": [
        {
          "output_type": "execute_result",
          "data": {
            "text/plain": [
              "458"
            ]
          },
          "metadata": {},
          "execution_count": 49
        }
      ]
    },
    {
      "cell_type": "code",
      "source": [
        "#number of batches made by the DataLoader\n",
        "len(embs_per_batch)"
      ],
      "metadata": {
        "id": "kKZEElNyIUOe",
        "outputId": "2289a57e-41fc-4b2b-bbf7-d7b9f966d8cd",
        "colab": {
          "base_uri": "https://localhost:8080/"
        }
      },
      "execution_count": 44,
      "outputs": [
        {
          "output_type": "execute_result",
          "data": {
            "text/plain": [
              "32"
            ]
          },
          "metadata": {},
          "execution_count": 44
        }
      ]
    },
    {
      "cell_type": "code",
      "source": [
        "#padded sequence length (maximum in the dataset)\n",
        "len(embs_per_batch[0])"
      ],
      "metadata": {
        "id": "GrMFAC06IYnM",
        "outputId": "1f91aff7-a2fa-4da2-f572-b7fc4ed56c63",
        "colab": {
          "base_uri": "https://localhost:8080/"
        }
      },
      "execution_count": 45,
      "outputs": [
        {
          "output_type": "execute_result",
          "data": {
            "text/plain": [
              "64"
            ]
          },
          "metadata": {},
          "execution_count": 45
        }
      ]
    },
    {
      "cell_type": "code",
      "source": [
        "#number of feature extracted per sentence by the BertModel\n",
        "len(embs_per_batch[0][0])"
      ],
      "metadata": {
        "id": "05si5BjXIcr9",
        "outputId": "e8d74252-4777-459d-d46e-814250eea147",
        "colab": {
          "base_uri": "https://localhost:8080/"
        }
      },
      "execution_count": 46,
      "outputs": [
        {
          "output_type": "execute_result",
          "data": {
            "text/plain": [
              "512"
            ]
          },
          "metadata": {},
          "execution_count": 46
        }
      ]
    },
    {
      "cell_type": "code",
      "source": [
        "len(embs_per_batch[0][0][0])"
      ],
      "metadata": {
        "id": "OLVFVHcVSDMG",
        "outputId": "8278fc90-7310-481b-a224-cc860ac6df08",
        "colab": {
          "base_uri": "https://localhost:8080/"
        }
      },
      "execution_count": 47,
      "outputs": [
        {
          "output_type": "execute_result",
          "data": {
            "text/plain": [
              "768"
            ]
          },
          "metadata": {},
          "execution_count": 47
        }
      ]
    },
    {
      "cell_type": "code",
      "source": [
        "# uncomment if you want to display the embeddings\n",
        "embs_per_batch[0][0][0]"
      ],
      "metadata": {
        "colab": {
          "base_uri": "https://localhost:8080/"
        },
        "id": "z23_ExdOxhRf",
        "outputId": "973d7102-6d39-4954-8439-8ad7c82f4cb6"
      },
      "execution_count": 59,
      "outputs": [
        {
          "output_type": "execute_result",
          "data": {
            "text/plain": [
              "tensor([-1.8888e-01,  1.3294e-01,  3.3476e-01,  2.3679e-01, -9.0359e-02,\n",
              "         6.2910e-02,  2.1952e-02,  2.8252e-01, -5.2040e-01, -1.6088e-01,\n",
              "        -1.2050e-01, -3.8558e-01, -3.6848e-01,  3.4103e-01, -1.8632e-01,\n",
              "         2.5754e-01,  1.0702e-01, -1.1174e-01, -1.6263e-02,  3.2980e-01,\n",
              "         1.7113e-01, -3.1185e-01,  5.9114e-01, -1.7861e-01, -3.1702e-02,\n",
              "        -4.7200e-01, -1.4369e-01, -3.0146e-01, -5.4024e-02,  2.7108e-01,\n",
              "         3.3877e-01, -4.9371e-02,  1.5671e-01, -1.8302e-02,  9.3196e-02,\n",
              "        -6.6959e-01,  7.3201e-01,  1.2199e-02,  6.0484e-01, -1.4124e-01,\n",
              "         2.7551e-01,  3.6463e-01,  2.5293e-01, -2.2978e-01, -2.0708e-02,\n",
              "         1.7473e-02, -3.2492e+00,  2.0452e-02,  3.4341e-02, -5.5733e-01,\n",
              "         3.1529e-01, -4.7771e-01,  3.2077e-01,  4.9611e-01, -1.5667e-01,\n",
              "         3.2500e-01, -6.4629e-02,  8.8698e-02,  6.9273e-01, -4.9581e-02,\n",
              "         1.9729e-01, -1.0474e-01, -1.1270e-01, -1.1689e-02,  3.2873e-01,\n",
              "         1.5867e-01, -1.6942e-01, -5.0193e-02, -2.5126e-01,  2.9001e-01,\n",
              "         2.3557e-02,  4.2845e-02,  3.4399e-01, -1.9489e-01,  5.8428e-01,\n",
              "        -4.7315e-01,  3.9308e-02,  3.1154e-01, -1.5121e-01, -4.2625e-01,\n",
              "         1.2053e-01,  1.0477e-01,  1.5096e-01, -2.4374e-01,  8.1948e-02,\n",
              "         4.8016e-01,  3.5182e-01, -4.5576e-02, -5.1487e-01,  5.6505e-01,\n",
              "         7.3933e-03, -5.8149e-01, -1.1218e-01, -4.1047e-01,  2.1638e-01,\n",
              "         2.0425e-01, -1.1176e-01,  3.7394e-01,  3.9582e-02,  5.0167e-01,\n",
              "        -9.7241e-02,  7.6639e-02,  1.0987e-01, -3.7766e-01, -1.4931e-01,\n",
              "        -6.8428e-02,  2.9566e-01,  2.0683e-02,  2.0904e-01, -1.7830e+00,\n",
              "        -3.9013e-01,  2.6862e-01, -1.7435e-01, -3.6177e-01, -7.0465e-02,\n",
              "        -5.8601e-01,  3.0879e-01, -3.4690e-01,  2.0984e-01,  3.0818e-01,\n",
              "        -4.3633e-01,  5.0189e-01,  3.7728e-02, -7.7223e-03,  7.1816e-05,\n",
              "         6.4574e-01, -2.1699e-01, -5.6570e-01,  3.6883e-01,  2.1240e-01,\n",
              "         1.4741e-01, -4.5034e-01, -1.2493e-01, -9.3512e-02, -1.8478e-02,\n",
              "         4.8422e-02,  2.0825e-01, -3.8664e-02, -1.5378e-01, -1.1114e-02,\n",
              "        -4.1494e-01,  1.2278e-01, -2.5003e+00,  3.8743e-01,  5.0262e-02,\n",
              "        -6.8296e-01,  2.1838e-02,  3.6522e-01, -4.1524e-01,  2.3349e-01,\n",
              "         1.2772e-01, -4.9566e-01,  3.6507e-01, -2.6604e-02,  5.4233e-02,\n",
              "         4.6191e-01,  5.4206e-02, -4.5421e-01,  1.7322e-03,  9.5396e-02,\n",
              "         3.2257e-01,  7.3443e-01, -2.9323e-01,  3.1074e-02,  8.2503e-01,\n",
              "        -2.3396e-01, -2.0807e-01,  1.4114e-01,  2.8022e-01,  9.3355e-02,\n",
              "         1.0032e-01,  1.8196e-01,  8.2184e-01, -2.0744e-01, -1.5226e-01,\n",
              "         1.4197e-01, -3.1515e-01,  6.5546e-01,  1.5634e-01, -5.1275e-02,\n",
              "        -3.0806e-01, -4.0169e-01, -4.0752e-01,  2.1752e-01, -2.8760e-01,\n",
              "        -1.2446e-01,  3.7502e-01, -1.6686e-01,  5.6547e-02,  2.4251e-02,\n",
              "         6.5509e-02, -6.4040e-02,  3.7032e-01,  6.7047e-02,  9.2846e-01,\n",
              "         2.1072e-01,  6.2914e-02, -1.0724e-01,  3.8112e-01, -2.5148e-01,\n",
              "         3.2427e-01,  1.9192e-01,  4.2710e-01,  2.6022e-01, -6.6850e-01,\n",
              "         2.9933e+00,  2.8265e-01,  2.7207e-01,  1.4270e-01,  1.2990e-01,\n",
              "         1.1921e-01, -1.6356e-02,  5.8764e-02, -4.2167e-01,  2.3014e-01,\n",
              "         1.0291e-01,  2.2768e-03, -7.9144e-02,  2.6913e-01,  2.5514e-01,\n",
              "        -4.2190e-01,  3.7857e-01,  6.7621e-02,  3.4137e-01,  8.4336e-02,\n",
              "         3.1693e-01, -2.1481e-01, -5.2626e-01,  2.4208e-01, -1.3709e+00,\n",
              "         5.9336e-01, -9.0823e-01, -4.6261e-01,  2.0765e-01,  1.6086e-01,\n",
              "        -3.5356e-02,  3.5566e-01,  8.6866e-02,  5.3421e-02, -1.4294e-01,\n",
              "         3.6586e-01,  7.3685e-01, -2.0410e-01, -1.1777e-01, -2.3564e-01,\n",
              "        -1.2800e-01,  9.3987e-02, -1.2597e-01,  1.6561e-01, -2.2341e-01,\n",
              "         3.0847e-01,  7.0019e-02,  1.6871e-01, -2.4384e-01,  2.8526e-01,\n",
              "         1.0149e-01, -1.6407e-01, -1.0677e-01, -6.1033e-02, -1.3041e-01,\n",
              "        -7.8090e-01,  3.9481e-01,  2.2087e-02,  2.1841e-01,  1.7504e-02,\n",
              "        -4.7431e-01, -6.7697e-01, -3.4429e-01, -2.6669e-01,  1.1511e-01,\n",
              "         6.1736e-01,  1.9104e-01, -7.0556e-01, -2.3886e+00,  5.2485e-02,\n",
              "         1.3856e-01,  3.1850e-01,  4.4915e-02, -8.5269e-03, -1.6521e-01,\n",
              "        -3.4088e-01,  2.8600e-01,  1.0422e-03,  5.3634e-01, -2.0363e-01,\n",
              "        -3.9139e-01,  8.7053e-02, -1.7619e-01,  4.6909e-01,  3.1950e-01,\n",
              "         9.5315e-02,  3.1788e-01,  5.3087e-01, -1.0549e-02,  2.4512e-01,\n",
              "        -2.9129e-01, -2.1056e-01,  3.8786e-02, -8.3696e-02, -3.6733e-01,\n",
              "        -9.1021e-01,  9.0616e-01, -2.2237e-02,  2.2440e-01,  9.8305e-02,\n",
              "         1.5155e-01, -4.3495e-01, -3.6724e-01, -4.8214e+00,  4.4897e-01,\n",
              "        -1.6931e-01, -5.4184e-01, -1.5014e-01, -4.6801e-01,  4.5520e-01,\n",
              "        -5.5299e-02,  1.7173e-02, -1.5013e-02,  5.0029e-01,  8.6977e-02,\n",
              "        -2.3304e-01,  1.8425e-01,  6.7868e-02,  4.8410e-01, -1.5444e-01,\n",
              "         2.3588e-01,  2.2266e-01,  2.6896e-01, -2.3121e-02, -1.0283e-01,\n",
              "         4.5229e-01,  5.6975e-02, -2.4266e-01,  9.7663e-02, -4.9683e-01,\n",
              "        -4.3872e-02, -4.4349e-01,  7.8519e-02,  6.5752e-01,  2.8207e-01,\n",
              "        -8.6862e-02, -2.0769e-01, -1.1116e-01, -3.3263e-01, -9.1747e-03,\n",
              "         1.3221e-01,  4.0222e-01, -3.8793e-01,  7.7433e-02,  7.2387e-01,\n",
              "         2.5656e-01,  1.3546e-01,  1.7109e-01, -6.1622e-02,  4.0292e-01,\n",
              "        -2.5994e-01,  3.3187e-01,  4.5782e-01,  1.7813e-01,  1.7746e-01,\n",
              "         4.5346e-01, -7.5181e-03, -1.7226e-01,  1.2320e-01,  6.3824e-01,\n",
              "         1.4769e-01,  1.8505e-01,  7.8708e-03,  8.3222e-01, -6.3998e-02,\n",
              "        -2.4064e-02, -7.0017e-02,  1.4497e-01, -1.6381e-01,  2.0114e-03,\n",
              "        -2.8912e-01, -1.6806e-01,  3.0673e-01, -7.0680e-01,  7.4761e-01,\n",
              "        -9.1587e-02, -1.2627e+00, -2.1719e-01, -1.2992e-01,  1.6060e-01,\n",
              "         2.5454e-01,  5.7286e-01,  2.8206e-01, -5.3630e-01, -1.9612e-02,\n",
              "         1.7845e-01,  3.6109e-01, -3.8274e-01,  6.8048e-01, -8.0545e-02,\n",
              "        -1.2639e-01, -5.0998e-01, -1.0204e-02, -1.5382e-01, -1.0120e-01,\n",
              "         2.4183e-01, -1.0935e-01,  4.5230e-01,  1.2491e-01,  5.6103e-01,\n",
              "        -9.8074e-01,  5.7929e-01, -5.4125e-01,  2.1525e-02, -2.2466e-01,\n",
              "         3.5371e-02, -3.5283e-01,  2.2580e-01, -1.8723e-01, -3.4511e-01,\n",
              "         5.7567e-01, -3.1642e-01,  1.9052e-01, -2.8352e-01,  4.0494e-01,\n",
              "        -9.1764e-02,  5.4329e-02,  8.8202e-01, -3.5834e-01,  5.4446e-02,\n",
              "         8.9197e-01,  3.1171e-01, -7.1581e-02, -8.0919e-02, -1.2905e-01,\n",
              "         8.0049e-02, -2.6497e-01,  5.9744e-02, -5.3532e-02, -3.5169e-01,\n",
              "        -3.5951e-01, -1.6165e-01,  6.5017e-01, -1.5239e-01,  6.4571e-02,\n",
              "        -8.1735e-01, -8.7553e-01,  1.0935e-01, -2.9268e-01, -2.8890e-02,\n",
              "         5.4656e-01,  2.3098e-01, -6.0927e-01, -1.6565e-01, -2.0395e-01,\n",
              "        -2.8297e-01,  5.8717e-02, -1.7169e-01,  5.2168e-01,  2.5095e-03,\n",
              "         2.7445e-02,  4.5563e-02,  1.5457e-02,  3.1122e-02, -1.7528e-01,\n",
              "         4.2707e-02, -1.8181e-01,  6.3293e-02, -4.4619e-01, -7.7475e-01,\n",
              "         1.4283e-01, -3.7222e-01, -5.5743e-01,  1.7639e-01,  3.0217e-01,\n",
              "        -2.0770e+00, -2.5243e-01,  1.1139e-01, -2.0177e-01,  1.4364e-01,\n",
              "        -7.1974e-01,  1.9760e-01,  5.3061e-02, -1.7558e-01, -2.0719e-01,\n",
              "         6.2059e-02, -2.7460e-01,  3.7320e-03,  1.4183e-01,  1.8023e-01,\n",
              "         1.9059e-01, -2.5761e-01, -1.8848e-01, -2.3199e-01,  3.3422e-01,\n",
              "        -3.6971e-01,  5.3161e-01, -1.2228e-01,  2.8145e-01, -1.4178e-01,\n",
              "         1.2422e-01, -3.8660e-01,  4.1855e-01,  8.1129e-03,  4.6638e-01,\n",
              "        -9.2518e-03, -2.9236e-01, -3.1618e-01,  3.4150e-01,  4.4031e-01,\n",
              "         7.2320e-01,  2.5984e-01, -4.7236e-01,  2.7970e-01, -2.0442e-01,\n",
              "        -6.3933e-01,  6.5262e-02,  6.9342e-01,  4.3121e-01,  6.4223e-01,\n",
              "         2.0618e-01,  4.2895e-03, -6.5649e-02,  2.7800e-01,  7.4160e-02,\n",
              "        -2.4991e-03, -2.1971e-01, -8.2605e-03, -3.6719e-01,  1.2041e-01,\n",
              "         4.6602e-02, -5.1126e-01,  6.0776e-01,  3.1458e-01,  1.4652e-01,\n",
              "         1.1301e-02, -1.9731e-01, -3.5694e-03, -6.6640e-02, -6.9948e-02,\n",
              "        -1.2502e+00,  7.4175e-01,  2.3598e-01,  4.7945e-01,  4.4927e-01,\n",
              "         1.2997e-01,  1.6633e-01, -9.4724e-01,  2.0405e-01,  1.2939e-01,\n",
              "         7.3776e-02,  1.7965e-01,  7.1962e-02,  3.5776e-01, -3.9379e-01,\n",
              "         6.4483e-01, -4.6554e-01,  1.7562e-01,  7.9239e-01, -5.6470e-02,\n",
              "        -6.0619e-02, -3.2009e-01, -1.6654e-01,  1.1278e-01,  2.0555e-01,\n",
              "        -1.2310e-01, -6.3598e-01, -3.6139e-01,  2.4008e-01,  1.3770e-01,\n",
              "         1.8002e-01,  2.1633e-01,  2.5071e-01,  1.1098e-01,  4.1587e-01,\n",
              "        -2.1444e-01, -3.2426e-01,  3.4270e-01,  1.9563e-01,  5.4122e-01,\n",
              "         5.2140e-01,  3.0188e-01, -1.1849e-01, -3.6911e-01,  3.6261e-01,\n",
              "        -1.0507e-01,  5.9790e-01, -6.5656e-02, -1.6316e-01,  1.8054e-01,\n",
              "        -2.2227e-01,  1.9591e-01, -2.7027e-01,  1.6395e+00,  1.2066e-01,\n",
              "        -2.6307e-01,  1.6218e-01,  2.8769e-01,  2.9954e-01,  1.4093e-01,\n",
              "         1.7017e-02,  2.6480e-01,  4.0384e-01,  1.0593e-02,  9.9713e-02,\n",
              "        -5.6032e-02, -1.5742e-01,  1.2425e-01,  2.2928e-01, -1.1870e-01,\n",
              "        -3.1158e-01, -2.7596e-01, -2.2406e-01, -4.2375e-01,  6.1722e-04,\n",
              "         4.5999e-01, -3.3450e-01, -4.4236e-01,  1.4951e-03,  1.8307e-01,\n",
              "        -5.4948e-01, -4.0760e-02,  7.8306e-02, -8.4131e-02, -2.7713e-01,\n",
              "         3.4278e-01,  7.5491e-01,  9.1352e-02, -1.5020e-02, -3.9108e-02,\n",
              "        -4.5717e-02, -1.7676e-01, -3.9595e-02, -8.3279e-02, -7.8810e-02,\n",
              "         5.5802e-01, -7.5071e-01,  1.2516e-01,  1.4844e-01,  1.7157e-01,\n",
              "        -4.8760e-01,  2.0223e-01,  1.2751e-01,  2.8363e-01, -1.2494e-01,\n",
              "         1.6783e-02, -8.4351e-02,  1.1312e-01,  9.6996e-02, -6.6346e-01,\n",
              "        -6.4986e-01,  3.9043e-02, -1.3018e-02, -1.6058e-01,  3.2731e-01,\n",
              "         4.1946e-01, -4.6622e-01, -3.2874e-01, -9.7473e-02,  2.1583e-02,\n",
              "         1.9104e-01, -1.3437e-01,  8.1386e-02, -1.9171e-01,  3.7787e-01,\n",
              "         1.3725e-01,  4.5951e-01,  1.3465e-01,  3.8068e-01,  2.2864e-01,\n",
              "         1.9828e-01, -1.1394e-01, -1.8345e+00,  3.6763e-02,  5.7376e-01,\n",
              "         3.9072e-02,  1.5904e-03,  1.8272e-01,  5.9280e-01, -7.5066e-02,\n",
              "         1.0745e-02, -2.0570e-01, -1.8026e-01,  3.4419e-01, -1.6360e-01,\n",
              "        -2.5516e-01,  5.8460e-02, -1.5206e-01, -5.0166e-03, -1.4914e-02,\n",
              "        -4.8071e-01,  1.4354e-01,  2.4654e-01,  4.9649e-02, -5.3036e-01,\n",
              "        -1.4533e-01, -5.9175e-01,  2.3764e-01,  4.9680e-01, -3.0595e-01,\n",
              "         4.4958e-01,  5.4546e-02, -1.7231e-01, -3.7594e-01, -5.4012e-01,\n",
              "         2.7703e-01,  1.3967e-01, -5.6023e-01, -5.4982e-01, -4.0774e-01,\n",
              "        -1.5855e-01, -1.9752e-01, -6.7222e-01,  3.6724e-01, -2.3658e-01,\n",
              "        -8.8705e-02,  2.7498e-01,  2.2260e-01,  5.1559e-01, -2.3887e-01,\n",
              "         6.7695e-01, -2.6727e-01, -4.0655e-01,  4.0150e-01,  1.3384e-01,\n",
              "        -3.2711e-01, -4.9787e-02, -1.2186e-01,  4.2651e-02,  1.9611e-01,\n",
              "        -4.7894e-02, -3.7106e-01, -3.6537e-01, -3.4240e-02, -5.9895e-02,\n",
              "         2.2701e-01,  2.1699e-01,  1.1443e-01, -6.1231e-01, -1.4071e-01,\n",
              "        -1.4895e-01, -1.3584e-01, -5.8884e-01, -1.8953e-01,  2.5687e-01,\n",
              "        -2.6647e-03,  2.7459e-01, -2.4724e-01,  8.8969e-01,  3.1381e-01,\n",
              "         5.1157e-01,  6.1670e-02,  6.3663e-02, -1.0515e-01, -3.9752e-02,\n",
              "         4.7034e-01,  2.5204e-01, -4.5899e+00, -7.9126e-01,  1.7318e-01,\n",
              "        -7.9049e-02,  2.1124e-01, -1.2047e-01,  6.9407e-02, -5.4926e-01,\n",
              "        -1.6615e-01,  8.8180e-02,  8.6401e-02,  1.8597e-01, -5.9843e-02,\n",
              "        -3.5524e-01,  3.0265e-01,  1.2363e-01], device='cuda:0')"
            ]
          },
          "metadata": {},
          "execution_count": 59
        }
      ]
    },
    {
      "cell_type": "code",
      "source": [
        "save_embs(embs=embs_per_batch, filename='pol')"
      ],
      "metadata": {
        "id": "SK-f7LrcFVQh"
      },
      "execution_count": null,
      "outputs": []
    },
    {
      "cell_type": "code",
      "source": [
        "np.load(rootdir+'pol.npy')"
      ],
      "metadata": {
        "id": "oPYScBdtQ9mq"
      },
      "execution_count": null,
      "outputs": []
    },
    {
      "cell_type": "code",
      "source": [],
      "metadata": {
        "id": "CKDIFdLxUhYI"
      },
      "execution_count": null,
      "outputs": []
    }
  ]
}