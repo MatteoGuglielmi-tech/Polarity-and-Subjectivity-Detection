{
  "cells": [
    {
      "cell_type": "markdown",
      "metadata": {
        "id": "view-in-github",
        "colab_type": "text"
      },
      "source": [
        "<a href=\"https://colab.research.google.com/github/MatteoGuglielmi-tech/Polarity-and-Subjectivity-Detection/blob/main/src/Baselines.ipynb\" target=\"_parent\"><img src=\"https://colab.research.google.com/assets/colab-badge.svg\" alt=\"Open In Colab\"/></a>"
      ]
    },
    {
      "cell_type": "markdown",
      "metadata": {
        "id": "9BL23jCIb5M1"
      },
      "source": [
        "## Baseline #1:\n",
        "The baseline is obtained exploiting a Multinomial Naive Bayes classifier. \n",
        "The actual code is partly taken from the SA dedicated laboratoy since I consider this part of relative importance."
      ]
    },
    {
      "cell_type": "code",
      "execution_count": 223,
      "metadata": {
        "colab": {
          "base_uri": "https://localhost:8080/"
        },
        "id": "tfO1LQOkb4sr",
        "outputId": "747afbac-255b-46f2-90d3-f3483c4a7ad4"
      },
      "outputs": [
        {
          "output_type": "stream",
          "name": "stderr",
          "text": [
            "[nltk_data] Downloading package punkt to /root/nltk_data...\n",
            "[nltk_data]   Package punkt is already up-to-date!\n"
          ]
        },
        {
          "output_type": "execute_result",
          "data": {
            "text/plain": [
              "True"
            ]
          },
          "metadata": {},
          "execution_count": 223
        }
      ],
      "source": [
        "import nltk\n",
        "nltk.download('punkt')"
      ]
    },
    {
      "cell_type": "code",
      "execution_count": 224,
      "metadata": {
        "colab": {
          "base_uri": "https://localhost:8080/"
        },
        "id": "RFpyVaMjbyoo",
        "outputId": "cb9083e5-b334-42b1-df77-61163c632f61"
      },
      "outputs": [
        {
          "output_type": "stream",
          "name": "stderr",
          "text": [
            "[nltk_data] Downloading package movie_reviews to /root/nltk_data...\n",
            "[nltk_data]   Package movie_reviews is already up-to-date!\n"
          ]
        },
        {
          "output_type": "execute_result",
          "data": {
            "text/plain": [
              "True"
            ]
          },
          "metadata": {},
          "execution_count": 224
        }
      ],
      "source": [
        "nltk.download('movie_reviews')"
      ]
    },
    {
      "cell_type": "code",
      "source": [
        "nltk.download('subjectivity')"
      ],
      "metadata": {
        "colab": {
          "base_uri": "https://localhost:8080/"
        },
        "id": "N34WGqr8KO3I",
        "outputId": "526727c0-25ae-4c00-8c39-43e6a3435d8e"
      },
      "execution_count": 225,
      "outputs": [
        {
          "output_type": "stream",
          "name": "stderr",
          "text": [
            "[nltk_data] Downloading package subjectivity to /root/nltk_data...\n",
            "[nltk_data]   Package subjectivity is already up-to-date!\n"
          ]
        },
        {
          "output_type": "execute_result",
          "data": {
            "text/plain": [
              "True"
            ]
          },
          "metadata": {},
          "execution_count": 225
        }
      ]
    },
    {
      "cell_type": "code",
      "execution_count": 226,
      "metadata": {
        "colab": {
          "base_uri": "https://localhost:8080/"
        },
        "id": "fYC6fTRlcY69",
        "outputId": "6b8634f2-a59f-4a42-fab0-ba87ebfcc3f5"
      },
      "outputs": [
        {
          "output_type": "execute_result",
          "data": {
            "text/plain": [
              "(1000, 1000)"
            ]
          },
          "metadata": {},
          "execution_count": 226
        }
      ],
      "source": [
        "from nltk.corpus import movie_reviews\n",
        "from nltk.corpus import subjectivity\n",
        "\n",
        "mr = movie_reviews\n",
        "neg = mr.paras(categories='neg')\n",
        "pos = mr.paras(categories='pos')\n",
        "\n",
        "sub = subjectivity\n",
        "subj_docs = [sent for sent in subjectivity.sents(categories='subj')]\n",
        "obj_docs = [sent for sent in subjectivity.sents(categories='obj')]\n",
        "len(neg), len(pos)"
      ]
    },
    {
      "cell_type": "code",
      "execution_count": 227,
      "metadata": {
        "id": "NrGr6nCHcdWN"
      },
      "outputs": [],
      "source": [
        "import numpy\n",
        "from sklearn.feature_extraction.text import CountVectorizer\n",
        "from sklearn.naive_bayes import MultinomialNB\n",
        "from sklearn.model_selection import StratifiedKFold\n",
        "from sklearn.model_selection import cross_validate\n",
        "from sklearn.metrics import classification_report\n",
        "\n",
        "vectorizer = CountVectorizer()\n",
        "classifier = MultinomialNB()"
      ]
    },
    {
      "cell_type": "code",
      "execution_count": 228,
      "metadata": {
        "id": "KNf7vsWdcgBq"
      },
      "outputs": [],
      "source": [
        "pol_corpus = [\" \".join([w for sent in d for w in sent]) for d in neg] + [\" \".join([w for sent in d for w in sent]) for d in pos]\n",
        "subj_corpus = [\" \".join(sent) for sent in subj_docs] + [\" \".join(sent) for sent in obj_docs]\n",
        "\n",
        "# building sparse matrix with count vectors\n",
        "vectors = vectorizer.fit_transform(subj_corpus)\n",
        "\n",
        "subj_labels = numpy.array([0] * len(subj_docs) + [1] * len(obj_docs))\n",
        "pol_labels = numpy.array([0] * len(neg) + [1] * len(pos))\n"
      ]
    },
    {
      "cell_type": "code",
      "source": [
        "# clf trained on subjectivity dataset\n",
        "classifier.fit(vectors, subj_labels)"
      ],
      "metadata": {
        "colab": {
          "base_uri": "https://localhost:8080/"
        },
        "id": "gsxs-s_URUnn",
        "outputId": "29a61e8d-5d6f-4787-b470-07cfd18666e5"
      },
      "execution_count": 229,
      "outputs": [
        {
          "output_type": "execute_result",
          "data": {
            "text/plain": [
              "MultinomialNB()"
            ]
          },
          "metadata": {},
          "execution_count": 229
        }
      ]
    },
    {
      "cell_type": "code",
      "source": [
        "pol_vectors = vectorizer.transform(pol_corpus)"
      ],
      "metadata": {
        "id": "OOWczVsEST1a"
      },
      "execution_count": 230,
      "outputs": []
    },
    {
      "cell_type": "code",
      "source": [
        "# predicting subjective and objective sentences in polarity dataset\n",
        "predictions = classifier.predict(pol_vectors)"
      ],
      "metadata": {
        "id": "dq-BZxTWR4Fx"
      },
      "execution_count": 231,
      "outputs": []
    },
    {
      "cell_type": "code",
      "source": [
        "import pandas as pd\n",
        "\n",
        "df_pol_corpus = pd.DataFrame(pol_corpus)\n",
        "df_pol_labels = pd.DataFrame(pol_labels)\n",
        "df_pol_pred = pd.DataFrame(predictions)"
      ],
      "metadata": {
        "id": "EvuaI_b8Suyf"
      },
      "execution_count": 245,
      "outputs": []
    },
    {
      "cell_type": "code",
      "source": [
        "df_pol_corpus.rename(columns={0:'text'}, inplace=True)\n",
        "#df_pol_corpus"
      ],
      "metadata": {
        "id": "kMHoyyZeTK63"
      },
      "execution_count": 233,
      "outputs": []
    },
    {
      "cell_type": "code",
      "source": [
        "df_pol_labels.rename(columns={0:'labels'}, inplace=True)\n",
        "#df_pol_labels"
      ],
      "metadata": {
        "id": "4IyA8APXTOWH"
      },
      "execution_count": 234,
      "outputs": []
    },
    {
      "cell_type": "code",
      "source": [
        "df_pol_pred.rename(columns={0:'predictions'}, inplace=True)\n",
        "#df_pol_pred"
      ],
      "metadata": {
        "id": "_0euRzJsWJop"
      },
      "execution_count": 235,
      "outputs": []
    },
    {
      "cell_type": "code",
      "source": [
        "df_pol = pd.concat([df_pol_corpus, df_pol_labels, df_pol_pred], axis=1)"
      ],
      "metadata": {
        "id": "BtfJi0BzTSKz"
      },
      "execution_count": 236,
      "outputs": []
    },
    {
      "cell_type": "code",
      "source": [
        "#df_pol"
      ],
      "metadata": {
        "id": "OYfaEWbeTd1K"
      },
      "execution_count": 237,
      "outputs": []
    },
    {
      "cell_type": "code",
      "source": [
        "# filtering for subjective sentences\n",
        "df_pol=df_pol.loc[df_pol['predictions'] == 0]"
      ],
      "metadata": {
        "id": "ycrKoiWuXq0p"
      },
      "execution_count": 238,
      "outputs": []
    },
    {
      "cell_type": "code",
      "source": [
        "#df_pol"
      ],
      "metadata": {
        "id": "NsfC4H2pbG_A"
      },
      "execution_count": 239,
      "outputs": []
    },
    {
      "cell_type": "code",
      "source": [
        "df_pol_list = df_pol.text.values.tolist()\n",
        "df_pol_label = df_pol.labels.values.tolist()"
      ],
      "metadata": {
        "id": "TaZF9aPMX43U"
      },
      "execution_count": 240,
      "outputs": []
    },
    {
      "cell_type": "code",
      "source": [
        "# instantiating a new vectorizer and classifier\n",
        "pol_vec = CountVectorizer()\n",
        "pol_clf = MultinomialNB()"
      ],
      "metadata": {
        "id": "ehRGikFydcy9"
      },
      "execution_count": 241,
      "outputs": []
    },
    {
      "cell_type": "code",
      "source": [
        "pol_vectors = pol_vec.fit_transform(df_pol_list)"
      ],
      "metadata": {
        "id": "-QsUtBpCdlFh"
      },
      "execution_count": 242,
      "outputs": []
    },
    {
      "cell_type": "code",
      "execution_count": 248,
      "metadata": {
        "colab": {
          "base_uri": "https://localhost:8080/"
        },
        "id": "i0L1ImdNch1s",
        "outputId": "fa316e75-939f-4d6d-d58f-fb3b61de04ac"
      },
      "outputs": [
        {
          "output_type": "stream",
          "name": "stdout",
          "text": [
            "Baseline : 0.82 ACC\n"
          ]
        }
      ],
      "source": [
        "# 10-fold cross-validation\n",
        "scores = cross_validate(pol_clf, pol_vectors, df_pol_label, cv=StratifiedKFold(n_splits=10), scoring=['accuracy'])\n",
        "average = sum(scores['test_accuracy'])/len(scores['test_accuracy'])\n",
        "print(f\"Baseline : {round(average,2)} ACC\")"
      ]
    },
    {
      "cell_type": "markdown",
      "metadata": {
        "id": "1YgoSnyTzBoq"
      },
      "source": [
        "### Improving baseline adding double negation flipping"
      ]
    },
    {
      "cell_type": "code",
      "execution_count": 249,
      "metadata": {
        "colab": {
          "base_uri": "https://localhost:8080/"
        },
        "id": "AOzyOWd0LfrR",
        "outputId": "4ca1769b-af8d-4833-c32f-d514ae2f52d7"
      },
      "outputs": [
        {
          "output_type": "stream",
          "name": "stdout",
          "text": [
            "plot : two teen couples go to a church party , drink and then drive . they get into an accident . one of the guys dies , but his girlfriend continues to see him in her life , and has nightmares . what ' s the deal ? watch the movie and \" sorta \" find out . . . critique : a mind - fuck movie for the teen generation that touches on a very cool idea , but presents it in a very bad package . which is what makes this review an even harder one to write , since i generally applaud films which attempt to break the mold , mess with your head and such ( lost highway & memento ) , but there are good and bad ways of making all types of films , and these folks just didn ' t snag this one correctly . they seem to have taken this pretty neat concept , but executed it terribly . so what are the problems with the movie ? well , its main problem is that it ' s simply too jumbled . it starts off \" normal \" but then downshifts into this \" fantasy \" world in which you , as an audience member , have no idea_NEG what_NEG '_NEG s_NEG going_NEG on_NEG . there are dreams , there are characters coming back from the dead , there are others who look like the dead , there are strange apparitions , there are disappearances , there are a looooot of chase scenes , there are tons of weird things that happen , and most of it is simply not explained_NEG . now i personally don ' t mind trying to unravel a film every now and then , but when all it does is give me the same clue over and over again , i get kind of fed up after a while , which is this film ' s biggest problem . it ' s obviously got this big secret to hide , but it seems to want to hide it completely until its final five minutes . and do they make things entertaining , thrilling or even engaging , in the meantime ? not really_NEG . the sad part is that the arrow and i both dig on flicks like this , so we actually figured most of it out by the half - way point , so all of the strangeness after that did start to make a little bit of sense , but it still didn ' t the make the film all that more entertaining . i guess the bottom line with movies like this is that you should always make sure that the audience is \" into it \" even before they are given the secret password to enter your world of understanding . i mean , showing melissa sagemiller running away from visions for about 20 minutes throughout the movie is just plain lazy ! ! okay , we get it . . . there are people chasing her and we don ' t know who they are . do we really need to see it over and over again ? how about giving us different scenes offering further insight into all of the strangeness going down in the movie ? apparently , the studio took this film away from its director and chopped it up themselves , and it shows . there might ' ve been a pretty decent teen mind - fuck movie in here somewhere , but i guess \" the suits \" decided that turning it into a music video with little edge , would make more sense . the actors are pretty good for the most part , although wes bentley just seemed to be playing the exact same character that he did in american beauty , only in a new neighborhood . but my biggest kudos go out to sagemiller , who holds her own throughout the entire film , and actually has you feeling her character ' s unraveling . overall , the film doesn ' t stick because it doesn ' t entertain , it ' s confusing , it rarely excites and it feels pretty redundant for most of its runtime , despite a pretty cool ending and explanation to all of the craziness that came before it . oh , and by the way , this is not a_NEG horror_NEG or_NEG teen_NEG slasher_NEG flick_NEG . . . it ' s just packaged to look that way because someone is apparently assuming that the genre is still hot with the kids . it also wrapped production two years ago and has been sitting on the shelves ever since . whatever . . . skip it ! where ' s joblo coming from ? a nightmare of elm street 3 ( 7 / 10 ) - blair witch 2 ( 7 / 10 ) - the crow ( 9 / 10 ) - the crow : salvation ( 4 / 10 ) - lost highway ( 10 / 10 ) - memento ( 10 / 10 ) - the others ( 9 / 10 ) - stir of echoes ( 8 / 10 )\n"
          ]
        }
      ],
      "source": [
        "from nltk.sentiment.util import mark_negation\n",
        "from sklearn.svm import SVC\n",
        "import numpy as np\n",
        "from sklearn.feature_extraction.text import CountVectorizer\n",
        "from sklearn.naive_bayes import MultinomialNB\n",
        "from sklearn.model_selection import StratifiedKFold\n",
        "from sklearn.model_selection import cross_validate\n",
        "from sklearn.metrics import classification_report\n",
        "from typing import List, Dict\n",
        "\n",
        "\n",
        "\"\"\"\n",
        "def mark_negation(document, double_neg_flip=False, shallow=False):\n",
        "    Append _NEG suffix to words that appear in the scope between a negation\n",
        "    and a punctuation mark.\n",
        "\n",
        "    :param document: a list of words/tokens, or a tuple (words, label).\n",
        "    :param shallow: if True, the method will modify the original document in place.\n",
        "    :param double_neg_flip: if True, double negation is considered affirmation\n",
        "        (we activate/deactivate negation scope every time we find a negation).\n",
        "    :return: if `shallow == True` the method will modify the original document\n",
        "        and return it. If `shallow == False` the method will return a modified\n",
        "        document, leaving the original unmodified.\n",
        "\n",
        "    >>> sent = \"I didn't like this movie . It was bad .\".split()\n",
        "    >>> mark_negation(sent)\n",
        "    ['I', \"didn't\", 'like_NEG', 'this_NEG', 'movie_NEG', '.', 'It', 'was', 'bad', '.']\n",
        "\"\"\"\n",
        "\n",
        "def negative_marking(doc : List[str]) -> List[str]:\n",
        "    '''\n",
        "        Params :\n",
        "        -----------------\n",
        "            doc : list[str]\n",
        "                document where each element is a list of strings\n",
        "        Returns :\n",
        "            negated_doc : list[str]\n",
        "                document after having applied double negation\n",
        "    '''\n",
        "\n",
        "    flat_doc = [w for sent in doc for w in sent]\n",
        "    negated_doc = mark_negation(flat_doc, double_neg_flip=True)\n",
        "\n",
        "    return \" \".join([w for w in negated_doc])\n",
        "\n",
        "print(negative_marking(neg[0]))"
      ]
    },
    {
      "cell_type": "code",
      "source": [
        "neg_vectorizer = CountVectorizer()\n",
        "neg_classifier = MultinomialNB()"
      ],
      "metadata": {
        "id": "rmy6mT2VgetP"
      },
      "execution_count": 252,
      "outputs": []
    },
    {
      "cell_type": "code",
      "execution_count": 254,
      "metadata": {
        "id": "2zD-3hQnLjfP"
      },
      "outputs": [],
      "source": [
        "neg_pol_corpus = [negative_marking(d) for d in pos] + [negative_marking(d) for d in neg]"
      ]
    },
    {
      "cell_type": "code",
      "source": [
        "# building sparse matrix with count vectors\n",
        "neg_vectors = neg_vectorizer.fit_transform(subj_corpus)\n",
        "\n",
        "subj_labels = numpy.array([0] * len(subj_docs) + [1] * len(obj_docs))\n",
        "pol_labels = numpy.array([0] * len(neg) + [1] * len(pos))"
      ],
      "metadata": {
        "id": "SZgGd2QUfkKP"
      },
      "execution_count": 255,
      "outputs": []
    },
    {
      "cell_type": "code",
      "source": [
        "# clf trained on subjectivity dataset\n",
        "neg_classifier.fit(neg_vectors, subj_labels)"
      ],
      "metadata": {
        "colab": {
          "base_uri": "https://localhost:8080/"
        },
        "outputId": "0f9a9d20-d6fb-4384-8817-e38370ff71c0",
        "id": "WozFGaLmfqil"
      },
      "execution_count": 256,
      "outputs": [
        {
          "output_type": "execute_result",
          "data": {
            "text/plain": [
              "MultinomialNB()"
            ]
          },
          "metadata": {},
          "execution_count": 256
        }
      ]
    },
    {
      "cell_type": "code",
      "source": [
        "neg_pol_vectors = neg_vectorizer.transform(pol_corpus)"
      ],
      "metadata": {
        "id": "0r7TgXt-f1tu"
      },
      "execution_count": 257,
      "outputs": []
    },
    {
      "cell_type": "code",
      "source": [
        "# predicting subjective and objective sentences in polarity dataset\n",
        "neg_predictions = neg_classifier.predict(neg_pol_vectors)"
      ],
      "metadata": {
        "id": "eSHdmf15f2IZ"
      },
      "execution_count": 258,
      "outputs": []
    },
    {
      "cell_type": "code",
      "source": [
        "import pandas as pd\n",
        "\n",
        "df_pol_corpus = pd.DataFrame(neg_pol_corpus)\n",
        "df_pol_labels = pd.DataFrame(pol_labels)\n",
        "df_pol_pred = pd.DataFrame(neg_predictions)"
      ],
      "metadata": {
        "id": "d7U-NoL_f5B0"
      },
      "execution_count": 259,
      "outputs": []
    },
    {
      "cell_type": "code",
      "source": [
        "df_pol_corpus.rename(columns={0:'text'}, inplace=True)"
      ],
      "metadata": {
        "id": "CBAUf1Pif71P"
      },
      "execution_count": 260,
      "outputs": []
    },
    {
      "cell_type": "code",
      "source": [
        "df_pol_labels.rename(columns={0:'labels'}, inplace=True)"
      ],
      "metadata": {
        "id": "IiDcQ9uPf_HI"
      },
      "execution_count": 261,
      "outputs": []
    },
    {
      "cell_type": "code",
      "source": [
        "df_pol_pred.rename(columns={0:'predictions'}, inplace=True)"
      ],
      "metadata": {
        "id": "7-EW7N-RgBLC"
      },
      "execution_count": 262,
      "outputs": []
    },
    {
      "cell_type": "code",
      "source": [
        "df_pol = pd.concat([df_pol_corpus, df_pol_labels, df_pol_pred], axis=1)"
      ],
      "metadata": {
        "id": "-182Z2_qgEJS"
      },
      "execution_count": 263,
      "outputs": []
    },
    {
      "cell_type": "code",
      "source": [
        "df_pol=df_pol.loc[df_pol['predictions'] == 0]"
      ],
      "metadata": {
        "id": "KpxyMhokgJ2o"
      },
      "execution_count": 264,
      "outputs": []
    },
    {
      "cell_type": "code",
      "source": [
        "df_pol_list = df_pol.text.values.tolist()\n",
        "df_pol_label = df_pol.labels.values.tolist()"
      ],
      "metadata": {
        "id": "7TUOApLqgKfv"
      },
      "execution_count": 265,
      "outputs": []
    },
    {
      "cell_type": "code",
      "source": [
        "# instantiating a new vectorizer and classifier\n",
        "neg_pol_vec = CountVectorizer()\n",
        "neg_pol_clf = MultinomialNB()"
      ],
      "metadata": {
        "id": "Sd-0S9Y8gKcS"
      },
      "execution_count": 266,
      "outputs": []
    },
    {
      "cell_type": "code",
      "source": [
        "neg_pol_vectors = neg_pol_vec.fit_transform(df_pol_list)"
      ],
      "metadata": {
        "id": "kmBuMArSgOvy"
      },
      "execution_count": 267,
      "outputs": []
    },
    {
      "cell_type": "code",
      "source": [
        "# 10-fold cross-validation\n",
        "scores = cross_validate(neg_pol_clf, neg_pol_vectors, df_pol_label, cv=StratifiedKFold(n_splits=10), scoring=['accuracy'])\n",
        "average = sum(scores['test_accuracy'])/len(scores['test_accuracy'])\n",
        "print(f\"Baseline : {round(average,2)} ACC\")"
      ],
      "metadata": {
        "id": "aPQpV2hUgTAK",
        "outputId": "91affdc0-7657-42dc-b336-29ba907b15a8",
        "colab": {
          "base_uri": "https://localhost:8080/"
        }
      },
      "execution_count": 268,
      "outputs": [
        {
          "output_type": "stream",
          "name": "stdout",
          "text": [
            "Baseline : 0.82 ACC\n"
          ]
        }
      ]
    },
    {
      "cell_type": "markdown",
      "metadata": {
        "id": "tykuHukpEN7n"
      },
      "source": [
        "# Baseline #2 :\n",
        "## Exploring movie_reviews pack"
      ]
    },
    {
      "cell_type": "markdown",
      "metadata": {
        "id": "C2xYL3C2EHO-"
      },
      "source": [
        "[Source](https://medium.com/@joel_34096/sentiment-analysis-of-movie-reviews-in-nltk-python-4af4b76a6f3)\n"
      ]
    },
    {
      "cell_type": "code",
      "execution_count": null,
      "metadata": {
        "id": "JTtmq76Gcx4g"
      },
      "outputs": [],
      "source": [
        "import nltk\n",
        "from nltk.corpus import movie_reviews"
      ]
    },
    {
      "cell_type": "code",
      "execution_count": null,
      "metadata": {
        "colab": {
          "base_uri": "https://localhost:8080/"
        },
        "id": "ow_n0vD_ENdi",
        "outputId": "e0c54399-fda9-4102-fac6-8e2d67aed84e"
      },
      "outputs": [
        {
          "data": {
            "text/plain": [
              "['plot', ':', 'two', 'teen', 'couples', 'go', 'to', ...]"
            ]
          },
          "execution_count": 14,
          "metadata": {},
          "output_type": "execute_result"
        }
      ],
      "source": [
        "# A list of all the words in 'movie_reviews'\n",
        "words = movie_reviews.words()\n",
        "words"
      ]
    },
    {
      "cell_type": "code",
      "execution_count": null,
      "metadata": {
        "colab": {
          "base_uri": "https://localhost:8080/"
        },
        "id": "jfLY4wn7ESTk",
        "outputId": "577a2601-c981-4923-d3c5-001e6a26725e"
      },
      "outputs": [
        {
          "data": {
            "text/plain": [
              "1583820"
            ]
          },
          "execution_count": 15,
          "metadata": {},
          "output_type": "execute_result"
        }
      ],
      "source": [
        "# Prints total number of words in 'movie_reviews'\n",
        "len(movie_reviews.words())"
      ]
    },
    {
      "cell_type": "code",
      "execution_count": null,
      "metadata": {
        "colab": {
          "base_uri": "https://localhost:8080/"
        },
        "id": "g7BwE4O-EU14",
        "outputId": "b57993ce-7f2a-462c-afae-ebec8ddce11c"
      },
      "outputs": [
        {
          "data": {
            "text/plain": [
              "['neg', 'pos']"
            ]
          },
          "execution_count": 16,
          "metadata": {},
          "output_type": "execute_result"
        }
      ],
      "source": [
        "# Prints the polarity labels in the package\n",
        "categories = movie_reviews.categories()\n",
        "categories"
      ]
    },
    {
      "cell_type": "code",
      "execution_count": null,
      "metadata": {
        "id": "4U9wYrOdEaRc"
      },
      "outputs": [],
      "source": [
        "# Displays frequency of words in ‘movie_reviews’\n",
        "freq_dist_words = nltk.FreqDist(movie_reviews.words())"
      ]
    },
    {
      "cell_type": "code",
      "execution_count": null,
      "metadata": {
        "colab": {
          "base_uri": "https://localhost:8080/"
        },
        "id": "JBSwqxg_EeEJ",
        "outputId": "65298c9d-ff93-48c9-c992-99e892f19c4f"
      },
      "outputs": [
        {
          "data": {
            "text/plain": [
              "[(',', 77717),\n",
              " ('the', 76529),\n",
              " ('.', 65876),\n",
              " ('a', 38106),\n",
              " ('and', 35576),\n",
              " ('of', 34123),\n",
              " ('to', 31937),\n",
              " (\"'\", 30585),\n",
              " ('is', 25195),\n",
              " ('in', 21822),\n",
              " ('s', 18513),\n",
              " ('\"', 17612),\n",
              " ('it', 16107),\n",
              " ('that', 15924),\n",
              " ('-', 15595)]"
            ]
          },
          "execution_count": 18,
          "metadata": {},
          "output_type": "execute_result"
        }
      ],
      "source": [
        "# Displays frequency of 15 most common words in ‘movie_reviews’\n",
        "freq_dist_most_common = nltk.FreqDist(movie_reviews.words()).most_common(15)\n",
        "freq_dist_most_common"
      ]
    },
    {
      "cell_type": "code",
      "execution_count": null,
      "metadata": {
        "colab": {
          "base_uri": "https://localhost:8080/"
        },
        "id": "VBFdx7L7EjpJ",
        "outputId": "79b196aa-b6ce-457c-9a77-ca35622f922a"
      },
      "outputs": [
        {
          "name": "stdout",
          "output_type": "stream",
          "text": [
            "['neg/cv000_29416.txt', 'neg/cv001_19502.txt', 'neg/cv002_17424.txt', 'neg/cv003_12683.txt', 'neg/cv004_12641.txt', 'neg/cv005_29357.txt', 'neg/cv006_17022.txt', 'neg/cv007_4992.txt', 'neg/cv008_29326.txt', 'neg/cv009_29417.txt', 'neg/cv010_29063.txt', 'neg/cv011_13044.txt', 'neg/cv012_29411.txt', 'neg/cv013_10494.txt', 'neg/cv014_15600.txt', 'neg/cv015_29356.txt', 'neg/cv016_4348.txt', 'neg/cv017_23487.txt', 'neg/cv018_21672.txt', 'neg/cv019_16117.txt', 'neg/cv020_9234.txt', 'neg/cv021_17313.txt', 'neg/cv022_14227.txt', 'neg/cv023_13847.txt', 'neg/cv024_7033.txt', 'neg/cv025_29825.txt', 'neg/cv026_29229.txt', 'neg/cv027_26270.txt', 'neg/cv028_26964.txt', 'neg/cv029_19943.txt', 'neg/cv030_22893.txt', 'neg/cv031_19540.txt', 'neg/cv032_23718.txt', 'neg/cv033_25680.txt', 'neg/cv034_29446.txt', 'neg/cv035_3343.txt', 'neg/cv036_18385.txt', 'neg/cv037_19798.txt', 'neg/cv038_9781.txt', 'neg/cv039_5963.txt', 'neg/cv040_8829.txt', 'neg/cv041_22364.txt', 'neg/cv042_11927.txt', 'neg/cv043_16808.txt', 'neg/cv044_18429.txt', 'neg/cv045_25077.txt', 'neg/cv046_10613.txt', 'neg/cv047_18725.txt', 'neg/cv048_18380.txt', 'neg/cv049_21917.txt']\n"
          ]
        }
      ],
      "source": [
        "# Prints all file ids\n",
        "all_fileids = movie_reviews.fileids()\n",
        "print(all_fileids[:50])"
      ]
    },
    {
      "cell_type": "code",
      "execution_count": null,
      "metadata": {
        "colab": {
          "base_uri": "https://localhost:8080/"
        },
        "id": "-CnuTbeFEo5r",
        "outputId": "1568dc72-4697-4fa3-e791-7588231c38f9"
      },
      "outputs": [
        {
          "name": "stdout",
          "output_type": "stream",
          "text": [
            "['pos/cv000_29590.txt', 'pos/cv001_18431.txt', 'pos/cv002_15918.txt', 'pos/cv003_11664.txt', 'pos/cv004_11636.txt', 'pos/cv005_29443.txt', 'pos/cv006_15448.txt', 'pos/cv007_4968.txt', 'pos/cv008_29435.txt', 'pos/cv009_29592.txt']\n"
          ]
        }
      ],
      "source": [
        "# Prints file ids of positive reviews\n",
        "pos_fileids = movie_reviews.fileids('pos')\n",
        "print(pos_fileids[:10])"
      ]
    },
    {
      "cell_type": "code",
      "execution_count": null,
      "metadata": {
        "colab": {
          "base_uri": "https://localhost:8080/"
        },
        "id": "Qrlt1SC5FBHa",
        "outputId": "19358760-c2c3-47e9-dc40-ec0ddee43dd6"
      },
      "outputs": [
        {
          "name": "stdout",
          "output_type": "stream",
          "text": [
            "['neg/cv000_29416.txt', 'neg/cv001_19502.txt', 'neg/cv002_17424.txt', 'neg/cv003_12683.txt', 'neg/cv004_12641.txt', 'neg/cv005_29357.txt', 'neg/cv006_17022.txt', 'neg/cv007_4992.txt', 'neg/cv008_29326.txt', 'neg/cv009_29417.txt']\n"
          ]
        }
      ],
      "source": [
        "# Prints file ids of negative reviews.\n",
        "neg_fileids = movie_reviews.fileids('neg')\n",
        "print(neg_fileids[:10])"
      ]
    },
    {
      "cell_type": "code",
      "execution_count": null,
      "metadata": {
        "colab": {
          "base_uri": "https://localhost:8080/"
        },
        "id": "BHVMg_u4FKIW",
        "outputId": "a86b2c8b-227b-4eb2-89bb-1ec8174c521c"
      },
      "outputs": [
        {
          "data": {
            "text/plain": [
              "['the',\n",
              " 'happy',\n",
              " 'bastard',\n",
              " \"'\",\n",
              " 's',\n",
              " 'quick',\n",
              " 'movie',\n",
              " 'review',\n",
              " 'damn',\n",
              " 'that']"
            ]
          },
          "execution_count": 22,
          "metadata": {},
          "output_type": "execute_result"
        }
      ],
      "source": [
        "# Prints all words in movie_review with file id ‘neg/cv001_19502.txt’\n",
        "movie_reviews.words('neg/cv001_19502.txt')[:10]"
      ]
    },
    {
      "cell_type": "markdown",
      "metadata": {
        "id": "ZnauGjGuHUiV"
      },
      "source": [
        "In [here](https://www.nltk.org/_modules/nltk/classify/naivebayes.html) is specified that NaiveBayesClassifier wants as input a dictionary of the form `(featureset,labels)` for :\n",
        "\n",
        "```python\n",
        " @classmethod\n",
        "    def train(cls, labeled_featuresets, estimator=ELEProbDist):\n",
        "        \"\"\"\n",
        "        :param labeled_featuresets: A list of classified featuresets,\n",
        "            i.e., a list of tuples ``(featureset, label)``.\n",
        "        \"\"\"\n",
        "```\n",
        "\n",
        "where `featureset` is a list of words."
      ]
    },
    {
      "cell_type": "code",
      "execution_count": null,
      "metadata": {
        "colab": {
          "base_uri": "https://localhost:8080/"
        },
        "id": "7rN_aYZ7GMbF",
        "outputId": "26a11cea-660d-43c6-e138-f190007ca031"
      },
      "outputs": [
        {
          "data": {
            "text/plain": [
              "[(['plot', ':', 'two', 'teen', 'couples', 'go', 'to', ...], 'neg'),\n",
              " (['the', 'happy', 'bastard', \"'\", 's', 'quick', 'movie', ...], 'neg'),\n",
              " (['it', 'is', 'movies', 'like', 'these', 'that', 'make', ...], 'neg'),\n",
              " (['\"', 'quest', 'for', 'camelot', '\"', 'is', 'warner', ...], 'neg'),\n",
              " (['synopsis', ':', 'a', 'mentally', 'unstable', 'man', ...], 'neg'),\n",
              " (['capsule', ':', 'in', '2176', 'on', 'the', 'planet', ...], 'neg'),\n",
              " (['so', 'ask', 'yourself', 'what', '\"', '8mm', '\"', '(', ...], 'neg'),\n",
              " (['that', \"'\", 's', 'exactly', 'how', 'long', 'the', ...], 'neg'),\n",
              " (['call', 'it', 'a', 'road', 'trip', 'for', 'the', ...], 'neg'),\n",
              " (['plot', ':', 'a', 'young', 'french', 'boy', 'sees', ...], 'neg')]"
            ]
          },
          "execution_count": 23,
          "metadata": {},
          "output_type": "execute_result"
        }
      ],
      "source": [
        "# it is needed to build such structure\n",
        "neg_doc = [(movie_reviews.words(mr_fileid), 'neg') for mr_fileid in neg_fileids]\n",
        "neg_doc[:10]"
      ]
    },
    {
      "cell_type": "code",
      "execution_count": null,
      "metadata": {
        "colab": {
          "base_uri": "https://localhost:8080/"
        },
        "id": "gXggDx_rJlEc",
        "outputId": "4c0b3e56-fa4f-4c96-a315-104c9e141158"
      },
      "outputs": [
        {
          "data": {
            "text/plain": [
              "[(['films', 'adapted', 'from', 'comic', 'books', 'have', ...], 'pos'),\n",
              " (['every', 'now', 'and', 'then', 'a', 'movie', 'comes', ...], 'pos'),\n",
              " (['you', \"'\", 've', 'got', 'mail', 'works', 'alot', ...], 'pos'),\n",
              " (['\"', 'jaws', '\"', 'is', 'a', 'rare', 'film', 'that', ...], 'pos'),\n",
              " (['moviemaking', 'is', 'a', 'lot', 'like', 'being', ...], 'pos'),\n",
              " (['on', 'june', '30', ',', '1960', ',', 'a', 'self', ...], 'pos'),\n",
              " (['apparently', ',', 'director', 'tony', 'kaye', 'had', ...], 'pos'),\n",
              " (['one', 'of', 'my', 'colleagues', 'was', 'surprised', ...], 'pos'),\n",
              " (['after', 'bloody', 'clashes', 'and', 'independence', ...], 'pos'),\n",
              " (['the', 'american', 'action', 'film', 'has', 'been', ...], 'pos')]"
            ]
          },
          "execution_count": 24,
          "metadata": {},
          "output_type": "execute_result"
        }
      ],
      "source": [
        "pos_doc = [(movie_reviews.words(mr_fileid), 'pos') for mr_fileid in pos_fileids]\n",
        "pos_doc[:10]"
      ]
    },
    {
      "cell_type": "code",
      "execution_count": null,
      "metadata": {
        "colab": {
          "base_uri": "https://localhost:8080/"
        },
        "id": "6mYW3q0SKcK_",
        "outputId": "f39d1159-56fa-4a6d-cb34-b535598a9796"
      },
      "outputs": [
        {
          "data": {
            "text/plain": [
              "[(['films', 'adapted', 'from', 'comic', 'books', 'have', ...], 'pos'),\n",
              " (['every', 'now', 'and', 'then', 'a', 'movie', 'comes', ...], 'pos'),\n",
              " (['you', \"'\", 've', 'got', 'mail', 'works', 'alot', ...], 'pos'),\n",
              " (['\"', 'jaws', '\"', 'is', 'a', 'rare', 'film', 'that', ...], 'pos'),\n",
              " (['moviemaking', 'is', 'a', 'lot', 'like', 'being', ...], 'pos'),\n",
              " (['on', 'june', '30', ',', '1960', ',', 'a', 'self', ...], 'pos'),\n",
              " (['apparently', ',', 'director', 'tony', 'kaye', 'had', ...], 'pos'),\n",
              " (['one', 'of', 'my', 'colleagues', 'was', 'surprised', ...], 'pos'),\n",
              " (['after', 'bloody', 'clashes', 'and', 'independence', ...], 'pos'),\n",
              " (['the', 'american', 'action', 'film', 'has', 'been', ...], 'pos')]"
            ]
          },
          "execution_count": 55,
          "metadata": {},
          "output_type": "execute_result"
        }
      ],
      "source": [
        "doc = pos_doc + neg_doc\n",
        "doc[:10]"
      ]
    },
    {
      "cell_type": "code",
      "execution_count": null,
      "metadata": {
        "colab": {
          "base_uri": "https://localhost:8080/"
        },
        "id": "odNqNpRLK3RA",
        "outputId": "ae4516c8-db38-41a1-d7fb-82554f8bea24"
      },
      "outputs": [
        {
          "name": "stdout",
          "output_type": "stream",
          "text": [
            "First sentence index with positive category : 0\n"
          ]
        }
      ],
      "source": [
        "pos_iter = (idx for idx, item in enumerate(doc) if item[1]=='pos')\n",
        "idx_pos = next(pos_iter)  # <== index of first positive tagged element\n",
        "print(f\"First sentence index with positive category : {idx_pos}\")"
      ]
    },
    {
      "cell_type": "code",
      "execution_count": null,
      "metadata": {
        "colab": {
          "base_uri": "https://localhost:8080/"
        },
        "id": "UtBs1206M0pu",
        "outputId": "77a73bc3-ce6a-4a00-a097-7c963abd86cb"
      },
      "outputs": [
        {
          "name": "stdout",
          "output_type": "stream",
          "text": [
            "First sentence index with negative category : 1000\n"
          ]
        }
      ],
      "source": [
        "neg_iter = (idx for idx, item in enumerate(doc) if item[1]=='neg')\n",
        "idx_neg = next(neg_iter)  # <== index of first negative tagged element\n",
        "print(f\"First sentence index with negative category : {idx_neg}\")"
      ]
    },
    {
      "cell_type": "markdown",
      "metadata": {
        "id": "n3bnbLSXNzoY"
      },
      "source": [
        "To use NaiveBayesClassifier, as mentioned before, it is needed to have a dictionary of the form `feature_name : True/False` to indicate if a certain feature is whether present or not in a certain sentence (as pointed out [here](https://stackoverflow.com/questions/20827741/nltk-naivebayesclassifier-training-for-sentiment-analysis))"
      ]
    },
    {
      "cell_type": "code",
      "execution_count": null,
      "metadata": {
        "id": "r5EdbPu8NKj-"
      },
      "outputs": [],
      "source": [
        "from typing import Dict, List\n",
        "\n",
        "def arrangeInput(lw: List[str], all_words: List[str]) -> Dict:\n",
        "  ''' This function create a dictionary of the form {key : bool_value} where \"key\" is a word among all the possible ones and \"bool_values\" \n",
        "      points out the presence or absense of the current word in the current sentence\n",
        "\n",
        "      Params :\n",
        "      --------\n",
        "        lw : list(str)\n",
        "             list of words appearing in a sentence\n",
        "        all_words : list(str)\n",
        "              corresponds to the all possible words that appear in the document\n",
        "      \n",
        "      Returns :\n",
        "      --------\n",
        "        dictionary of the form {word : True/False} \n",
        "  '''\n",
        "  \n",
        "  all_words = set(all_words) # to avoid controlling over already seen words\n",
        "  lw = set(lw)\n",
        "  dictionary = {}\n",
        "  for w in all_words:\n",
        "    dictionary[w] = w in lw\n",
        "  return dictionary"
      ]
    },
    {
      "cell_type": "code",
      "execution_count": null,
      "metadata": {
        "colab": {
          "base_uri": "https://localhost:8080/"
        },
        "id": "5LIYjBY7Tdno",
        "outputId": "830a45bb-fdc3-4f9b-ff23-b0a76953ac14"
      },
      "outputs": [
        {
          "name": "stdout",
          "output_type": "stream",
          "text": [
            "Done\n"
          ]
        }
      ],
      "source": [
        "# check functioning of arrangeInput \n",
        "for item in arrangeInput(doc[0][0], words).values():\n",
        "  if item == True:\n",
        "    print('Done')\n",
        "    break"
      ]
    },
    {
      "cell_type": "code",
      "execution_count": null,
      "metadata": {
        "colab": {
          "base_uri": "https://localhost:8080/"
        },
        "id": "kkbQOh6M-a7Z",
        "outputId": "47f32f5a-0628-4dca-f31d-092d36fcd2b6"
      },
      "outputs": [
        {
          "name": "stdout",
          "output_type": "stream",
          "text": [
            "0009f False\n",
            "blabbed False\n",
            "guarding False\n",
            "emitted False\n",
            "shih False\n",
            "mano False\n",
            "populous False\n",
            "handphones False\n",
            "interrelated False\n",
            "pseudoerotic False\n"
          ]
        }
      ],
      "source": [
        "# to shorten output just consider the first sentence of the first doc\n",
        "counter = 0\n",
        "for (key, value) in arrangeInput(doc[0][0], words).items():\n",
        "  print(key,value)\n",
        "  counter +=1\n",
        "  if counter == 10:\n",
        "    break"
      ]
    },
    {
      "cell_type": "code",
      "execution_count": null,
      "metadata": {
        "id": "hlyEu0ch-lFo"
      },
      "outputs": [],
      "source": [
        "# to display whole dictionary for first sentence of first doc uncomment & run following line\n",
        "# arrangeInput(doc[0][0],words)"
      ]
    },
    {
      "cell_type": "markdown",
      "metadata": {
        "id": "kEOOhtXJaIix"
      },
      "source": [
        "`NB_doc` will be fed into a NaiveBayesClassifier. The data structure needed to word with NBC is the following [[found here](https://stackoverflow.com/questions/20827741/nltk-naivebayesclassifier-training-for-sentiment-analysis)]:\n",
        "```pyhton\n",
        "  [({'this': True, 'love': True, 'deal': False, 'tired': False, 'feel': False, 'is': False, 'am': False, 'an': False, 'sandwich': True, 'ca': False, 'best': False, '!': False, 'what': False, '.': True, 'amazing': False, 'horrible': False, 'sworn': False, 'awesome': False, 'do': False, 'good': False, 'very': False, 'boss': False, 'beers': False, 'not': False, 'with': False, 'he': False, 'enemy': False, 'about': False, 'like': False, 'restaurant': False, 'these': False, 'of': False, 'work': False, \"n't\": False, 'i': False, 'stuff': False, 'place': False, 'my': False, 'view': False}, 'pos'), . . .]\n",
        "```\n"
      ]
    },
    {
      "cell_type": "code",
      "execution_count": null,
      "metadata": {
        "id": "oec7tm3kaoj4"
      },
      "outputs": [],
      "source": [
        "# iterating over the tuples (list of words, cat) in doc and creating a new list of tuples of (dictionaries, polarity tag)\n",
        "# here I consider 1ML  of possible words to save comp. power\n",
        "NB_doc = [(arrangeInput(sent, words[:800000]), cat) for (sent, cat) in doc]"
      ]
    },
    {
      "cell_type": "markdown",
      "metadata": {
        "id": "e4nZzihdaCa_"
      },
      "source": [
        "`arranged_doc` is used to be fed to an SVC."
      ]
    },
    {
      "cell_type": "code",
      "execution_count": null,
      "metadata": {
        "id": "ku05NhadTqpz"
      },
      "outputs": [],
      "source": [
        "# here I consider all possible words\n",
        "arranged_doc = [(arrangeInput(lw, words), cat) for (lw, cat) in doc]"
      ]
    },
    {
      "cell_type": "code",
      "execution_count": null,
      "metadata": {
        "id": "wdYjLbOJxWPW"
      },
      "outputs": [],
      "source": [
        "# saving the list to avoid running previous cell (time demanding)\n",
        "import json\n",
        "from typing import List, Dict, Tuple\n",
        "\n",
        "def save_arrangedDoc(arranged_doc : List[Tuple[Dict, str]], filename : str) -> None:\n",
        "  ''' This function saves a document\n",
        "\n",
        "    Params :\n",
        "    --------\n",
        "      arranged_doc : list(tuple(dict,str))\n",
        "        document arranged as list of tuples of dictionary ({word: value}, category). \n",
        "    \n",
        "    Returns :\n",
        "    ---------\n",
        "      None\n",
        "  '''\n",
        "\n",
        "  with open(filename, \"w\") as fp:\n",
        "    json.dump(arranged_doc, fp)\n",
        "\n",
        "def load_arrangedDoc(arranged_doc : str):\n",
        "  ''' This function load a document\n",
        "\n",
        "    Params :\n",
        "    --------\n",
        "      arranged_doc : str\n",
        "        path to document to load\n",
        "    \n",
        "    Returns :\n",
        "    ---------\n",
        "      None\n",
        "  '''\n",
        "  \n",
        "  with open(arranged_doc, \"r\") as fp:\n",
        "    b = json.load(fp)\n",
        "  "
      ]
    },
    {
      "cell_type": "markdown",
      "metadata": {
        "id": "aoHioqkDevhG"
      },
      "source": [
        "NaiveBayesClassifier"
      ]
    },
    {
      "cell_type": "code",
      "execution_count": null,
      "metadata": {
        "colab": {
          "base_uri": "https://localhost:8080/"
        },
        "id": "fAg-GEc2zSlA",
        "outputId": "82097c65-dcfc-4b55-e6b0-ecacee0d790b"
      },
      "outputs": [
        {
          "name": "stdout",
          "output_type": "stream",
          "text": [
            "NBC : 0.79 ACC\n"
          ]
        }
      ],
      "source": [
        "from nltk.classify.scikitlearn import SklearnClassifier\n",
        "from sklearn.svm import SVC\n",
        "from sklearn import model_selection\n",
        "from nltk.classify import NaiveBayesClassifier\n",
        "\n",
        "# Splitting into training and testing sets\n",
        "train_set, test_set = model_selection.train_test_split(NB_doc, test_size = 0.2)\n",
        "clf = NaiveBayesClassifier.train(train_set)\n",
        "accuracy = nltk.classify.accuracy(clf, test_set)\n",
        "\n",
        "print(f\"NBC : {round(accuracy,2)} ACC\")"
      ]
    },
    {
      "cell_type": "code",
      "execution_count": null,
      "metadata": {
        "colab": {
          "base_uri": "https://localhost:8080/"
        },
        "id": "XhVOXjQvFoLw",
        "outputId": "03ec8075-86ee-4418-8735-4b4bc2ded6a2"
      },
      "outputs": [
        {
          "name": "stdout",
          "output_type": "stream",
          "text": [
            "Most Informative Features\n",
            "               insulting = True              neg : pos    =     13.8 : 1.0\n",
            "                  seagal = True              neg : pos    =     12.4 : 1.0\n",
            "             outstanding = True              pos : neg    =     11.6 : 1.0\n",
            "               stupidity = True              neg : pos    =     10.7 : 1.0\n",
            "              astounding = True              pos : neg    =     10.3 : 1.0\n",
            "                   kudos = True              pos : neg    =     10.3 : 1.0\n",
            "               maintains = True              pos : neg    =     10.3 : 1.0\n",
            "                  hudson = True              neg : pos    =      9.7 : 1.0\n",
            "               laughably = True              neg : pos    =      9.7 : 1.0\n",
            "              schumacher = True              neg : pos    =      9.7 : 1.0\n"
          ]
        }
      ],
      "source": [
        "clf.show_most_informative_features()"
      ]
    },
    {
      "cell_type": "markdown",
      "metadata": {
        "id": "y8CviZsYMect"
      },
      "source": [
        "# Baseline #3 "
      ]
    },
    {
      "cell_type": "code",
      "execution_count": null,
      "metadata": {
        "colab": {
          "base_uri": "https://localhost:8080/"
        },
        "id": "roBA879Pj4Bf",
        "outputId": "fec6bd33-15a6-4bb4-b327-f1583f8e5a6b"
      },
      "outputs": [
        {
          "name": "stderr",
          "output_type": "stream",
          "text": [
            "[nltk_data] Downloading package movie_reviews to /root/nltk_data...\n",
            "[nltk_data]   Unzipping corpora/movie_reviews.zip.\n",
            "[nltk_data] Downloading package punkt to /root/nltk_data...\n",
            "[nltk_data]   Unzipping tokenizers/punkt.zip.\n",
            "[nltk_data] Downloading package stopwords to /root/nltk_data...\n",
            "[nltk_data]   Unzipping corpora/stopwords.zip.\n"
          ]
        },
        {
          "data": {
            "text/plain": [
              "True"
            ]
          },
          "execution_count": 2,
          "metadata": {},
          "output_type": "execute_result"
        }
      ],
      "source": [
        "import nltk\n",
        "\n",
        "\n",
        "nltk.download('movie_reviews')\n",
        "nltk.download('punkt')\n",
        "nltk.download('stopwords')"
      ]
    },
    {
      "cell_type": "code",
      "execution_count": null,
      "metadata": {
        "id": "c8SkdtSxy0i_"
      },
      "outputs": [],
      "source": [
        "from nltk.corpus import movie_reviews\n",
        "\n",
        "\n",
        "mr = movie_reviews\n",
        "neg = mr.paras(categories='neg')\n",
        "pos = mr.paras(categories='pos')"
      ]
    },
    {
      "cell_type": "code",
      "execution_count": null,
      "metadata": {
        "colab": {
          "base_uri": "https://localhost:8080/"
        },
        "id": "BT3Hb25_UJGV",
        "outputId": "0feeb35a-eb1a-4900-cb66-2db8447b4b70"
      },
      "outputs": [
        {
          "name": "stdout",
          "output_type": "stream",
          "text": [
            "['i', 'me', 'my', 'myself', 'we', 'our', 'ours', 'ourselves', 'you', \"you're\", \"you've\", \"you'll\", \"you'd\", 'your', 'yours', 'yourself', 'yourselves', 'he', 'him', 'his', 'himself', 'she', \"she's\", 'her', 'hers', 'herself', 'it', \"it's\", 'its', 'itself', 'they', 'them', 'their', 'theirs', 'themselves', 'what', 'which', 'who', 'whom', 'this', 'that', \"that'll\", 'these', 'those', 'am', 'is', 'are', 'was', 'were', 'be', 'been', 'being', 'have', 'has', 'had', 'having', 'do', 'does', 'did', 'doing', 'a', 'an', 'the', 'and', 'but', 'if', 'or', 'because', 'as', 'until', 'while', 'of', 'at', 'by', 'for', 'with', 'about', 'against', 'between', 'into', 'through', 'during', 'before', 'after', 'above', 'below', 'to', 'from', 'up', 'down', 'in', 'out', 'on', 'off', 'over', 'under', 'again', 'further', 'then', 'once', 'here', 'there', 'when', 'where', 'why', 'how', 'all', 'any', 'both', 'each', 'few', 'more', 'most', 'other', 'some', 'such', 'no', 'nor', 'not', 'only', 'own', 'same', 'so', 'than', 'too', 'very', 's', 't', 'can', 'will', 'just', 'don', \"don't\", 'should', \"should've\", 'now', 'd', 'll', 'm', 'o', 're', 've', 'y', 'ain', 'aren', \"aren't\", 'couldn', \"couldn't\", 'didn', \"didn't\", 'doesn', \"doesn't\", 'hadn', \"hadn't\", 'hasn', \"hasn't\", 'haven', \"haven't\", 'isn', \"isn't\", 'ma', 'mightn', \"mightn't\", 'mustn', \"mustn't\", 'needn', \"needn't\", 'shan', \"shan't\", 'shouldn', \"shouldn't\", 'wasn', \"wasn't\", 'weren', \"weren't\", 'won', \"won't\", 'wouldn', \"wouldn't\"]\n"
          ]
        }
      ],
      "source": [
        "from nltk.corpus import stopwords\n",
        "\n",
        "\n",
        "print(stopwords.words('english'))"
      ]
    },
    {
      "cell_type": "code",
      "execution_count": null,
      "metadata": {
        "id": "4IE1bArZkc93"
      },
      "outputs": [],
      "source": [
        "words = movie_reviews.words()\n",
        "categoris = movie_reviews.categories()"
      ]
    },
    {
      "cell_type": "code",
      "execution_count": null,
      "metadata": {
        "id": "NCvqHTu0lM6D"
      },
      "outputs": [],
      "source": [
        "neg_doc = [(movie_reviews.words(mr_fileid), 'neg') for mr_fileid in movie_reviews.fileids('neg')]\n",
        "pos_doc = [(movie_reviews.words(mr_fileid), 'pos') for mr_fileid in movie_reviews.fileids('pos')]"
      ]
    },
    {
      "cell_type": "code",
      "execution_count": null,
      "metadata": {
        "id": "5GowMAtA9tr-"
      },
      "outputs": [],
      "source": [
        "doc = neg_doc + pos_doc"
      ]
    },
    {
      "cell_type": "code",
      "execution_count": null,
      "metadata": {
        "colab": {
          "base_uri": "https://localhost:8080/"
        },
        "id": "2B8oDexy-LN4",
        "outputId": "098cef8c-b80a-4c68-fb0b-11bbd2ce9a44"
      },
      "outputs": [
        {
          "data": {
            "text/plain": [
              "[(['plot', ':', 'two', 'teen', 'couples', 'go', 'to', ...], 'neg'),\n",
              " (['the', 'happy', 'bastard', \"'\", 's', 'quick', 'movie', ...], 'neg'),\n",
              " (['it', 'is', 'movies', 'like', 'these', 'that', 'make', ...], 'neg'),\n",
              " (['\"', 'quest', 'for', 'camelot', '\"', 'is', 'warner', ...], 'neg'),\n",
              " (['synopsis', ':', 'a', 'mentally', 'unstable', 'man', ...], 'neg')]"
            ]
          },
          "execution_count": 10,
          "metadata": {},
          "output_type": "execute_result"
        }
      ],
      "source": [
        "doc[:5]"
      ]
    },
    {
      "cell_type": "code",
      "execution_count": null,
      "metadata": {
        "id": "TRosTEixFp75"
      },
      "outputs": [],
      "source": [
        "from textblob import TextBlob as tb\n",
        "import string\n",
        "from typing import List, Dict, Tuple\n",
        "\n",
        "\n",
        "def prepare_data(cw : List[str]) -> List[str]:\n",
        "  '''Clear text from numbers, stop words (very common words), punctuation and \n",
        "    correct possible misspelled words\n",
        "\n",
        "    Params :\n",
        "    --------\n",
        "      cw : List[str]\n",
        "        list of words in the sentence to be cleaned\n",
        "    Returns :\n",
        "    ---------\n",
        "      list of cleaned words\n",
        "  '''\n",
        "\n",
        "  stop_list = set(stopwords.words(\"english\"))\n",
        "  new_corpus = [word for word in cw if word not in stop_list]\n",
        "  new_corpus = [word.translate(str.maketrans('','',string.punctuation)) for word in new_corpus]\n",
        "  new_corpus = [word.translate(str.maketrans('','','1234567890')) for word in new_corpus]\n",
        "\n",
        "  new_corpus = [str(tb(word).correct()) for word in new_corpus]\n",
        "\n",
        "  return new_corpus\n"
      ]
    },
    {
      "cell_type": "code",
      "execution_count": null,
      "metadata": {
        "id": "nSz9iTYaapdf"
      },
      "outputs": [],
      "source": [
        "def clean_doc(doc : List[Tuple[List[str], str]]) -> List[Tuple[List[str],str]]:\n",
        "  new_doc = [(prepare_data(lw),cat) for (lw, cat) in doc]\n",
        "  return new_doc"
      ]
    },
    {
      "cell_type": "code",
      "execution_count": null,
      "metadata": {
        "id": "Szw0Jc6g6lvW"
      },
      "outputs": [],
      "source": [
        "# saving the list to avoid running previous cell (time demanding)\n",
        "import json\n",
        "from typing import List, Dict, Tuple\n",
        "\n",
        "def save_arrangedDoc(arranged_doc : List[Tuple[List[str], str]], filename : str) -> None:\n",
        "  ''' This function saves a document\n",
        "\n",
        "    Params :\n",
        "    --------\n",
        "      arranged_doc : list(tuple(dict,str))\n",
        "        document arranged as list of tuples of dictionary ({word: value}, category). \n",
        "    \n",
        "    Returns :\n",
        "    ---------\n",
        "      None\n",
        "  '''\n",
        "\n",
        "  with open(filename, \"w\") as fp:\n",
        "    json.dump(arranged_doc, fp)\n",
        "\n",
        "def load_arrangedDoc(arranged_doc : str):\n",
        "  ''' This function load a document\n",
        "\n",
        "    Params :\n",
        "    --------\n",
        "      arranged_doc : str\n",
        "        path to document to load\n",
        "    \n",
        "    Returns :\n",
        "    ---------\n",
        "      None\n",
        "  '''\n",
        "  \n",
        "  with open(arranged_doc, \"r\") as fp:\n",
        "    b = json.load(fp)\n",
        "  "
      ]
    },
    {
      "cell_type": "code",
      "execution_count": null,
      "metadata": {
        "id": "3yTgJKspbWPO"
      },
      "outputs": [],
      "source": [
        "cleaned_doc = clean_doc(doc[:5])"
      ]
    },
    {
      "cell_type": "code",
      "execution_count": null,
      "metadata": {
        "id": "91MD2GZB-yG9"
      },
      "outputs": [],
      "source": [
        "print(cleaned_doc)"
      ]
    },
    {
      "cell_type": "code",
      "execution_count": null,
      "metadata": {
        "id": "YHb0-WJ0JHY0"
      },
      "outputs": [],
      "source": [
        "# complete document\n",
        "cleaned_doc_complete = clean_doc(doc)"
      ]
    },
    {
      "cell_type": "code",
      "execution_count": null,
      "metadata": {
        "id": "z2s6ZKLqjcT8"
      },
      "outputs": [],
      "source": [
        "save_arrangedDoc(cleaned_doc_complete, 'cleaned_doc')"
      ]
    },
    {
      "cell_type": "code",
      "execution_count": null,
      "metadata": {
        "id": "-KWtDrpSfNB8"
      },
      "outputs": [],
      "source": [
        "nltk.download('wordnet')"
      ]
    },
    {
      "cell_type": "code",
      "execution_count": null,
      "metadata": {
        "id": "jh4h7Bhug73W"
      },
      "outputs": [],
      "source": [
        "nltk.download('omw-1.4')"
      ]
    },
    {
      "cell_type": "code",
      "execution_count": null,
      "metadata": {
        "id": "s27K4fA7eOeF"
      },
      "outputs": [],
      "source": [
        "def lemmatize_sent(lw : List[str]) -> List[str]:\n",
        "  '''Converiting verbs to base form \n",
        "    Example : studying -> study\n",
        "\n",
        "    Params :\n",
        "    --------\n",
        "      lw : List[str]\n",
        "        list of words in the sentence\n",
        "    Returns :\n",
        "    ---------\n",
        "      list of lemmatized words\n",
        "  '''\n",
        "\n",
        "  lemmatizer = nltk.stem.WordNetLemmatizer()\n",
        "  return [lemmatizer.lemmatize(w) for w in lw]"
      ]
    },
    {
      "cell_type": "code",
      "execution_count": null,
      "metadata": {
        "id": "-Hf2ptx7Go71"
      },
      "outputs": [],
      "source": [
        "def lemmatize_doc(doc : List[Tuple[List[str],str]]) -> List[Tuple[List[str],str]]:\n",
        "  new_doc = [(lemmatize_sent(lw),cat) for (lw, cat) in doc]\n",
        "  return new_doc"
      ]
    },
    {
      "cell_type": "code",
      "execution_count": null,
      "metadata": {
        "id": "Fif87GXefwVT"
      },
      "outputs": [],
      "source": [
        "lemm_doc = lemmatize_doc(cleaned_doc)"
      ]
    },
    {
      "cell_type": "code",
      "execution_count": null,
      "metadata": {
        "id": "xQwsMbLa_yvp"
      },
      "outputs": [],
      "source": [
        "print(lemm_doc[0])"
      ]
    },
    {
      "cell_type": "code",
      "execution_count": null,
      "metadata": {
        "id": "BNtmI7KiszIV"
      },
      "outputs": [],
      "source": [
        "# lemmatize complete doc\n",
        "lemm_doc_complete = lemmatize_doc(cleaned_doc_complete)"
      ]
    },
    {
      "cell_type": "code",
      "execution_count": null,
      "metadata": {
        "id": "tCpJ27l6hTE7"
      },
      "outputs": [],
      "source": [
        "save_arrangedDoc(lemm_doc_complete, 'lemmatized_doc')"
      ]
    },
    {
      "cell_type": "markdown",
      "metadata": {
        "id": "9bLUnlX_l9-x"
      },
      "source": [
        "## Not used"
      ]
    },
    {
      "cell_type": "code",
      "execution_count": null,
      "metadata": {
        "colab": {
          "base_uri": "https://localhost:8080/"
        },
        "id": "xXcR3zhCiD0T",
        "outputId": "715936a5-84cf-416d-995d-c4df562961e9"
      },
      "outputs": [
        {
          "name": "stdout",
          "output_type": "stream",
          "text": [
            "Looking in indexes: https://pypi.org/simple, https://us-python.pkg.dev/colab-wheels/public/simple/\n",
            "Collecting scattertext\n",
            "  Downloading scattertext-0.1.6-py3-none-any.whl (7.3 MB)\n",
            "\u001b[K     |████████████████████████████████| 7.3 MB 3.7 MB/s \n",
            "\u001b[?25hRequirement already satisfied: statsmodels in /usr/local/lib/python3.7/dist-packages (from scattertext) (0.10.2)\n",
            "Collecting gensim>=4.0.0\n",
            "  Downloading gensim-4.2.0-cp37-cp37m-manylinux_2_12_x86_64.manylinux2010_x86_64.whl (24.1 MB)\n",
            "\u001b[K     |████████████████████████████████| 24.1 MB 50.1 MB/s \n",
            "\u001b[?25hRequirement already satisfied: scipy in /usr/local/lib/python3.7/dist-packages (from scattertext) (1.7.3)\n",
            "Requirement already satisfied: numpy in /usr/local/lib/python3.7/dist-packages (from scattertext) (1.21.6)\n",
            "Requirement already satisfied: pandas in /usr/local/lib/python3.7/dist-packages (from scattertext) (1.3.5)\n",
            "Requirement already satisfied: six in /usr/local/lib/python3.7/dist-packages (from scattertext) (1.15.0)\n",
            "Collecting mock\n",
            "  Downloading mock-4.0.3-py3-none-any.whl (28 kB)\n",
            "Collecting flashtext\n",
            "  Downloading flashtext-2.7.tar.gz (14 kB)\n",
            "Requirement already satisfied: scikit-learn in /usr/local/lib/python3.7/dist-packages (from scattertext) (1.0.2)\n",
            "Requirement already satisfied: smart-open>=1.8.1 in /usr/local/lib/python3.7/dist-packages (from gensim>=4.0.0->scattertext) (5.2.1)\n",
            "Requirement already satisfied: python-dateutil>=2.7.3 in /usr/local/lib/python3.7/dist-packages (from pandas->scattertext) (2.8.2)\n",
            "Requirement already satisfied: pytz>=2017.3 in /usr/local/lib/python3.7/dist-packages (from pandas->scattertext) (2022.1)\n",
            "Requirement already satisfied: joblib>=0.11 in /usr/local/lib/python3.7/dist-packages (from scikit-learn->scattertext) (1.1.0)\n",
            "Requirement already satisfied: threadpoolctl>=2.0.0 in /usr/local/lib/python3.7/dist-packages (from scikit-learn->scattertext) (3.1.0)\n",
            "Requirement already satisfied: patsy>=0.4.0 in /usr/local/lib/python3.7/dist-packages (from statsmodels->scattertext) (0.5.2)\n",
            "Building wheels for collected packages: flashtext\n",
            "  Building wheel for flashtext (setup.py) ... \u001b[?25l\u001b[?25hdone\n",
            "  Created wheel for flashtext: filename=flashtext-2.7-py2.py3-none-any.whl size=9309 sha256=0bcefccd8a008cfc5eed2f2f623420a7ba2f2409abba3ce0e153eb68c3641207\n",
            "  Stored in directory: /root/.cache/pip/wheels/cb/19/58/4e8fdd0009a7f89dbce3c18fff2e0d0fa201d5cdfd16f113b7\n",
            "Successfully built flashtext\n",
            "Installing collected packages: mock, gensim, flashtext, scattertext\n",
            "  Attempting uninstall: gensim\n",
            "    Found existing installation: gensim 3.6.0\n",
            "    Uninstalling gensim-3.6.0:\n",
            "      Successfully uninstalled gensim-3.6.0\n",
            "Successfully installed flashtext-2.7 gensim-4.2.0 mock-4.0.3 scattertext-0.1.6\n"
          ]
        }
      ],
      "source": [
        "!pip install scattertext"
      ]
    },
    {
      "cell_type": "code",
      "execution_count": null,
      "metadata": {
        "id": "NNEZBvTfhHRg"
      },
      "outputs": [],
      "source": [
        "import scattertext as st\n",
        "from IPython.display import IFrame\n",
        "from IPython.core.display import display, HTML\n",
        "from scattertext import produce_scattertext_explorer\n",
        "import pandas as pd\n",
        "\n",
        "# works only with pd\n",
        "corpus = st.CorpusFromParsedDocuments(pd.from_text(lemm_doc), category_col='label').build()\n",
        "html = st.produce_scattertext_explorer(corpus, category='Positive', category_name='Negative', not_category_name = 'Positive', minimum_term_frequency=1, width_in_pixel=1000, transform=st.Scalers.log_scale_standardize)\n",
        "file_name = 'Sentimental Words Visualization.html'\n",
        "open(file_name,'wb').write(HTML.encode('utf-8'))\n",
        "IFrame(src=file_name, width=1000, height=700)"
      ]
    },
    {
      "cell_type": "markdown",
      "metadata": {
        "id": "Ec1H40h5mE8l"
      },
      "source": [
        "##Used"
      ]
    },
    {
      "cell_type": "code",
      "execution_count": null,
      "metadata": {
        "id": "kTVxbC4vlkUk"
      },
      "outputs": [],
      "source": [
        "([[\" \".join(sent)] for (sent,cat) in lemm_doc])[:2]"
      ]
    },
    {
      "cell_type": "code",
      "execution_count": null,
      "metadata": {
        "id": "Zz_zGmb7kB7c"
      },
      "outputs": [],
      "source": [
        "from sklearn.feature_extraction.text import TfidfVectorizer\n",
        "\n",
        "vectorizer = TfidfVectorizer()\n",
        "features = vectorizer.fit_transform([\" \".join(sent) for (sent,cat) in lemm_doc])"
      ]
    },
    {
      "cell_type": "code",
      "execution_count": null,
      "metadata": {
        "id": "GtpaXe7wqVeU"
      },
      "outputs": [],
      "source": [
        "def encode_labels(doc : List[Tuple[List,str]]) -> List[int]:\n",
        "  labels = [1 if cat=='pos' else 0 for (_, cat) in doc]\n",
        "  return labels\n",
        "\n",
        "print(encode_labels(doc))"
      ]
    },
    {
      "cell_type": "code",
      "execution_count": null,
      "metadata": {
        "id": "4imvH0rsoYMp"
      },
      "outputs": [],
      "source": [
        "import lightgbm as lgb\n",
        "from sklearn.model_selection import train_test_split\n",
        "from sklearn.metrics import confusion_matrix, classification_report, accuracy_score\n",
        "\n",
        "X_train, X_test, y_train, y_test = train_test_split(features, encode_labels(doc[:5]), test_size = 0.2)\n",
        "clf = lgb.LGBMClassifier(max_depth=20, n_estimators=25, min_child_weight=0.0016, n_jobs=-1)\n",
        "\n",
        "clf.fit(X_train, y_train)\n",
        "\n",
        "pred = clf.predict(X_test)\n",
        "print(f'Test data accuracy is : {accuracy_score(y_test, pred)}')\n",
        "print(classification_report(y_test, pred))"
      ]
    },
    {
      "cell_type": "code",
      "execution_count": null,
      "metadata": {
        "id": "W3Sik8CarwIt"
      },
      "outputs": [],
      "source": [
        "import seaborn as sns\n",
        "import matplotlib.pyplot as plt\n",
        "import pandas as pd\n",
        "\n",
        "\n",
        "cm = confusion_matrix(y_test, pred)\n",
        "\n",
        "#fig, ax = plt.subplots(figsize=(8,6))\n",
        "#sns.heatmap(cm_matrix, annot=True, fmt='d', cmap='YlGnBu')\n"
      ]
    },
    {
      "cell_type": "code",
      "execution_count": null,
      "metadata": {
        "id": "9ZEXMsnOtpVw"
      },
      "outputs": [],
      "source": [
        "import seaborn as sns\n",
        "import matplotlib.pyplot as plt\n",
        "import pandas as pd\n",
        "\n",
        "\n",
        "df_cm = pd.DataFrame(cm, index = list(set(encode_labels(lemm_doc))), columns = list(set(encode_labels(lemm_doc))))\n",
        "# plt.figure(figsize=(10,7))\n",
        "sns.set(font_scale=1.4) # for label size\n",
        "sns.heatmap(df_cm, annot=True, annot_kws={\"size\": 16}) # font size"
      ]
    },
    {
      "cell_type": "markdown",
      "metadata": {
        "id": "j8XniduKOnTU"
      },
      "source": [
        "# MLT and BERT Embedding [source](https://arxiv.org/pdf/2201.05363.pdf)"
      ]
    },
    {
      "cell_type": "code",
      "execution_count": null,
      "metadata": {
        "id": "drKPPiwr3tL6"
      },
      "outputs": [],
      "source": [
        "from nltk.sentiment.util import mark_negation\n",
        "from typing import List, Dict\n",
        "\n",
        "def negative_marking(doc : List[str]) -> List[str]:\n",
        "    '''\n",
        "        Params :\n",
        "        -----------------\n",
        "            doc : list[str]\n",
        "                document where each element is a list of strings\n",
        "        Returns :\n",
        "            negated_doc : list[str]\n",
        "                document after having applied double negation\n",
        "    '''\n",
        "\n",
        "    flat_doc = [w for sent in doc for w in sent]\n",
        "    negated_doc = mark_negation(flat_doc, double_neg_flip=True)\n",
        "\n",
        "    return \" \".join([w for w in negated_doc])"
      ]
    },
    {
      "cell_type": "code",
      "execution_count": null,
      "metadata": {
        "colab": {
          "base_uri": "https://localhost:8080/"
        },
        "id": "w0_IAEQoNCQy",
        "outputId": "5e11a75b-d4f3-409b-d973-0a622cd9d753"
      },
      "outputs": [
        {
          "name": "stderr",
          "output_type": "stream",
          "text": [
            "[nltk_data] Downloading package punkt to /root/nltk_data...\n",
            "[nltk_data]   Package punkt is already up-to-date!\n",
            "[nltk_data] Downloading package movie_reviews to /root/nltk_data...\n",
            "[nltk_data]   Package movie_reviews is already up-to-date!\n",
            "[nltk_data] Downloading package subjectivity to /root/nltk_data...\n",
            "[nltk_data]   Package subjectivity is already up-to-date!\n"
          ]
        },
        {
          "name": "stdout",
          "output_type": "stream",
          "text": [
            "1000 1000\n",
            "5000 5000\n"
          ]
        }
      ],
      "source": [
        "from textblob.en import subjectivity\n",
        "import nltk\n",
        "from nltk.corpus import movie_reviews\n",
        "from nltk.corpus import subjectivity\n",
        "\n",
        "nltk.download('punkt')\n",
        "nltk.download('movie_reviews')\n",
        "nltk.download('subjectivity')\n",
        "\n",
        "\n",
        "mr = movie_reviews\n",
        "sub = subjectivity\n",
        "neg = mr.paras(categories='neg')\n",
        "pos = mr.paras(categories='pos')\n",
        "\n",
        "\n",
        "subj_docs = [(sent, 'subj') for sent in subjectivity.sents(categories='subj')]\n",
        "obj_docs = [(sent, 'obj') for sent in subjectivity.sents(categories='obj')]\n",
        "\n",
        "print(len(neg), len(pos))\n",
        "print(len(subj_docs), len(obj_docs))"
      ]
    },
    {
      "cell_type": "code",
      "execution_count": null,
      "metadata": {
        "id": "-TTB7Gm91fdM"
      },
      "outputs": [],
      "source": [
        "new_corpus = [negative_marking(d) for d in pos] + [negative_marking(d) for d in neg]"
      ]
    },
    {
      "cell_type": "code",
      "execution_count": null,
      "metadata": {
        "id": "ObwV9cdP30xJ"
      },
      "outputs": [],
      "source": [
        "import pandas as pd\n",
        "\n",
        "data = pd.DataFrame(new_corpus, columns=['text'])"
      ]
    },
    {
      "cell_type": "code",
      "execution_count": null,
      "metadata": {
        "colab": {
          "base_uri": "https://localhost:8080/"
        },
        "id": "qVq0BcGy4DQt",
        "outputId": "ec33c97d-e572-4b04-f5b6-9eefa2e72547"
      },
      "outputs": [
        {
          "name": "stdout",
          "output_type": "stream",
          "text": [
            "                                                   text\n",
            "0     films adapted from comic books have had plenty...\n",
            "1     every now and then a movie comes along from a ...\n",
            "2     you ' ve got mail works alot better than it de...\n",
            "3     \" jaws \" is a rare film that grabs your attent...\n",
            "4     moviemaking is a lot like being the general ma...\n",
            "...                                                 ...\n",
            "1995  if anything , \" stigmata \" should be taken as ...\n",
            "1996  john boorman ' s \" zardoz \" is a goofy cinemat...\n",
            "1997  the kids in the hall are an acquired taste . i...\n",
            "1998  there was a time when john carpenter was a gre...\n",
            "1999  two party guys bob their heads to haddaway ' s...\n",
            "\n",
            "[2000 rows x 1 columns]\n"
          ]
        }
      ],
      "source": [
        "print(data)"
      ]
    },
    {
      "cell_type": "code",
      "execution_count": null,
      "metadata": {
        "colab": {
          "base_uri": "https://localhost:8080/",
          "height": 71
        },
        "id": "9jqgMwm-4KZL",
        "outputId": "c2c9b8db-c530-4f9c-8149-9710288f73ea"
      },
      "outputs": [
        {
          "name": "stderr",
          "output_type": "stream",
          "text": [
            "[nltk_data] Downloading package stopwords to /root/nltk_data...\n",
            "[nltk_data]   Package stopwords is already up-to-date!\n"
          ]
        },
        {
          "data": {
            "application/vnd.google.colaboratory.intrinsic+json": {
              "type": "string"
            },
            "text/plain": [
              "'beautiful if'"
            ]
          },
          "execution_count": 65,
          "metadata": {},
          "output_type": "execute_result"
        }
      ],
      "source": [
        "from nltk.corpus import stopwords\n",
        "import re\n",
        "import string\n",
        "from textblob import TextBlob as tb\n",
        "\n",
        "\n",
        "\n",
        "nltk.download('stopwords')\n",
        "\n",
        "## https://stackoverflow.com/questions/11331982/how-to-remove-any-url-within-a-string-in-python\n",
        "# since re are largely used for this type of applications, the regex module is used\n",
        "# re.sub(pattern, repl, string, count=0, flags=0)\n",
        "\n",
        "def pre_processing(text : str) -> str :\n",
        "  '''Clear text from numbers, stop words (very common words), punctuation and \n",
        "    correct possible misspelled words\n",
        "\n",
        "    Params :\n",
        "    --------\n",
        "      cw : List[str]\n",
        "        list of words in the sentence to be cleaned\n",
        "    Returns :\n",
        "    ---------\n",
        "      list of cleaned words\n",
        "  '''\n",
        "\n",
        "  stop_list = set(stopwords.words(\"english\"))\n",
        "  text = list(text.lower().split())\n",
        "  text = ' '.join([word for word in text if word not in stop_list])\n",
        "  # remove http links\n",
        "  text = re.sub(r'http\\S+', '', text)\n",
        "  # Remove hashtags\n",
        "  text = re.sub(r'#\\w*', '', text)\n",
        "  # Remove whitespace (including new line characters)\n",
        "  text = re.sub(r'\\s\\s+', '', text)\n",
        "  # Remove single space remaining at the front of the tweet.\n",
        "  text = text.lstrip(' ') \n",
        "  # Remove @username\n",
        "  text = re.sub('@[^\\s]+','', text)\n",
        "  text = list(text.translate(str.maketrans('', '', string.punctuation)).split())\n",
        "  # correction of possible miss-click\n",
        "  text = ' '.join([str(tb(word).correct()) for word in text])\n",
        "\n",
        "  return text\n",
        "\n",
        "\n",
        "\n",
        "pre_processing('it is a beautiful lif, https://github @matthew')"
      ]
    },
    {
      "cell_type": "code",
      "execution_count": null,
      "metadata": {
        "id": "FPZNKlj4DZvU"
      },
      "outputs": [],
      "source": [
        "data['text'] = data['text'].apply(pre_processing)\n",
        "print(data)"
      ]
    },
    {
      "cell_type": "code",
      "execution_count": null,
      "metadata": {
        "id": "y-4K-_7uGyrt"
      },
      "outputs": [],
      "source": [
        "data"
      ]
    },
    {
      "cell_type": "code",
      "execution_count": null,
      "metadata": {
        "id": "K9F1mIzdG0Xe"
      },
      "outputs": [],
      "source": [
        "labels = [[1,0]] * len(data['text']//2) + [[0,1]] * len(data['text']//2)\n",
        "len(labels)"
      ]
    },
    {
      "cell_type": "code",
      "execution_count": null,
      "metadata": {
        "id": "GiZCNH8OIuIo"
      },
      "outputs": [],
      "source": [
        "df = pd.DataFrame(labels, columns=['pos', 'neg'])"
      ]
    },
    {
      "cell_type": "code",
      "execution_count": null,
      "metadata": {
        "id": "4IyavQdXI0uP"
      },
      "outputs": [],
      "source": [
        "df"
      ]
    },
    {
      "cell_type": "code",
      "execution_count": null,
      "metadata": {
        "id": "Ha4eV-ECI6AY"
      },
      "outputs": [],
      "source": [
        "complete_data = pd.concat([data, df], axis=1)\n",
        "#ahaha"
      ]
    },
    {
      "cell_type": "code",
      "execution_count": null,
      "metadata": {
        "id": "M0YFpa9NJHcU"
      },
      "outputs": [],
      "source": []
    }
  ],
  "metadata": {
    "colab": {
      "name": "Subjectivity_and_Polarity_Classification.ipynb",
      "provenance": [],
      "include_colab_link": true
    },
    "kernelspec": {
      "display_name": "Python 3",
      "name": "python3"
    },
    "language_info": {
      "name": "python"
    }
  },
  "nbformat": 4,
  "nbformat_minor": 0
}