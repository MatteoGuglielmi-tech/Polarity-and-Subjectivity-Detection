{
  "nbformat": 4,
  "nbformat_minor": 0,
  "metadata": {
    "colab": {
      "provenance": [],
      "include_colab_link": true
    },
    "kernelspec": {
      "name": "python3",
      "display_name": "Python 3"
    },
    "language_info": {
      "name": "python"
    },
    "gpuClass": "standard",
    "accelerator": "GPU",
    "widgets": {
      "application/vnd.jupyter.widget-state+json": {
        "ff33b104a2344efab376c50a316987fd": {
          "model_module": "@jupyter-widgets/controls",
          "model_name": "HBoxModel",
          "model_module_version": "1.5.0",
          "state": {
            "_dom_classes": [],
            "_model_module": "@jupyter-widgets/controls",
            "_model_module_version": "1.5.0",
            "_model_name": "HBoxModel",
            "_view_count": null,
            "_view_module": "@jupyter-widgets/controls",
            "_view_module_version": "1.5.0",
            "_view_name": "HBoxView",
            "box_style": "",
            "children": [
              "IPY_MODEL_70fa849bb9cc4e6285cffa565f075fd7",
              "IPY_MODEL_2534c27babde4fc8b9fa332f678dc234",
              "IPY_MODEL_57dc1afb998f4e78b54e33e2cbce06e1"
            ],
            "layout": "IPY_MODEL_bf0b3a5eb89a4026a379da2e9c6f26d6"
          }
        },
        "70fa849bb9cc4e6285cffa565f075fd7": {
          "model_module": "@jupyter-widgets/controls",
          "model_name": "HTMLModel",
          "model_module_version": "1.5.0",
          "state": {
            "_dom_classes": [],
            "_model_module": "@jupyter-widgets/controls",
            "_model_module_version": "1.5.0",
            "_model_name": "HTMLModel",
            "_view_count": null,
            "_view_module": "@jupyter-widgets/controls",
            "_view_module_version": "1.5.0",
            "_view_name": "HTMLView",
            "description": "",
            "description_tooltip": null,
            "layout": "IPY_MODEL_8c84f5e631c649bf8add77b652ffcc6c",
            "placeholder": "​",
            "style": "IPY_MODEL_e21aa93f6bb44cab953ba9d86af236f3",
            "value": "Downloading: 100%"
          }
        },
        "2534c27babde4fc8b9fa332f678dc234": {
          "model_module": "@jupyter-widgets/controls",
          "model_name": "FloatProgressModel",
          "model_module_version": "1.5.0",
          "state": {
            "_dom_classes": [],
            "_model_module": "@jupyter-widgets/controls",
            "_model_module_version": "1.5.0",
            "_model_name": "FloatProgressModel",
            "_view_count": null,
            "_view_module": "@jupyter-widgets/controls",
            "_view_module_version": "1.5.0",
            "_view_name": "ProgressView",
            "bar_style": "success",
            "description": "",
            "description_tooltip": null,
            "layout": "IPY_MODEL_6ef0a327954344ab9e2bff564f061a91",
            "max": 231508,
            "min": 0,
            "orientation": "horizontal",
            "style": "IPY_MODEL_91d50170b5be47a9a064fa362eeb027f",
            "value": 231508
          }
        },
        "57dc1afb998f4e78b54e33e2cbce06e1": {
          "model_module": "@jupyter-widgets/controls",
          "model_name": "HTMLModel",
          "model_module_version": "1.5.0",
          "state": {
            "_dom_classes": [],
            "_model_module": "@jupyter-widgets/controls",
            "_model_module_version": "1.5.0",
            "_model_name": "HTMLModel",
            "_view_count": null,
            "_view_module": "@jupyter-widgets/controls",
            "_view_module_version": "1.5.0",
            "_view_name": "HTMLView",
            "description": "",
            "description_tooltip": null,
            "layout": "IPY_MODEL_0c61f7f31dab44e9a28d1cba04e495d8",
            "placeholder": "​",
            "style": "IPY_MODEL_67522bdffb6c423cbb2262db5fdb56bd",
            "value": " 232k/232k [00:00&lt;00:00, 653kB/s]"
          }
        },
        "bf0b3a5eb89a4026a379da2e9c6f26d6": {
          "model_module": "@jupyter-widgets/base",
          "model_name": "LayoutModel",
          "model_module_version": "1.2.0",
          "state": {
            "_model_module": "@jupyter-widgets/base",
            "_model_module_version": "1.2.0",
            "_model_name": "LayoutModel",
            "_view_count": null,
            "_view_module": "@jupyter-widgets/base",
            "_view_module_version": "1.2.0",
            "_view_name": "LayoutView",
            "align_content": null,
            "align_items": null,
            "align_self": null,
            "border": null,
            "bottom": null,
            "display": null,
            "flex": null,
            "flex_flow": null,
            "grid_area": null,
            "grid_auto_columns": null,
            "grid_auto_flow": null,
            "grid_auto_rows": null,
            "grid_column": null,
            "grid_gap": null,
            "grid_row": null,
            "grid_template_areas": null,
            "grid_template_columns": null,
            "grid_template_rows": null,
            "height": null,
            "justify_content": null,
            "justify_items": null,
            "left": null,
            "margin": null,
            "max_height": null,
            "max_width": null,
            "min_height": null,
            "min_width": null,
            "object_fit": null,
            "object_position": null,
            "order": null,
            "overflow": null,
            "overflow_x": null,
            "overflow_y": null,
            "padding": null,
            "right": null,
            "top": null,
            "visibility": null,
            "width": null
          }
        },
        "8c84f5e631c649bf8add77b652ffcc6c": {
          "model_module": "@jupyter-widgets/base",
          "model_name": "LayoutModel",
          "model_module_version": "1.2.0",
          "state": {
            "_model_module": "@jupyter-widgets/base",
            "_model_module_version": "1.2.0",
            "_model_name": "LayoutModel",
            "_view_count": null,
            "_view_module": "@jupyter-widgets/base",
            "_view_module_version": "1.2.0",
            "_view_name": "LayoutView",
            "align_content": null,
            "align_items": null,
            "align_self": null,
            "border": null,
            "bottom": null,
            "display": null,
            "flex": null,
            "flex_flow": null,
            "grid_area": null,
            "grid_auto_columns": null,
            "grid_auto_flow": null,
            "grid_auto_rows": null,
            "grid_column": null,
            "grid_gap": null,
            "grid_row": null,
            "grid_template_areas": null,
            "grid_template_columns": null,
            "grid_template_rows": null,
            "height": null,
            "justify_content": null,
            "justify_items": null,
            "left": null,
            "margin": null,
            "max_height": null,
            "max_width": null,
            "min_height": null,
            "min_width": null,
            "object_fit": null,
            "object_position": null,
            "order": null,
            "overflow": null,
            "overflow_x": null,
            "overflow_y": null,
            "padding": null,
            "right": null,
            "top": null,
            "visibility": null,
            "width": null
          }
        },
        "e21aa93f6bb44cab953ba9d86af236f3": {
          "model_module": "@jupyter-widgets/controls",
          "model_name": "DescriptionStyleModel",
          "model_module_version": "1.5.0",
          "state": {
            "_model_module": "@jupyter-widgets/controls",
            "_model_module_version": "1.5.0",
            "_model_name": "DescriptionStyleModel",
            "_view_count": null,
            "_view_module": "@jupyter-widgets/base",
            "_view_module_version": "1.2.0",
            "_view_name": "StyleView",
            "description_width": ""
          }
        },
        "6ef0a327954344ab9e2bff564f061a91": {
          "model_module": "@jupyter-widgets/base",
          "model_name": "LayoutModel",
          "model_module_version": "1.2.0",
          "state": {
            "_model_module": "@jupyter-widgets/base",
            "_model_module_version": "1.2.0",
            "_model_name": "LayoutModel",
            "_view_count": null,
            "_view_module": "@jupyter-widgets/base",
            "_view_module_version": "1.2.0",
            "_view_name": "LayoutView",
            "align_content": null,
            "align_items": null,
            "align_self": null,
            "border": null,
            "bottom": null,
            "display": null,
            "flex": null,
            "flex_flow": null,
            "grid_area": null,
            "grid_auto_columns": null,
            "grid_auto_flow": null,
            "grid_auto_rows": null,
            "grid_column": null,
            "grid_gap": null,
            "grid_row": null,
            "grid_template_areas": null,
            "grid_template_columns": null,
            "grid_template_rows": null,
            "height": null,
            "justify_content": null,
            "justify_items": null,
            "left": null,
            "margin": null,
            "max_height": null,
            "max_width": null,
            "min_height": null,
            "min_width": null,
            "object_fit": null,
            "object_position": null,
            "order": null,
            "overflow": null,
            "overflow_x": null,
            "overflow_y": null,
            "padding": null,
            "right": null,
            "top": null,
            "visibility": null,
            "width": null
          }
        },
        "91d50170b5be47a9a064fa362eeb027f": {
          "model_module": "@jupyter-widgets/controls",
          "model_name": "ProgressStyleModel",
          "model_module_version": "1.5.0",
          "state": {
            "_model_module": "@jupyter-widgets/controls",
            "_model_module_version": "1.5.0",
            "_model_name": "ProgressStyleModel",
            "_view_count": null,
            "_view_module": "@jupyter-widgets/base",
            "_view_module_version": "1.2.0",
            "_view_name": "StyleView",
            "bar_color": null,
            "description_width": ""
          }
        },
        "0c61f7f31dab44e9a28d1cba04e495d8": {
          "model_module": "@jupyter-widgets/base",
          "model_name": "LayoutModel",
          "model_module_version": "1.2.0",
          "state": {
            "_model_module": "@jupyter-widgets/base",
            "_model_module_version": "1.2.0",
            "_model_name": "LayoutModel",
            "_view_count": null,
            "_view_module": "@jupyter-widgets/base",
            "_view_module_version": "1.2.0",
            "_view_name": "LayoutView",
            "align_content": null,
            "align_items": null,
            "align_self": null,
            "border": null,
            "bottom": null,
            "display": null,
            "flex": null,
            "flex_flow": null,
            "grid_area": null,
            "grid_auto_columns": null,
            "grid_auto_flow": null,
            "grid_auto_rows": null,
            "grid_column": null,
            "grid_gap": null,
            "grid_row": null,
            "grid_template_areas": null,
            "grid_template_columns": null,
            "grid_template_rows": null,
            "height": null,
            "justify_content": null,
            "justify_items": null,
            "left": null,
            "margin": null,
            "max_height": null,
            "max_width": null,
            "min_height": null,
            "min_width": null,
            "object_fit": null,
            "object_position": null,
            "order": null,
            "overflow": null,
            "overflow_x": null,
            "overflow_y": null,
            "padding": null,
            "right": null,
            "top": null,
            "visibility": null,
            "width": null
          }
        },
        "67522bdffb6c423cbb2262db5fdb56bd": {
          "model_module": "@jupyter-widgets/controls",
          "model_name": "DescriptionStyleModel",
          "model_module_version": "1.5.0",
          "state": {
            "_model_module": "@jupyter-widgets/controls",
            "_model_module_version": "1.5.0",
            "_model_name": "DescriptionStyleModel",
            "_view_count": null,
            "_view_module": "@jupyter-widgets/base",
            "_view_module_version": "1.2.0",
            "_view_name": "StyleView",
            "description_width": ""
          }
        },
        "5f880b878efc435290643136f4124736": {
          "model_module": "@jupyter-widgets/controls",
          "model_name": "HBoxModel",
          "model_module_version": "1.5.0",
          "state": {
            "_dom_classes": [],
            "_model_module": "@jupyter-widgets/controls",
            "_model_module_version": "1.5.0",
            "_model_name": "HBoxModel",
            "_view_count": null,
            "_view_module": "@jupyter-widgets/controls",
            "_view_module_version": "1.5.0",
            "_view_name": "HBoxView",
            "box_style": "",
            "children": [
              "IPY_MODEL_7b9274d8e20c407699605319d54770ef",
              "IPY_MODEL_5e5d92a612844cd49c5abc58d11e6d3c",
              "IPY_MODEL_9b5c8aede79345e7b7801719fda09782"
            ],
            "layout": "IPY_MODEL_13b065134c4043578b2ee207e8c2bc30"
          }
        },
        "7b9274d8e20c407699605319d54770ef": {
          "model_module": "@jupyter-widgets/controls",
          "model_name": "HTMLModel",
          "model_module_version": "1.5.0",
          "state": {
            "_dom_classes": [],
            "_model_module": "@jupyter-widgets/controls",
            "_model_module_version": "1.5.0",
            "_model_name": "HTMLModel",
            "_view_count": null,
            "_view_module": "@jupyter-widgets/controls",
            "_view_module_version": "1.5.0",
            "_view_name": "HTMLView",
            "description": "",
            "description_tooltip": null,
            "layout": "IPY_MODEL_ba5bb2ed0ca0434aaf8612389d1b0dcb",
            "placeholder": "​",
            "style": "IPY_MODEL_71eaec22b694437fbc3994f1bfa0b04e",
            "value": "Downloading: 100%"
          }
        },
        "5e5d92a612844cd49c5abc58d11e6d3c": {
          "model_module": "@jupyter-widgets/controls",
          "model_name": "FloatProgressModel",
          "model_module_version": "1.5.0",
          "state": {
            "_dom_classes": [],
            "_model_module": "@jupyter-widgets/controls",
            "_model_module_version": "1.5.0",
            "_model_name": "FloatProgressModel",
            "_view_count": null,
            "_view_module": "@jupyter-widgets/controls",
            "_view_module_version": "1.5.0",
            "_view_name": "ProgressView",
            "bar_style": "success",
            "description": "",
            "description_tooltip": null,
            "layout": "IPY_MODEL_7b922223d82b4c6182b852da011df18e",
            "max": 28,
            "min": 0,
            "orientation": "horizontal",
            "style": "IPY_MODEL_682694d1d48f425c9846477fb79bf6b0",
            "value": 28
          }
        },
        "9b5c8aede79345e7b7801719fda09782": {
          "model_module": "@jupyter-widgets/controls",
          "model_name": "HTMLModel",
          "model_module_version": "1.5.0",
          "state": {
            "_dom_classes": [],
            "_model_module": "@jupyter-widgets/controls",
            "_model_module_version": "1.5.0",
            "_model_name": "HTMLModel",
            "_view_count": null,
            "_view_module": "@jupyter-widgets/controls",
            "_view_module_version": "1.5.0",
            "_view_name": "HTMLView",
            "description": "",
            "description_tooltip": null,
            "layout": "IPY_MODEL_bba04c983c284de1a2289ea9e55337e9",
            "placeholder": "​",
            "style": "IPY_MODEL_439d6c07c9ef42d285cb9125feb44fc9",
            "value": " 28.0/28.0 [00:00&lt;00:00, 978B/s]"
          }
        },
        "13b065134c4043578b2ee207e8c2bc30": {
          "model_module": "@jupyter-widgets/base",
          "model_name": "LayoutModel",
          "model_module_version": "1.2.0",
          "state": {
            "_model_module": "@jupyter-widgets/base",
            "_model_module_version": "1.2.0",
            "_model_name": "LayoutModel",
            "_view_count": null,
            "_view_module": "@jupyter-widgets/base",
            "_view_module_version": "1.2.0",
            "_view_name": "LayoutView",
            "align_content": null,
            "align_items": null,
            "align_self": null,
            "border": null,
            "bottom": null,
            "display": null,
            "flex": null,
            "flex_flow": null,
            "grid_area": null,
            "grid_auto_columns": null,
            "grid_auto_flow": null,
            "grid_auto_rows": null,
            "grid_column": null,
            "grid_gap": null,
            "grid_row": null,
            "grid_template_areas": null,
            "grid_template_columns": null,
            "grid_template_rows": null,
            "height": null,
            "justify_content": null,
            "justify_items": null,
            "left": null,
            "margin": null,
            "max_height": null,
            "max_width": null,
            "min_height": null,
            "min_width": null,
            "object_fit": null,
            "object_position": null,
            "order": null,
            "overflow": null,
            "overflow_x": null,
            "overflow_y": null,
            "padding": null,
            "right": null,
            "top": null,
            "visibility": null,
            "width": null
          }
        },
        "ba5bb2ed0ca0434aaf8612389d1b0dcb": {
          "model_module": "@jupyter-widgets/base",
          "model_name": "LayoutModel",
          "model_module_version": "1.2.0",
          "state": {
            "_model_module": "@jupyter-widgets/base",
            "_model_module_version": "1.2.0",
            "_model_name": "LayoutModel",
            "_view_count": null,
            "_view_module": "@jupyter-widgets/base",
            "_view_module_version": "1.2.0",
            "_view_name": "LayoutView",
            "align_content": null,
            "align_items": null,
            "align_self": null,
            "border": null,
            "bottom": null,
            "display": null,
            "flex": null,
            "flex_flow": null,
            "grid_area": null,
            "grid_auto_columns": null,
            "grid_auto_flow": null,
            "grid_auto_rows": null,
            "grid_column": null,
            "grid_gap": null,
            "grid_row": null,
            "grid_template_areas": null,
            "grid_template_columns": null,
            "grid_template_rows": null,
            "height": null,
            "justify_content": null,
            "justify_items": null,
            "left": null,
            "margin": null,
            "max_height": null,
            "max_width": null,
            "min_height": null,
            "min_width": null,
            "object_fit": null,
            "object_position": null,
            "order": null,
            "overflow": null,
            "overflow_x": null,
            "overflow_y": null,
            "padding": null,
            "right": null,
            "top": null,
            "visibility": null,
            "width": null
          }
        },
        "71eaec22b694437fbc3994f1bfa0b04e": {
          "model_module": "@jupyter-widgets/controls",
          "model_name": "DescriptionStyleModel",
          "model_module_version": "1.5.0",
          "state": {
            "_model_module": "@jupyter-widgets/controls",
            "_model_module_version": "1.5.0",
            "_model_name": "DescriptionStyleModel",
            "_view_count": null,
            "_view_module": "@jupyter-widgets/base",
            "_view_module_version": "1.2.0",
            "_view_name": "StyleView",
            "description_width": ""
          }
        },
        "7b922223d82b4c6182b852da011df18e": {
          "model_module": "@jupyter-widgets/base",
          "model_name": "LayoutModel",
          "model_module_version": "1.2.0",
          "state": {
            "_model_module": "@jupyter-widgets/base",
            "_model_module_version": "1.2.0",
            "_model_name": "LayoutModel",
            "_view_count": null,
            "_view_module": "@jupyter-widgets/base",
            "_view_module_version": "1.2.0",
            "_view_name": "LayoutView",
            "align_content": null,
            "align_items": null,
            "align_self": null,
            "border": null,
            "bottom": null,
            "display": null,
            "flex": null,
            "flex_flow": null,
            "grid_area": null,
            "grid_auto_columns": null,
            "grid_auto_flow": null,
            "grid_auto_rows": null,
            "grid_column": null,
            "grid_gap": null,
            "grid_row": null,
            "grid_template_areas": null,
            "grid_template_columns": null,
            "grid_template_rows": null,
            "height": null,
            "justify_content": null,
            "justify_items": null,
            "left": null,
            "margin": null,
            "max_height": null,
            "max_width": null,
            "min_height": null,
            "min_width": null,
            "object_fit": null,
            "object_position": null,
            "order": null,
            "overflow": null,
            "overflow_x": null,
            "overflow_y": null,
            "padding": null,
            "right": null,
            "top": null,
            "visibility": null,
            "width": null
          }
        },
        "682694d1d48f425c9846477fb79bf6b0": {
          "model_module": "@jupyter-widgets/controls",
          "model_name": "ProgressStyleModel",
          "model_module_version": "1.5.0",
          "state": {
            "_model_module": "@jupyter-widgets/controls",
            "_model_module_version": "1.5.0",
            "_model_name": "ProgressStyleModel",
            "_view_count": null,
            "_view_module": "@jupyter-widgets/base",
            "_view_module_version": "1.2.0",
            "_view_name": "StyleView",
            "bar_color": null,
            "description_width": ""
          }
        },
        "bba04c983c284de1a2289ea9e55337e9": {
          "model_module": "@jupyter-widgets/base",
          "model_name": "LayoutModel",
          "model_module_version": "1.2.0",
          "state": {
            "_model_module": "@jupyter-widgets/base",
            "_model_module_version": "1.2.0",
            "_model_name": "LayoutModel",
            "_view_count": null,
            "_view_module": "@jupyter-widgets/base",
            "_view_module_version": "1.2.0",
            "_view_name": "LayoutView",
            "align_content": null,
            "align_items": null,
            "align_self": null,
            "border": null,
            "bottom": null,
            "display": null,
            "flex": null,
            "flex_flow": null,
            "grid_area": null,
            "grid_auto_columns": null,
            "grid_auto_flow": null,
            "grid_auto_rows": null,
            "grid_column": null,
            "grid_gap": null,
            "grid_row": null,
            "grid_template_areas": null,
            "grid_template_columns": null,
            "grid_template_rows": null,
            "height": null,
            "justify_content": null,
            "justify_items": null,
            "left": null,
            "margin": null,
            "max_height": null,
            "max_width": null,
            "min_height": null,
            "min_width": null,
            "object_fit": null,
            "object_position": null,
            "order": null,
            "overflow": null,
            "overflow_x": null,
            "overflow_y": null,
            "padding": null,
            "right": null,
            "top": null,
            "visibility": null,
            "width": null
          }
        },
        "439d6c07c9ef42d285cb9125feb44fc9": {
          "model_module": "@jupyter-widgets/controls",
          "model_name": "DescriptionStyleModel",
          "model_module_version": "1.5.0",
          "state": {
            "_model_module": "@jupyter-widgets/controls",
            "_model_module_version": "1.5.0",
            "_model_name": "DescriptionStyleModel",
            "_view_count": null,
            "_view_module": "@jupyter-widgets/base",
            "_view_module_version": "1.2.0",
            "_view_name": "StyleView",
            "description_width": ""
          }
        },
        "d8018fb1e00d47488b734491024a9d92": {
          "model_module": "@jupyter-widgets/controls",
          "model_name": "HBoxModel",
          "model_module_version": "1.5.0",
          "state": {
            "_dom_classes": [],
            "_model_module": "@jupyter-widgets/controls",
            "_model_module_version": "1.5.0",
            "_model_name": "HBoxModel",
            "_view_count": null,
            "_view_module": "@jupyter-widgets/controls",
            "_view_module_version": "1.5.0",
            "_view_name": "HBoxView",
            "box_style": "",
            "children": [
              "IPY_MODEL_44762f92a0f54099819b2fd8017878f3",
              "IPY_MODEL_dd8c938ccd5e4a679a333d342404da50",
              "IPY_MODEL_6d513e1298104880bd0095828056b422"
            ],
            "layout": "IPY_MODEL_21e5dda86dfa41e9b633bf68540f397e"
          }
        },
        "44762f92a0f54099819b2fd8017878f3": {
          "model_module": "@jupyter-widgets/controls",
          "model_name": "HTMLModel",
          "model_module_version": "1.5.0",
          "state": {
            "_dom_classes": [],
            "_model_module": "@jupyter-widgets/controls",
            "_model_module_version": "1.5.0",
            "_model_name": "HTMLModel",
            "_view_count": null,
            "_view_module": "@jupyter-widgets/controls",
            "_view_module_version": "1.5.0",
            "_view_name": "HTMLView",
            "description": "",
            "description_tooltip": null,
            "layout": "IPY_MODEL_15d95466d97c4327b5d1f7e47b06aff7",
            "placeholder": "​",
            "style": "IPY_MODEL_cc1528a1e3c9459cb639556b1e4aa3a8",
            "value": "Downloading: 100%"
          }
        },
        "dd8c938ccd5e4a679a333d342404da50": {
          "model_module": "@jupyter-widgets/controls",
          "model_name": "FloatProgressModel",
          "model_module_version": "1.5.0",
          "state": {
            "_dom_classes": [],
            "_model_module": "@jupyter-widgets/controls",
            "_model_module_version": "1.5.0",
            "_model_name": "FloatProgressModel",
            "_view_count": null,
            "_view_module": "@jupyter-widgets/controls",
            "_view_module_version": "1.5.0",
            "_view_name": "ProgressView",
            "bar_style": "success",
            "description": "",
            "description_tooltip": null,
            "layout": "IPY_MODEL_b989537fd951478bb1f3650d4ff02274",
            "max": 570,
            "min": 0,
            "orientation": "horizontal",
            "style": "IPY_MODEL_ce2e50cc582c4cd6964ab4e78cb911f5",
            "value": 570
          }
        },
        "6d513e1298104880bd0095828056b422": {
          "model_module": "@jupyter-widgets/controls",
          "model_name": "HTMLModel",
          "model_module_version": "1.5.0",
          "state": {
            "_dom_classes": [],
            "_model_module": "@jupyter-widgets/controls",
            "_model_module_version": "1.5.0",
            "_model_name": "HTMLModel",
            "_view_count": null,
            "_view_module": "@jupyter-widgets/controls",
            "_view_module_version": "1.5.0",
            "_view_name": "HTMLView",
            "description": "",
            "description_tooltip": null,
            "layout": "IPY_MODEL_b39e30c7bcbc4ed0a13d761e44649f36",
            "placeholder": "​",
            "style": "IPY_MODEL_ce086ada6e554d5ba1a32cfdd831dbc5",
            "value": " 570/570 [00:00&lt;00:00, 19.0kB/s]"
          }
        },
        "21e5dda86dfa41e9b633bf68540f397e": {
          "model_module": "@jupyter-widgets/base",
          "model_name": "LayoutModel",
          "model_module_version": "1.2.0",
          "state": {
            "_model_module": "@jupyter-widgets/base",
            "_model_module_version": "1.2.0",
            "_model_name": "LayoutModel",
            "_view_count": null,
            "_view_module": "@jupyter-widgets/base",
            "_view_module_version": "1.2.0",
            "_view_name": "LayoutView",
            "align_content": null,
            "align_items": null,
            "align_self": null,
            "border": null,
            "bottom": null,
            "display": null,
            "flex": null,
            "flex_flow": null,
            "grid_area": null,
            "grid_auto_columns": null,
            "grid_auto_flow": null,
            "grid_auto_rows": null,
            "grid_column": null,
            "grid_gap": null,
            "grid_row": null,
            "grid_template_areas": null,
            "grid_template_columns": null,
            "grid_template_rows": null,
            "height": null,
            "justify_content": null,
            "justify_items": null,
            "left": null,
            "margin": null,
            "max_height": null,
            "max_width": null,
            "min_height": null,
            "min_width": null,
            "object_fit": null,
            "object_position": null,
            "order": null,
            "overflow": null,
            "overflow_x": null,
            "overflow_y": null,
            "padding": null,
            "right": null,
            "top": null,
            "visibility": null,
            "width": null
          }
        },
        "15d95466d97c4327b5d1f7e47b06aff7": {
          "model_module": "@jupyter-widgets/base",
          "model_name": "LayoutModel",
          "model_module_version": "1.2.0",
          "state": {
            "_model_module": "@jupyter-widgets/base",
            "_model_module_version": "1.2.0",
            "_model_name": "LayoutModel",
            "_view_count": null,
            "_view_module": "@jupyter-widgets/base",
            "_view_module_version": "1.2.0",
            "_view_name": "LayoutView",
            "align_content": null,
            "align_items": null,
            "align_self": null,
            "border": null,
            "bottom": null,
            "display": null,
            "flex": null,
            "flex_flow": null,
            "grid_area": null,
            "grid_auto_columns": null,
            "grid_auto_flow": null,
            "grid_auto_rows": null,
            "grid_column": null,
            "grid_gap": null,
            "grid_row": null,
            "grid_template_areas": null,
            "grid_template_columns": null,
            "grid_template_rows": null,
            "height": null,
            "justify_content": null,
            "justify_items": null,
            "left": null,
            "margin": null,
            "max_height": null,
            "max_width": null,
            "min_height": null,
            "min_width": null,
            "object_fit": null,
            "object_position": null,
            "order": null,
            "overflow": null,
            "overflow_x": null,
            "overflow_y": null,
            "padding": null,
            "right": null,
            "top": null,
            "visibility": null,
            "width": null
          }
        },
        "cc1528a1e3c9459cb639556b1e4aa3a8": {
          "model_module": "@jupyter-widgets/controls",
          "model_name": "DescriptionStyleModel",
          "model_module_version": "1.5.0",
          "state": {
            "_model_module": "@jupyter-widgets/controls",
            "_model_module_version": "1.5.0",
            "_model_name": "DescriptionStyleModel",
            "_view_count": null,
            "_view_module": "@jupyter-widgets/base",
            "_view_module_version": "1.2.0",
            "_view_name": "StyleView",
            "description_width": ""
          }
        },
        "b989537fd951478bb1f3650d4ff02274": {
          "model_module": "@jupyter-widgets/base",
          "model_name": "LayoutModel",
          "model_module_version": "1.2.0",
          "state": {
            "_model_module": "@jupyter-widgets/base",
            "_model_module_version": "1.2.0",
            "_model_name": "LayoutModel",
            "_view_count": null,
            "_view_module": "@jupyter-widgets/base",
            "_view_module_version": "1.2.0",
            "_view_name": "LayoutView",
            "align_content": null,
            "align_items": null,
            "align_self": null,
            "border": null,
            "bottom": null,
            "display": null,
            "flex": null,
            "flex_flow": null,
            "grid_area": null,
            "grid_auto_columns": null,
            "grid_auto_flow": null,
            "grid_auto_rows": null,
            "grid_column": null,
            "grid_gap": null,
            "grid_row": null,
            "grid_template_areas": null,
            "grid_template_columns": null,
            "grid_template_rows": null,
            "height": null,
            "justify_content": null,
            "justify_items": null,
            "left": null,
            "margin": null,
            "max_height": null,
            "max_width": null,
            "min_height": null,
            "min_width": null,
            "object_fit": null,
            "object_position": null,
            "order": null,
            "overflow": null,
            "overflow_x": null,
            "overflow_y": null,
            "padding": null,
            "right": null,
            "top": null,
            "visibility": null,
            "width": null
          }
        },
        "ce2e50cc582c4cd6964ab4e78cb911f5": {
          "model_module": "@jupyter-widgets/controls",
          "model_name": "ProgressStyleModel",
          "model_module_version": "1.5.0",
          "state": {
            "_model_module": "@jupyter-widgets/controls",
            "_model_module_version": "1.5.0",
            "_model_name": "ProgressStyleModel",
            "_view_count": null,
            "_view_module": "@jupyter-widgets/base",
            "_view_module_version": "1.2.0",
            "_view_name": "StyleView",
            "bar_color": null,
            "description_width": ""
          }
        },
        "b39e30c7bcbc4ed0a13d761e44649f36": {
          "model_module": "@jupyter-widgets/base",
          "model_name": "LayoutModel",
          "model_module_version": "1.2.0",
          "state": {
            "_model_module": "@jupyter-widgets/base",
            "_model_module_version": "1.2.0",
            "_model_name": "LayoutModel",
            "_view_count": null,
            "_view_module": "@jupyter-widgets/base",
            "_view_module_version": "1.2.0",
            "_view_name": "LayoutView",
            "align_content": null,
            "align_items": null,
            "align_self": null,
            "border": null,
            "bottom": null,
            "display": null,
            "flex": null,
            "flex_flow": null,
            "grid_area": null,
            "grid_auto_columns": null,
            "grid_auto_flow": null,
            "grid_auto_rows": null,
            "grid_column": null,
            "grid_gap": null,
            "grid_row": null,
            "grid_template_areas": null,
            "grid_template_columns": null,
            "grid_template_rows": null,
            "height": null,
            "justify_content": null,
            "justify_items": null,
            "left": null,
            "margin": null,
            "max_height": null,
            "max_width": null,
            "min_height": null,
            "min_width": null,
            "object_fit": null,
            "object_position": null,
            "order": null,
            "overflow": null,
            "overflow_x": null,
            "overflow_y": null,
            "padding": null,
            "right": null,
            "top": null,
            "visibility": null,
            "width": null
          }
        },
        "ce086ada6e554d5ba1a32cfdd831dbc5": {
          "model_module": "@jupyter-widgets/controls",
          "model_name": "DescriptionStyleModel",
          "model_module_version": "1.5.0",
          "state": {
            "_model_module": "@jupyter-widgets/controls",
            "_model_module_version": "1.5.0",
            "_model_name": "DescriptionStyleModel",
            "_view_count": null,
            "_view_module": "@jupyter-widgets/base",
            "_view_module_version": "1.2.0",
            "_view_name": "StyleView",
            "description_width": ""
          }
        },
        "27907a61e77c440aacac0aecadeef4b3": {
          "model_module": "@jupyter-widgets/controls",
          "model_name": "HBoxModel",
          "model_module_version": "1.5.0",
          "state": {
            "_dom_classes": [],
            "_model_module": "@jupyter-widgets/controls",
            "_model_module_version": "1.5.0",
            "_model_name": "HBoxModel",
            "_view_count": null,
            "_view_module": "@jupyter-widgets/controls",
            "_view_module_version": "1.5.0",
            "_view_name": "HBoxView",
            "box_style": "",
            "children": [
              "IPY_MODEL_b9275bddde594070b62fc48f7d58334f",
              "IPY_MODEL_109bd0bbf0a54e4284339185d4cccacd",
              "IPY_MODEL_06dbf7e3755444038ff73cbafb9936b2"
            ],
            "layout": "IPY_MODEL_20b030748e4149159cb6cae3c7a0d921"
          }
        },
        "b9275bddde594070b62fc48f7d58334f": {
          "model_module": "@jupyter-widgets/controls",
          "model_name": "HTMLModel",
          "model_module_version": "1.5.0",
          "state": {
            "_dom_classes": [],
            "_model_module": "@jupyter-widgets/controls",
            "_model_module_version": "1.5.0",
            "_model_name": "HTMLModel",
            "_view_count": null,
            "_view_module": "@jupyter-widgets/controls",
            "_view_module_version": "1.5.0",
            "_view_name": "HTMLView",
            "description": "",
            "description_tooltip": null,
            "layout": "IPY_MODEL_f059ad5a1dc24cb38596f98d0b05d703",
            "placeholder": "​",
            "style": "IPY_MODEL_b88264a4d952404ab05880f15d0e6889",
            "value": "Downloading: 100%"
          }
        },
        "109bd0bbf0a54e4284339185d4cccacd": {
          "model_module": "@jupyter-widgets/controls",
          "model_name": "FloatProgressModel",
          "model_module_version": "1.5.0",
          "state": {
            "_dom_classes": [],
            "_model_module": "@jupyter-widgets/controls",
            "_model_module_version": "1.5.0",
            "_model_name": "FloatProgressModel",
            "_view_count": null,
            "_view_module": "@jupyter-widgets/controls",
            "_view_module_version": "1.5.0",
            "_view_name": "ProgressView",
            "bar_style": "success",
            "description": "",
            "description_tooltip": null,
            "layout": "IPY_MODEL_ebde709fcca644f39eace50892268309",
            "max": 440473133,
            "min": 0,
            "orientation": "horizontal",
            "style": "IPY_MODEL_a6a713af83fc4ed0b0d7d731c108d2be",
            "value": 440473133
          }
        },
        "06dbf7e3755444038ff73cbafb9936b2": {
          "model_module": "@jupyter-widgets/controls",
          "model_name": "HTMLModel",
          "model_module_version": "1.5.0",
          "state": {
            "_dom_classes": [],
            "_model_module": "@jupyter-widgets/controls",
            "_model_module_version": "1.5.0",
            "_model_name": "HTMLModel",
            "_view_count": null,
            "_view_module": "@jupyter-widgets/controls",
            "_view_module_version": "1.5.0",
            "_view_name": "HTMLView",
            "description": "",
            "description_tooltip": null,
            "layout": "IPY_MODEL_df42044e559742539f48d0d76ea9acd5",
            "placeholder": "​",
            "style": "IPY_MODEL_85687e53d36a4ef0bbde909f651832e0",
            "value": " 440M/440M [00:07&lt;00:00, 51.7MB/s]"
          }
        },
        "20b030748e4149159cb6cae3c7a0d921": {
          "model_module": "@jupyter-widgets/base",
          "model_name": "LayoutModel",
          "model_module_version": "1.2.0",
          "state": {
            "_model_module": "@jupyter-widgets/base",
            "_model_module_version": "1.2.0",
            "_model_name": "LayoutModel",
            "_view_count": null,
            "_view_module": "@jupyter-widgets/base",
            "_view_module_version": "1.2.0",
            "_view_name": "LayoutView",
            "align_content": null,
            "align_items": null,
            "align_self": null,
            "border": null,
            "bottom": null,
            "display": null,
            "flex": null,
            "flex_flow": null,
            "grid_area": null,
            "grid_auto_columns": null,
            "grid_auto_flow": null,
            "grid_auto_rows": null,
            "grid_column": null,
            "grid_gap": null,
            "grid_row": null,
            "grid_template_areas": null,
            "grid_template_columns": null,
            "grid_template_rows": null,
            "height": null,
            "justify_content": null,
            "justify_items": null,
            "left": null,
            "margin": null,
            "max_height": null,
            "max_width": null,
            "min_height": null,
            "min_width": null,
            "object_fit": null,
            "object_position": null,
            "order": null,
            "overflow": null,
            "overflow_x": null,
            "overflow_y": null,
            "padding": null,
            "right": null,
            "top": null,
            "visibility": null,
            "width": null
          }
        },
        "f059ad5a1dc24cb38596f98d0b05d703": {
          "model_module": "@jupyter-widgets/base",
          "model_name": "LayoutModel",
          "model_module_version": "1.2.0",
          "state": {
            "_model_module": "@jupyter-widgets/base",
            "_model_module_version": "1.2.0",
            "_model_name": "LayoutModel",
            "_view_count": null,
            "_view_module": "@jupyter-widgets/base",
            "_view_module_version": "1.2.0",
            "_view_name": "LayoutView",
            "align_content": null,
            "align_items": null,
            "align_self": null,
            "border": null,
            "bottom": null,
            "display": null,
            "flex": null,
            "flex_flow": null,
            "grid_area": null,
            "grid_auto_columns": null,
            "grid_auto_flow": null,
            "grid_auto_rows": null,
            "grid_column": null,
            "grid_gap": null,
            "grid_row": null,
            "grid_template_areas": null,
            "grid_template_columns": null,
            "grid_template_rows": null,
            "height": null,
            "justify_content": null,
            "justify_items": null,
            "left": null,
            "margin": null,
            "max_height": null,
            "max_width": null,
            "min_height": null,
            "min_width": null,
            "object_fit": null,
            "object_position": null,
            "order": null,
            "overflow": null,
            "overflow_x": null,
            "overflow_y": null,
            "padding": null,
            "right": null,
            "top": null,
            "visibility": null,
            "width": null
          }
        },
        "b88264a4d952404ab05880f15d0e6889": {
          "model_module": "@jupyter-widgets/controls",
          "model_name": "DescriptionStyleModel",
          "model_module_version": "1.5.0",
          "state": {
            "_model_module": "@jupyter-widgets/controls",
            "_model_module_version": "1.5.0",
            "_model_name": "DescriptionStyleModel",
            "_view_count": null,
            "_view_module": "@jupyter-widgets/base",
            "_view_module_version": "1.2.0",
            "_view_name": "StyleView",
            "description_width": ""
          }
        },
        "ebde709fcca644f39eace50892268309": {
          "model_module": "@jupyter-widgets/base",
          "model_name": "LayoutModel",
          "model_module_version": "1.2.0",
          "state": {
            "_model_module": "@jupyter-widgets/base",
            "_model_module_version": "1.2.0",
            "_model_name": "LayoutModel",
            "_view_count": null,
            "_view_module": "@jupyter-widgets/base",
            "_view_module_version": "1.2.0",
            "_view_name": "LayoutView",
            "align_content": null,
            "align_items": null,
            "align_self": null,
            "border": null,
            "bottom": null,
            "display": null,
            "flex": null,
            "flex_flow": null,
            "grid_area": null,
            "grid_auto_columns": null,
            "grid_auto_flow": null,
            "grid_auto_rows": null,
            "grid_column": null,
            "grid_gap": null,
            "grid_row": null,
            "grid_template_areas": null,
            "grid_template_columns": null,
            "grid_template_rows": null,
            "height": null,
            "justify_content": null,
            "justify_items": null,
            "left": null,
            "margin": null,
            "max_height": null,
            "max_width": null,
            "min_height": null,
            "min_width": null,
            "object_fit": null,
            "object_position": null,
            "order": null,
            "overflow": null,
            "overflow_x": null,
            "overflow_y": null,
            "padding": null,
            "right": null,
            "top": null,
            "visibility": null,
            "width": null
          }
        },
        "a6a713af83fc4ed0b0d7d731c108d2be": {
          "model_module": "@jupyter-widgets/controls",
          "model_name": "ProgressStyleModel",
          "model_module_version": "1.5.0",
          "state": {
            "_model_module": "@jupyter-widgets/controls",
            "_model_module_version": "1.5.0",
            "_model_name": "ProgressStyleModel",
            "_view_count": null,
            "_view_module": "@jupyter-widgets/base",
            "_view_module_version": "1.2.0",
            "_view_name": "StyleView",
            "bar_color": null,
            "description_width": ""
          }
        },
        "df42044e559742539f48d0d76ea9acd5": {
          "model_module": "@jupyter-widgets/base",
          "model_name": "LayoutModel",
          "model_module_version": "1.2.0",
          "state": {
            "_model_module": "@jupyter-widgets/base",
            "_model_module_version": "1.2.0",
            "_model_name": "LayoutModel",
            "_view_count": null,
            "_view_module": "@jupyter-widgets/base",
            "_view_module_version": "1.2.0",
            "_view_name": "LayoutView",
            "align_content": null,
            "align_items": null,
            "align_self": null,
            "border": null,
            "bottom": null,
            "display": null,
            "flex": null,
            "flex_flow": null,
            "grid_area": null,
            "grid_auto_columns": null,
            "grid_auto_flow": null,
            "grid_auto_rows": null,
            "grid_column": null,
            "grid_gap": null,
            "grid_row": null,
            "grid_template_areas": null,
            "grid_template_columns": null,
            "grid_template_rows": null,
            "height": null,
            "justify_content": null,
            "justify_items": null,
            "left": null,
            "margin": null,
            "max_height": null,
            "max_width": null,
            "min_height": null,
            "min_width": null,
            "object_fit": null,
            "object_position": null,
            "order": null,
            "overflow": null,
            "overflow_x": null,
            "overflow_y": null,
            "padding": null,
            "right": null,
            "top": null,
            "visibility": null,
            "width": null
          }
        },
        "85687e53d36a4ef0bbde909f651832e0": {
          "model_module": "@jupyter-widgets/controls",
          "model_name": "DescriptionStyleModel",
          "model_module_version": "1.5.0",
          "state": {
            "_model_module": "@jupyter-widgets/controls",
            "_model_module_version": "1.5.0",
            "_model_name": "DescriptionStyleModel",
            "_view_count": null,
            "_view_module": "@jupyter-widgets/base",
            "_view_module_version": "1.2.0",
            "_view_name": "StyleView",
            "description_width": ""
          }
        }
      }
    }
  },
  "cells": [
    {
      "cell_type": "markdown",
      "metadata": {
        "id": "view-in-github",
        "colab_type": "text"
      },
      "source": [
        "<a href=\"https://colab.research.google.com/github/MatteoGuglielmi-tech/Polarity-and-Subjectivity-Detection/blob/main/src/Matteo_Guglielmi_232088.ipynb\" target=\"_parent\"><img src=\"https://colab.research.google.com/assets/colab-badge.svg\" alt=\"Open In Colab\"/></a>"
      ]
    },
    {
      "cell_type": "markdown",
      "source": [
        "# End-to-end-Pipeline for movie reviews classification\n",
        "In this notebook, a possible solution to perform sentiment analysis is proposed.\n",
        "In particular, what you can find in this notebook is a pipeline that allows to perform binary sentiment classification of a text by meand of :\n",
        "- a simple and shallow BiLSTM network which is trained to recognize/classify objective and subjective sentences\n",
        "- a `transformer` (BertForSequenceClassification) previously fine-tuned on the IMDb dataset to perform polarity classification on subjective sentences."
      ],
      "metadata": {
        "id": "w7wAQxUNIDBD"
      }
    },
    {
      "cell_type": "markdown",
      "source": [
        "## GPU characteristics"
      ],
      "metadata": {
        "id": "EcdvgiFalBx3"
      }
    },
    {
      "cell_type": "code",
      "source": [
        "!nvidia-smi"
      ],
      "metadata": {
        "colab": {
          "base_uri": "https://localhost:8080/"
        },
        "id": "3IqgOR4o3wyu",
        "outputId": "24bd35b5-b7bc-4d45-d348-d5d003903bb0"
      },
      "execution_count": 41,
      "outputs": [
        {
          "output_type": "stream",
          "name": "stdout",
          "text": [
            "Wed Dec 28 18:54:53 2022       \n",
            "+-----------------------------------------------------------------------------+\n",
            "| NVIDIA-SMI 460.32.03    Driver Version: 460.32.03    CUDA Version: 11.2     |\n",
            "|-------------------------------+----------------------+----------------------+\n",
            "| GPU  Name        Persistence-M| Bus-Id        Disp.A | Volatile Uncorr. ECC |\n",
            "| Fan  Temp  Perf  Pwr:Usage/Cap|         Memory-Usage | GPU-Util  Compute M. |\n",
            "|                               |                      |               MIG M. |\n",
            "|===============================+======================+======================|\n",
            "|   0  Tesla T4            Off  | 00000000:00:04.0 Off |                    0 |\n",
            "| N/A   69C    P0    32W /  70W |   2976MiB / 15109MiB |      0%      Default |\n",
            "|                               |                      |                  N/A |\n",
            "+-------------------------------+----------------------+----------------------+\n",
            "                                                                               \n",
            "+-----------------------------------------------------------------------------+\n",
            "| Processes:                                                                  |\n",
            "|  GPU   GI   CI        PID   Type   Process name                  GPU Memory |\n",
            "|        ID   ID                                                   Usage      |\n",
            "|=============================================================================|\n",
            "+-----------------------------------------------------------------------------+\n"
          ]
        }
      ]
    },
    {
      "cell_type": "markdown",
      "source": [
        "## Installation of required packages\n",
        "In this section, the required dependences have been installed to be using across the code. More precisely:\n",
        "- `transformers` : a widely known python package that provides very deep and large transformers models for different applications. In the optic of this project, a BERTTokenizer, a BERTModel and a BERTForSequenceClassification have been used\n",
        "- `torchinfo` : this is a package to visualize the model in a prettier way than a simple print. The output is equivalent to call the `summary()` models in keras."
      ],
      "metadata": {
        "id": "iJhQeUvYOfVA"
      }
    },
    {
      "cell_type": "code",
      "source": [
        "!pip install transformers"
      ],
      "metadata": {
        "colab": {
          "base_uri": "https://localhost:8080/"
        },
        "id": "t81eMx7Qu57i",
        "outputId": "9b3f4fa3-7838-4fba-dfc1-2734112d9a93"
      },
      "execution_count": 42,
      "outputs": [
        {
          "output_type": "stream",
          "name": "stdout",
          "text": [
            "Looking in indexes: https://pypi.org/simple, https://us-python.pkg.dev/colab-wheels/public/simple/\n",
            "Requirement already satisfied: transformers in /usr/local/lib/python3.8/dist-packages (4.25.1)\n",
            "Requirement already satisfied: regex!=2019.12.17 in /usr/local/lib/python3.8/dist-packages (from transformers) (2022.6.2)\n",
            "Requirement already satisfied: tokenizers!=0.11.3,<0.14,>=0.11.1 in /usr/local/lib/python3.8/dist-packages (from transformers) (0.13.2)\n",
            "Requirement already satisfied: numpy>=1.17 in /usr/local/lib/python3.8/dist-packages (from transformers) (1.21.6)\n",
            "Requirement already satisfied: requests in /usr/local/lib/python3.8/dist-packages (from transformers) (2.23.0)\n",
            "Requirement already satisfied: filelock in /usr/local/lib/python3.8/dist-packages (from transformers) (3.8.2)\n",
            "Requirement already satisfied: huggingface-hub<1.0,>=0.10.0 in /usr/local/lib/python3.8/dist-packages (from transformers) (0.11.1)\n",
            "Requirement already satisfied: packaging>=20.0 in /usr/local/lib/python3.8/dist-packages (from transformers) (21.3)\n",
            "Requirement already satisfied: pyyaml>=5.1 in /usr/local/lib/python3.8/dist-packages (from transformers) (6.0)\n",
            "Requirement already satisfied: tqdm>=4.27 in /usr/local/lib/python3.8/dist-packages (from transformers) (4.64.1)\n",
            "Requirement already satisfied: typing-extensions>=3.7.4.3 in /usr/local/lib/python3.8/dist-packages (from huggingface-hub<1.0,>=0.10.0->transformers) (4.4.0)\n",
            "Requirement already satisfied: pyparsing!=3.0.5,>=2.0.2 in /usr/local/lib/python3.8/dist-packages (from packaging>=20.0->transformers) (3.0.9)\n",
            "Requirement already satisfied: urllib3!=1.25.0,!=1.25.1,<1.26,>=1.21.1 in /usr/local/lib/python3.8/dist-packages (from requests->transformers) (1.24.3)\n",
            "Requirement already satisfied: chardet<4,>=3.0.2 in /usr/local/lib/python3.8/dist-packages (from requests->transformers) (3.0.4)\n",
            "Requirement already satisfied: idna<3,>=2.5 in /usr/local/lib/python3.8/dist-packages (from requests->transformers) (2.10)\n",
            "Requirement already satisfied: certifi>=2017.4.17 in /usr/local/lib/python3.8/dist-packages (from requests->transformers) (2022.12.7)\n"
          ]
        }
      ]
    },
    {
      "cell_type": "code",
      "source": [
        "!pip install torchinfo"
      ],
      "metadata": {
        "id": "Vwh0y6EF9KwU",
        "outputId": "4a5cc704-5c21-4845-9888-7b66416f270f",
        "colab": {
          "base_uri": "https://localhost:8080/"
        }
      },
      "execution_count": 43,
      "outputs": [
        {
          "output_type": "stream",
          "name": "stdout",
          "text": [
            "Looking in indexes: https://pypi.org/simple, https://us-python.pkg.dev/colab-wheels/public/simple/\n",
            "Requirement already satisfied: torchinfo in /usr/local/lib/python3.8/dist-packages (1.7.1)\n"
          ]
        }
      ]
    },
    {
      "cell_type": "markdown",
      "source": [
        "## Mounting the personal drive"
      ],
      "metadata": {
        "id": "dx_FvxRoU69T"
      }
    },
    {
      "cell_type": "code",
      "source": [
        "from google.colab import drive\n",
        "drive.mount('/content/gdrive')"
      ],
      "metadata": {
        "id": "jOWShMFxsX-G",
        "outputId": "3af81385-bd7c-441a-dec8-825421953b11",
        "colab": {
          "base_uri": "https://localhost:8080/"
        }
      },
      "execution_count": 44,
      "outputs": [
        {
          "output_type": "stream",
          "name": "stdout",
          "text": [
            "Drive already mounted at /content/gdrive; to attempt to forcibly remount, call drive.mount(\"/content/gdrive\", force_remount=True).\n"
          ]
        }
      ]
    },
    {
      "cell_type": "markdown",
      "source": [
        "## Imports"
      ],
      "metadata": {
        "id": "K00WXexmU994"
      }
    },
    {
      "cell_type": "code",
      "source": [
        "import re\n",
        "\n",
        "from string import punctuation\n",
        "\n",
        "import nltk\n",
        "from textblob.en import subjectivity\n",
        "from nltk.corpus import movie_reviews\n",
        "from nltk.corpus import subjectivity\n",
        "from nltk.corpus import stopwords\n",
        "\n",
        "from typing import List, Tuple\n",
        "\n",
        "import torch\n",
        "import torch.nn as nn\n",
        "\n",
        "from transformers import BertTokenizer, BertModel, BertForSequenceClassification\n",
        "from torch.utils.data import DataLoader, Dataset, Subset\n",
        "from transformers import logging\n",
        "import gc\n",
        "\n",
        "from sklearn.model_selection import train_test_split\n",
        "\n",
        "import matplotlib.pyplot as plt\n",
        "from matplotlib.lines import Line2D\n",
        "\n",
        "import numpy as np\n",
        "\n",
        "from torchinfo import summary\n",
        "\n",
        "from tqdm import tqdm"
      ],
      "metadata": {
        "id": "1fIkoU1MYGTU"
      },
      "execution_count": 45,
      "outputs": []
    },
    {
      "cell_type": "markdown",
      "source": [
        "In the following cell, the following packages have been installed :\n",
        "- `punkt` : punkt sentence tokenizer\n",
        "- `stopwords` : an archive containing all stop words (common words)\n",
        "- `movie_reviews` : dataset used as a polarity dataset. This will be used as a test dataset in his whole. In it, there are $1000$ negative and $1000$ positive sentences\n",
        "- `subjectivity` : dataset used to train the BiLSTM network. This consists in $5000$ objective and $5000$ subjective sentences."
      ],
      "metadata": {
        "id": "rlhWHOWCmiV8"
      }
    },
    {
      "cell_type": "code",
      "source": [
        "nltk.download('punkt')\n",
        "nltk.download('stopwords')\n",
        "nltk.download('movie_reviews')\n",
        "nltk.download('subjectivity')"
      ],
      "metadata": {
        "id": "IQUMmqMd8FE2",
        "outputId": "70d827b9-497b-4d15-a103-cfb62c52656a",
        "colab": {
          "base_uri": "https://localhost:8080/"
        }
      },
      "execution_count": 46,
      "outputs": [
        {
          "output_type": "stream",
          "name": "stderr",
          "text": [
            "[nltk_data] Downloading package punkt to /root/nltk_data...\n",
            "[nltk_data]   Package punkt is already up-to-date!\n",
            "[nltk_data] Downloading package stopwords to /root/nltk_data...\n",
            "[nltk_data]   Package stopwords is already up-to-date!\n",
            "[nltk_data] Downloading package movie_reviews to /root/nltk_data...\n",
            "[nltk_data]   Package movie_reviews is already up-to-date!\n",
            "[nltk_data] Downloading package subjectivity to /root/nltk_data...\n",
            "[nltk_data]   Package subjectivity is already up-to-date!\n"
          ]
        },
        {
          "output_type": "execute_result",
          "data": {
            "text/plain": [
              "True"
            ]
          },
          "metadata": {},
          "execution_count": 46
        }
      ]
    },
    {
      "cell_type": "markdown",
      "source": [
        "## Filtering text function"
      ],
      "metadata": {
        "id": "uP__-thXWqhS"
      }
    },
    {
      "cell_type": "code",
      "source": [
        "def process(sent: str) -> str:\n",
        "    ''' Function to process a sentenece in a document\n",
        "        Parameters :\n",
        "        ------------\n",
        "        sent : str\n",
        "            sentence to be procesed\n",
        "        \n",
        "        Returns :\n",
        "        ------------\n",
        "            returns the processed sentence\n",
        "    '''\n",
        "\n",
        "    # removing stopwords\n",
        "    stop_list = set(stopwords.words(\"english\"))\n",
        "    sent = list(sent.lower().split())\n",
        "    sent = ' '.join([word for word in sent if word not in stop_list])\n",
        "    sent = re.sub(r'\\n', '', sent)\n",
        "    # Remove al numbers\n",
        "    sent = re.sub(r'[0-9]+', '',sent)\n",
        "    # Remove HTML special entities\n",
        "    sent = re.sub(r'\\&\\w*;', '', sent)\n",
        "    # Convert @username to AT_USER\n",
        "    sent = re.sub('@[^\\s]+','',sent)\n",
        "    # Remove tickers\n",
        "    sent = re.sub(r'\\$\\w*', '', sent)\n",
        "    # To lowercase\n",
        "    sent = sent.lower()\n",
        "    # Remove hyperlinks\n",
        "    sent = re.sub(r\"http\\S+\", \"\", sent)\n",
        "    # Remove hashtags\n",
        "    sent = re.sub(r'#\\w*', '', sent)\n",
        "    # Remove Punctuation and split 's, 't, 've with a space for filter\n",
        "    sent = re.sub(r'[' + punctuation.replace('@', '') + ']+', ' ', sent)\n",
        "    # Remove words with 2 or fewer letters\n",
        "    sent = re.sub(r'\\b\\w{1,2}\\b', '', sent)\n",
        "    # Remove whitespace (including new line characters)\n",
        "    sent = re.sub(r'\\s\\s+', ' ', sent)\n",
        "    # Remove single space remaining at the front of the sent.\n",
        "    sent = sent.lstrip(' ') \n",
        "    # Remove characters beyond Basic Multilingual Plane (BMP) of Unicode:\n",
        "    sent = ''.join(c for c in sent if c <= '\\uFFFF') \n",
        "    return sent"
      ],
      "metadata": {
        "id": "p9PvgbDLqMRM"
      },
      "execution_count": 47,
      "outputs": []
    },
    {
      "cell_type": "markdown",
      "source": [
        "## Datasets perparation"
      ],
      "metadata": {
        "id": "GFWVs9LfVH97"
      }
    },
    {
      "cell_type": "code",
      "source": [
        "def lol2str(doc: List[List[str]]) -> str:\n",
        "    ''' Converts list of sentences of a document into a single sentence\n",
        "        Parameters :\n",
        "        ------------\n",
        "            doc : list(list(str))\n",
        "                sentences belonging to a single document\n",
        "        Returns :\n",
        "        ------------\n",
        "            string collapsing all the sentences list into one\n",
        "    '''\n",
        "    \n",
        "    return \" \".join([w for sent in doc for w in sent])"
      ],
      "metadata": {
        "id": "kjexL0fDS-1S"
      },
      "execution_count": 48,
      "outputs": []
    },
    {
      "cell_type": "code",
      "source": [
        "def build_docs(flag: bool=False) -> Tuple[List[str], List[str], List[int], List[int]]:\n",
        "    '''Used to fetch data and build list of sentences equivalent to documents\n",
        "        Parameters :\n",
        "        ------------\n",
        "            None\n",
        "        \n",
        "        Return :\n",
        "        ------------\n",
        "            pol_corpus : list(str)\n",
        "                List with polarity sentences\n",
        "            subj_corpus : List(str)\n",
        "                List with subjectivity sentences\n",
        "            pol_labels : list(int)  \n",
        "                List of labels for polarity dataset\n",
        "            subj_labels : list(int)\n",
        "                List of labels for subjectivity dataset\n",
        "    '''\n",
        "\n",
        "    # getting datasets from imported modules\n",
        "    mr = movie_reviews\n",
        "    sub = subjectivity\n",
        "    neg = mr.paras(categories='neg')\n",
        "    pos = mr.paras(categories='pos')\n",
        "\n",
        "    # getting sentences from subj/obj dataset\n",
        "    subj_docs = [sent for sent in subjectivity.sents(categories='subj')]\n",
        "    obj_docs = [sent for sent in subjectivity.sents(categories='obj')]\n",
        "    \n",
        "    # collapse documents in a single big string\n",
        "    if flag:\n",
        "        pol_corpus = [process(lol2str(d)) for d in pos] + [process(lol2str(d)) for d in neg]\n",
        "\n",
        "    else:\n",
        "        pol_corpus = [lol2str(d) for d in pos] + [lol2str(d) for d in neg]\n",
        "        \n",
        "    pol_labels = [1 if idx<1000 else 0 for idx in range(2000)]\n",
        "\n",
        "    # collapse splitted tokens in a single string\n",
        "    subj_corpus = [process(' '.join(d)) for d in subj_docs] + [process(' '.join(d)) for d in obj_docs]\n",
        "    subj_labels = [1 if idx<5000 else 0 for idx in range(10000)]\n",
        "\n",
        "    seq_lengths_pol = np.array([len(s.split()) for s in pol_corpus])\n",
        "    seq_lengths_subj = np.array([len(s.split()) for s in subj_corpus])\n",
        "\n",
        "    print(f\"Negative sentences count : {len(neg)},  Positive sentence count : {len(pos)}\")\n",
        "    print(f\"Subjective sentences count : {len(subj_docs)}, Objective sentences count : {len(obj_docs)}\")\n",
        "    print(f\"Polarity corpus length : {len(pol_corpus)}, Subjectivity corpus length : {len(subj_corpus)}\")\n",
        "    print(f\"Percentiles results for polarity : {[(p, np.percentile(seq_lengths_pol,p)) for p in [75, 80, 90, 95, 99, 100]]}\")\n",
        "    print(f\"Percentiles results for subjectivity : {[(p, np.percentile(seq_lengths_subj,p)) for p in [75, 80, 90, 95, 99, 100]]}\")\n",
        "\n",
        "    return pol_corpus, subj_corpus, pol_labels, subj_labels\n",
        "    "
      ],
      "metadata": {
        "id": "fOIC5lceThmL"
      },
      "execution_count": 49,
      "outputs": []
    },
    {
      "cell_type": "markdown",
      "source": [
        "## Custom Dataset Definition\n",
        "Custom Dataset class used to have complete control on what is returned in the various collate defined across this notebook.  \n",
        "In the purposes of this project, the following class has been defined to couple up sentences with corresponding label."
      ],
      "metadata": {
        "id": "r-XxOWjVYD5q"
      }
    },
    {
      "cell_type": "code",
      "source": [
        "class CustomDataset(Dataset):\n",
        "    def __init__(self, sentences: List[str], targets: List[int]):\n",
        "        self.sentences = sentences\n",
        "        self.targets = targets\n",
        "        \n",
        "    def __getitem__(self, index):\n",
        "        sent = self.sentences[index]\n",
        "        lab = self.targets[index]\n",
        "        return sent, lab\n",
        "    \n",
        "    def __len__(self):\n",
        "        return len(self.sentences)"
      ],
      "metadata": {
        "id": "l5yu_aH3YCug"
      },
      "execution_count": 50,
      "outputs": []
    },
    {
      "cell_type": "markdown",
      "source": [
        "## Collator\n",
        "This class allows to define a custom `collate_fn` method. More precisely, this **Collator** has been *defined* in order **to have available the encodings directly** in the training/test steps **while iterating over the** train/test **dataloader**."
      ],
      "metadata": {
        "id": "d61PmaBwmG3Z"
      }
    },
    {
      "cell_type": "code",
      "source": [
        "class Collator(object):\n",
        "    def __init__(self, tokenizer, model, device, max_len: int):\n",
        "        \n",
        "        if max_len > 512:\n",
        "            raise ValueError('Maximum length accepted is 512')\n",
        "        self.tokenizer = tokenizer\n",
        "        self.model = model\n",
        "        self.device = device\n",
        "        self.max_len = max_len\n",
        "\n",
        "    def __call__(self, data) -> Tuple:\n",
        "        ''' This function will be passed to the desired dataloader\n",
        "            Parameters :\n",
        "            ------------\n",
        "                data : dataset\n",
        "                    list of sentences in an archive\n",
        "            Return :\n",
        "            ----------- -\n",
        "                Returns a tuple of:\n",
        "                    sents : list of tensors corresponding to the encoded sentence\n",
        "                    labels : list of tensor labels\n",
        "        '''\n",
        "\n",
        "        sents = []\n",
        "        labels = []\n",
        "        \n",
        "        self.model.eval()\n",
        "        for (sent, label) in data:\n",
        "            # tokenization of a sentence\n",
        "            tokenized_sent = self.tokenizer.encode_plus(\n",
        "                                                        sent,                               # untokenized sentence\n",
        "                                                        add_special_tokens = True,          # add '[CLS]' and '[SEP]'\n",
        "                                                        truncation = True,                  # truncate to maximum length\n",
        "                                                        max_length = self.max_len,          # due to ram limiatation \n",
        "                                                        padding = \"max_length\",             # pad to maximum admissible sentence ['max_lenght', 'longest', 'True']\n",
        "                                                        return_attention_mask = True,       # return attention mask\n",
        "                                                        return_tensors = \"pt\"               # returns pytorch tensors\n",
        "                                                       )\n",
        "\n",
        "            # disable gradients            \n",
        "            with torch.no_grad():\n",
        "                last_hidden_state = self.model(\n",
        "                                tokenized_sent['input_ids'].to(self.device), \n",
        "                                tokenized_sent['attention_mask'].to(self.device)\n",
        "                           )\n",
        "           \n",
        "            # saving encodings and labels converted to tensors\n",
        "            sents.append(last_hidden_state[0][0])\n",
        "            labels.append(torch.tensor(label, dtype=torch.long))\n",
        "\n",
        "            #sents.append(tokenized_sent[\"input_ids\"])\n",
        "            torch.cuda.empty_cache()\n",
        "\n",
        "        sents = torch.stack(sents)\n",
        "        labels = torch.stack(labels)\n",
        "            \n",
        "        return sents, labels"
      ],
      "metadata": {
        "id": "I20OZjsfp-Ky"
      },
      "execution_count": 51,
      "outputs": []
    },
    {
      "cell_type": "markdown",
      "source": [
        "## DataLoaders\n",
        "`get_data` allows to automatically batch sentences in a stratified manner. This means that the batches are kept in balance, i.e. the dataloader will present the same number of in constrast labels to guarantee a proper learning."
      ],
      "metadata": {
        "id": "FgkhCVivqPCO"
      }
    },
    {
      "cell_type": "code",
      "source": [
        "def get_data(dataset, \n",
        "             batch_size: int, \n",
        "             collator, \n",
        "             tst_dim_split: float=0.2, \n",
        "             val_dim_split: float=0.1,\n",
        "             seed: int = 42,\n",
        "             ) -> Tuple[torch.utils.data.DataLoader, \n",
        "                        torch.utils.data.DataLoader, \n",
        "                        torch.utils.data.DataLoader] :\n",
        "\n",
        "    ''' Function that allows to get batched train, test and validation dataloaders.\n",
        "        Parameters :\n",
        "        ------------\n",
        "        dataset : CustomDataset object\n",
        "            dataset to be divided into train, test and evaluation\n",
        "        batch_size : int\n",
        "            batch size\n",
        "        collator : \n",
        "            collate_fn method to be overwritten to the default one\n",
        "        tst_dim_split : float=0.2\n",
        "            test split percentage. By default, 20% is kept for inference\n",
        "        val_dim_split : float=0.1\n",
        "            10% of the training set is kept for validation at each iteration\n",
        "        \n",
        "        Returns :\n",
        "        ------------\n",
        "        train_loader : torch.utils.data.DataLoader\n",
        "            DataLoader for training purposes\n",
        "        test_loader : torch.utils.data.DataLoader\n",
        "            DataLoader for test purposes\n",
        "        val_loader : torch.utils.data.DataLoader\n",
        "            DataLoader for validation purposes\n",
        "\n",
        "    '''\n",
        "    # dividing into training and test set\n",
        "    train_idx, test_idx = train_test_split(list(range(len(dataset.targets))), test_size=tst_dim_split,\n",
        "                                                  stratify=dataset.targets, random_state=seed)\n",
        "    \n",
        "    # splitting training set into training and validation\n",
        "    train_idx, val_idx = train_test_split(train_idx, test_size=val_dim_split, random_state=seed)\n",
        "\n",
        "    # building subsets based on indexes\n",
        "    train = Subset(dataset, train_idx)\n",
        "    val = Subset(dataset, val_idx)\n",
        "    test = Subset(dataset, test_idx)\n",
        "\n",
        "    # definition of dataloaders\n",
        "    train_loader = DataLoader(dataset=train, batch_size=batch_size, collate_fn=collator)\n",
        "    val_loader = DataLoader(dataset=val, batch_size=batch_size, collate_fn=collator)\n",
        "    test_loader = DataLoader(dataset=test, batch_size=batch_size, collate_fn=collator)\n",
        "\n",
        "    print(f\"Dataloader sizes after split:\\n\\tTraining : {len(train_loader)} Batches\\n\\tTest : {len(test_loader)} Batches\\n\\tValidation : {len(val_loader)} Batches\")\n",
        "\n",
        "    return train_loader, test_loader, val_loader"
      ],
      "metadata": {
        "id": "qyPDLqoCkIYm"
      },
      "execution_count": 52,
      "outputs": []
    },
    {
      "cell_type": "markdown",
      "source": [
        "## Function to plot Gradient updates"
      ],
      "metadata": {
        "id": "UuHr0DARNaj8"
      }
    },
    {
      "cell_type": "code",
      "source": [
        "def plot_grad_flow(named_parameters: List[str]) -> None:\n",
        "    '''Plots the gradients flowing through different layers in the net during training.\n",
        "    Can be used for checking for possible gradient vanishing / exploding problems.\n",
        "    \n",
        "    Usage: Plug this function in training loop after loss.backwards() to visualize the gradient flow\n",
        "    \n",
        "    Parameters : \n",
        "    ------------\n",
        "        named_parameters : list(str)\n",
        "            model.named_parameters() : list of named parameters in the model\n",
        "    \n",
        "    Return : \n",
        "    ------------\n",
        "        None\n",
        "    '''\n",
        "\n",
        "    ave_grads = []\n",
        "    max_grads= []\n",
        "    layers = []\n",
        "    for n, p in named_parameters:\n",
        "        if(p.requires_grad) and (\"bias\" not in n):\n",
        "            layers.append(n)\n",
        "            ave_grads.append(p.grad.abs().mean().cpu())                         # moving data to CPU to accomodate plt\n",
        "            max_grads.append(p.grad.abs().max().cpu())                          \n",
        "    plt.bar(np.arange(len(max_grads)), max_grads, alpha=0.1, lw=1, color=\"c\")\n",
        "    plt.bar(np.arange(len(max_grads)), ave_grads, alpha=0.1, lw=1, color=\"b\")\n",
        "    plt.hlines(0, 0, len(ave_grads)+1, lw=2, color=\"k\" )\n",
        "    plt.xticks(range(0,len(ave_grads), 1), layers, rotation=\"vertical\")\n",
        "    plt.xlim(left=0, right=len(ave_grads))\n",
        "    plt.ylim(bottom = -0.001, top=0.02) # zoom in on the lower gradient regions\n",
        "    plt.xlabel(\"Layers\")\n",
        "    plt.ylabel(\"average gradient\")\n",
        "    plt.title(\"Gradient flow\")\n",
        "    plt.grid(True)\n",
        "    plt.legend([Line2D([0], [0], color=\"c\", lw=4),\n",
        "                Line2D([0], [0], color=\"b\", lw=4),\n",
        "                Line2D([0], [0], color=\"k\", lw=4)], \n",
        "               ['max-gradient', 'mean-gradient', 'zero-gradient'],\n",
        "                loc='best')"
      ],
      "metadata": {
        "id": "22RzgXzPNaA6"
      },
      "execution_count": 53,
      "outputs": []
    },
    {
      "cell_type": "markdown",
      "source": [
        "## Model Size computation"
      ],
      "metadata": {
        "id": "Jf9xdaEoOykd"
      }
    },
    {
      "cell_type": "code",
      "source": [
        "def model_size(model) -> None :\n",
        "    ''' Function to compute the memory occupation of a DNN\n",
        "        Parameters : \n",
        "        ------------\n",
        "        model :\n",
        "            network we are interested in computing the dimension in MB\n",
        "        \n",
        "        Returns : \n",
        "        ------------\n",
        "        None\n",
        "    '''\n",
        "    # element_size() returns size in bytes\n",
        "    param_size = 0\n",
        "    for param in model.parameters():\n",
        "        param_size += param.nelement() * param.element_size()\n",
        "    buffer_size = 0\n",
        "    for buffer in model.buffers():\n",
        "        buffer_size += buffer.nelement() * buffer.element_size()\n",
        "    \n",
        "    total_params = sum(p.numel() for p in model.parameters())\n",
        "    total_trainable_params = sum(p.numel() for p in model.parameters() if p.requires_grad)\n",
        "\n",
        "    size_all_mb = (param_size + buffer_size) / 1024**2\n",
        "    print(f\"Total number of parameters : {total_params}\")\n",
        "    print(f\"Total nmber of trainable parameters : {total_trainable_params}\")\n",
        "    print(f'model size: {size_all_mb:.3f}MB')"
      ],
      "metadata": {
        "id": "C32XBLBLO2vh"
      },
      "execution_count": 54,
      "outputs": []
    },
    {
      "cell_type": "markdown",
      "source": [
        "## Random weight intialization function"
      ],
      "metadata": {
        "id": "Y0FD8woULXlW"
      }
    },
    {
      "cell_type": "code",
      "source": [
        "# taken from laboratory 10\n",
        "def init_weights(mat):\n",
        "    ''' This function allow to randomly initialize the weights of a deep model\n",
        "    '''\n",
        "    for m in mat.modules():\n",
        "        if type(m) in [nn.GRU, nn.LSTM, nn.RNN]:\n",
        "            for name, param in m.named_parameters():\n",
        "                if 'weight_ih' in name:\n",
        "                    for idx in range(4):\n",
        "                        mul = param.shape[0]//4\n",
        "                        torch.nn.init.xavier_uniform_(param[idx*mul:(idx+1)*mul])\n",
        "                elif 'weight_hh' in name:\n",
        "                    for idx in range(4):\n",
        "                        mul = param.shape[0]//4\n",
        "                        torch.nn.init.orthogonal_(param[idx*mul:(idx+1)*mul])\n",
        "                elif 'bias' in name:\n",
        "                    param.data.fill_(0)\n",
        "        else:\n",
        "            if type(m) in [nn.Linear]:\n",
        "                torch.nn.init.uniform_(m.weight, -0.01, 0.01)\n",
        "                if m.bias != None:\n",
        "                    m.bias.data.fill_(0.01)"
      ],
      "metadata": {
        "id": "4GSu6dcZLaq3"
      },
      "execution_count": 55,
      "outputs": []
    },
    {
      "cell_type": "markdown",
      "source": [
        "## Initialization function"
      ],
      "metadata": {
        "id": "DlVyXfB0PBR2"
      }
    },
    {
      "cell_type": "code",
      "source": [
        "def init_model(model):\n",
        "    ''' Function to enable all the gradients and to apply initialization function\n",
        "    '''\n",
        "\n",
        "    for param in model.parameters():\n",
        "        param.requires_grad = True\n",
        "    \n",
        "    model=model.apply(init_weights)\n",
        "    \n",
        "    return model"
      ],
      "metadata": {
        "id": "cAYiNvJ9PFa4"
      },
      "execution_count": 56,
      "outputs": []
    },
    {
      "cell_type": "markdown",
      "source": [
        "## BiLSTM Model\n",
        "Since dealing with sequences, a BiLSTM model is devised to capture the time dependencies along the sentences. In particular, the model is composed with :\n",
        "- `nn.LSTM` : a bi-LSTM is used to capture the time dependencies\n",
        "- `nn.Linear` with a `nn.ReLU` activation on top. This layers represents a small bottleneck since the output features have been reduced to $64$ from $768$ (BERT default feature vector length)\n",
        "- `nn.Dropout` : a dropout layer to inhibit some neurons during training and to favour avoiding overfitting\n",
        "- `nn.Liear` : output layer "
      ],
      "metadata": {
        "id": "yjl43-LlK6F_"
      }
    },
    {
      "cell_type": "code",
      "source": [
        "class BiLSTM(nn.Module):\n",
        "    def __init__(self, \n",
        "                 input_size: int, \n",
        "                 hidden_size: int, \n",
        "                 batch_first: bool=True, \n",
        "                 bidirectional: bool=True):\n",
        "        \n",
        "        super(BiLSTM, self).__init__()\n",
        "        # BiLSTMs\n",
        "        # https://pytorch.org/docs/stable/generated/torch.nn.LSTM.html\n",
        "        self.bilstm = nn.LSTM(input_size=input_size,\n",
        "                              hidden_size=hidden_size, batch_first=batch_first, \n",
        "                              bidirectional=bidirectional)\n",
        "\n",
        "        self.dense = nn.Sequential(\n",
        "            nn.Linear(in_features=2*hidden_size, out_features=64),\n",
        "            nn.ReLU()\n",
        "        )\n",
        "       \n",
        "        # dropout layer\n",
        "        self.drop = nn.Dropout(p=0.35, inplace=False)\n",
        "        \n",
        "        # output linear layer\n",
        "        self.out = nn.Linear(in_features=64, out_features=1)\n",
        "\n",
        "    def forward(self, tens: torch.Tensor) -> torch.Tensor:\n",
        "        tens, (state, cell) = self.bilstm(tens)\n",
        "        tens = self.dense(tens)     \n",
        "        tens = self.drop(tens)\n",
        "        tens = self.out(tens)\n",
        "\n",
        "        return tens"
      ],
      "metadata": {
        "id": "SHkwEhP01uDQ"
      },
      "execution_count": 57,
      "outputs": []
    },
    {
      "cell_type": "markdown",
      "source": [
        "## Early stopping"
      ],
      "metadata": {
        "id": "OEmIhbVXb-Y_"
      }
    },
    {
      "cell_type": "code",
      "source": [
        "class EarlyStopper():\n",
        "    def __init__(self, patience=1, min_delta=5):\n",
        "        self.patience = patience\n",
        "        self.min_delta = min_delta\n",
        "        self.counter = 0\n",
        "        self.min_validation_loss = np.inf\n",
        "\n",
        "    def early_stop(self, validation_loss):\n",
        "        if validation_loss < self.min_validation_loss:\n",
        "            self.min_validation_loss = validation_loss\n",
        "            self.counter = 0\n",
        "        elif validation_loss > (self.min_validation_loss + self.min_delta):\n",
        "            self.counter += 1\n",
        "            if self.counter >= self.patience:\n",
        "                return True\n",
        "        return False"
      ],
      "metadata": {
        "id": "PliNQBlZb_7C"
      },
      "execution_count": 58,
      "outputs": []
    },
    {
      "cell_type": "markdown",
      "source": [
        "## Loss Function"
      ],
      "metadata": {
        "id": "YUXhWRZzMKc8"
      }
    },
    {
      "cell_type": "code",
      "source": [
        "def cross_entropy_loss():\n",
        "    return torch.nn.CrossEntropyLoss()"
      ],
      "metadata": {
        "id": "Ey6N9sizMPwV"
      },
      "execution_count": 59,
      "outputs": []
    },
    {
      "cell_type": "markdown",
      "source": [
        "## Optimizer"
      ],
      "metadata": {
        "id": "wjsUjZSdMTdk"
      }
    },
    {
      "cell_type": "code",
      "source": [
        "def get_optimizer(net, lr: float=0.0002):\n",
        "    return torch.optim.Adam(net.parameters(), lr=lr, betas=(0.9, 0.999), eps=1e-08, weight_decay=0)"
      ],
      "metadata": {
        "id": "bs6bsehLMVbj"
      },
      "execution_count": 60,
      "outputs": []
    },
    {
      "cell_type": "markdown",
      "source": [
        "## Training Step function"
      ],
      "metadata": {
        "id": "P2pD9wQPOfK5"
      }
    },
    {
      "cell_type": "code",
      "source": [
        "def training_step(model, \n",
        "                  train: torch.utils.data.DataLoader,\n",
        "                  cost_function: torch.nn.modules.loss, \n",
        "                  optimizer: torch.optim, \n",
        "                  device: str='cuda:0' \n",
        "                  ) -> None:  \n",
        "    \n",
        "    samples = 0.\n",
        "    cumulative_accuracy= 0.\n",
        "    cumulative_loss= 0.\n",
        "\n",
        "    model.train()\n",
        "\n",
        "    # iterate over the training set\n",
        "    #for batch_idx, (pol_tensor, pol_label) in enumerate(pol_train):\n",
        "    with tqdm(train, unit=\"batch\") as tepoch: \n",
        "        for batch_idx, (tensor, label) in enumerate(tepoch):\n",
        "            tepoch.set_description(f\"# Batch for training step : {batch_idx}\")\n",
        "\n",
        "            # load polarity data to GPU\n",
        "            inputs = tensor.to(device)\n",
        "            labels = label.unsqueeze(-1).to(device)\n",
        "\n",
        "            #print(f\"Shape returned tensor : {(inputs.squeeze().type())}\")\n",
        "        \n",
        "            # forward pass -> the output should be two vecotors.\n",
        "            # as a consequence two losses\n",
        "            out = model(inputs)\n",
        "\n",
        "            # loss computation\n",
        "            loss = cost_function(out, labels)\n",
        "            loss.backward()\n",
        "            plot_grad_flow(model.named_parameters())\n",
        "        \n",
        "            # parameters update\n",
        "            optimizer.step()\n",
        "\n",
        "            # fetch prediction and loss value for polarity \n",
        "            samples += inputs.shape[0]\n",
        "            _, predicted = out.max(dim=1)\n",
        "\n",
        "            # compute training accuracies\n",
        "            cumulative_accuracy += torch.eq(predicted,labels).sum().item()\n",
        "\n",
        "            tepoch.set_postfix(loss=loss.item(), \n",
        "                               accuracy=100.*(cumulative_accuracy/samples))\n",
        "        \n",
        "            # gradients reset\n",
        "            optimizer.zero_grad()\n",
        "\n",
        "    return loss, (cumulative_accuracy/samples)*100."
      ],
      "metadata": {
        "id": "1mCtKUhuOgwF"
      },
      "execution_count": 61,
      "outputs": []
    },
    {
      "cell_type": "markdown",
      "source": [
        "## Test Step"
      ],
      "metadata": {
        "id": "V-2qJ24ei0sf"
      }
    },
    {
      "cell_type": "code",
      "source": [
        "def test_step(model, \n",
        "              test: torch.utils.data.DataLoader, \n",
        "              cost_function : torch.nn.modules.loss,\n",
        "              device: str='cuda:0',\n",
        "              kind: str=\"Test\"\n",
        "              ) -> Tuple[float]:\n",
        "\n",
        "    samples = 0.\n",
        "    cumulative_accuracy = 0.\n",
        "    preds = []\n",
        "    labs = []\n",
        "\n",
        "    model.eval()\n",
        "\n",
        "    with torch.no_grad():\n",
        "        with tqdm(test, unit=\"batch\") as tepoch:\n",
        "            for batch_idx, (tensor, label) in enumerate(tepoch):\n",
        "\n",
        "                tepoch.set_description(f\"# Batch for {kind} step: {batch_idx}\")\n",
        "\n",
        "                # load polarity data to GPU\n",
        "                inputs = tensor.to(device)\n",
        "                labels = label.unsqueeze(-1).to(device)\n",
        "\n",
        "                # forward pass\n",
        "                out = model(inputs)\n",
        "\n",
        "                # apply the loss\n",
        "                loss = cost_function(out, labels)\n",
        "\n",
        "                # getting predicted label\n",
        "                # https://discuss.pytorch.org/t/how-does-one-get-the-predicted-classification-label-from-a-pytorch-model/91649/3\n",
        "                pred = out.max(1).indices\n",
        "\n",
        "                preds.append(pred)\n",
        "                labs.append(label)\n",
        "        \n",
        "                # fetch prediction and loss value for polarity \n",
        "                samples += inputs.shape[0]\n",
        "                _, predicted = out.max(dim=1) # max() returns (maximum_value, index_of_maximum_value)\n",
        "\n",
        "                # compute training accuracy\n",
        "                cumulative_accuracy += predicted.eq(labels).sum().item()\n",
        "\n",
        "                if kind != 'Polarity test':\n",
        "                    tepoch.set_postfix(loss=loss.item(), \n",
        "                                       accuracy=100.*(cumulative_accuracy/samples))\n",
        "\n",
        "    return loss, (cumulative_accuracy/samples)*100., preds, labs"
      ],
      "metadata": {
        "id": "K9u4jSSFZgth"
      },
      "execution_count": 62,
      "outputs": []
    },
    {
      "cell_type": "markdown",
      "source": [
        "## Plot results"
      ],
      "metadata": {
        "id": "QMIf6nGzf_7g"
      }
    },
    {
      "cell_type": "code",
      "source": [
        "def plot_results(train_losses: List[float], \n",
        "                 val_losses: List[float], \n",
        "                 train_accs: List[float], \n",
        "                 val_accs: List[float], \n",
        "                 epochs: List[int],\n",
        "                 path2file: str='') -> None:\n",
        "\n",
        "    plt.figure(num=3, figsize=(10, 5)).patch.set_facecolor('white')\n",
        "    plt.title('Train and Validation Losses')\n",
        "    plt.ylabel('Loss')\n",
        "    plt.xlabel('Epochs')\n",
        "    plt.plot(train_losses, label='Train loss')\n",
        "    plt.plot(epochs, val_losses, label='Validation loss')\n",
        "    plt.legend()\n",
        "    \n",
        "    plt.savefig(path2file+'/losses.png', dpi=100)\n",
        "    plt.show()\n",
        "\n",
        "\n",
        "    plt.figure(num=3, figsize=(10, 5)).patch.set_facecolor('white')\n",
        "    plt.title('Train and Validation Accuracies')\n",
        "    plt.ylabel('Accuracy')\n",
        "    plt.xlabel('Epochs')\n",
        "    plt.plot(train_accs, label='Train accuracy')\n",
        "    plt.plot(epochs, val_accs, label='Validation accuracy')\n",
        "    plt.legend()\n",
        "\n",
        "    plt.savefig(path2file+'/accuracies.png', dpi=100)\n",
        "    plt.show()"
      ],
      "metadata": {
        "id": "6pxuwBZ9gB_t"
      },
      "execution_count": 63,
      "outputs": []
    },
    {
      "cell_type": "markdown",
      "source": [
        "## Save model"
      ],
      "metadata": {
        "id": "1AJ0aGTZmx9H"
      }
    },
    {
      "cell_type": "code",
      "source": [
        "def save_model(epochs: int, model, optimizer, criterion, path2file: str):\n",
        "    '''Function to save the trained model to disk.\n",
        "    '''\n",
        "    torch.save({\n",
        "                'epoch': epochs,\n",
        "                'model_state_dict': model.state_dict(),\n",
        "                'optimizer_state_dict': optimizer.state_dict(),\n",
        "                'loss': criterion,\n",
        "                }, path2file)"
      ],
      "metadata": {
        "id": "wDivcpMgmzjJ"
      },
      "execution_count": 64,
      "outputs": []
    },
    {
      "cell_type": "markdown",
      "source": [
        "## Load model"
      ],
      "metadata": {
        "id": "BWY5ogiiwO9M"
      }
    },
    {
      "cell_type": "code",
      "source": [
        "def load_model(model, path2file:str):\n",
        "    # load a model checkpoint\n",
        "    state_dict = torch.load(path2file)\n",
        "    model.load_state_dict(state_dict['model_state_dict'])\n",
        "    print(state_dict['model_state_dict'].keys())\n",
        "    return model"
      ],
      "metadata": {
        "id": "O32S3X7ZwQ5e"
      },
      "execution_count": 65,
      "outputs": []
    },
    {
      "cell_type": "markdown",
      "source": [
        "## Wrapper"
      ],
      "metadata": {
        "id": "xExyrPw8PMyV"
      }
    },
    {
      "cell_type": "code",
      "source": [
        "def main(\n",
        "         dataset,\n",
        "         collator,\n",
        "         early_stopper,\n",
        "         seq_len : int,\n",
        "         out: str,\n",
        "         batch_size: int=128,\n",
        "         device: str=\"cuda:0\",\n",
        "         epochs: int=30,\n",
        "         tst_dim_split: float=0.2,\n",
        "         val_dim_split: float=0.1,\n",
        "         input: int=100,\n",
        "         hidden: int=128,\n",
        "         save: str='y', \n",
        "         seed: int = 42,\n",
        "         prt_model: str = 'y'\n",
        "         ) -> Tuple[float]:\n",
        "\n",
        "    torch.cuda.empty_cache()\n",
        "    gc.collect()\n",
        "    \n",
        "    val_losses = []\n",
        "    train_losses = []\n",
        "    val_accs = []\n",
        "    train_accs = []\n",
        "    sampled_epochs = []\n",
        "\n",
        "    # declaring and initializing the model\n",
        "    print(\"Loading model ...\")\n",
        "    net = BiLSTM(input_size=input, hidden_size=hidden).to(device)\n",
        "    net = init_model(net)\n",
        "    print('Network initialized')\n",
        "    \n",
        "    if prt_model == 'y': \n",
        "        # print model summary -> keras.summary() style\n",
        "        print(summary(model=net, input_size=(batch_size, seq_len, input)))\n",
        "\n",
        "    # assigning cost function\n",
        "    cost_function = cross_entropy_loss()\n",
        "    print('Got Loss')\n",
        "\n",
        "    # assigning optimizer\n",
        "    optimizer = get_optimizer(net)\n",
        "    print(\"Got Optimizer\")\n",
        "\n",
        "    # bulding dataloader\n",
        "    train_loader, test_loader, val_loader = get_data(dataset=dataset, \n",
        "                                                     batch_size=batch_size, \n",
        "                                                     collator=collator,\n",
        "                                                     tst_dim_split=tst_dim_split,\n",
        "                                                     val_dim_split=val_dim_split, \n",
        "                                                     seed=seed)\n",
        "    \n",
        "    print(\"Got Dataloaders\")\n",
        "\n",
        "    print(\"Starting the training ...\")\n",
        "\n",
        "    # training epochs\n",
        "    for e in range(epochs):\n",
        "\n",
        "        print(f\"Epoch {e}:\\t\")\n",
        " \n",
        "        train_loss, train_acc = training_step(model=net,\n",
        "                                              train=train_loader, \n",
        "                                              cost_function=cost_function, \n",
        "                                              optimizer=optimizer, \n",
        "                                              device=device)\n",
        "\n",
        "        val_loss, val_acc, _, _ = test_step(model=net,\n",
        "                                            test=val_loader, \n",
        "                                            cost_function=cost_function,\n",
        "                                            device=device,\n",
        "                                            kind=\"Validation\") \n",
        "        \n",
        "        #print(train_loss.cpu().is_cuda)\n",
        "        train_losses.append(train_loss.cpu().detach().item())\n",
        "        val_losses.append(val_loss.cpu().detach().item())\n",
        "        val_accs.append(val_acc)\n",
        "        train_accs.append(train_acc)\n",
        "        sampled_epochs.append(e)\n",
        "\n",
        "        if early_stopper.early_stop(val_loss) and save=='y': \n",
        "            print(f\"Saving model at epoch :{e+1} ...\")            \n",
        "            save_model(epochs=e+1, \n",
        "                       model=net, \n",
        "                       optimizer=optimizer, \n",
        "                       criterion=cost_function,\n",
        "                       path2file=out)\n",
        "            \n",
        "            print(f\"Model Saved\\n\")\n",
        "            break\n",
        "\n",
        "    print(f\"Perfoming test step ...\")\n",
        "    _, tst_acc, _, _ = test_step(model=net, \n",
        "                           test=test_loader, \n",
        "                           cost_function=cost_function, \n",
        "                           device=device,\n",
        "                           kind=\"Test\")  \n",
        "    if save=='y':\n",
        "        print(f\"\\nSaving last model ...\")\n",
        "        save_model(epochs=epochs, \n",
        "                model=net, \n",
        "                optimizer=optimizer, \n",
        "                criterion=cost_function,\n",
        "                path2file=out)\n",
        "    \n",
        "        print(f\"Model Saved\\n\")\n",
        "    \n",
        "    return train_losses, val_losses, sampled_epochs, val_accs, train_accs, tst_acc"
      ],
      "metadata": {
        "id": "8AgqxP9uPOdf"
      },
      "execution_count": 66,
      "outputs": []
    },
    {
      "cell_type": "markdown",
      "source": [
        "## Hyperparameters"
      ],
      "metadata": {
        "id": "-mvEVsrHspYA"
      }
    },
    {
      "cell_type": "code",
      "source": [
        "rootdir = '/content/gdrive/MyDrive/Colab Notebooks/Polarity-and-Subjectivity-Detection/'\n",
        "device = 'cuda:0' if torch.cuda.is_available() else 'cpu'\n",
        "nr_epochs = 10\n",
        "BATCH_SIZE = 128\n",
        "TST_SPLIT_DIM = 0.2\n",
        "VAL_DIM_SPLIT = 0.1\n",
        "RANDOM_STATE = 42\n",
        "PATH2OUTPUTS = rootdir+'outputs/'\n",
        "MIN_DELTA = 0.075"
      ],
      "metadata": {
        "id": "nzeoe2IMu_vk"
      },
      "execution_count": 67,
      "outputs": []
    },
    {
      "cell_type": "markdown",
      "source": [
        "## Run"
      ],
      "metadata": {
        "id": "WKdil6T-S4IQ"
      }
    },
    {
      "cell_type": "code",
      "source": [
        "def subj_run():\n",
        "    torch.cuda.empty_cache()\n",
        "\n",
        "    #preparing the datasets\n",
        "    print('Preparing datasets ...')\n",
        "    _, subj_corpus, _, subj_labels = build_docs()\n",
        "\n",
        "    # creating custom datasets\n",
        "    print(\"Building custom datasets ...\")\n",
        "    #pol_dataset = CustomDataset(sentences=pol_corpus, targets=pol_labels)\n",
        "    subj_dataset = CustomDataset(sentences=subj_corpus, targets=subj_labels)\n",
        "\n",
        "    # to not see warning everytime\n",
        "    logging.set_verbosity_error()\n",
        "\n",
        "    # downloading BERT tokenier and model from huggingface.co\n",
        "    tokenizer = BertTokenizer.from_pretrained(\"bert-base-uncased\")\n",
        "    model = BertModel.from_pretrained(\"bert-base-uncased\")\n",
        "\n",
        "    # instantiating collator\n",
        "    print(\"Instantiating collator ...\")\n",
        "    collator = Collator(tokenizer=tokenizer, \n",
        "                        model=model.to(device), \n",
        "                        device=device, \n",
        "                        max_len=512)\n",
        "\n",
        "    print(\"Instantiating stopper...\")\n",
        "    # initializing EarlyStopper\n",
        "    early_stopper = EarlyStopper(patience=2, min_delta=MIN_DELTA)\n",
        "\n",
        "    # main call\n",
        "    train_losses, val_losses, sampled_epochs, val_accs, train_accs, _ = main(dataset=subj_dataset, \n",
        "                                                                          collator=collator,\n",
        "                                                                          early_stopper=early_stopper,\n",
        "                                                                          seq_len=512,\n",
        "                                                                          out=PATH2OUTPUTS+'/final_model.pth',\n",
        "                                                                          batch_size=BATCH_SIZE, \n",
        "                                                                          device=device, \n",
        "                                                                          epochs=nr_epochs, \n",
        "                                                                          tst_dim_split=TST_SPLIT_DIM,\n",
        "                                                                          val_dim_split=VAL_DIM_SPLIT,\n",
        "                                                                          input=768, \n",
        "                                                                          save='y')\n",
        "                                                                          \n",
        "    plot_results(train_losses=train_losses, \n",
        "                 val_losses=val_losses, \n",
        "                 train_accs=train_accs,\n",
        "                 val_accs=val_accs,\n",
        "                 epochs=sampled_epochs,\n",
        "                 path2file=PATH2OUTPUTS)"
      ],
      "metadata": {
        "id": "_q_YmrRML8AT"
      },
      "execution_count": null,
      "outputs": []
    },
    {
      "cell_type": "markdown",
      "source": [
        "## Main"
      ],
      "metadata": {
        "id": "0Q170Hf2MY_v"
      }
    },
    {
      "cell_type": "code",
      "source": [
        "if __name__ == '__main__':\n",
        "    subj_run()"
      ],
      "metadata": {
        "id": "XASSrIO_Mk6b",
        "outputId": "8d8fa4a6-d4c6-4d29-ec56-eca0aeab6fd1",
        "colab": {
          "base_uri": "https://localhost:8080/",
          "height": 1000,
          "referenced_widgets": [
            "ff33b104a2344efab376c50a316987fd",
            "70fa849bb9cc4e6285cffa565f075fd7",
            "2534c27babde4fc8b9fa332f678dc234",
            "57dc1afb998f4e78b54e33e2cbce06e1",
            "bf0b3a5eb89a4026a379da2e9c6f26d6",
            "8c84f5e631c649bf8add77b652ffcc6c",
            "e21aa93f6bb44cab953ba9d86af236f3",
            "6ef0a327954344ab9e2bff564f061a91",
            "91d50170b5be47a9a064fa362eeb027f",
            "0c61f7f31dab44e9a28d1cba04e495d8",
            "67522bdffb6c423cbb2262db5fdb56bd",
            "5f880b878efc435290643136f4124736",
            "7b9274d8e20c407699605319d54770ef",
            "5e5d92a612844cd49c5abc58d11e6d3c",
            "9b5c8aede79345e7b7801719fda09782",
            "13b065134c4043578b2ee207e8c2bc30",
            "ba5bb2ed0ca0434aaf8612389d1b0dcb",
            "71eaec22b694437fbc3994f1bfa0b04e",
            "7b922223d82b4c6182b852da011df18e",
            "682694d1d48f425c9846477fb79bf6b0",
            "bba04c983c284de1a2289ea9e55337e9",
            "439d6c07c9ef42d285cb9125feb44fc9",
            "d8018fb1e00d47488b734491024a9d92",
            "44762f92a0f54099819b2fd8017878f3",
            "dd8c938ccd5e4a679a333d342404da50",
            "6d513e1298104880bd0095828056b422",
            "21e5dda86dfa41e9b633bf68540f397e",
            "15d95466d97c4327b5d1f7e47b06aff7",
            "cc1528a1e3c9459cb639556b1e4aa3a8",
            "b989537fd951478bb1f3650d4ff02274",
            "ce2e50cc582c4cd6964ab4e78cb911f5",
            "b39e30c7bcbc4ed0a13d761e44649f36",
            "ce086ada6e554d5ba1a32cfdd831dbc5",
            "27907a61e77c440aacac0aecadeef4b3",
            "b9275bddde594070b62fc48f7d58334f",
            "109bd0bbf0a54e4284339185d4cccacd",
            "06dbf7e3755444038ff73cbafb9936b2",
            "20b030748e4149159cb6cae3c7a0d921",
            "f059ad5a1dc24cb38596f98d0b05d703",
            "b88264a4d952404ab05880f15d0e6889",
            "ebde709fcca644f39eace50892268309",
            "a6a713af83fc4ed0b0d7d731c108d2be",
            "df42044e559742539f48d0d76ea9acd5",
            "85687e53d36a4ef0bbde909f651832e0"
          ]
        }
      },
      "execution_count": null,
      "outputs": [
        {
          "output_type": "stream",
          "name": "stdout",
          "text": [
            "Preparing datasets ...\n",
            "Negative sentences count : 1000,  Positive sentence count : 1000\n",
            "Subjective sentences count : 5000, Objective sentences count : 5000\n",
            "Polarity corpus length : 2000, Subjectivity corpus length : 10000\n",
            " Percentiles results for polarity : [(75, 957.25), (80, 1015.0), (90, 1231.1000000000001), (95, 1441.05), (99, 1921.2599999999998), (100, 2879.0)]\n",
            " Percentiles results for subjectivity : [(75, 15.0), (80, 16.0), (90, 19.0), (95, 21.0), (99, 28.0), (100, 66.0)]\n",
            "Building custom datasets ...\n"
          ]
        },
        {
          "output_type": "display_data",
          "data": {
            "text/plain": [
              "Downloading:   0%|          | 0.00/232k [00:00<?, ?B/s]"
            ],
            "application/vnd.jupyter.widget-view+json": {
              "version_major": 2,
              "version_minor": 0,
              "model_id": "ff33b104a2344efab376c50a316987fd"
            }
          },
          "metadata": {}
        },
        {
          "output_type": "display_data",
          "data": {
            "text/plain": [
              "Downloading:   0%|          | 0.00/28.0 [00:00<?, ?B/s]"
            ],
            "application/vnd.jupyter.widget-view+json": {
              "version_major": 2,
              "version_minor": 0,
              "model_id": "5f880b878efc435290643136f4124736"
            }
          },
          "metadata": {}
        },
        {
          "output_type": "display_data",
          "data": {
            "text/plain": [
              "Downloading:   0%|          | 0.00/570 [00:00<?, ?B/s]"
            ],
            "application/vnd.jupyter.widget-view+json": {
              "version_major": 2,
              "version_minor": 0,
              "model_id": "d8018fb1e00d47488b734491024a9d92"
            }
          },
          "metadata": {}
        },
        {
          "output_type": "display_data",
          "data": {
            "text/plain": [
              "Downloading:   0%|          | 0.00/440M [00:00<?, ?B/s]"
            ],
            "application/vnd.jupyter.widget-view+json": {
              "version_major": 2,
              "version_minor": 0,
              "model_id": "27907a61e77c440aacac0aecadeef4b3"
            }
          },
          "metadata": {}
        },
        {
          "output_type": "stream",
          "name": "stdout",
          "text": [
            "Instantiating collator ...\n",
            "Instantiating stopper...\n",
            "Loading model ...\n",
            "Network initialized\n",
            "==========================================================================================\n",
            "Layer (type:depth-idx)                   Output Shape              Param #\n",
            "==========================================================================================\n",
            "BiLSTMAttention                          [128, 512, 1]             --\n",
            "├─LSTM: 1-1                              [128, 512, 256]           919,552\n",
            "├─Sequential: 1-2                        [128, 512, 64]            --\n",
            "│    └─Linear: 2-1                       [128, 512, 64]            16,448\n",
            "│    └─ReLU: 2-2                         [128, 512, 64]            --\n",
            "├─Dropout: 1-3                           [128, 512, 64]            --\n",
            "├─Linear: 1-4                            [128, 512, 1]             65\n",
            "==========================================================================================\n",
            "Total params: 936,065\n",
            "Trainable params: 936,065\n",
            "Non-trainable params: 0\n",
            "Total mult-adds (G): 60.27\n",
            "==========================================================================================\n",
            "Input size (MB): 201.33\n",
            "Forward/backward pass size (MB): 168.30\n",
            "Params size (MB): 3.74\n",
            "Estimated Total Size (MB): 373.37\n",
            "==========================================================================================\n",
            "Got Loss\n",
            "Got Optimizer\n",
            "Dataloader sizes after split:\n",
            "Training : 57 Batches\n",
            "Test : 16 Batches\n",
            "Validation : 7 Batches\n",
            "Got Dataloaders\n",
            "Starting the training ...\n",
            "Epoch 0:\t\n"
          ]
        },
        {
          "output_type": "stream",
          "name": "stderr",
          "text": [
            "# Batch for training step : 56: 100%|██████████| 57/57 [04:13<00:00,  4.44s/batch, accuracy=46.1, loss=3.59]\n",
            "# Batch for Validation step: 6: 100%|██████████| 7/7 [00:28<00:00,  4.08s/batch, accuracy=52.6, loss=3.45]\n"
          ]
        },
        {
          "output_type": "stream",
          "name": "stdout",
          "text": [
            "Epoch 1:\t\n"
          ]
        },
        {
          "output_type": "stream",
          "name": "stderr",
          "text": [
            "# Batch for training step : 56: 100%|██████████| 57/57 [04:25<00:00,  4.66s/batch, accuracy=53.5, loss=0.678]\n",
            "# Batch for Validation step: 6: 100%|██████████| 7/7 [00:28<00:00,  4.13s/batch, accuracy=68.6, loss=0.627]\n"
          ]
        },
        {
          "output_type": "stream",
          "name": "stdout",
          "text": [
            "Epoch 2:\t\n"
          ]
        },
        {
          "output_type": "stream",
          "name": "stderr",
          "text": [
            "# Batch for training step : 56: 100%|██████████| 57/57 [04:26<00:00,  4.67s/batch, accuracy=69.1, loss=0.523]\n",
            "# Batch for Validation step: 6: 100%|██████████| 7/7 [00:28<00:00,  4.13s/batch, accuracy=86.1, loss=0.444]\n"
          ]
        },
        {
          "output_type": "stream",
          "name": "stdout",
          "text": [
            "Epoch 3:\t\n"
          ]
        },
        {
          "output_type": "stream",
          "name": "stderr",
          "text": [
            "# Batch for training step : 56: 100%|██████████| 57/57 [04:26<00:00,  4.67s/batch, accuracy=83.5, loss=0.278]\n",
            "# Batch for Validation step: 6: 100%|██████████| 7/7 [00:28<00:00,  4.13s/batch, accuracy=89.8, loss=0.341]\n"
          ]
        },
        {
          "output_type": "stream",
          "name": "stdout",
          "text": [
            "Epoch 4:\t\n"
          ]
        },
        {
          "output_type": "stream",
          "name": "stderr",
          "text": [
            "# Batch for training step : 56: 100%|██████████| 57/57 [04:26<00:00,  4.68s/batch, accuracy=89, loss=0.168]\n",
            "# Batch for Validation step: 6: 100%|██████████| 7/7 [00:28<00:00,  4.12s/batch, accuracy=91.1, loss=0.313]\n"
          ]
        },
        {
          "output_type": "stream",
          "name": "stdout",
          "text": [
            "Epoch 5:\t\n"
          ]
        },
        {
          "output_type": "stream",
          "name": "stderr",
          "text": [
            "# Batch for training step : 56: 100%|██████████| 57/57 [04:26<00:00,  4.67s/batch, accuracy=91, loss=0.119]\n",
            "# Batch for Validation step: 6: 100%|██████████| 7/7 [00:28<00:00,  4.13s/batch, accuracy=91.6, loss=0.296]\n"
          ]
        },
        {
          "output_type": "stream",
          "name": "stdout",
          "text": [
            "Epoch 6:\t\n"
          ]
        },
        {
          "output_type": "stream",
          "name": "stderr",
          "text": [
            "# Batch for training step : 56: 100%|██████████| 57/57 [04:26<00:00,  4.68s/batch, accuracy=91.6, loss=0.079]\n",
            "# Batch for Validation step: 6: 100%|██████████| 7/7 [00:28<00:00,  4.13s/batch, accuracy=91.9, loss=0.297]\n"
          ]
        },
        {
          "output_type": "stream",
          "name": "stdout",
          "text": [
            "Epoch 7:\t\n"
          ]
        },
        {
          "output_type": "stream",
          "name": "stderr",
          "text": [
            "# Batch for training step : 56: 100%|██████████| 57/57 [04:26<00:00,  4.67s/batch, accuracy=92.3, loss=0.0875]\n",
            "# Batch for Validation step: 6: 100%|██████████| 7/7 [00:28<00:00,  4.13s/batch, accuracy=91.8, loss=0.307]\n"
          ]
        },
        {
          "output_type": "stream",
          "name": "stdout",
          "text": [
            "Epoch 8:\t\n"
          ]
        },
        {
          "output_type": "stream",
          "name": "stderr",
          "text": [
            "# Batch for training step : 56: 100%|██████████| 57/57 [04:28<00:00,  4.71s/batch, accuracy=93, loss=0.0492]\n",
            "# Batch for Validation step: 6: 100%|██████████| 7/7 [00:28<00:00,  4.13s/batch, accuracy=91.8, loss=0.307]\n"
          ]
        },
        {
          "output_type": "stream",
          "name": "stdout",
          "text": [
            "Epoch 9:\t\n"
          ]
        },
        {
          "output_type": "stream",
          "name": "stderr",
          "text": [
            "# Batch for training step : 56: 100%|██████████| 57/57 [04:26<00:00,  4.67s/batch, accuracy=93.5, loss=0.0659]\n",
            "# Batch for Validation step: 6: 100%|██████████| 7/7 [00:28<00:00,  4.12s/batch, accuracy=91.5, loss=0.33]\n"
          ]
        },
        {
          "output_type": "stream",
          "name": "stdout",
          "text": [
            "Perfoming test step ...\n"
          ]
        },
        {
          "output_type": "stream",
          "name": "stderr",
          "text": [
            "# Batch for Test step: 15: 100%|██████████| 16/16 [01:12<00:00,  4.51s/batch, accuracy=90.5, loss=0.283]\n"
          ]
        },
        {
          "output_type": "stream",
          "name": "stdout",
          "text": [
            "\n",
            "Saving last model ...\n",
            "Model Saved\n",
            "\n"
          ]
        },
        {
          "output_type": "display_data",
          "data": {
            "text/plain": [
              "<Figure size 432x288 with 1 Axes>"
            ],
            "image/png": "[encoded data removed]"
          },
          "metadata": {
            "needs_background": "light"
          }
        },
        {
          "output_type": "display_data",
          "data": {
            "text/plain": [
              "<Figure size 720x360 with 1 Axes>"
            ],
            "image/png": "[encoded data removed]"
          },
          "metadata": {}
        },
        {
          "output_type": "display_data",
          "data": {
            "text/plain": [
              "<Figure size 720x360 with 1 Axes>"
            ],
            "image/png": "[encoded data removed]"
          },
          "metadata": {}
        }
      ]
    },
    {
      "cell_type": "markdown",
      "source": [
        "## Multiple runs"
      ],
      "metadata": {
        "id": "g8ZJroCJIKM_"
      }
    },
    {
      "cell_type": "code",
      "source": [
        "def subj_multiple_runs(num_runs: int=5):\n",
        "    torch.cuda.empty_cache()\n",
        "\n",
        "    #preparing the datasets\n",
        "    print('Preparing datasets ...')\n",
        "    _, subj_corpus, _, subj_labels = build_docs()\n",
        "\n",
        "    # creating custom datasets\n",
        "    print(\"Building custom dataset ...\")\n",
        "    subj_dataset = CustomDataset(sentences=subj_corpus, targets=subj_labels)\n",
        "\n",
        "    # to not see warning everytime\n",
        "    logging.set_verbosity_error()\n",
        "\n",
        "    # downloading BERT tokenier and model from huggingface.co\n",
        "    tokenizer = BertTokenizer.from_pretrained(\"bert-base-uncased\")\n",
        "    model = BertModel.from_pretrained(\"bert-base-uncased\")\n",
        "\n",
        "    # instantiating collator\n",
        "    print(\"Instantiating collator ...\")\n",
        "    collator = Collator(tokenizer=tokenizer, \n",
        "                        model=model.to(device), \n",
        "                        device=device, \n",
        "                        max_len=512)\n",
        "\n",
        "    print(\"Instantiating stopper...\")\n",
        "    # initializing EarlyStopper\n",
        "    early_stopper = EarlyStopper(patience=2, min_delta=MIN_DELTA)\n",
        "\n",
        "    accs = np.empty(0)\n",
        "\n",
        "    # randomly chosen seeds for the dataset split\n",
        "    seeds = [91, 11, 57, 822, 19]\n",
        "    ptr = 'n'\n",
        "\n",
        "    for seed in seeds:\n",
        "        # main call\n",
        "        if seed == seeds[0]:\n",
        "            prt = 'y'\n",
        "        print(f\"====================================== Run # {seeds.index(seed)} ======================================\")\n",
        "        _, _, _, _, _, tst_acc = main(dataset=subj_dataset, \n",
        "                                        collator=collator,\n",
        "                                        early_stopper=early_stopper,\n",
        "                                        seq_len=512,\n",
        "                                        out=PATH2OUTPUTS+'/final_model.pth',\n",
        "                                        batch_size=BATCH_SIZE, \n",
        "                                        device=device, \n",
        "                                        epochs=5, \n",
        "                                        tst_dim_split=TST_SPLIT_DIM,\n",
        "                                        val_dim_split=VAL_DIM_SPLIT,\n",
        "                                        input=768, \n",
        "                                        save='n', \n",
        "                                        seed=seed,\n",
        "                                        prt_model=ptr)\n",
        "        accs = np.append(accs, tst_acc)\n",
        "\n",
        "        \n",
        "\n",
        "    print(f\"BiLSTM accuracies: {accs}\") \n",
        "    print(f\"Statistics :\\nAvg accuracy:{accs.mean()}\\t Accuracy std : {accs.std()}\")                                                                        \n",
        "    "
      ],
      "metadata": {
        "id": "GZsM25YOIJ4Z"
      },
      "execution_count": 68,
      "outputs": []
    },
    {
      "cell_type": "code",
      "source": [
        "subj_multiple_runs()"
      ],
      "metadata": {
        "id": "3Zds6_azW424",
        "outputId": "52ebe9a7-52fe-4663-e7e6-236434b4870f",
        "colab": {
          "base_uri": "https://localhost:8080/",
          "height": 1000
        }
      },
      "execution_count": 69,
      "outputs": [
        {
          "output_type": "stream",
          "name": "stdout",
          "text": [
            "Preparing datasets ...\n",
            "Negative sentences count : 1000,  Positive sentence count : 1000\n",
            "Subjective sentences count : 5000, Objective sentences count : 5000\n",
            "Polarity corpus length : 2000, Subjectivity corpus length : 10000\n",
            "Percentiles results for polarity : [(75, 957.25), (80, 1015.0), (90, 1231.1000000000001), (95, 1441.05), (99, 1921.2599999999998), (100, 2879.0)]\n",
            "Percentiles results for subjectivity : [(75, 15.0), (80, 16.0), (90, 19.0), (95, 21.0), (99, 28.0), (100, 66.0)]\n",
            "Building custom dataset ...\n",
            "Instantiating collator ...\n",
            "Instantiating stopper...\n",
            "====================================== Run # 0 ======================================\n",
            "Loading model ...\n",
            "Network initialized\n",
            "Got Loss\n",
            "Got Optimizer\n",
            "Dataloader sizes after split:\n",
            "\tTraining : 57 Batches\n",
            "\tTest : 16 Batches\n",
            "\tValidation : 7 Batches\n",
            "Got Dataloaders\n",
            "Starting the training ...\n",
            "Epoch 0:\t\n"
          ]
        },
        {
          "output_type": "stream",
          "name": "stderr",
          "text": [
            "# Batch for training step : 56: 100%|██████████| 57/57 [04:45<00:00,  5.01s/batch, accuracy=47.3, loss=3.61]\n",
            "# Batch for Validation step: 6: 100%|██████████| 7/7 [00:31<00:00,  4.46s/batch, accuracy=53.4, loss=3.5]\n"
          ]
        },
        {
          "output_type": "stream",
          "name": "stdout",
          "text": [
            "Epoch 1:\t\n"
          ]
        },
        {
          "output_type": "stream",
          "name": "stderr",
          "text": [
            "# Batch for training step : 56: 100%|██████████| 57/57 [04:46<00:00,  5.02s/batch, accuracy=52.4, loss=0.839]\n",
            "# Batch for Validation step: 6: 100%|██████████| 7/7 [00:31<00:00,  4.45s/batch, accuracy=65.5, loss=0.754]\n"
          ]
        },
        {
          "output_type": "stream",
          "name": "stdout",
          "text": [
            "Epoch 2:\t\n"
          ]
        },
        {
          "output_type": "stream",
          "name": "stderr",
          "text": [
            "# Batch for training step : 56: 100%|██████████| 57/57 [04:46<00:00,  5.03s/batch, accuracy=66.9, loss=0.549]\n",
            "# Batch for Validation step: 6: 100%|██████████| 7/7 [00:31<00:00,  4.44s/batch, accuracy=86.5, loss=0.572]\n"
          ]
        },
        {
          "output_type": "stream",
          "name": "stdout",
          "text": [
            "Epoch 3:\t\n"
          ]
        },
        {
          "output_type": "stream",
          "name": "stderr",
          "text": [
            "# Batch for training step : 56: 100%|██████████| 57/57 [04:45<00:00,  5.02s/batch, accuracy=81.5, loss=0.359]\n",
            "# Batch for Validation step: 6: 100%|██████████| 7/7 [00:31<00:00,  4.44s/batch, accuracy=89.6, loss=0.43]\n"
          ]
        },
        {
          "output_type": "stream",
          "name": "stdout",
          "text": [
            "Epoch 4:\t\n"
          ]
        },
        {
          "output_type": "stream",
          "name": "stderr",
          "text": [
            "# Batch for training step : 56: 100%|██████████| 57/57 [04:46<00:00,  5.02s/batch, accuracy=88.8, loss=0.186]\n",
            "# Batch for Validation step: 6: 100%|██████████| 7/7 [00:31<00:00,  4.48s/batch, accuracy=90.9, loss=0.398]\n"
          ]
        },
        {
          "output_type": "stream",
          "name": "stdout",
          "text": [
            "Perfoming test step ...\n"
          ]
        },
        {
          "output_type": "stream",
          "name": "stderr",
          "text": [
            "# Batch for Test step: 15: 100%|██████████| 16/16 [01:17<00:00,  4.86s/batch, accuracy=89.8, loss=0.371]\n"
          ]
        },
        {
          "output_type": "stream",
          "name": "stdout",
          "text": [
            "====================================== Run # 1 ======================================\n",
            "Loading model ...\n",
            "Network initialized\n",
            "Got Loss\n",
            "Got Optimizer\n",
            "Dataloader sizes after split:\n",
            "\tTraining : 57 Batches\n",
            "\tTest : 16 Batches\n",
            "\tValidation : 7 Batches\n",
            "Got Dataloaders\n",
            "Starting the training ...\n",
            "Epoch 0:\t\n"
          ]
        },
        {
          "output_type": "stream",
          "name": "stderr",
          "text": [
            "# Batch for training step : 56: 100%|██████████| 57/57 [04:45<00:00,  5.01s/batch, accuracy=44.6, loss=3.69]\n",
            "# Batch for Validation step: 6: 100%|██████████| 7/7 [00:31<00:00,  4.43s/batch, accuracy=51.7, loss=3.47]\n"
          ]
        },
        {
          "output_type": "stream",
          "name": "stdout",
          "text": [
            "Epoch 1:\t\n"
          ]
        },
        {
          "output_type": "stream",
          "name": "stderr",
          "text": [
            "# Batch for training step : 56: 100%|██████████| 57/57 [04:45<00:00,  5.01s/batch, accuracy=53.9, loss=0.818]\n",
            "# Batch for Validation step: 6: 100%|██████████| 7/7 [00:31<00:00,  4.43s/batch, accuracy=66.9, loss=0.603]\n"
          ]
        },
        {
          "output_type": "stream",
          "name": "stdout",
          "text": [
            "Epoch 2:\t\n"
          ]
        },
        {
          "output_type": "stream",
          "name": "stderr",
          "text": [
            "# Batch for training step : 56: 100%|██████████| 57/57 [04:45<00:00,  5.02s/batch, accuracy=68.4, loss=0.481]\n",
            "# Batch for Validation step: 6: 100%|██████████| 7/7 [00:31<00:00,  4.45s/batch, accuracy=84, loss=0.447]\n"
          ]
        },
        {
          "output_type": "stream",
          "name": "stdout",
          "text": [
            "Epoch 3:\t\n"
          ]
        },
        {
          "output_type": "stream",
          "name": "stderr",
          "text": [
            "# Batch for training step : 56: 100%|██████████| 57/57 [04:47<00:00,  5.04s/batch, accuracy=82, loss=0.379]\n",
            "# Batch for Validation step: 6: 100%|██████████| 7/7 [00:31<00:00,  4.46s/batch, accuracy=90, loss=0.373]\n"
          ]
        },
        {
          "output_type": "stream",
          "name": "stdout",
          "text": [
            "Epoch 4:\t\n"
          ]
        },
        {
          "output_type": "stream",
          "name": "stderr",
          "text": [
            "# Batch for training step : 56: 100%|██████████| 57/57 [04:46<00:00,  5.02s/batch, accuracy=88.4, loss=0.347]\n",
            "# Batch for Validation step: 6: 100%|██████████| 7/7 [00:31<00:00,  4.45s/batch, accuracy=90, loss=0.373]\n"
          ]
        },
        {
          "output_type": "stream",
          "name": "stdout",
          "text": [
            "Perfoming test step ...\n"
          ]
        },
        {
          "output_type": "stream",
          "name": "stderr",
          "text": [
            "# Batch for Test step: 15: 100%|██████████| 16/16 [01:17<00:00,  4.87s/batch, accuracy=90.7, loss=0.284]\n"
          ]
        },
        {
          "output_type": "stream",
          "name": "stdout",
          "text": [
            "====================================== Run # 2 ======================================\n",
            "Loading model ...\n",
            "Network initialized\n",
            "Got Loss\n",
            "Got Optimizer\n",
            "Dataloader sizes after split:\n",
            "\tTraining : 57 Batches\n",
            "\tTest : 16 Batches\n",
            "\tValidation : 7 Batches\n",
            "Got Dataloaders\n",
            "Starting the training ...\n",
            "Epoch 0:\t\n"
          ]
        },
        {
          "output_type": "stream",
          "name": "stderr",
          "text": [
            "# Batch for training step : 56: 100%|██████████| 57/57 [04:45<00:00,  5.01s/batch, accuracy=47.7, loss=3.67]\n",
            "# Batch for Validation step: 6: 100%|██████████| 7/7 [00:31<00:00,  4.44s/batch, accuracy=54.6, loss=3.55]\n"
          ]
        },
        {
          "output_type": "stream",
          "name": "stdout",
          "text": [
            "Epoch 1:\t\n"
          ]
        },
        {
          "output_type": "stream",
          "name": "stderr",
          "text": [
            "# Batch for training step : 56: 100%|██████████| 57/57 [04:44<00:00,  5.00s/batch, accuracy=54.9, loss=0.689]\n",
            "# Batch for Validation step: 6: 100%|██████████| 7/7 [00:30<00:00,  4.41s/batch, accuracy=67.2, loss=0.639]\n"
          ]
        },
        {
          "output_type": "stream",
          "name": "stdout",
          "text": [
            "Epoch 2:\t\n"
          ]
        },
        {
          "output_type": "stream",
          "name": "stderr",
          "text": [
            "# Batch for training step : 56: 100%|██████████| 57/57 [04:43<00:00,  4.97s/batch, accuracy=67.1, loss=0.576]\n",
            "# Batch for Validation step: 6: 100%|██████████| 7/7 [00:30<00:00,  4.37s/batch, accuracy=85.4, loss=0.474]\n"
          ]
        },
        {
          "output_type": "stream",
          "name": "stdout",
          "text": [
            "Epoch 3:\t\n"
          ]
        },
        {
          "output_type": "stream",
          "name": "stderr",
          "text": [
            "# Batch for training step : 56: 100%|██████████| 57/57 [04:41<00:00,  4.95s/batch, accuracy=81.2, loss=0.516]\n",
            "# Batch for Validation step: 6: 100%|██████████| 7/7 [00:30<00:00,  4.40s/batch, accuracy=88.2, loss=0.33]\n"
          ]
        },
        {
          "output_type": "stream",
          "name": "stdout",
          "text": [
            "Epoch 4:\t\n"
          ]
        },
        {
          "output_type": "stream",
          "name": "stderr",
          "text": [
            "# Batch for training step : 56: 100%|██████████| 57/57 [04:43<00:00,  4.98s/batch, accuracy=88.5, loss=0.322]\n",
            "# Batch for Validation step: 6: 100%|██████████| 7/7 [00:30<00:00,  4.41s/batch, accuracy=89.5, loss=0.263]\n"
          ]
        },
        {
          "output_type": "stream",
          "name": "stdout",
          "text": [
            "Perfoming test step ...\n"
          ]
        },
        {
          "output_type": "stream",
          "name": "stderr",
          "text": [
            "# Batch for Test step: 15: 100%|██████████| 16/16 [01:16<00:00,  4.81s/batch, accuracy=90.6, loss=0.176]\n"
          ]
        },
        {
          "output_type": "stream",
          "name": "stdout",
          "text": [
            "====================================== Run # 3 ======================================\n",
            "Loading model ...\n",
            "Network initialized\n",
            "Got Loss\n",
            "Got Optimizer\n",
            "Dataloader sizes after split:\n",
            "\tTraining : 57 Batches\n",
            "\tTest : 16 Batches\n",
            "\tValidation : 7 Batches\n",
            "Got Dataloaders\n",
            "Starting the training ...\n",
            "Epoch 0:\t\n"
          ]
        },
        {
          "output_type": "stream",
          "name": "stderr",
          "text": [
            "# Batch for training step : 56: 100%|██████████| 57/57 [04:43<00:00,  4.97s/batch, accuracy=47.5, loss=3.68]\n",
            "# Batch for Validation step: 6: 100%|██████████| 7/7 [00:30<00:00,  4.39s/batch, accuracy=55.1, loss=3.49]\n"
          ]
        },
        {
          "output_type": "stream",
          "name": "stdout",
          "text": [
            "Epoch 1:\t\n"
          ]
        },
        {
          "output_type": "stream",
          "name": "stderr",
          "text": [
            "# Batch for training step : 56: 100%|██████████| 57/57 [04:43<00:00,  4.97s/batch, accuracy=53.8, loss=0.738]\n",
            "# Batch for Validation step: 6: 100%|██████████| 7/7 [00:30<00:00,  4.40s/batch, accuracy=63, loss=0.72]\n"
          ]
        },
        {
          "output_type": "stream",
          "name": "stdout",
          "text": [
            "Epoch 2:\t\n"
          ]
        },
        {
          "output_type": "stream",
          "name": "stderr",
          "text": [
            "# Batch for training step : 56: 100%|██████████| 57/57 [04:41<00:00,  4.94s/batch, accuracy=67, loss=0.588]\n",
            "# Batch for Validation step: 6: 100%|██████████| 7/7 [00:30<00:00,  4.38s/batch, accuracy=85.8, loss=0.526]\n"
          ]
        },
        {
          "output_type": "stream",
          "name": "stdout",
          "text": [
            "Epoch 3:\t\n"
          ]
        },
        {
          "output_type": "stream",
          "name": "stderr",
          "text": [
            "# Batch for training step : 56: 100%|██████████| 57/57 [04:42<00:00,  4.95s/batch, accuracy=82.5, loss=0.431]\n",
            "# Batch for Validation step: 6: 100%|██████████| 7/7 [00:30<00:00,  4.41s/batch, accuracy=89.9, loss=0.378]\n"
          ]
        },
        {
          "output_type": "stream",
          "name": "stdout",
          "text": [
            "Epoch 4:\t\n"
          ]
        },
        {
          "output_type": "stream",
          "name": "stderr",
          "text": [
            "# Batch for training step : 56: 100%|██████████| 57/57 [04:41<00:00,  4.94s/batch, accuracy=88.9, loss=0.327]\n",
            "# Batch for Validation step: 6: 100%|██████████| 7/7 [00:30<00:00,  4.36s/batch, accuracy=90.6, loss=0.305]\n"
          ]
        },
        {
          "output_type": "stream",
          "name": "stdout",
          "text": [
            "Perfoming test step ...\n"
          ]
        },
        {
          "output_type": "stream",
          "name": "stderr",
          "text": [
            "# Batch for Test step: 15: 100%|██████████| 16/16 [01:16<00:00,  4.76s/batch, accuracy=89.2, loss=0.2]\n"
          ]
        },
        {
          "output_type": "stream",
          "name": "stdout",
          "text": [
            "====================================== Run # 4 ======================================\n",
            "Loading model ...\n",
            "Network initialized\n",
            "Got Loss\n",
            "Got Optimizer\n",
            "Dataloader sizes after split:\n",
            "\tTraining : 57 Batches\n",
            "\tTest : 16 Batches\n",
            "\tValidation : 7 Batches\n",
            "Got Dataloaders\n",
            "Starting the training ...\n",
            "Epoch 0:\t\n"
          ]
        },
        {
          "output_type": "stream",
          "name": "stderr",
          "text": [
            "# Batch for training step : 56: 100%|██████████| 57/57 [04:41<00:00,  4.94s/batch, accuracy=47.2, loss=3.54]\n",
            "# Batch for Validation step: 6: 100%|██████████| 7/7 [00:30<00:00,  4.39s/batch, accuracy=54.9, loss=3.43]\n"
          ]
        },
        {
          "output_type": "stream",
          "name": "stdout",
          "text": [
            "Epoch 1:\t\n"
          ]
        },
        {
          "output_type": "stream",
          "name": "stderr",
          "text": [
            "# Batch for training step : 56: 100%|██████████| 57/57 [04:42<00:00,  4.95s/batch, accuracy=54.6, loss=0.545]\n",
            "# Batch for Validation step: 6: 100%|██████████| 7/7 [00:30<00:00,  4.36s/batch, accuracy=65, loss=0.678]\n"
          ]
        },
        {
          "output_type": "stream",
          "name": "stdout",
          "text": [
            "Epoch 2:\t\n"
          ]
        },
        {
          "output_type": "stream",
          "name": "stderr",
          "text": [
            "# Batch for training step : 56: 100%|██████████| 57/57 [04:41<00:00,  4.93s/batch, accuracy=68.9, loss=0.448]\n",
            "# Batch for Validation step: 6: 100%|██████████| 7/7 [00:30<00:00,  4.36s/batch, accuracy=85.9, loss=0.422]\n"
          ]
        },
        {
          "output_type": "stream",
          "name": "stdout",
          "text": [
            "Epoch 3:\t\n"
          ]
        },
        {
          "output_type": "stream",
          "name": "stderr",
          "text": [
            "# Batch for training step : 56: 100%|██████████| 57/57 [04:42<00:00,  4.96s/batch, accuracy=84, loss=0.335]\n",
            "# Batch for Validation step: 6: 100%|██████████| 7/7 [00:30<00:00,  4.40s/batch, accuracy=90.9, loss=0.262]\n"
          ]
        },
        {
          "output_type": "stream",
          "name": "stdout",
          "text": [
            "Epoch 4:\t\n"
          ]
        },
        {
          "output_type": "stream",
          "name": "stderr",
          "text": [
            "# Batch for training step : 56: 100%|██████████| 57/57 [04:42<00:00,  4.96s/batch, accuracy=89, loss=0.165]\n",
            "# Batch for Validation step: 6: 100%|██████████| 7/7 [00:30<00:00,  4.36s/batch, accuracy=91.5, loss=0.216]\n"
          ]
        },
        {
          "output_type": "stream",
          "name": "stdout",
          "text": [
            "Perfoming test step ...\n"
          ]
        },
        {
          "output_type": "stream",
          "name": "stderr",
          "text": [
            "# Batch for Test step: 15: 100%|██████████| 16/16 [01:16<00:00,  4.77s/batch, accuracy=88.8, loss=0.21]\n"
          ]
        },
        {
          "output_type": "stream",
          "name": "stdout",
          "text": [
            "BiLSTM accuracies: [89.75 90.7  90.6  89.25 88.85]\n",
            "Statistics :\n",
            "Avg accuracy:89.83\t Accuracy std : 0.7284229540589765\n"
          ]
        },
        {
          "output_type": "display_data",
          "data": {
            "text/plain": [
              "<Figure size 432x288 with 1 Axes>"
            ],
            "image/png": "[encoded data removed]"
          },
          "metadata": {
            "needs_background": "light"
          }
        }
      ]
    },
    {
      "cell_type": "markdown",
      "source": [
        "## Pipeline for classifing polarity sentences"
      ],
      "metadata": {
        "id": "Zxu2abeIyi2Q"
      }
    },
    {
      "cell_type": "code",
      "source": [
        "class CollatorPipeline(object):\n",
        "    def __init__(self, tokenizer, model, device: str='cuda:0'):\n",
        "        super().__init__()\n",
        "        self.tokenizer = tokenizer\n",
        "        self.model = model\n",
        "        self.device = device\n",
        "\n",
        "    def __call__(self, data):\n",
        "        ''' This function will be passed to the desired dataloader\n",
        "            Parameters :\n",
        "            ------------\n",
        "                data : dataset\n",
        "                    list of sentences in an archive\n",
        "            Return :\n",
        "            ----------- -\n",
        "                Returns a tuple of:\n",
        "                    sents : list of integers corresponding to the sentiment prediction\n",
        "                    labels : list of integers labels\n",
        "        '''\n",
        "\n",
        "        sentiments = []\n",
        "        labels = []\n",
        "        sents = []\n",
        "        \n",
        "        self.model.eval()\n",
        "        for (sent, label) in data:\n",
        "            # tokenization of a sentence\n",
        "            tokenized_sent = self.tokenizer.encode_plus(\n",
        "                                                        sent,                               # untokenized sentence\n",
        "                                                        add_special_tokens = True,          # add '[CLS]' and '[SEP]'\n",
        "                                                        truncation = True,                  # truncate to maximum length\n",
        "                                                        max_length = 512,\n",
        "                                                        padding = \"max_length\",             # pad to maximum admissible sentence ['max_lenght', 'longest', 'True']\n",
        "                                                        return_attention_mask = True,       # return attention mask\n",
        "                                                        return_tensors = \"pt\"               # returns pytorch tensors\n",
        "                                                       )\n",
        "\n",
        "            # disable gradients            \n",
        "            with torch.no_grad():\n",
        "                last_hidden_state = self.model(\n",
        "                                tokenized_sent['input_ids'].to(self.device), \n",
        "                                tokenized_sent['attention_mask'].to(self.device)\n",
        "                           )\n",
        "           \n",
        "            # saving encodings and labels converted to tensors\n",
        "            sentiments.append(torch.argmax(last_hidden_state.logits).item()) # to get the sentiment prediction\n",
        "            \n",
        "            labels.append(label)\n",
        "            sents.append(sent)\n",
        "\n",
        "            #sents.append(tokenized_sent[\"input_ids\"])\n",
        "            torch.cuda.empty_cache()\n",
        "            \n",
        "        return sentiments, labels, sents"
      ],
      "metadata": {
        "id": "6XI1AqaRAQSu"
      },
      "execution_count": null,
      "outputs": []
    },
    {
      "cell_type": "code",
      "source": [
        "class PipelineMR():\n",
        "    def __init__(self, \n",
        "                 corpus: List[str], \n",
        "                 labels: List[str], \n",
        "                 collator_pipe=None,\n",
        "                 batch_size: int=None\n",
        "                 ) -> None:\n",
        "\n",
        "        self.corpus = corpus\n",
        "        self.labels = labels\n",
        "        self.batch_size = batch_size\n",
        "        self.collator_pipe = collator_pipe\n",
        "\n",
        "    def build_dataset(self):\n",
        "        custom_dataset = CustomDataset(self.corpus, self.labels)\n",
        "        return custom_dataset\n",
        "\n",
        "\n",
        "    def build_dataloader(self) -> torch.utils.data.DataLoader:\n",
        "        custom = self.build_dataset()\n",
        "        data_out = DataLoader(dataset=custom, \n",
        "                              batch_size=self.batch_size, \n",
        "                              collate_fn=self.collator_pipe, \n",
        "                              shuffle=False)\n",
        "        return data_out\n",
        "\n",
        "    def predict(self):\n",
        "        \n",
        "        agreements = 0\n",
        "        samples = 0\n",
        "        print(\"Building DataLoader ...\")\n",
        "        dataloader = self.build_dataloader()\n",
        "        for batch_idx, (sentiment, ground_truth, sentence) in enumerate(dataloader):\n",
        "            print(f\"# Batch {batch_idx}\")\n",
        "            listofdisagreement = [p for p,v in enumerate(zip(sentiment,ground_truth)) if v[0]^v[1]]\n",
        "            lengths = [len(sentence[idx].split()) for idx in listofdisagreement]\n",
        "            print(f\"Lenghts of wrong predicted sentence : {lengths}\")\n",
        "\n",
        "            agreements += sum(a == b for a, b in zip(sentiment, ground_truth))\n",
        "            samples += len(sentiment)\n",
        "            print(f\"Agreements : {agreements}\")\n",
        "\n",
        "        accuracy = (agreements/samples)*100.\n",
        "        print(f\"Cumulative/final accuracy : {accuracy}\")"
      ],
      "metadata": {
        "id": "fYBBFwyz399A"
      },
      "execution_count": null,
      "outputs": []
    },
    {
      "cell_type": "code",
      "source": [
        "def pol_run(flag: bool=False):\n",
        "    pol_corpus, _, pol_labels, _ = build_docs(flag=flag)\n",
        "\n",
        "    # loading model \n",
        "    print(\"Loading model ...\")\n",
        "    net = BiLSTM(input_size=768, hidden_size=128).to(device)\n",
        "    net = load_model(model=net, path2file=PATH2OUTPUTS+'final_model.pth')\n",
        "\n",
        "    # assigning cost function\n",
        "    cost_function = cross_entropy_loss()\n",
        "    print('Got Loss')\n",
        "\n",
        "    # creating custom datasets\n",
        "    print(\"Building custom datasets ...\")\n",
        "    pol_dataset = CustomDataset(sentences=pol_corpus, targets=pol_labels)\n",
        "\n",
        "    # to not see warning everytime\n",
        "    logging.set_verbosity_error()\n",
        "\n",
        "    # downloading BERT tokenier and model from huggingface.co\n",
        "    tokenizer = BertTokenizer.from_pretrained(\"bert-base-uncased\")\n",
        "    model = BertModel.from_pretrained(\"bert-base-uncased\")\n",
        "\n",
        "    print(\"Loading previously trained BertForSequenceClassification ...\")\n",
        "    PATH = '/content/gdrive/MyDrive/Colab Notebooks/Polarity-and-Subjectivity-Detection/results'\n",
        "    pre_clf = BertForSequenceClassification.from_pretrained(PATH, local_files_only=True)\n",
        "     \n",
        "    # instantiating collator\n",
        "    print(\"Instantiating collator ...\")\n",
        "    collator = Collator(tokenizer=tokenizer, \n",
        "                        model=model.to(device), \n",
        "                        device=device, \n",
        "                        max_len=512)\n",
        "\n",
        "    # bulding dataloader\n",
        "    print(\"Building DataLoaders ...\")\n",
        "    test_loader = DataLoader(dataset=pol_dataset, \n",
        "                             batch_size=BATCH_SIZE, \n",
        "                             collate_fn=collator)\n",
        "\n",
        "\n",
        "    # getting predictions from model\n",
        "    _, _, preds, _ = test_step(model=net, \n",
        "                               test=test_loader, \n",
        "                               cost_function=cost_function, \n",
        "                               device=device,\n",
        "                               kind=\"Polarity test\")\n",
        "\n",
        "    flat_preds = [l for ll in preds for id in ll for l in id]\n",
        "\n",
        "    # indexes of subjective predicted sentences\n",
        "    idx_subj_sents = [i for i, p in enumerate(flat_preds) if p==1]\n",
        "\n",
        "    # getting indexes of subjective sentences\n",
        "    filtered_sent_list = [pol_corpus[i] for i in idx_subj_sents]\n",
        "    filtered_label_list = [pol_labels[i] for i in idx_subj_sents]\n",
        "\n",
        "    print(f\"Ended filtering. Remaining sentences : {len(filtered_sent_list)}\")\n",
        "\n",
        "    print(\"\\nInstantiating pipeline collator ...\")\n",
        "    collator_pipe = CollatorPipeline(tokenizer=tokenizer, \n",
        "                                     model=pre_clf.to(device), \n",
        "                                     device=device)\n",
        "\n",
        "    print(\"Initialising pipeline ...\")\n",
        "    pipe = PipelineMR(corpus=filtered_sent_list, \n",
        "                      labels=filtered_label_list, \n",
        "                      collator_pipe=collator_pipe, \n",
        "                      batch_size=BATCH_SIZE)\n",
        "\n",
        "    pipe.predict()"
      ],
      "metadata": {
        "id": "YAtUItF1HkXY"
      },
      "execution_count": null,
      "outputs": []
    },
    {
      "cell_type": "code",
      "source": [
        "pol_run()"
      ],
      "metadata": {
        "id": "Xae0Hj6N013w",
        "outputId": "31e215e9-892b-403b-a65a-9f592432875c",
        "colab": {
          "base_uri": "https://localhost:8080/"
        }
      },
      "execution_count": null,
      "outputs": [
        {
          "output_type": "stream",
          "name": "stdout",
          "text": [
            "Negative sentences count : 1000,  Positive sentence count : 1000\n",
            "Subjective sentences count : 5000, Objective sentences count : 5000\n",
            "Polarity corpus length : 2000, Subjectivity corpus length : 10000\n",
            "Percentiles results for polarity : [(75, 957.25), (80, 1015.0), (90, 1231.1000000000001), (95, 1441.05), (99, 1921.2599999999998), (100, 2879.0)]\n",
            "Percentiles results for subjectivity : [(75, 15.0), (80, 16.0), (90, 19.0), (95, 21.0), (99, 28.0), (100, 66.0)]\n",
            "Loading model ...\n",
            "odict_keys(['bilstm.weight_ih_l0', 'bilstm.weight_hh_l0', 'bilstm.bias_ih_l0', 'bilstm.bias_hh_l0', 'bilstm.weight_ih_l0_reverse', 'bilstm.weight_hh_l0_reverse', 'bilstm.bias_ih_l0_reverse', 'bilstm.bias_hh_l0_reverse', 'dense.0.weight', 'dense.0.bias', 'out.weight', 'out.bias'])\n",
            "Got Loss\n",
            "Building custom datasets ...\n",
            "Loading previously trained BertForSequenceClassification ...\n",
            "Instantiating collator ...\n",
            "Building DataLoaders ...\n"
          ]
        },
        {
          "output_type": "stream",
          "name": "stderr",
          "text": [
            "# Batch for Polarity test step: 15: 100%|██████████| 16/16 [01:31<00:00,  5.71s/batch]\n"
          ]
        },
        {
          "output_type": "stream",
          "name": "stdout",
          "text": [
            "Ended filtering. Remaining sentences : 920\n",
            "\n",
            "Instantiating pipeline collator ...\n",
            "Initialising pipeline ...\n",
            "Building DataLoader ...\n",
            "# Batch 0\n",
            "Lenghts of wrong predicted sentence : [495, 1617, 887, 595, 518, 335, 999, 262, 706, 720]\n",
            "Agreements : 118\n",
            "# Batch 1\n",
            "Lenghts of wrong predicted sentence : [803, 1712, 524, 322, 324, 1190, 610, 724, 2164, 1104, 1241, 474, 882]\n",
            "Agreements : 233\n",
            "# Batch 2\n",
            "Lenghts of wrong predicted sentence : [504, 581, 721, 879, 1523, 355, 1613]\n",
            "Agreements : 354\n",
            "# Batch 3\n",
            "Lenghts of wrong predicted sentence : [716, 1069, 1144, 385, 714]\n",
            "Agreements : 477\n",
            "# Batch 4\n",
            "Lenghts of wrong predicted sentence : [873, 814, 491, 354, 283, 1103, 506, 1143, 512, 759]\n",
            "Agreements : 595\n",
            "# Batch 5\n",
            "Lenghts of wrong predicted sentence : [868, 1289, 931, 621, 887, 1060, 675]\n",
            "Agreements : 716\n",
            "# Batch 6\n",
            "Lenghts of wrong predicted sentence : [1035, 437, 1114, 1185, 590, 638, 688, 514, 730, 837, 788, 1610]\n",
            "Agreements : 832\n",
            "# Batch 7\n",
            "Lenghts of wrong predicted sentence : [859, 800]\n",
            "Agreements : 854\n",
            "Cumulative/final accuracy : 92.82608695652173\n"
          ]
        }
      ]
    },
    {
      "cell_type": "code",
      "source": [
        "pol_run(flag=True)"
      ],
      "metadata": {
        "id": "2Qv4rtH1f3yr",
        "outputId": "39cd1977-be59-430e-8281-f4dceab62b8d",
        "colab": {
          "base_uri": "https://localhost:8080/"
        }
      },
      "execution_count": null,
      "outputs": [
        {
          "output_type": "stream",
          "name": "stdout",
          "text": [
            "Negative sentences count : 1000,  Positive sentence count : 1000\n",
            "Subjective sentences count : 5000, Objective sentences count : 5000\n",
            "Polarity corpus length : 2000, Subjectivity corpus length : 10000\n",
            "Percentiles results for polarity : [(75, 419.0), (80, 447.20000000000005), (90, 530.0), (95, 633.0), (99, 817.02), (100, 1356.0)]\n",
            "Percentiles results for subjectivity : [(75, 15.0), (80, 16.0), (90, 19.0), (95, 21.0), (99, 28.0), (100, 66.0)]\n",
            "Loading model ...\n",
            "odict_keys(['bilstm.weight_ih_l0', 'bilstm.weight_hh_l0', 'bilstm.bias_ih_l0', 'bilstm.bias_hh_l0', 'bilstm.weight_ih_l0_reverse', 'bilstm.weight_hh_l0_reverse', 'bilstm.bias_ih_l0_reverse', 'bilstm.bias_hh_l0_reverse', 'dense.0.weight', 'dense.0.bias', 'out.weight', 'out.bias'])\n",
            "Got Loss\n",
            "Building custom datasets ...\n",
            "Loading previously trained BertForSequenceClassification ...\n",
            "Instantiating collator ...\n",
            "Building DataLoaders ...\n"
          ]
        },
        {
          "output_type": "stream",
          "name": "stderr",
          "text": [
            "# Batch for Polarity test step: 15: 100%|██████████| 16/16 [01:24<00:00,  5.29s/batch]\n"
          ]
        },
        {
          "output_type": "stream",
          "name": "stdout",
          "text": [
            "Ended filtering. Remaining sentences : 383\n",
            "\n",
            "Instantiating pipeline collator ...\n",
            "Initialising pipeline ...\n",
            "Building DataLoader ...\n",
            "# Batch 0\n",
            "Lenghts of wrong predicted sentence : [167, 165, 238, 340, 268, 338, 167, 369, 219, 367, 226, 314, 118, 209, 490, 270, 266, 383, 198, 203, 633, 350, 750, 375, 329, 783, 317, 378, 224, 331, 407, 218, 430, 116, 449, 664]\n",
            "Agreements : 92\n",
            "# Batch 1\n",
            "Lenghts of wrong predicted sentence : [312, 107, 370, 327, 249, 616, 313, 292, 377, 223, 169, 425, 462]\n",
            "Agreements : 207\n",
            "# Batch 2\n",
            "Lenghts of wrong predicted sentence : [134, 287, 82]\n",
            "Agreements : 331\n",
            "Cumulative/final accuracy : 86.42297650130548\n"
          ]
        }
      ]
    }
  ]
}